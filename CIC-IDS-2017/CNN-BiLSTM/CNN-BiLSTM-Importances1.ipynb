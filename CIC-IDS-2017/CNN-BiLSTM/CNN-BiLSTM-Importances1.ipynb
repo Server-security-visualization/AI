{
 "cells": [
  {
   "cell_type": "code",
   "execution_count": 1,
   "metadata": {
    "scrolled": true
   },
   "outputs": [
    {
     "name": "stdout",
     "output_type": "stream",
     "text": [
      "Requirement already satisfied: pandas in /usr/local/lib/python3.8/dist-packages (2.0.1)\n",
      "Requirement already satisfied: scikit-learn in /usr/local/lib/python3.8/dist-packages (1.2.2)\n",
      "Requirement already satisfied: numpy>=1.20.3; python_version < \"3.10\" in /usr/local/lib/python3.8/dist-packages (from pandas) (1.23.4)\n",
      "Requirement already satisfied: tzdata>=2022.1 in /usr/local/lib/python3.8/dist-packages (from pandas) (2023.3)\n",
      "Requirement already satisfied: pytz>=2020.1 in /usr/local/lib/python3.8/dist-packages (from pandas) (2023.3)\n",
      "Requirement already satisfied: python-dateutil>=2.8.2 in /usr/local/lib/python3.8/dist-packages (from pandas) (2.8.2)\n",
      "Requirement already satisfied: joblib>=1.1.1 in /usr/local/lib/python3.8/dist-packages (from scikit-learn) (1.2.0)\n",
      "Requirement already satisfied: scipy>=1.3.2 in /usr/local/lib/python3.8/dist-packages (from scikit-learn) (1.10.1)\n",
      "Requirement already satisfied: threadpoolctl>=2.0.0 in /usr/local/lib/python3.8/dist-packages (from scikit-learn) (3.1.0)\n",
      "Requirement already satisfied: six>=1.5 in /usr/lib/python3/dist-packages (from python-dateutil>=2.8.2->pandas) (1.14.0)\n",
      "\u001b[33mWARNING: You are using pip version 20.2.4; however, version 23.1.2 is available.\n",
      "You should consider upgrading via the '/usr/bin/python3 -m pip install --upgrade pip' command.\u001b[0m\n"
     ]
    }
   ],
   "source": [
    "!pip3 install pandas scikit-learn"
   ]
  },
  {
   "cell_type": "markdown",
   "id": "5feb64ef",
   "metadata": {},
   "source": [
    "# Data preprocessing"
   ]
  },
  {
   "cell_type": "code",
   "execution_count": 2,
   "id": "e52a8e96",
   "metadata": {},
   "outputs": [],
   "source": [
    "from itertools import cycle\n",
    "import pickle\n",
    "import sys\n",
    "import time\n",
    "from typing import List, Tuple\n",
    "\n",
    "import matplotlib.pyplot as plt\n",
    "import numpy as np\n",
    "import pandas as pd\n",
    "from sklearn import metrics\n",
    "from sklearn.model_selection import StratifiedKFold\n",
    "from sklearn.model_selection import train_test_split\n",
    "import sklearn.preprocessing\n",
    "import tensorflow as tf\n",
    "import tensorflow.keras\n",
    "from tensorflow.keras.layers import Dense, Dropout, Activation\n",
    "from tensorflow.keras.layers import LSTM, Bidirectional, BatchNormalization, Convolution1D, MaxPooling1D, Reshape\n",
    "from tensorflow.keras.models import Sequential\n",
    "\n",
    "%matplotlib inline"
   ]
  },
  {
   "cell_type": "code",
   "execution_count": 3,
   "id": "78746733",
   "metadata": {},
   "outputs": [],
   "source": [
    "data = pd.read_csv('../dataset/web_attacks_balanced.csv', delimiter=',')\n",
    "\n",
    "y = data['Label']\n",
    "x = data.drop(labels=['Label', 'Flow ID', 'Source IP', 'Source Port',\n",
    "              'Destination IP', 'Destination Port', 'Protocol', 'Timestamp'], axis=1)"
   ]
  },
  {
   "cell_type": "markdown",
   "metadata": {},
   "source": [
    "![feature](Importances1.png)"
   ]
  },
  {
   "cell_type": "code",
   "execution_count": 4,
   "metadata": {},
   "outputs": [],
   "source": [
    "x = data[[\"Average Packet Size\",\"Flow Bytes/s\", \"Max Packet Length\", \"Packet Length Mean\" ,\n",
    "          \"Fwd Packet Length Mean\", \"Fwd IAT Min\", \"Subflow Fwd Bytes\", \"Avg Fwd Segment Size\", \"Total Length of Fwd Packets\",\n",
    "          \"Fwd Packet Length Max\", \"Flow IAT Mean\", \"Flow IAT Std\", \"Flow Duration\", \"Flow Packets/s\", \"Fwd Header Length\",\n",
    "          \"Flow IAT Std\", \"Fwd Packets/s\", \"Fwd IAT Mean\", \"Fwd IAT Max\", \"Fwd IAT Total\", \"Flow IAT Max\", \"Bwd Header Length\",\n",
    "          \"Flow IAT Min\", \"Bwd Packets/s\", \"Subflow Fwd Packets\", \"PSH Flag Count\", \"Total Length of Bwd Packets\", \"act_data_pkt_fwd\",\n",
    "          \"Total Fwd Packets\", \"ACK Flag Count\"]]"
   ]
  },
  {
   "cell_type": "markdown",
   "id": "2855d909",
   "metadata": {},
   "source": [
    "## Preparing feature vectors for training"
   ]
  },
  {
   "cell_type": "markdown",
   "id": "7b7e8941",
   "metadata": {},
   "source": [
    "First, we need to inspect feature vectors."
   ]
  },
  {
   "cell_type": "code",
   "execution_count": 5,
   "id": "c7483bc8",
   "metadata": {},
   "outputs": [
    {
     "data": {
      "text/html": [
       "<div>\n",
       "<style scoped>\n",
       "    .dataframe tbody tr th:only-of-type {\n",
       "        vertical-align: middle;\n",
       "    }\n",
       "\n",
       "    .dataframe tbody tr th {\n",
       "        vertical-align: top;\n",
       "    }\n",
       "\n",
       "    .dataframe thead th {\n",
       "        text-align: right;\n",
       "    }\n",
       "</style>\n",
       "<table border=\"1\" class=\"dataframe\">\n",
       "  <thead>\n",
       "    <tr style=\"text-align: right;\">\n",
       "      <th></th>\n",
       "      <th>Average Packet Size</th>\n",
       "      <th>Flow Bytes/s</th>\n",
       "      <th>Max Packet Length</th>\n",
       "      <th>Packet Length Mean</th>\n",
       "      <th>Fwd Packet Length Mean</th>\n",
       "      <th>Fwd IAT Min</th>\n",
       "      <th>Subflow Fwd Bytes</th>\n",
       "      <th>Avg Fwd Segment Size</th>\n",
       "      <th>Total Length of Fwd Packets</th>\n",
       "      <th>Fwd Packet Length Max</th>\n",
       "      <th>...</th>\n",
       "      <th>Flow IAT Max</th>\n",
       "      <th>Bwd Header Length</th>\n",
       "      <th>Flow IAT Min</th>\n",
       "      <th>Bwd Packets/s</th>\n",
       "      <th>Subflow Fwd Packets</th>\n",
       "      <th>PSH Flag Count</th>\n",
       "      <th>Total Length of Bwd Packets</th>\n",
       "      <th>act_data_pkt_fwd</th>\n",
       "      <th>Total Fwd Packets</th>\n",
       "      <th>ACK Flag Count</th>\n",
       "    </tr>\n",
       "  </thead>\n",
       "  <tbody>\n",
       "    <tr>\n",
       "      <th>0</th>\n",
       "      <td>32.625</td>\n",
       "      <td>6.628571e+05</td>\n",
       "      <td>29.0</td>\n",
       "      <td>29.000000</td>\n",
       "      <td>29.0</td>\n",
       "      <td>1.0</td>\n",
       "      <td>116.0</td>\n",
       "      <td>29.0</td>\n",
       "      <td>116.0</td>\n",
       "      <td>29.0</td>\n",
       "      <td>...</td>\n",
       "      <td>101.0</td>\n",
       "      <td>128.0</td>\n",
       "      <td>1.0</td>\n",
       "      <td>11428.571430</td>\n",
       "      <td>4.0</td>\n",
       "      <td>0.0</td>\n",
       "      <td>116.0</td>\n",
       "      <td>3.0</td>\n",
       "      <td>4.0</td>\n",
       "      <td>0.0</td>\n",
       "    </tr>\n",
       "    <tr>\n",
       "      <th>1</th>\n",
       "      <td>80.000</td>\n",
       "      <td>1.359606e+06</td>\n",
       "      <td>94.0</td>\n",
       "      <td>64.000000</td>\n",
       "      <td>44.0</td>\n",
       "      <td>47.0</td>\n",
       "      <td>88.0</td>\n",
       "      <td>44.0</td>\n",
       "      <td>88.0</td>\n",
       "      <td>44.0</td>\n",
       "      <td>...</td>\n",
       "      <td>108.0</td>\n",
       "      <td>64.0</td>\n",
       "      <td>47.0</td>\n",
       "      <td>9852.216749</td>\n",
       "      <td>2.0</td>\n",
       "      <td>0.0</td>\n",
       "      <td>188.0</td>\n",
       "      <td>1.0</td>\n",
       "      <td>2.0</td>\n",
       "      <td>0.0</td>\n",
       "    </tr>\n",
       "    <tr>\n",
       "      <th>2</th>\n",
       "      <td>7.000</td>\n",
       "      <td>7.000000e+06</td>\n",
       "      <td>7.0</td>\n",
       "      <td>4.666667</td>\n",
       "      <td>3.5</td>\n",
       "      <td>1.0</td>\n",
       "      <td>7.0</td>\n",
       "      <td>3.5</td>\n",
       "      <td>7.0</td>\n",
       "      <td>7.0</td>\n",
       "      <td>...</td>\n",
       "      <td>1.0</td>\n",
       "      <td>0.0</td>\n",
       "      <td>1.0</td>\n",
       "      <td>0.000000</td>\n",
       "      <td>2.0</td>\n",
       "      <td>0.0</td>\n",
       "      <td>0.0</td>\n",
       "      <td>0.0</td>\n",
       "      <td>2.0</td>\n",
       "      <td>1.0</td>\n",
       "    </tr>\n",
       "    <tr>\n",
       "      <th>3</th>\n",
       "      <td>80.000</td>\n",
       "      <td>1.352941e+06</td>\n",
       "      <td>94.0</td>\n",
       "      <td>64.000000</td>\n",
       "      <td>44.0</td>\n",
       "      <td>47.0</td>\n",
       "      <td>88.0</td>\n",
       "      <td>44.0</td>\n",
       "      <td>88.0</td>\n",
       "      <td>44.0</td>\n",
       "      <td>...</td>\n",
       "      <td>108.0</td>\n",
       "      <td>64.0</td>\n",
       "      <td>47.0</td>\n",
       "      <td>9803.921569</td>\n",
       "      <td>2.0</td>\n",
       "      <td>0.0</td>\n",
       "      <td>188.0</td>\n",
       "      <td>1.0</td>\n",
       "      <td>2.0</td>\n",
       "      <td>0.0</td>\n",
       "    </tr>\n",
       "    <tr>\n",
       "      <th>4</th>\n",
       "      <td>94.250</td>\n",
       "      <td>1.928994e+06</td>\n",
       "      <td>112.0</td>\n",
       "      <td>75.400000</td>\n",
       "      <td>51.0</td>\n",
       "      <td>3.0</td>\n",
       "      <td>102.0</td>\n",
       "      <td>51.0</td>\n",
       "      <td>102.0</td>\n",
       "      <td>51.0</td>\n",
       "      <td>...</td>\n",
       "      <td>162.0</td>\n",
       "      <td>40.0</td>\n",
       "      <td>3.0</td>\n",
       "      <td>11834.319530</td>\n",
       "      <td>2.0</td>\n",
       "      <td>0.0</td>\n",
       "      <td>224.0</td>\n",
       "      <td>1.0</td>\n",
       "      <td>2.0</td>\n",
       "      <td>0.0</td>\n",
       "    </tr>\n",
       "    <tr>\n",
       "      <th>...</th>\n",
       "      <td>...</td>\n",
       "      <td>...</td>\n",
       "      <td>...</td>\n",
       "      <td>...</td>\n",
       "      <td>...</td>\n",
       "      <td>...</td>\n",
       "      <td>...</td>\n",
       "      <td>...</td>\n",
       "      <td>...</td>\n",
       "      <td>...</td>\n",
       "      <td>...</td>\n",
       "      <td>...</td>\n",
       "      <td>...</td>\n",
       "      <td>...</td>\n",
       "      <td>...</td>\n",
       "      <td>...</td>\n",
       "      <td>...</td>\n",
       "      <td>...</td>\n",
       "      <td>...</td>\n",
       "      <td>...</td>\n",
       "      <td>...</td>\n",
       "    </tr>\n",
       "    <tr>\n",
       "      <th>7262</th>\n",
       "      <td>75.500</td>\n",
       "      <td>4.473140e+03</td>\n",
       "      <td>61.0</td>\n",
       "      <td>50.333333</td>\n",
       "      <td>45.0</td>\n",
       "      <td>0.0</td>\n",
       "      <td>45.0</td>\n",
       "      <td>45.0</td>\n",
       "      <td>45.0</td>\n",
       "      <td>45.0</td>\n",
       "      <td>...</td>\n",
       "      <td>23697.0</td>\n",
       "      <td>32.0</td>\n",
       "      <td>23697.0</td>\n",
       "      <td>42.199435</td>\n",
       "      <td>1.0</td>\n",
       "      <td>0.0</td>\n",
       "      <td>61.0</td>\n",
       "      <td>0.0</td>\n",
       "      <td>1.0</td>\n",
       "      <td>0.0</td>\n",
       "    </tr>\n",
       "    <tr>\n",
       "      <th>7263</th>\n",
       "      <td>8.000</td>\n",
       "      <td>9.298001e+02</td>\n",
       "      <td>6.0</td>\n",
       "      <td>6.000000</td>\n",
       "      <td>6.0</td>\n",
       "      <td>3.0</td>\n",
       "      <td>18.0</td>\n",
       "      <td>6.0</td>\n",
       "      <td>18.0</td>\n",
       "      <td>6.0</td>\n",
       "      <td>...</td>\n",
       "      <td>19356.0</td>\n",
       "      <td>0.0</td>\n",
       "      <td>3.0</td>\n",
       "      <td>0.000000</td>\n",
       "      <td>3.0</td>\n",
       "      <td>0.0</td>\n",
       "      <td>0.0</td>\n",
       "      <td>2.0</td>\n",
       "      <td>3.0</td>\n",
       "      <td>1.0</td>\n",
       "    </tr>\n",
       "    <tr>\n",
       "      <th>7264</th>\n",
       "      <td>88.500</td>\n",
       "      <td>1.917160e+06</td>\n",
       "      <td>132.0</td>\n",
       "      <td>70.800000</td>\n",
       "      <td>30.0</td>\n",
       "      <td>3.0</td>\n",
       "      <td>60.0</td>\n",
       "      <td>30.0</td>\n",
       "      <td>60.0</td>\n",
       "      <td>30.0</td>\n",
       "      <td>...</td>\n",
       "      <td>163.0</td>\n",
       "      <td>40.0</td>\n",
       "      <td>3.0</td>\n",
       "      <td>11834.319530</td>\n",
       "      <td>2.0</td>\n",
       "      <td>0.0</td>\n",
       "      <td>264.0</td>\n",
       "      <td>1.0</td>\n",
       "      <td>2.0</td>\n",
       "      <td>0.0</td>\n",
       "    </tr>\n",
       "    <tr>\n",
       "      <th>7265</th>\n",
       "      <td>9.000</td>\n",
       "      <td>6.000000e+06</td>\n",
       "      <td>6.0</td>\n",
       "      <td>6.000000</td>\n",
       "      <td>6.0</td>\n",
       "      <td>2.0</td>\n",
       "      <td>12.0</td>\n",
       "      <td>6.0</td>\n",
       "      <td>12.0</td>\n",
       "      <td>6.0</td>\n",
       "      <td>...</td>\n",
       "      <td>2.0</td>\n",
       "      <td>0.0</td>\n",
       "      <td>2.0</td>\n",
       "      <td>0.000000</td>\n",
       "      <td>2.0</td>\n",
       "      <td>0.0</td>\n",
       "      <td>0.0</td>\n",
       "      <td>1.0</td>\n",
       "      <td>2.0</td>\n",
       "      <td>1.0</td>\n",
       "    </tr>\n",
       "    <tr>\n",
       "      <th>7266</th>\n",
       "      <td>162.500</td>\n",
       "      <td>1.050230e+04</td>\n",
       "      <td>163.0</td>\n",
       "      <td>108.333333</td>\n",
       "      <td>81.0</td>\n",
       "      <td>0.0</td>\n",
       "      <td>81.0</td>\n",
       "      <td>81.0</td>\n",
       "      <td>81.0</td>\n",
       "      <td>81.0</td>\n",
       "      <td>...</td>\n",
       "      <td>23233.0</td>\n",
       "      <td>20.0</td>\n",
       "      <td>23233.0</td>\n",
       "      <td>43.042224</td>\n",
       "      <td>1.0</td>\n",
       "      <td>0.0</td>\n",
       "      <td>163.0</td>\n",
       "      <td>0.0</td>\n",
       "      <td>1.0</td>\n",
       "      <td>0.0</td>\n",
       "    </tr>\n",
       "  </tbody>\n",
       "</table>\n",
       "<p>7267 rows × 30 columns</p>\n",
       "</div>"
      ],
      "text/plain": [
       "      Average Packet Size  Flow Bytes/s  Max Packet Length   \n",
       "0                  32.625  6.628571e+05               29.0  \\\n",
       "1                  80.000  1.359606e+06               94.0   \n",
       "2                   7.000  7.000000e+06                7.0   \n",
       "3                  80.000  1.352941e+06               94.0   \n",
       "4                  94.250  1.928994e+06              112.0   \n",
       "...                   ...           ...                ...   \n",
       "7262               75.500  4.473140e+03               61.0   \n",
       "7263                8.000  9.298001e+02                6.0   \n",
       "7264               88.500  1.917160e+06              132.0   \n",
       "7265                9.000  6.000000e+06                6.0   \n",
       "7266              162.500  1.050230e+04              163.0   \n",
       "\n",
       "      Packet Length Mean  Fwd Packet Length Mean  Fwd IAT Min   \n",
       "0              29.000000                    29.0          1.0  \\\n",
       "1              64.000000                    44.0         47.0   \n",
       "2               4.666667                     3.5          1.0   \n",
       "3              64.000000                    44.0         47.0   \n",
       "4              75.400000                    51.0          3.0   \n",
       "...                  ...                     ...          ...   \n",
       "7262           50.333333                    45.0          0.0   \n",
       "7263            6.000000                     6.0          3.0   \n",
       "7264           70.800000                    30.0          3.0   \n",
       "7265            6.000000                     6.0          2.0   \n",
       "7266          108.333333                    81.0          0.0   \n",
       "\n",
       "      Subflow Fwd Bytes  Avg Fwd Segment Size  Total Length of Fwd Packets   \n",
       "0                 116.0                  29.0                        116.0  \\\n",
       "1                  88.0                  44.0                         88.0   \n",
       "2                   7.0                   3.5                          7.0   \n",
       "3                  88.0                  44.0                         88.0   \n",
       "4                 102.0                  51.0                        102.0   \n",
       "...                 ...                   ...                          ...   \n",
       "7262               45.0                  45.0                         45.0   \n",
       "7263               18.0                   6.0                         18.0   \n",
       "7264               60.0                  30.0                         60.0   \n",
       "7265               12.0                   6.0                         12.0   \n",
       "7266               81.0                  81.0                         81.0   \n",
       "\n",
       "      Fwd Packet Length Max  ...  Flow IAT Max  Bwd Header Length   \n",
       "0                      29.0  ...         101.0              128.0  \\\n",
       "1                      44.0  ...         108.0               64.0   \n",
       "2                       7.0  ...           1.0                0.0   \n",
       "3                      44.0  ...         108.0               64.0   \n",
       "4                      51.0  ...         162.0               40.0   \n",
       "...                     ...  ...           ...                ...   \n",
       "7262                   45.0  ...       23697.0               32.0   \n",
       "7263                    6.0  ...       19356.0                0.0   \n",
       "7264                   30.0  ...         163.0               40.0   \n",
       "7265                    6.0  ...           2.0                0.0   \n",
       "7266                   81.0  ...       23233.0               20.0   \n",
       "\n",
       "      Flow IAT Min  Bwd Packets/s  Subflow Fwd Packets  PSH Flag Count   \n",
       "0              1.0   11428.571430                  4.0             0.0  \\\n",
       "1             47.0    9852.216749                  2.0             0.0   \n",
       "2              1.0       0.000000                  2.0             0.0   \n",
       "3             47.0    9803.921569                  2.0             0.0   \n",
       "4              3.0   11834.319530                  2.0             0.0   \n",
       "...            ...            ...                  ...             ...   \n",
       "7262       23697.0      42.199435                  1.0             0.0   \n",
       "7263           3.0       0.000000                  3.0             0.0   \n",
       "7264           3.0   11834.319530                  2.0             0.0   \n",
       "7265           2.0       0.000000                  2.0             0.0   \n",
       "7266       23233.0      43.042224                  1.0             0.0   \n",
       "\n",
       "      Total Length of Bwd Packets  act_data_pkt_fwd  Total Fwd Packets   \n",
       "0                           116.0               3.0                4.0  \\\n",
       "1                           188.0               1.0                2.0   \n",
       "2                             0.0               0.0                2.0   \n",
       "3                           188.0               1.0                2.0   \n",
       "4                           224.0               1.0                2.0   \n",
       "...                           ...               ...                ...   \n",
       "7262                         61.0               0.0                1.0   \n",
       "7263                          0.0               2.0                3.0   \n",
       "7264                        264.0               1.0                2.0   \n",
       "7265                          0.0               1.0                2.0   \n",
       "7266                        163.0               0.0                1.0   \n",
       "\n",
       "      ACK Flag Count  \n",
       "0                0.0  \n",
       "1                0.0  \n",
       "2                1.0  \n",
       "3                0.0  \n",
       "4                0.0  \n",
       "...              ...  \n",
       "7262             0.0  \n",
       "7263             1.0  \n",
       "7264             0.0  \n",
       "7265             1.0  \n",
       "7266             0.0  \n",
       "\n",
       "[7267 rows x 30 columns]"
      ]
     },
     "execution_count": 5,
     "metadata": {},
     "output_type": "execute_result"
    }
   ],
   "source": [
    "x"
   ]
  },
  {
   "cell_type": "markdown",
   "id": "09ac809a",
   "metadata": {},
   "source": [
    "Check the absence of missing values in feature vectors."
   ]
  },
  {
   "cell_type": "code",
   "execution_count": 6,
   "id": "5c4b0c21",
   "metadata": {},
   "outputs": [
    {
     "data": {
      "text/plain": [
       "False"
      ]
     },
     "execution_count": 6,
     "metadata": {},
     "output_type": "execute_result"
    }
   ],
   "source": [
    "x.isnull().values.any()"
   ]
  },
  {
   "cell_type": "markdown",
   "id": "72d157f6",
   "metadata": {},
   "source": [
    "As we can see, the range of features is not normalized. We need to perform feature scaling for the correct functioning of selected deep learning algorithms (CNN and BiLSTM).\n",
    "\n",
    "In our case, the min-max normalization is used: all selected features are transformed into the range [0, 1]."
   ]
  },
  {
   "cell_type": "code",
   "execution_count": 7,
   "id": "14f1ab5d",
   "metadata": {},
   "outputs": [],
   "source": [
    "scaler = sklearn.preprocessing.MinMaxScaler()"
   ]
  },
  {
   "cell_type": "code",
   "execution_count": 8,
   "metadata": {},
   "outputs": [
    {
     "data": {
      "text/plain": [
       "array([[1.55724692e-02, 6.08206395e-03, 1.24143836e-03, ...,\n",
       "        7.12081652e-04, 7.02082846e-04, 0.00000000e+00],\n",
       "       [3.81853650e-02, 6.41671754e-03, 4.02397260e-03, ...,\n",
       "        2.37360551e-04, 2.34027615e-04, 0.00000000e+00],\n",
       "       [3.34121944e-03, 9.12584054e-03, 2.99657534e-04, ...,\n",
       "        0.00000000e+00, 2.34027615e-04, 1.00000000e+00],\n",
       "       ...,\n",
       "       [4.22425601e-02, 6.68451478e-03, 5.65068493e-03, ...,\n",
       "        2.37360551e-04, 2.34027615e-04, 0.00000000e+00],\n",
       "       [4.29585357e-03, 8.64553314e-03, 2.56849315e-04, ...,\n",
       "        2.37360551e-04, 2.34027615e-04, 1.00000000e+00],\n",
       "       [7.75640228e-02, 5.76873309e-03, 6.97773973e-03, ...,\n",
       "        0.00000000e+00, 0.00000000e+00, 0.00000000e+00]])"
      ]
     },
     "execution_count": 8,
     "metadata": {},
     "output_type": "execute_result"
    }
   ],
   "source": [
    "x = scaler.fit_transform(x)\n",
    "x"
   ]
  },
  {
   "cell_type": "markdown",
   "id": "4aea3fc7",
   "metadata": {},
   "source": [
    "To prevent data leakage, feature scaling would be performed on cross-validation folds at the training step."
   ]
  },
  {
   "cell_type": "markdown",
   "id": "037f33bb",
   "metadata": {},
   "source": [
    "### Preparing labels for training"
   ]
  },
  {
   "cell_type": "markdown",
   "id": "3898547e",
   "metadata": {},
   "source": [
    "First, we need to inspect labels."
   ]
  },
  {
   "cell_type": "code",
   "execution_count": 9,
   "id": "8fe9b30f",
   "metadata": {},
   "outputs": [
    {
     "data": {
      "text/plain": [
       "0       BENIGN\n",
       "1       BENIGN\n",
       "2       BENIGN\n",
       "3       BENIGN\n",
       "4       BENIGN\n",
       "         ...  \n",
       "7262    BENIGN\n",
       "7263    BENIGN\n",
       "7264    BENIGN\n",
       "7265    BENIGN\n",
       "7266    BENIGN\n",
       "Name: Label, Length: 7267, dtype: object"
      ]
     },
     "execution_count": 9,
     "metadata": {},
     "output_type": "execute_result"
    }
   ],
   "source": [
    "y"
   ]
  },
  {
   "cell_type": "code",
   "execution_count": 10,
   "metadata": {},
   "outputs": [
    {
     "data": {
      "text/plain": [
       "array(['BENIGN', 'Web Attack – Brute Force', 'Web Attack – XSS',\n",
       "       'Web Attack – Sql Injection'], dtype=object)"
      ]
     },
     "execution_count": 10,
     "metadata": {},
     "output_type": "execute_result"
    }
   ],
   "source": [
    "y.unique()"
   ]
  },
  {
   "cell_type": "code",
   "execution_count": 11,
   "metadata": {},
   "outputs": [
    {
     "data": {
      "text/plain": [
       "Label\n",
       "BENIGN                        5087\n",
       "Web Attack – Brute Force      1507\n",
       "Web Attack – XSS               652\n",
       "Web Attack – Sql Injection      21\n",
       "Name: count, dtype: int64"
      ]
     },
     "execution_count": 11,
     "metadata": {},
     "output_type": "execute_result"
    }
   ],
   "source": [
    "y.value_counts()"
   ]
  },
  {
   "cell_type": "markdown",
   "id": "b01323a8",
   "metadata": {},
   "source": [
    "Check the absence of missing values in labels."
   ]
  },
  {
   "cell_type": "code",
   "execution_count": 12,
   "id": "dc64a24c",
   "metadata": {},
   "outputs": [
    {
     "data": {
      "text/plain": [
       "False"
      ]
     },
     "execution_count": 12,
     "metadata": {},
     "output_type": "execute_result"
    }
   ],
   "source": [
    "y.isnull().values.any()"
   ]
  },
  {
   "cell_type": "code",
   "execution_count": 13,
   "metadata": {},
   "outputs": [
    {
     "data": {
      "text/plain": [
       "array([[ True, False, False, False],\n",
       "       [ True, False, False, False],\n",
       "       [ True, False, False, False],\n",
       "       ...,\n",
       "       [ True, False, False, False],\n",
       "       [ True, False, False, False],\n",
       "       [ True, False, False, False]])"
      ]
     },
     "execution_count": 13,
     "metadata": {},
     "output_type": "execute_result"
    }
   ],
   "source": [
    "y_encoded = pd.get_dummies(y).values\n",
    "y_encoded"
   ]
  },
  {
   "cell_type": "code",
   "execution_count": 14,
   "metadata": {},
   "outputs": [],
   "source": [
    "train_x, val_x, train_y, val_y = train_test_split(x, \n",
    "                                                  y_encoded, \n",
    "                                                  stratify=y, \n",
    "                                                  test_size=0.2)"
   ]
  },
  {
   "cell_type": "code",
   "execution_count": 15,
   "metadata": {},
   "outputs": [
    {
     "name": "stdout",
     "output_type": "stream",
     "text": [
      "train_x :  (5813, 30)\n",
      "val_x :  (1454, 30)\n",
      "train_y :  (5813, 4)\n",
      "val_y :  (1454, 4)\n"
     ]
    }
   ],
   "source": [
    "print(\"train_x : \", train_x.shape)\n",
    "print(\"val_x : \", val_x.shape)\n",
    "print(\"train_y : \", train_y.shape)\n",
    "print(\"val_y : \", val_y.shape)"
   ]
  },
  {
   "cell_type": "markdown",
   "metadata": {},
   "source": [
    "## create tf Dataset"
   ]
  },
  {
   "cell_type": "code",
   "execution_count": 16,
   "metadata": {},
   "outputs": [],
   "source": [
    "train_dataset = tf.data.Dataset.from_tensor_slices((train_x, train_y)).shuffle(buffer_size=100000).batch(32)\n",
    "val_dataset = tf.data.Dataset.from_tensor_slices((val_x, val_y)).batch(32)"
   ]
  },
  {
   "cell_type": "markdown",
   "id": "a8bbdbac",
   "metadata": {},
   "source": [
    "# The neural network preparation"
   ]
  },
  {
   "cell_type": "code",
   "execution_count": 17,
   "id": "1b9b10ea",
   "metadata": {},
   "outputs": [],
   "source": [
    "def CNN_BiLSTM():\n",
    "    model = Sequential()\n",
    "    model.add(Convolution1D(64, kernel_size=32, padding=\"same\",\n",
    "              activation=\"relu\", input_shape=(30, 1)))\n",
    "    model.add(MaxPooling1D(pool_size=(5)))\n",
    "    model.add(BatchNormalization())\n",
    "    model.add(Bidirectional(LSTM(64, return_sequences=False)))\n",
    "    model.add(Reshape((128, 1), input_shape=(128, )))\n",
    "\n",
    "    model.add(MaxPooling1D(pool_size=(5)))\n",
    "    model.add(BatchNormalization())\n",
    "    model.add(Bidirectional(LSTM(128, return_sequences=False)))\n",
    "\n",
    "    model.add(Dropout(0.5))\n",
    "    model.add(Dense(4))\n",
    "    model.add(Activation('softmax'))\n",
    "    model.compile(loss='categorical_crossentropy', optimizer='adam', metrics=['accuracy'])\n",
    "    return model"
   ]
  },
  {
   "cell_type": "code",
   "execution_count": 18,
   "id": "2b1eb037",
   "metadata": {},
   "outputs": [
    {
     "name": "stdout",
     "output_type": "stream",
     "text": [
      "Model: \"sequential\"\n",
      "____________________________________________________________________________________________________\n",
      " Layer (type)                                Output Shape                            Param #        \n",
      "====================================================================================================\n",
      " conv1d (Conv1D)                             (None, 30, 64)                          2112           \n",
      "                                                                                                    \n",
      " max_pooling1d (MaxPooling1D)                (None, 6, 64)                           0              \n",
      "                                                                                                    \n",
      " batch_normalization (BatchNormalization)    (None, 6, 64)                           256            \n",
      "                                                                                                    \n",
      " bidirectional (Bidirectional)               (None, 128)                             66048          \n",
      "                                                                                                    \n",
      " reshape (Reshape)                           (None, 128, 1)                          0              \n",
      "                                                                                                    \n",
      " max_pooling1d_1 (MaxPooling1D)              (None, 25, 1)                           0              \n",
      "                                                                                                    \n",
      " batch_normalization_1 (BatchNormalization)  (None, 25, 1)                           4              \n",
      "                                                                                                    \n",
      " bidirectional_1 (Bidirectional)             (None, 256)                             133120         \n",
      "                                                                                                    \n",
      " dropout (Dropout)                           (None, 256)                             0              \n",
      "                                                                                                    \n",
      " dense (Dense)                               (None, 4)                               1028           \n",
      "                                                                                                    \n",
      " activation (Activation)                     (None, 4)                               0              \n",
      "                                                                                                    \n",
      "====================================================================================================\n",
      "Total params: 202,568\n",
      "Trainable params: 202,438\n",
      "Non-trainable params: 130\n",
      "____________________________________________________________________________________________________\n"
     ]
    }
   ],
   "source": [
    "packet_class = CNN_BiLSTM()\n",
    "packet_class.summary(line_length=100)"
   ]
  },
  {
   "cell_type": "markdown",
   "id": "1e5ab17e",
   "metadata": {},
   "source": [
    "## The neural network training"
   ]
  },
  {
   "cell_type": "code",
   "execution_count": 19,
   "metadata": {},
   "outputs": [],
   "source": [
    "save_path = './model/packet_class/'\n",
    "checkpoint_path = save_path+\"/model_{epoch}.ckpt\"\n",
    "\n",
    "# cp_callback = tf.keras.callbacks.ModelCheckpoint(filepath=checkpoint_path, save_weights_only=True, verbose=1, period=1)\n",
    "cp_callback = tf.keras.callbacks.ModelCheckpoint(filepath=checkpoint_path, save_weights_only=True, verbose=0)"
   ]
  },
  {
   "cell_type": "code",
   "execution_count": 20,
   "metadata": {},
   "outputs": [
    {
     "name": "stdout",
     "output_type": "stream",
     "text": [
      "Epoch 1/30\n",
      "182/182 [==============================] - 11s 27ms/step - loss: 0.4396 - accuracy: 0.8364 - val_loss: 0.9941 - val_accuracy: 0.3776\n",
      "Epoch 2/30\n",
      "182/182 [==============================] - 4s 22ms/step - loss: 0.3660 - accuracy: 0.8617 - val_loss: 1.0058 - val_accuracy: 0.5853\n",
      "Epoch 3/30\n",
      "182/182 [==============================] - 4s 21ms/step - loss: 0.3583 - accuracy: 0.8632 - val_loss: 0.4732 - val_accuracy: 0.8308\n",
      "Epoch 4/30\n",
      "182/182 [==============================] - 4s 22ms/step - loss: 0.3644 - accuracy: 0.8622 - val_loss: 0.3723 - val_accuracy: 0.8563\n",
      "Epoch 5/30\n",
      "182/182 [==============================] - 4s 23ms/step - loss: 0.3484 - accuracy: 0.8681 - val_loss: 0.3779 - val_accuracy: 0.8528\n",
      "Epoch 6/30\n",
      "182/182 [==============================] - 4s 24ms/step - loss: 0.3430 - accuracy: 0.8689 - val_loss: 0.3560 - val_accuracy: 0.8597\n",
      "Epoch 7/30\n",
      "182/182 [==============================] - 4s 23ms/step - loss: 0.3399 - accuracy: 0.8686 - val_loss: 0.3529 - val_accuracy: 0.8597\n",
      "Epoch 8/30\n",
      "182/182 [==============================] - 4s 23ms/step - loss: 0.3349 - accuracy: 0.8712 - val_loss: 0.3530 - val_accuracy: 0.8611\n",
      "Epoch 9/30\n",
      "182/182 [==============================] - 4s 22ms/step - loss: 0.3316 - accuracy: 0.8713 - val_loss: 0.7560 - val_accuracy: 0.7098\n",
      "Epoch 10/30\n",
      "182/182 [==============================] - 4s 22ms/step - loss: 0.3360 - accuracy: 0.8693 - val_loss: 0.3778 - val_accuracy: 0.8604\n",
      "Epoch 11/30\n",
      "182/182 [==============================] - 4s 21ms/step - loss: 0.3286 - accuracy: 0.8724 - val_loss: 0.3479 - val_accuracy: 0.8645\n",
      "Epoch 12/30\n",
      "182/182 [==============================] - 4s 21ms/step - loss: 0.3320 - accuracy: 0.8699 - val_loss: 0.3467 - val_accuracy: 0.8645\n",
      "Epoch 13/30\n",
      "182/182 [==============================] - 4s 21ms/step - loss: 0.3264 - accuracy: 0.8710 - val_loss: 0.3475 - val_accuracy: 0.8645\n",
      "Epoch 14/30\n",
      "182/182 [==============================] - 4s 22ms/step - loss: 0.3251 - accuracy: 0.8741 - val_loss: 0.3648 - val_accuracy: 0.8535\n",
      "Epoch 15/30\n",
      "182/182 [==============================] - 4s 23ms/step - loss: 0.3305 - accuracy: 0.8698 - val_loss: 0.3495 - val_accuracy: 0.8652\n",
      "Epoch 16/30\n",
      "182/182 [==============================] - 4s 23ms/step - loss: 0.3290 - accuracy: 0.8710 - val_loss: 0.3479 - val_accuracy: 0.8590\n",
      "Epoch 17/30\n",
      "182/182 [==============================] - 4s 22ms/step - loss: 0.3268 - accuracy: 0.8713 - val_loss: 0.3342 - val_accuracy: 0.8673\n",
      "Epoch 18/30\n",
      "182/182 [==============================] - 4s 23ms/step - loss: 0.3177 - accuracy: 0.8739 - val_loss: 0.3274 - val_accuracy: 0.8680\n",
      "Epoch 19/30\n",
      "182/182 [==============================] - 4s 22ms/step - loss: 0.3175 - accuracy: 0.8729 - val_loss: 0.3555 - val_accuracy: 0.8652\n",
      "Epoch 20/30\n",
      "182/182 [==============================] - 4s 22ms/step - loss: 0.3164 - accuracy: 0.8706 - val_loss: 0.3902 - val_accuracy: 0.8631\n",
      "Epoch 21/30\n",
      "182/182 [==============================] - 4s 22ms/step - loss: 0.3123 - accuracy: 0.8736 - val_loss: 0.3376 - val_accuracy: 0.8673\n",
      "Epoch 22/30\n",
      "182/182 [==============================] - 4s 22ms/step - loss: 0.3104 - accuracy: 0.8732 - val_loss: 0.3730 - val_accuracy: 0.8631\n",
      "Epoch 23/30\n",
      "182/182 [==============================] - 4s 22ms/step - loss: 0.3079 - accuracy: 0.8749 - val_loss: 0.4086 - val_accuracy: 0.8349\n",
      "Epoch 24/30\n",
      "182/182 [==============================] - 4s 22ms/step - loss: 0.3174 - accuracy: 0.8706 - val_loss: 0.3382 - val_accuracy: 0.8631\n",
      "Epoch 25/30\n",
      "182/182 [==============================] - 4s 22ms/step - loss: 0.3060 - accuracy: 0.8722 - val_loss: 0.3323 - val_accuracy: 0.8645\n",
      "Epoch 26/30\n",
      "182/182 [==============================] - 4s 22ms/step - loss: 0.3084 - accuracy: 0.8713 - val_loss: 0.4444 - val_accuracy: 0.8446\n",
      "Epoch 27/30\n",
      "182/182 [==============================] - 4s 23ms/step - loss: 0.3055 - accuracy: 0.8718 - val_loss: 0.3190 - val_accuracy: 0.8673\n",
      "Epoch 28/30\n",
      "182/182 [==============================] - 4s 23ms/step - loss: 0.3163 - accuracy: 0.8686 - val_loss: 0.3395 - val_accuracy: 0.8583\n",
      "Epoch 29/30\n",
      "182/182 [==============================] - 4s 24ms/step - loss: 0.3065 - accuracy: 0.8696 - val_loss: 0.3164 - val_accuracy: 0.8652\n",
      "Epoch 30/30\n",
      "182/182 [==============================] - 4s 23ms/step - loss: 0.2980 - accuracy: 0.8734 - val_loss: 0.3086 - val_accuracy: 0.8652\n"
     ]
    }
   ],
   "source": [
    "history = packet_class.fit(train_dataset, epochs=30, validation_data=val_dataset, callbacks=[cp_callback])"
   ]
  },
  {
   "cell_type": "code",
   "execution_count": 21,
   "metadata": {},
   "outputs": [
    {
     "data": {
      "image/png": "[encoded data removed]",
      "text/plain": [
       "<Figure size 640x480 with 1 Axes>"
      ]
     },
     "metadata": {},
     "output_type": "display_data"
    },
    {
     "data": {
      "image/png": "[encoded data removed]",
      "text/plain": [
       "<Figure size 640x480 with 1 Axes>"
      ]
     },
     "metadata": {},
     "output_type": "display_data"
    }
   ],
   "source": [
    "plt.plot(history.history['loss'])\n",
    "plt.plot(history.history['val_loss'])\n",
    "plt.ylabel('loss')\n",
    "plt.xlabel('epoch')\n",
    "plt.legend(['train_loss','val_loss'])\n",
    "plt.show()\n",
    "\n",
    "plt.plot(history.history['accuracy'])\n",
    "plt.plot(history.history['val_accuracy'])\n",
    "plt.ylabel('accuracy')\n",
    "plt.xlabel('epoch')\n",
    "plt.legend(['train_accuracy','val_accuracy'])\n",
    "plt.show()"
   ]
  },
  {
   "cell_type": "markdown",
   "metadata": {},
   "source": [
    "# predict"
   ]
  },
  {
   "cell_type": "code",
   "execution_count": 22,
   "metadata": {},
   "outputs": [
    {
     "name": "stdout",
     "output_type": "stream",
     "text": [
      "Model: \"sequential_1\"\n",
      "_________________________________________________________________\n",
      " Layer (type)                Output Shape              Param #   \n",
      "=================================================================\n",
      " conv1d_1 (Conv1D)           (None, 30, 64)            2112      \n",
      "                                                                 \n",
      " max_pooling1d_2 (MaxPooling  (None, 6, 64)            0         \n",
      " 1D)                                                             \n",
      "                                                                 \n",
      " batch_normalization_2 (Batc  (None, 6, 64)            256       \n",
      " hNormalization)                                                 \n",
      "                                                                 \n",
      " bidirectional_2 (Bidirectio  (None, 128)              66048     \n",
      " nal)                                                            \n",
      "                                                                 \n",
      " reshape_1 (Reshape)         (None, 128, 1)            0         \n",
      "                                                                 \n",
      " max_pooling1d_3 (MaxPooling  (None, 25, 1)            0         \n",
      " 1D)                                                             \n",
      "                                                                 \n",
      " batch_normalization_3 (Batc  (None, 25, 1)            4         \n",
      " hNormalization)                                                 \n",
      "                                                                 \n",
      " bidirectional_3 (Bidirectio  (None, 256)              133120    \n",
      " nal)                                                            \n",
      "                                                                 \n",
      " dropout_1 (Dropout)         (None, 256)               0         \n",
      "                                                                 \n",
      " dense_1 (Dense)             (None, 4)                 1028      \n",
      "                                                                 \n",
      " activation_1 (Activation)   (None, 4)                 0         \n",
      "                                                                 \n",
      "=================================================================\n",
      "Total params: 202,568\n",
      "Trainable params: 202,438\n",
      "Non-trainable params: 130\n",
      "_________________________________________________________________\n"
     ]
    }
   ],
   "source": [
    "epoch = 30\n",
    "checkpoint_path = f\"./model/packet_class/model_{epoch}.ckpt\"\n",
    "\n",
    "packet_class = CNN_BiLSTM()\n",
    "packet_class.load_weights(checkpoint_path)\n",
    "packet_class.summary()"
   ]
  },
  {
   "cell_type": "code",
   "execution_count": 23,
   "metadata": {},
   "outputs": [
    {
     "name": "stdout",
     "output_type": "stream",
     "text": [
      "46/46 [==============================] - 2s 12ms/step - loss: 0.3086 - accuracy: 0.8652\n",
      "Restored model, accuracy: 86.52%\n"
     ]
    }
   ],
   "source": [
    "loss, acc = packet_class.evaluate(val_dataset, verbose=1)\n",
    "print(\"Restored model, accuracy: {:5.2f}%\".format(100 * acc))"
   ]
  },
  {
   "cell_type": "code",
   "execution_count": null,
   "metadata": {},
   "outputs": [],
   "source": []
  }
 ],
 "metadata": {
  "kernelspec": {
   "display_name": "Python 3",
   "language": "python",
   "name": "python3"
  },
  "language_info": {
   "codemirror_mode": {
    "name": "ipython",
    "version": 3
   },
   "file_extension": ".py",
   "mimetype": "text/x-python",
   "name": "python",
   "nbconvert_exporter": "python",
   "pygments_lexer": "ipython3",
   "version": "3.8.10"
  }
 },
 "nbformat": 4,
 "nbformat_minor": 5
}
