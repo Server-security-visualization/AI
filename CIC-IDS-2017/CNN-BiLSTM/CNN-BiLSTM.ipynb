{
 "cells": [
  {
   "cell_type": "code",
   "execution_count": 1,
   "metadata": {
    "scrolled": true
   },
   "outputs": [
    {
     "name": "stdout",
     "output_type": "stream",
     "text": [
      "Requirement already satisfied: pandas in /usr/local/lib/python3.8/dist-packages (2.0.1)\n",
      "Requirement already satisfied: scikit-learn in /usr/local/lib/python3.8/dist-packages (1.2.2)\n",
      "Requirement already satisfied: python-dateutil>=2.8.2 in /usr/local/lib/python3.8/dist-packages (from pandas) (2.8.2)\n",
      "Requirement already satisfied: tzdata>=2022.1 in /usr/local/lib/python3.8/dist-packages (from pandas) (2023.3)\n",
      "Requirement already satisfied: numpy>=1.20.3; python_version < \"3.10\" in /usr/local/lib/python3.8/dist-packages (from pandas) (1.23.4)\n",
      "Requirement already satisfied: pytz>=2020.1 in /usr/local/lib/python3.8/dist-packages (from pandas) (2023.3)\n",
      "Requirement already satisfied: threadpoolctl>=2.0.0 in /usr/local/lib/python3.8/dist-packages (from scikit-learn) (3.1.0)\n",
      "Requirement already satisfied: joblib>=1.1.1 in /usr/local/lib/python3.8/dist-packages (from scikit-learn) (1.2.0)\n",
      "Requirement already satisfied: scipy>=1.3.2 in /usr/local/lib/python3.8/dist-packages (from scikit-learn) (1.10.1)\n",
      "Requirement already satisfied: six>=1.5 in /usr/lib/python3/dist-packages (from python-dateutil>=2.8.2->pandas) (1.14.0)\n",
      "\u001b[33mWARNING: You are using pip version 20.2.4; however, version 23.1.2 is available.\n",
      "You should consider upgrading via the '/usr/bin/python3 -m pip install --upgrade pip' command.\u001b[0m\n"
     ]
    }
   ],
   "source": [
    "!pip3 install pandas scikit-learn"
   ]
  },
  {
   "cell_type": "markdown",
   "id": "5feb64ef",
   "metadata": {},
   "source": [
    "# Data preprocessing"
   ]
  },
  {
   "cell_type": "code",
   "execution_count": 2,
   "id": "e52a8e96",
   "metadata": {},
   "outputs": [],
   "source": [
    "from itertools import cycle\n",
    "import pickle\n",
    "import sys\n",
    "import time\n",
    "from typing import List, Tuple\n",
    "\n",
    "import matplotlib.pyplot as plt\n",
    "import numpy as np\n",
    "import pandas as pd\n",
    "from sklearn import metrics\n",
    "from sklearn.model_selection import StratifiedKFold\n",
    "from sklearn.model_selection import train_test_split\n",
    "import sklearn.preprocessing\n",
    "import tensorflow as tf\n",
    "import tensorflow.keras\n",
    "from tensorflow.keras.layers import Dense, Dropout, Activation\n",
    "from tensorflow.keras.layers import LSTM, Bidirectional, BatchNormalization, Convolution1D, MaxPooling1D, Reshape\n",
    "from tensorflow.keras.models import Sequential\n",
    "\n",
    "%matplotlib inline"
   ]
  },
  {
   "cell_type": "code",
   "execution_count": 3,
   "id": "78746733",
   "metadata": {},
   "outputs": [],
   "source": [
    "data = pd.read_csv('../dataset/web_attacks_balanced.csv', delimiter=',')\n",
    "\n",
    "y = data['Label']\n",
    "x = data.drop(labels=['Label', 'Flow ID', 'Source IP', 'Source Port',\n",
    "              'Destination IP', 'Destination Port', 'Protocol', 'Timestamp'], axis=1)"
   ]
  },
  {
   "cell_type": "markdown",
   "id": "2855d909",
   "metadata": {},
   "source": [
    "## Preparing feature vectors for training"
   ]
  },
  {
   "cell_type": "markdown",
   "id": "7b7e8941",
   "metadata": {},
   "source": [
    "First, we need to inspect feature vectors."
   ]
  },
  {
   "cell_type": "code",
   "execution_count": 4,
   "id": "c7483bc8",
   "metadata": {},
   "outputs": [
    {
     "data": {
      "text/html": [
       "<div>\n",
       "<style scoped>\n",
       "    .dataframe tbody tr th:only-of-type {\n",
       "        vertical-align: middle;\n",
       "    }\n",
       "\n",
       "    .dataframe tbody tr th {\n",
       "        vertical-align: top;\n",
       "    }\n",
       "\n",
       "    .dataframe thead th {\n",
       "        text-align: right;\n",
       "    }\n",
       "</style>\n",
       "<table border=\"1\" class=\"dataframe\">\n",
       "  <thead>\n",
       "    <tr style=\"text-align: right;\">\n",
       "      <th></th>\n",
       "      <th>Flow Duration</th>\n",
       "      <th>Total Fwd Packets</th>\n",
       "      <th>Total Backward Packets</th>\n",
       "      <th>Total Length of Fwd Packets</th>\n",
       "      <th>Total Length of Bwd Packets</th>\n",
       "      <th>Fwd Packet Length Max</th>\n",
       "      <th>Fwd Packet Length Min</th>\n",
       "      <th>Fwd Packet Length Mean</th>\n",
       "      <th>Fwd Packet Length Std</th>\n",
       "      <th>Bwd Packet Length Max</th>\n",
       "      <th>...</th>\n",
       "      <th>act_data_pkt_fwd</th>\n",
       "      <th>min_seg_size_forward</th>\n",
       "      <th>Active Mean</th>\n",
       "      <th>Active Std</th>\n",
       "      <th>Active Max</th>\n",
       "      <th>Active Min</th>\n",
       "      <th>Idle Mean</th>\n",
       "      <th>Idle Std</th>\n",
       "      <th>Idle Max</th>\n",
       "      <th>Idle Min</th>\n",
       "    </tr>\n",
       "  </thead>\n",
       "  <tbody>\n",
       "    <tr>\n",
       "      <th>0</th>\n",
       "      <td>350.0</td>\n",
       "      <td>4.0</td>\n",
       "      <td>4.0</td>\n",
       "      <td>116.0</td>\n",
       "      <td>116.0</td>\n",
       "      <td>29.0</td>\n",
       "      <td>29.0</td>\n",
       "      <td>29.0</td>\n",
       "      <td>0.000000</td>\n",
       "      <td>29.0</td>\n",
       "      <td>...</td>\n",
       "      <td>3.0</td>\n",
       "      <td>32.0</td>\n",
       "      <td>0.0</td>\n",
       "      <td>0.0</td>\n",
       "      <td>0.0</td>\n",
       "      <td>0.0</td>\n",
       "      <td>0.0</td>\n",
       "      <td>0.0</td>\n",
       "      <td>0.0</td>\n",
       "      <td>0.0</td>\n",
       "    </tr>\n",
       "    <tr>\n",
       "      <th>1</th>\n",
       "      <td>203.0</td>\n",
       "      <td>2.0</td>\n",
       "      <td>2.0</td>\n",
       "      <td>88.0</td>\n",
       "      <td>188.0</td>\n",
       "      <td>44.0</td>\n",
       "      <td>44.0</td>\n",
       "      <td>44.0</td>\n",
       "      <td>0.000000</td>\n",
       "      <td>94.0</td>\n",
       "      <td>...</td>\n",
       "      <td>1.0</td>\n",
       "      <td>32.0</td>\n",
       "      <td>0.0</td>\n",
       "      <td>0.0</td>\n",
       "      <td>0.0</td>\n",
       "      <td>0.0</td>\n",
       "      <td>0.0</td>\n",
       "      <td>0.0</td>\n",
       "      <td>0.0</td>\n",
       "      <td>0.0</td>\n",
       "    </tr>\n",
       "    <tr>\n",
       "      <th>2</th>\n",
       "      <td>1.0</td>\n",
       "      <td>2.0</td>\n",
       "      <td>0.0</td>\n",
       "      <td>7.0</td>\n",
       "      <td>0.0</td>\n",
       "      <td>7.0</td>\n",
       "      <td>0.0</td>\n",
       "      <td>3.5</td>\n",
       "      <td>4.949747</td>\n",
       "      <td>0.0</td>\n",
       "      <td>...</td>\n",
       "      <td>0.0</td>\n",
       "      <td>32.0</td>\n",
       "      <td>0.0</td>\n",
       "      <td>0.0</td>\n",
       "      <td>0.0</td>\n",
       "      <td>0.0</td>\n",
       "      <td>0.0</td>\n",
       "      <td>0.0</td>\n",
       "      <td>0.0</td>\n",
       "      <td>0.0</td>\n",
       "    </tr>\n",
       "    <tr>\n",
       "      <th>3</th>\n",
       "      <td>204.0</td>\n",
       "      <td>2.0</td>\n",
       "      <td>2.0</td>\n",
       "      <td>88.0</td>\n",
       "      <td>188.0</td>\n",
       "      <td>44.0</td>\n",
       "      <td>44.0</td>\n",
       "      <td>44.0</td>\n",
       "      <td>0.000000</td>\n",
       "      <td>94.0</td>\n",
       "      <td>...</td>\n",
       "      <td>1.0</td>\n",
       "      <td>32.0</td>\n",
       "      <td>0.0</td>\n",
       "      <td>0.0</td>\n",
       "      <td>0.0</td>\n",
       "      <td>0.0</td>\n",
       "      <td>0.0</td>\n",
       "      <td>0.0</td>\n",
       "      <td>0.0</td>\n",
       "      <td>0.0</td>\n",
       "    </tr>\n",
       "    <tr>\n",
       "      <th>4</th>\n",
       "      <td>169.0</td>\n",
       "      <td>2.0</td>\n",
       "      <td>2.0</td>\n",
       "      <td>102.0</td>\n",
       "      <td>224.0</td>\n",
       "      <td>51.0</td>\n",
       "      <td>51.0</td>\n",
       "      <td>51.0</td>\n",
       "      <td>0.000000</td>\n",
       "      <td>112.0</td>\n",
       "      <td>...</td>\n",
       "      <td>1.0</td>\n",
       "      <td>32.0</td>\n",
       "      <td>0.0</td>\n",
       "      <td>0.0</td>\n",
       "      <td>0.0</td>\n",
       "      <td>0.0</td>\n",
       "      <td>0.0</td>\n",
       "      <td>0.0</td>\n",
       "      <td>0.0</td>\n",
       "      <td>0.0</td>\n",
       "    </tr>\n",
       "    <tr>\n",
       "      <th>...</th>\n",
       "      <td>...</td>\n",
       "      <td>...</td>\n",
       "      <td>...</td>\n",
       "      <td>...</td>\n",
       "      <td>...</td>\n",
       "      <td>...</td>\n",
       "      <td>...</td>\n",
       "      <td>...</td>\n",
       "      <td>...</td>\n",
       "      <td>...</td>\n",
       "      <td>...</td>\n",
       "      <td>...</td>\n",
       "      <td>...</td>\n",
       "      <td>...</td>\n",
       "      <td>...</td>\n",
       "      <td>...</td>\n",
       "      <td>...</td>\n",
       "      <td>...</td>\n",
       "      <td>...</td>\n",
       "      <td>...</td>\n",
       "      <td>...</td>\n",
       "    </tr>\n",
       "    <tr>\n",
       "      <th>7262</th>\n",
       "      <td>23697.0</td>\n",
       "      <td>1.0</td>\n",
       "      <td>1.0</td>\n",
       "      <td>45.0</td>\n",
       "      <td>61.0</td>\n",
       "      <td>45.0</td>\n",
       "      <td>45.0</td>\n",
       "      <td>45.0</td>\n",
       "      <td>0.000000</td>\n",
       "      <td>61.0</td>\n",
       "      <td>...</td>\n",
       "      <td>0.0</td>\n",
       "      <td>20.0</td>\n",
       "      <td>0.0</td>\n",
       "      <td>0.0</td>\n",
       "      <td>0.0</td>\n",
       "      <td>0.0</td>\n",
       "      <td>0.0</td>\n",
       "      <td>0.0</td>\n",
       "      <td>0.0</td>\n",
       "      <td>0.0</td>\n",
       "    </tr>\n",
       "    <tr>\n",
       "      <th>7263</th>\n",
       "      <td>19359.0</td>\n",
       "      <td>3.0</td>\n",
       "      <td>0.0</td>\n",
       "      <td>18.0</td>\n",
       "      <td>0.0</td>\n",
       "      <td>6.0</td>\n",
       "      <td>6.0</td>\n",
       "      <td>6.0</td>\n",
       "      <td>0.000000</td>\n",
       "      <td>0.0</td>\n",
       "      <td>...</td>\n",
       "      <td>2.0</td>\n",
       "      <td>20.0</td>\n",
       "      <td>0.0</td>\n",
       "      <td>0.0</td>\n",
       "      <td>0.0</td>\n",
       "      <td>0.0</td>\n",
       "      <td>0.0</td>\n",
       "      <td>0.0</td>\n",
       "      <td>0.0</td>\n",
       "      <td>0.0</td>\n",
       "    </tr>\n",
       "    <tr>\n",
       "      <th>7264</th>\n",
       "      <td>169.0</td>\n",
       "      <td>2.0</td>\n",
       "      <td>2.0</td>\n",
       "      <td>60.0</td>\n",
       "      <td>264.0</td>\n",
       "      <td>30.0</td>\n",
       "      <td>30.0</td>\n",
       "      <td>30.0</td>\n",
       "      <td>0.000000</td>\n",
       "      <td>132.0</td>\n",
       "      <td>...</td>\n",
       "      <td>1.0</td>\n",
       "      <td>20.0</td>\n",
       "      <td>0.0</td>\n",
       "      <td>0.0</td>\n",
       "      <td>0.0</td>\n",
       "      <td>0.0</td>\n",
       "      <td>0.0</td>\n",
       "      <td>0.0</td>\n",
       "      <td>0.0</td>\n",
       "      <td>0.0</td>\n",
       "    </tr>\n",
       "    <tr>\n",
       "      <th>7265</th>\n",
       "      <td>2.0</td>\n",
       "      <td>2.0</td>\n",
       "      <td>0.0</td>\n",
       "      <td>12.0</td>\n",
       "      <td>0.0</td>\n",
       "      <td>6.0</td>\n",
       "      <td>6.0</td>\n",
       "      <td>6.0</td>\n",
       "      <td>0.000000</td>\n",
       "      <td>0.0</td>\n",
       "      <td>...</td>\n",
       "      <td>1.0</td>\n",
       "      <td>20.0</td>\n",
       "      <td>0.0</td>\n",
       "      <td>0.0</td>\n",
       "      <td>0.0</td>\n",
       "      <td>0.0</td>\n",
       "      <td>0.0</td>\n",
       "      <td>0.0</td>\n",
       "      <td>0.0</td>\n",
       "      <td>0.0</td>\n",
       "    </tr>\n",
       "    <tr>\n",
       "      <th>7266</th>\n",
       "      <td>23233.0</td>\n",
       "      <td>1.0</td>\n",
       "      <td>1.0</td>\n",
       "      <td>81.0</td>\n",
       "      <td>163.0</td>\n",
       "      <td>81.0</td>\n",
       "      <td>81.0</td>\n",
       "      <td>81.0</td>\n",
       "      <td>0.000000</td>\n",
       "      <td>163.0</td>\n",
       "      <td>...</td>\n",
       "      <td>0.0</td>\n",
       "      <td>20.0</td>\n",
       "      <td>0.0</td>\n",
       "      <td>0.0</td>\n",
       "      <td>0.0</td>\n",
       "      <td>0.0</td>\n",
       "      <td>0.0</td>\n",
       "      <td>0.0</td>\n",
       "      <td>0.0</td>\n",
       "      <td>0.0</td>\n",
       "    </tr>\n",
       "  </tbody>\n",
       "</table>\n",
       "<p>7267 rows × 76 columns</p>\n",
       "</div>"
      ],
      "text/plain": [
       "      Flow Duration  Total Fwd Packets  Total Backward Packets   \n",
       "0             350.0                4.0                     4.0  \\\n",
       "1             203.0                2.0                     2.0   \n",
       "2               1.0                2.0                     0.0   \n",
       "3             204.0                2.0                     2.0   \n",
       "4             169.0                2.0                     2.0   \n",
       "...             ...                ...                     ...   \n",
       "7262        23697.0                1.0                     1.0   \n",
       "7263        19359.0                3.0                     0.0   \n",
       "7264          169.0                2.0                     2.0   \n",
       "7265            2.0                2.0                     0.0   \n",
       "7266        23233.0                1.0                     1.0   \n",
       "\n",
       "      Total Length of Fwd Packets  Total Length of Bwd Packets   \n",
       "0                           116.0                        116.0  \\\n",
       "1                            88.0                        188.0   \n",
       "2                             7.0                          0.0   \n",
       "3                            88.0                        188.0   \n",
       "4                           102.0                        224.0   \n",
       "...                           ...                          ...   \n",
       "7262                         45.0                         61.0   \n",
       "7263                         18.0                          0.0   \n",
       "7264                         60.0                        264.0   \n",
       "7265                         12.0                          0.0   \n",
       "7266                         81.0                        163.0   \n",
       "\n",
       "      Fwd Packet Length Max  Fwd Packet Length Min  Fwd Packet Length Mean   \n",
       "0                      29.0                   29.0                    29.0  \\\n",
       "1                      44.0                   44.0                    44.0   \n",
       "2                       7.0                    0.0                     3.5   \n",
       "3                      44.0                   44.0                    44.0   \n",
       "4                      51.0                   51.0                    51.0   \n",
       "...                     ...                    ...                     ...   \n",
       "7262                   45.0                   45.0                    45.0   \n",
       "7263                    6.0                    6.0                     6.0   \n",
       "7264                   30.0                   30.0                    30.0   \n",
       "7265                    6.0                    6.0                     6.0   \n",
       "7266                   81.0                   81.0                    81.0   \n",
       "\n",
       "      Fwd Packet Length Std  Bwd Packet Length Max  ...  act_data_pkt_fwd   \n",
       "0                  0.000000                   29.0  ...               3.0  \\\n",
       "1                  0.000000                   94.0  ...               1.0   \n",
       "2                  4.949747                    0.0  ...               0.0   \n",
       "3                  0.000000                   94.0  ...               1.0   \n",
       "4                  0.000000                  112.0  ...               1.0   \n",
       "...                     ...                    ...  ...               ...   \n",
       "7262               0.000000                   61.0  ...               0.0   \n",
       "7263               0.000000                    0.0  ...               2.0   \n",
       "7264               0.000000                  132.0  ...               1.0   \n",
       "7265               0.000000                    0.0  ...               1.0   \n",
       "7266               0.000000                  163.0  ...               0.0   \n",
       "\n",
       "      min_seg_size_forward  Active Mean  Active Std  Active Max  Active Min   \n",
       "0                     32.0          0.0         0.0         0.0         0.0  \\\n",
       "1                     32.0          0.0         0.0         0.0         0.0   \n",
       "2                     32.0          0.0         0.0         0.0         0.0   \n",
       "3                     32.0          0.0         0.0         0.0         0.0   \n",
       "4                     32.0          0.0         0.0         0.0         0.0   \n",
       "...                    ...          ...         ...         ...         ...   \n",
       "7262                  20.0          0.0         0.0         0.0         0.0   \n",
       "7263                  20.0          0.0         0.0         0.0         0.0   \n",
       "7264                  20.0          0.0         0.0         0.0         0.0   \n",
       "7265                  20.0          0.0         0.0         0.0         0.0   \n",
       "7266                  20.0          0.0         0.0         0.0         0.0   \n",
       "\n",
       "      Idle Mean  Idle Std  Idle Max  Idle Min  \n",
       "0           0.0       0.0       0.0       0.0  \n",
       "1           0.0       0.0       0.0       0.0  \n",
       "2           0.0       0.0       0.0       0.0  \n",
       "3           0.0       0.0       0.0       0.0  \n",
       "4           0.0       0.0       0.0       0.0  \n",
       "...         ...       ...       ...       ...  \n",
       "7262        0.0       0.0       0.0       0.0  \n",
       "7263        0.0       0.0       0.0       0.0  \n",
       "7264        0.0       0.0       0.0       0.0  \n",
       "7265        0.0       0.0       0.0       0.0  \n",
       "7266        0.0       0.0       0.0       0.0  \n",
       "\n",
       "[7267 rows x 76 columns]"
      ]
     },
     "execution_count": 4,
     "metadata": {},
     "output_type": "execute_result"
    }
   ],
   "source": [
    "x"
   ]
  },
  {
   "cell_type": "markdown",
   "id": "09ac809a",
   "metadata": {},
   "source": [
    "Check the absence of missing values in feature vectors."
   ]
  },
  {
   "cell_type": "code",
   "execution_count": 5,
   "id": "5c4b0c21",
   "metadata": {},
   "outputs": [
    {
     "data": {
      "text/plain": [
       "False"
      ]
     },
     "execution_count": 5,
     "metadata": {},
     "output_type": "execute_result"
    }
   ],
   "source": [
    "x.isnull().values.any()"
   ]
  },
  {
   "cell_type": "markdown",
   "id": "72d157f6",
   "metadata": {},
   "source": [
    "As we can see, the range of features is not normalized. We need to perform feature scaling for the correct functioning of selected deep learning algorithms (CNN and BiLSTM).\n",
    "\n",
    "In our case, the min-max normalization is used: all selected features are transformed into the range [0, 1]."
   ]
  },
  {
   "cell_type": "code",
   "execution_count": 6,
   "id": "14f1ab5d",
   "metadata": {},
   "outputs": [],
   "source": [
    "scaler = sklearn.preprocessing.MinMaxScaler()"
   ]
  },
  {
   "cell_type": "code",
   "execution_count": 7,
   "metadata": {},
   "outputs": [
    {
     "data": {
      "text/plain": [
       "array([[2.92513451e-06, 7.02082846e-04, 6.14533723e-04, ...,\n",
       "        0.00000000e+00, 0.00000000e+00, 0.00000000e+00],\n",
       "       [1.70007818e-06, 2.34027615e-04, 3.07266861e-04, ...,\n",
       "        0.00000000e+00, 0.00000000e+00, 0.00000000e+00],\n",
       "       [1.66674331e-08, 2.34027615e-04, 0.00000000e+00, ...,\n",
       "        0.00000000e+00, 0.00000000e+00, 0.00000000e+00],\n",
       "       ...,\n",
       "       [1.41673181e-06, 2.34027615e-04, 3.07266861e-04, ...,\n",
       "        0.00000000e+00, 0.00000000e+00, 0.00000000e+00],\n",
       "       [2.50011496e-08, 2.34027615e-04, 0.00000000e+00, ...,\n",
       "        0.00000000e+00, 0.00000000e+00, 0.00000000e+00],\n",
       "       [1.93625570e-04, 0.00000000e+00, 1.53633431e-04, ...,\n",
       "        0.00000000e+00, 0.00000000e+00, 0.00000000e+00]])"
      ]
     },
     "execution_count": 7,
     "metadata": {},
     "output_type": "execute_result"
    }
   ],
   "source": [
    "x = scaler.fit_transform(x)\n",
    "x"
   ]
  },
  {
   "cell_type": "markdown",
   "id": "4aea3fc7",
   "metadata": {},
   "source": [
    "To prevent data leakage, feature scaling would be performed on cross-validation folds at the training step."
   ]
  },
  {
   "cell_type": "markdown",
   "id": "037f33bb",
   "metadata": {},
   "source": [
    "### Preparing labels for training"
   ]
  },
  {
   "cell_type": "markdown",
   "id": "3898547e",
   "metadata": {},
   "source": [
    "First, we need to inspect labels."
   ]
  },
  {
   "cell_type": "code",
   "execution_count": 8,
   "id": "8fe9b30f",
   "metadata": {},
   "outputs": [
    {
     "data": {
      "text/plain": [
       "0       BENIGN\n",
       "1       BENIGN\n",
       "2       BENIGN\n",
       "3       BENIGN\n",
       "4       BENIGN\n",
       "         ...  \n",
       "7262    BENIGN\n",
       "7263    BENIGN\n",
       "7264    BENIGN\n",
       "7265    BENIGN\n",
       "7266    BENIGN\n",
       "Name: Label, Length: 7267, dtype: object"
      ]
     },
     "execution_count": 8,
     "metadata": {},
     "output_type": "execute_result"
    }
   ],
   "source": [
    "y"
   ]
  },
  {
   "cell_type": "code",
   "execution_count": 9,
   "metadata": {},
   "outputs": [
    {
     "data": {
      "text/plain": [
       "array(['BENIGN', 'Web Attack – Brute Force', 'Web Attack – XSS',\n",
       "       'Web Attack – Sql Injection'], dtype=object)"
      ]
     },
     "execution_count": 9,
     "metadata": {},
     "output_type": "execute_result"
    }
   ],
   "source": [
    "y.unique()"
   ]
  },
  {
   "cell_type": "code",
   "execution_count": 10,
   "metadata": {},
   "outputs": [
    {
     "data": {
      "text/plain": [
       "Label\n",
       "BENIGN                        5087\n",
       "Web Attack – Brute Force      1507\n",
       "Web Attack – XSS               652\n",
       "Web Attack – Sql Injection      21\n",
       "Name: count, dtype: int64"
      ]
     },
     "execution_count": 10,
     "metadata": {},
     "output_type": "execute_result"
    }
   ],
   "source": [
    "y.value_counts()"
   ]
  },
  {
   "cell_type": "markdown",
   "id": "b01323a8",
   "metadata": {},
   "source": [
    "Check the absence of missing values in labels."
   ]
  },
  {
   "cell_type": "code",
   "execution_count": 11,
   "id": "dc64a24c",
   "metadata": {},
   "outputs": [
    {
     "data": {
      "text/plain": [
       "False"
      ]
     },
     "execution_count": 11,
     "metadata": {},
     "output_type": "execute_result"
    }
   ],
   "source": [
    "y.isnull().values.any()"
   ]
  },
  {
   "cell_type": "code",
   "execution_count": 12,
   "metadata": {},
   "outputs": [
    {
     "data": {
      "text/plain": [
       "array([[ True, False, False, False],\n",
       "       [ True, False, False, False],\n",
       "       [ True, False, False, False],\n",
       "       ...,\n",
       "       [ True, False, False, False],\n",
       "       [ True, False, False, False],\n",
       "       [ True, False, False, False]])"
      ]
     },
     "execution_count": 12,
     "metadata": {},
     "output_type": "execute_result"
    }
   ],
   "source": [
    "y_encoded = pd.get_dummies(y).values\n",
    "y_encoded"
   ]
  },
  {
   "cell_type": "code",
   "execution_count": 13,
   "metadata": {},
   "outputs": [],
   "source": [
    "train_x, val_x, train_y, val_y = train_test_split(x, \n",
    "                                                  y_encoded, \n",
    "                                                  stratify=y, \n",
    "                                                  test_size=0.2)"
   ]
  },
  {
   "cell_type": "code",
   "execution_count": 14,
   "metadata": {},
   "outputs": [
    {
     "name": "stdout",
     "output_type": "stream",
     "text": [
      "train_x :  (5813, 76)\n",
      "val_x :  (1454, 76)\n",
      "train_y :  (5813, 4)\n",
      "val_y :  (1454, 4)\n"
     ]
    }
   ],
   "source": [
    "print(\"train_x : \", train_x.shape)\n",
    "print(\"val_x : \", val_x.shape)\n",
    "print(\"train_y : \", train_y.shape)\n",
    "print(\"val_y : \", val_y.shape)"
   ]
  },
  {
   "cell_type": "markdown",
   "metadata": {},
   "source": [
    "## create tf Dataset"
   ]
  },
  {
   "cell_type": "code",
   "execution_count": 15,
   "metadata": {},
   "outputs": [],
   "source": [
    "train_dataset = tf.data.Dataset.from_tensor_slices((train_x, train_y)).shuffle(buffer_size=100000).batch(32)\n",
    "val_dataset = tf.data.Dataset.from_tensor_slices((val_x, val_y)).batch(32)"
   ]
  },
  {
   "cell_type": "markdown",
   "id": "a8bbdbac",
   "metadata": {},
   "source": [
    "# The neural network preparation"
   ]
  },
  {
   "cell_type": "code",
   "execution_count": 16,
   "id": "1b9b10ea",
   "metadata": {},
   "outputs": [],
   "source": [
    "def CNN_BiLSTM():\n",
    "    model = Sequential()\n",
    "    model.add(Convolution1D(64, kernel_size=32, padding=\"same\",\n",
    "              activation=\"relu\", input_shape=(76, 1)))\n",
    "    model.add(MaxPooling1D(pool_size=(5)))\n",
    "    model.add(BatchNormalization())\n",
    "    model.add(Bidirectional(LSTM(64, return_sequences=False)))\n",
    "    model.add(Reshape((128, 1), input_shape=(128, )))\n",
    "\n",
    "    model.add(MaxPooling1D(pool_size=(5)))\n",
    "    model.add(BatchNormalization())\n",
    "    model.add(Bidirectional(LSTM(128, return_sequences=False)))\n",
    "\n",
    "    model.add(Dropout(0.5))\n",
    "    model.add(Dense(4))\n",
    "    model.add(Activation('softmax'))\n",
    "    model.compile(loss='categorical_crossentropy', optimizer='adam', metrics=['accuracy'])\n",
    "    return model"
   ]
  },
  {
   "cell_type": "code",
   "execution_count": 17,
   "id": "2b1eb037",
   "metadata": {},
   "outputs": [
    {
     "name": "stdout",
     "output_type": "stream",
     "text": [
      "Model: \"sequential\"\n",
      "____________________________________________________________________________________________________\n",
      " Layer (type)                                Output Shape                            Param #        \n",
      "====================================================================================================\n",
      " conv1d (Conv1D)                             (None, 76, 64)                          2112           \n",
      "                                                                                                    \n",
      " max_pooling1d (MaxPooling1D)                (None, 15, 64)                          0              \n",
      "                                                                                                    \n",
      " batch_normalization (BatchNormalization)    (None, 15, 64)                          256            \n",
      "                                                                                                    \n",
      " bidirectional (Bidirectional)               (None, 128)                             66048          \n",
      "                                                                                                    \n",
      " reshape (Reshape)                           (None, 128, 1)                          0              \n",
      "                                                                                                    \n",
      " max_pooling1d_1 (MaxPooling1D)              (None, 25, 1)                           0              \n",
      "                                                                                                    \n",
      " batch_normalization_1 (BatchNormalization)  (None, 25, 1)                           4              \n",
      "                                                                                                    \n",
      " bidirectional_1 (Bidirectional)             (None, 256)                             133120         \n",
      "                                                                                                    \n",
      " dropout (Dropout)                           (None, 256)                             0              \n",
      "                                                                                                    \n",
      " dense (Dense)                               (None, 4)                               1028           \n",
      "                                                                                                    \n",
      " activation (Activation)                     (None, 4)                               0              \n",
      "                                                                                                    \n",
      "====================================================================================================\n",
      "Total params: 202,568\n",
      "Trainable params: 202,438\n",
      "Non-trainable params: 130\n",
      "____________________________________________________________________________________________________\n"
     ]
    }
   ],
   "source": [
    "packet_class = CNN_BiLSTM()\n",
    "packet_class.summary(line_length=100)"
   ]
  },
  {
   "cell_type": "markdown",
   "id": "1e5ab17e",
   "metadata": {},
   "source": [
    "## The neural network training"
   ]
  },
  {
   "cell_type": "code",
   "execution_count": 18,
   "metadata": {},
   "outputs": [],
   "source": [
    "save_path = './model/packet_class_all/'\n",
    "checkpoint_path = save_path+\"/model_{epoch}.ckpt\"\n",
    "\n",
    "# cp_callback = tf.keras.callbacks.ModelCheckpoint(filepath=checkpoint_path, save_weights_only=True, verbose=1, period=1)\n",
    "cp_callback = tf.keras.callbacks.ModelCheckpoint(filepath=checkpoint_path, save_weights_only=True, verbose=0)"
   ]
  },
  {
   "cell_type": "code",
   "execution_count": 19,
   "metadata": {
    "scrolled": true
   },
   "outputs": [
    {
     "name": "stdout",
     "output_type": "stream",
     "text": [
      "Epoch 1/30\n",
      "182/182 [==============================] - 13s 31ms/step - loss: 0.4021 - accuracy: 0.8509 - val_loss: 0.8031 - val_accuracy: 0.8569\n",
      "Epoch 2/30\n",
      "182/182 [==============================] - 5s 25ms/step - loss: 0.2894 - accuracy: 0.8729 - val_loss: 0.4647 - val_accuracy: 0.8748\n",
      "Epoch 3/30\n",
      "182/182 [==============================] - 4s 24ms/step - loss: 0.2761 - accuracy: 0.8761 - val_loss: 0.2914 - val_accuracy: 0.8790\n",
      "Epoch 4/30\n",
      "182/182 [==============================] - 5s 26ms/step - loss: 0.2707 - accuracy: 0.8784 - val_loss: 0.2699 - val_accuracy: 0.8845\n",
      "Epoch 5/30\n",
      "182/182 [==============================] - 5s 25ms/step - loss: 0.2918 - accuracy: 0.8739 - val_loss: 0.2886 - val_accuracy: 0.8748\n",
      "Epoch 6/30\n",
      "182/182 [==============================] - 5s 25ms/step - loss: 0.2699 - accuracy: 0.8775 - val_loss: 0.4879 - val_accuracy: 0.6912\n",
      "Epoch 7/30\n",
      "182/182 [==============================] - 5s 25ms/step - loss: 0.2618 - accuracy: 0.8772 - val_loss: 0.2561 - val_accuracy: 0.8845\n",
      "Epoch 8/30\n",
      "182/182 [==============================] - 5s 26ms/step - loss: 0.2571 - accuracy: 0.8806 - val_loss: 0.2510 - val_accuracy: 0.8851\n",
      "Epoch 9/30\n",
      "182/182 [==============================] - 5s 26ms/step - loss: 0.2582 - accuracy: 0.8803 - val_loss: 0.2557 - val_accuracy: 0.8865\n",
      "Epoch 10/30\n",
      "182/182 [==============================] - 5s 26ms/step - loss: 0.2597 - accuracy: 0.8799 - val_loss: 0.2569 - val_accuracy: 0.8851\n",
      "Epoch 11/30\n",
      "182/182 [==============================] - 5s 27ms/step - loss: 0.2553 - accuracy: 0.8827 - val_loss: 0.2446 - val_accuracy: 0.8865\n",
      "Epoch 12/30\n",
      "182/182 [==============================] - 5s 30ms/step - loss: 0.2472 - accuracy: 0.8858 - val_loss: 0.2512 - val_accuracy: 0.8858\n",
      "Epoch 13/30\n",
      "182/182 [==============================] - 5s 28ms/step - loss: 0.2555 - accuracy: 0.8806 - val_loss: 0.2485 - val_accuracy: 0.8851\n",
      "Epoch 14/30\n",
      "182/182 [==============================] - 5s 26ms/step - loss: 0.2493 - accuracy: 0.8813 - val_loss: 0.2763 - val_accuracy: 0.8755\n",
      "Epoch 15/30\n",
      "182/182 [==============================] - 5s 25ms/step - loss: 0.2492 - accuracy: 0.8841 - val_loss: 0.2541 - val_accuracy: 0.8858\n",
      "Epoch 16/30\n",
      "182/182 [==============================] - 5s 25ms/step - loss: 0.2463 - accuracy: 0.8841 - val_loss: 0.2433 - val_accuracy: 0.8858\n",
      "Epoch 17/30\n",
      "182/182 [==============================] - 5s 26ms/step - loss: 0.2475 - accuracy: 0.8842 - val_loss: 0.2408 - val_accuracy: 0.8872\n",
      "Epoch 18/30\n",
      "182/182 [==============================] - 5s 26ms/step - loss: 0.2430 - accuracy: 0.8837 - val_loss: 0.2513 - val_accuracy: 0.8845\n",
      "Epoch 19/30\n",
      "182/182 [==============================] - 4s 25ms/step - loss: 0.2479 - accuracy: 0.8832 - val_loss: 0.2412 - val_accuracy: 0.8858\n",
      "Epoch 20/30\n",
      "182/182 [==============================] - 4s 24ms/step - loss: 0.2461 - accuracy: 0.8842 - val_loss: 0.2563 - val_accuracy: 0.8858\n",
      "Epoch 21/30\n",
      "182/182 [==============================] - 5s 25ms/step - loss: 0.2479 - accuracy: 0.8847 - val_loss: 0.2393 - val_accuracy: 0.8865\n",
      "Epoch 22/30\n",
      "182/182 [==============================] - 4s 24ms/step - loss: 0.2433 - accuracy: 0.8837 - val_loss: 0.2558 - val_accuracy: 0.8858\n",
      "Epoch 23/30\n",
      "182/182 [==============================] - 4s 24ms/step - loss: 0.2430 - accuracy: 0.8851 - val_loss: 0.2468 - val_accuracy: 0.8872\n",
      "Epoch 24/30\n",
      "182/182 [==============================] - 4s 23ms/step - loss: 0.2424 - accuracy: 0.8846 - val_loss: 0.2488 - val_accuracy: 0.8858\n",
      "Epoch 25/30\n",
      "182/182 [==============================] - 5s 26ms/step - loss: 0.2430 - accuracy: 0.8844 - val_loss: 0.2416 - val_accuracy: 0.8900\n",
      "Epoch 26/30\n",
      "182/182 [==============================] - 4s 24ms/step - loss: 0.2479 - accuracy: 0.8834 - val_loss: 0.2500 - val_accuracy: 0.8604\n",
      "Epoch 27/30\n",
      "182/182 [==============================] - 5s 25ms/step - loss: 0.2397 - accuracy: 0.8847 - val_loss: 0.2389 - val_accuracy: 0.8879\n",
      "Epoch 28/30\n",
      "182/182 [==============================] - 4s 24ms/step - loss: 0.2387 - accuracy: 0.8851 - val_loss: 0.2511 - val_accuracy: 0.8824\n",
      "Epoch 29/30\n",
      "182/182 [==============================] - 5s 25ms/step - loss: 0.2432 - accuracy: 0.8844 - val_loss: 0.2487 - val_accuracy: 0.8865\n",
      "Epoch 30/30\n",
      "182/182 [==============================] - 5s 25ms/step - loss: 0.2420 - accuracy: 0.8853 - val_loss: 0.2388 - val_accuracy: 0.8879\n"
     ]
    }
   ],
   "source": [
    "history = packet_class.fit(train_dataset, epochs=30, validation_data=val_dataset, callbacks=[cp_callback])"
   ]
  },
  {
   "cell_type": "code",
   "execution_count": 20,
   "metadata": {},
   "outputs": [
    {
     "data": {
      "image/png": "[encoded data removed]",
      "text/plain": [
       "<Figure size 640x480 with 1 Axes>"
      ]
     },
     "metadata": {},
     "output_type": "display_data"
    },
    {
     "data": {
      "image/png": "[encoded data removed]",
      "text/plain": [
       "<Figure size 640x480 with 1 Axes>"
      ]
     },
     "metadata": {},
     "output_type": "display_data"
    }
   ],
   "source": [
    "plt.plot(history.history['loss'])\n",
    "plt.plot(history.history['val_loss'])\n",
    "plt.ylabel('loss')\n",
    "plt.xlabel('epoch')\n",
    "plt.legend(['train_loss','val_loss'])\n",
    "plt.show()\n",
    "\n",
    "plt.plot(history.history['accuracy'])\n",
    "plt.plot(history.history['val_accuracy'])\n",
    "plt.ylabel('accuracy')\n",
    "plt.xlabel('epoch')\n",
    "plt.legend(['train_accuracy','val_accuracy'])\n",
    "plt.show()"
   ]
  },
  {
   "cell_type": "markdown",
   "metadata": {},
   "source": [
    "# predict"
   ]
  },
  {
   "cell_type": "code",
   "execution_count": 22,
   "metadata": {},
   "outputs": [
    {
     "name": "stdout",
     "output_type": "stream",
     "text": [
      "Model: \"sequential_1\"\n",
      "_________________________________________________________________\n",
      " Layer (type)                Output Shape              Param #   \n",
      "=================================================================\n",
      " conv1d_1 (Conv1D)           (None, 30, 64)            2112      \n",
      "                                                                 \n",
      " max_pooling1d_2 (MaxPooling  (None, 6, 64)            0         \n",
      " 1D)                                                             \n",
      "                                                                 \n",
      " batch_normalization_2 (Batc  (None, 6, 64)            256       \n",
      " hNormalization)                                                 \n",
      "                                                                 \n",
      " bidirectional_2 (Bidirectio  (None, 128)              66048     \n",
      " nal)                                                            \n",
      "                                                                 \n",
      " reshape_1 (Reshape)         (None, 128, 1)            0         \n",
      "                                                                 \n",
      " max_pooling1d_3 (MaxPooling  (None, 25, 1)            0         \n",
      " 1D)                                                             \n",
      "                                                                 \n",
      " batch_normalization_3 (Batc  (None, 25, 1)            4         \n",
      " hNormalization)                                                 \n",
      "                                                                 \n",
      " bidirectional_3 (Bidirectio  (None, 256)              133120    \n",
      " nal)                                                            \n",
      "                                                                 \n",
      " dropout_1 (Dropout)         (None, 256)               0         \n",
      "                                                                 \n",
      " dense_1 (Dense)             (None, 4)                 1028      \n",
      "                                                                 \n",
      " activation_1 (Activation)   (None, 4)                 0         \n",
      "                                                                 \n",
      "=================================================================\n",
      "Total params: 202,568\n",
      "Trainable params: 202,438\n",
      "Non-trainable params: 130\n",
      "_________________________________________________________________\n"
     ]
    }
   ],
   "source": [
    "epoch = 30\n",
    "checkpoint_path = f\"./model/packet_class/model_{epoch}.ckpt\"\n",
    "\n",
    "packet_class = CNN_BiLSTM()\n",
    "packet_class.load_weights(checkpoint_path)\n",
    "packet_class.summary()"
   ]
  },
  {
   "cell_type": "code",
   "execution_count": 23,
   "metadata": {},
   "outputs": [
    {
     "name": "stdout",
     "output_type": "stream",
     "text": [
      "46/46 [==============================] - 2s 12ms/step - loss: 0.3086 - accuracy: 0.8652\n",
      "Restored model, accuracy: 86.52%\n"
     ]
    }
   ],
   "source": [
    "loss, acc = packet_class.evaluate(val_dataset, verbose=1)\n",
    "print(\"Restored model, accuracy: {:5.2f}%\".format(100 * acc))"
   ]
  },
  {
   "cell_type": "code",
   "execution_count": null,
   "metadata": {},
   "outputs": [],
   "source": []
  }
 ],
 "metadata": {
  "kernelspec": {
   "display_name": "Python 3",
   "language": "python",
   "name": "python3"
  },
  "language_info": {
   "codemirror_mode": {
    "name": "ipython",
    "version": 3
   },
   "file_extension": ".py",
   "mimetype": "text/x-python",
   "name": "python",
   "nbconvert_exporter": "python",
   "pygments_lexer": "ipython3",
   "version": "3.8.10"
  }
 },
 "nbformat": 4,
 "nbformat_minor": 5
}
