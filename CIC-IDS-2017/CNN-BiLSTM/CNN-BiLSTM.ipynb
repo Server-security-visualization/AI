{
 "cells": [
  {
   "cell_type": "code",
   "execution_count": 1,
   "metadata": {
    "scrolled": true
   },
   "outputs": [
    {
     "name": "stdout",
     "output_type": "stream",
     "text": [
      "Collecting pandas\n",
      "  Downloading pandas-1.5.3-cp38-cp38-manylinux_2_17_x86_64.manylinux2014_x86_64.whl (12.2 MB)\n",
      "\u001b[K     |████████████████████████████████| 12.2 MB 222 kB/s eta 0:00:01\n",
      "\u001b[?25hCollecting scikit-learn\n",
      "  Downloading scikit_learn-1.2.2-cp38-cp38-manylinux_2_17_x86_64.manylinux2014_x86_64.whl (9.8 MB)\n",
      "\u001b[K     |████████████████████████████████| 9.8 MB 12.6 MB/s eta 0:00:01\n",
      "\u001b[?25hRequirement already satisfied: python-dateutil>=2.8.1 in /usr/local/lib/python3.8/dist-packages (from pandas) (2.8.2)\n",
      "Requirement already satisfied: numpy>=1.20.3; python_version < \"3.10\" in /usr/local/lib/python3.8/dist-packages (from pandas) (1.23.4)\n",
      "Collecting pytz>=2020.1\n",
      "  Downloading pytz-2022.7.1-py2.py3-none-any.whl (499 kB)\n",
      "\u001b[K     |████████████████████████████████| 499 kB 15.0 MB/s eta 0:00:01\n",
      "\u001b[?25hCollecting threadpoolctl>=2.0.0\n",
      "  Downloading threadpoolctl-3.1.0-py3-none-any.whl (14 kB)\n",
      "Collecting joblib>=1.1.1\n",
      "  Downloading joblib-1.2.0-py3-none-any.whl (297 kB)\n",
      "\u001b[K     |████████████████████████████████| 297 kB 14.2 MB/s eta 0:00:01\n",
      "\u001b[?25hCollecting scipy>=1.3.2\n",
      "  Downloading scipy-1.10.1-cp38-cp38-manylinux_2_17_x86_64.manylinux2014_x86_64.whl (34.5 MB)\n",
      "\u001b[K     |████████████████████████████████| 34.5 MB 15.4 MB/s eta 0:00:01     |█████████████████▍              | 18.8 MB 13.0 MB/s eta 0:00:02     |███████████████████████▌        | 25.4 MB 13.0 MB/s eta 0:00:01\n",
      "\u001b[?25hRequirement already satisfied: six>=1.5 in /usr/lib/python3/dist-packages (from python-dateutil>=2.8.1->pandas) (1.14.0)\n",
      "Installing collected packages: pytz, pandas, threadpoolctl, joblib, scipy, scikit-learn\n",
      "Successfully installed joblib-1.2.0 pandas-1.5.3 pytz-2022.7.1 scikit-learn-1.2.2 scipy-1.10.1 threadpoolctl-3.1.0\n",
      "\u001b[33mWARNING: You are using pip version 20.2.4; however, version 23.0.1 is available.\n",
      "You should consider upgrading via the '/usr/bin/python3 -m pip install --upgrade pip' command.\u001b[0m\n"
     ]
    }
   ],
   "source": [
    "!pip3 install pandas scikit-learn"
   ]
  },
  {
   "cell_type": "markdown",
   "id": "9af1aa3b",
   "metadata": {},
   "source": [
    "# Web attack detection using CNN-BiLSTM neural network and CICIDS2017 dataset"
   ]
  },
  {
   "cell_type": "markdown",
   "id": "196e15c7",
   "metadata": {},
   "source": [
    "In this notebook we implement web attack detection using CNN-BiLSTM neural network and CICIDS2017 dataset, and compare this neural network performance to our previously developed Random Forest model (https://github.com/fisher85/ml-cybersecurity/blob/master/python-web-attack-detection/web-attack-detection.ipynb).\n",
    "\n",
    "Training data: https://github.com/fisher85/ml-cybersecurity/blob/master/python-web-attack-detection/datasets/web_attacks_balanced.zip\n",
    "\n",
    "Training dataset is the balanced dataset based on CICIDS2017: https://www.unb.ca/cic/datasets/ids-2017.html\n",
    "    \n",
    "Sources:\n",
    "- https://paperswithcode.com/paper/efficient-deep-cnn-bilstm-model-for-network\n",
    "- Jay Sinha and M. Manollas. 2020. Efficient Deep CNN-BiLSTM Model for Network Intrusion Detection. In Proceedings of the 2020 3rd International Conference on Artificial Intelligence and Pattern Recognition (AIPR 2020). Association for Computing Machinery, New York, NY, USA, 223–231. DOI:https://doi.org/10.1145/3430199.3430224.\n",
    "- https://github.com/razor08/Efficient-CNN-BiLSTM-for-Network-IDS/blob/master/NSL_KDD_Final.ipynb\n",
    "    "
   ]
  },
  {
   "cell_type": "markdown",
   "id": "5feb64ef",
   "metadata": {},
   "source": [
    "## Data preprocessing"
   ]
  },
  {
   "cell_type": "code",
   "execution_count": 2,
   "id": "e52a8e96",
   "metadata": {},
   "outputs": [],
   "source": [
    "from itertools import cycle\n",
    "import pickle\n",
    "import sys\n",
    "import time\n",
    "from typing import List, Tuple\n",
    "\n",
    "import matplotlib.pyplot as plt\n",
    "import numpy as np\n",
    "import pandas as pd\n",
    "from sklearn import metrics\n",
    "from sklearn.model_selection import StratifiedKFold\n",
    "from sklearn.model_selection import train_test_split\n",
    "import sklearn.preprocessing\n",
    "import tensorflow as tf\n",
    "import tensorflow.keras\n",
    "from tensorflow.keras.layers import Dense, Dropout, Activation\n",
    "from tensorflow.keras.layers import LSTM, Bidirectional, BatchNormalization, Convolution1D, MaxPooling1D, Reshape\n",
    "from tensorflow.keras.models import Sequential\n",
    "\n",
    "%matplotlib inline"
   ]
  },
  {
   "cell_type": "markdown",
   "id": "043d673a",
   "metadata": {},
   "source": [
    "Download the dataset from Github to Google Colab and unzip it."
   ]
  },
  {
   "cell_type": "markdown",
   "id": "3ab1e404",
   "metadata": {},
   "source": [
    "Load our dataset and separate it into feature vectors and labels. As explained in the previous work, 7 features (Flow ID, Source IP, Source Port, Destination IP, Destination Port, Protocol, Timestamp) are excluded from the dataset (see https://github.com/fisher85/ml-cybersecurity/blob/master/python-web-attack-detection/web-attack-detection.ipynb)."
   ]
  },
  {
   "cell_type": "code",
   "execution_count": 3,
   "id": "78746733",
   "metadata": {},
   "outputs": [],
   "source": [
    "data = pd.read_csv('../dataset/web_attacks_balanced.csv', delimiter=',')\n",
    "\n",
    "y = data['Label']\n",
    "X = data.drop(labels=['Label', 'Flow ID', 'Source IP', 'Source Port',\n",
    "              'Destination IP', 'Destination Port', 'Protocol', 'Timestamp'], axis=1)"
   ]
  },
  {
   "cell_type": "markdown",
   "id": "2855d909",
   "metadata": {},
   "source": [
    "### Preparing feature vectors for training"
   ]
  },
  {
   "cell_type": "markdown",
   "id": "7b7e8941",
   "metadata": {},
   "source": [
    "First, we need to inspect feature vectors."
   ]
  },
  {
   "cell_type": "code",
   "execution_count": 4,
   "id": "c7483bc8",
   "metadata": {},
   "outputs": [
    {
     "data": {
      "text/html": [
       "<div>\n",
       "<style scoped>\n",
       "    .dataframe tbody tr th:only-of-type {\n",
       "        vertical-align: middle;\n",
       "    }\n",
       "\n",
       "    .dataframe tbody tr th {\n",
       "        vertical-align: top;\n",
       "    }\n",
       "\n",
       "    .dataframe thead th {\n",
       "        text-align: right;\n",
       "    }\n",
       "</style>\n",
       "<table border=\"1\" class=\"dataframe\">\n",
       "  <thead>\n",
       "    <tr style=\"text-align: right;\">\n",
       "      <th></th>\n",
       "      <th>Flow Duration</th>\n",
       "      <th>Total Fwd Packets</th>\n",
       "      <th>Total Backward Packets</th>\n",
       "      <th>Total Length of Fwd Packets</th>\n",
       "      <th>Total Length of Bwd Packets</th>\n",
       "      <th>Fwd Packet Length Max</th>\n",
       "      <th>Fwd Packet Length Min</th>\n",
       "      <th>Fwd Packet Length Mean</th>\n",
       "      <th>Fwd Packet Length Std</th>\n",
       "      <th>Bwd Packet Length Max</th>\n",
       "      <th>...</th>\n",
       "      <th>act_data_pkt_fwd</th>\n",
       "      <th>min_seg_size_forward</th>\n",
       "      <th>Active Mean</th>\n",
       "      <th>Active Std</th>\n",
       "      <th>Active Max</th>\n",
       "      <th>Active Min</th>\n",
       "      <th>Idle Mean</th>\n",
       "      <th>Idle Std</th>\n",
       "      <th>Idle Max</th>\n",
       "      <th>Idle Min</th>\n",
       "    </tr>\n",
       "  </thead>\n",
       "  <tbody>\n",
       "    <tr>\n",
       "      <th>0</th>\n",
       "      <td>350.0</td>\n",
       "      <td>4.0</td>\n",
       "      <td>4.0</td>\n",
       "      <td>116.0</td>\n",
       "      <td>116.0</td>\n",
       "      <td>29.0</td>\n",
       "      <td>29.0</td>\n",
       "      <td>29.000000</td>\n",
       "      <td>0.000000</td>\n",
       "      <td>29.0</td>\n",
       "      <td>...</td>\n",
       "      <td>3.0</td>\n",
       "      <td>32.0</td>\n",
       "      <td>0.00000</td>\n",
       "      <td>0.00000</td>\n",
       "      <td>0.0</td>\n",
       "      <td>0.0</td>\n",
       "      <td>0.000</td>\n",
       "      <td>0.00000</td>\n",
       "      <td>0.0</td>\n",
       "      <td>0.0</td>\n",
       "    </tr>\n",
       "    <tr>\n",
       "      <th>1</th>\n",
       "      <td>203.0</td>\n",
       "      <td>2.0</td>\n",
       "      <td>2.0</td>\n",
       "      <td>88.0</td>\n",
       "      <td>188.0</td>\n",
       "      <td>44.0</td>\n",
       "      <td>44.0</td>\n",
       "      <td>44.000000</td>\n",
       "      <td>0.000000</td>\n",
       "      <td>94.0</td>\n",
       "      <td>...</td>\n",
       "      <td>1.0</td>\n",
       "      <td>32.0</td>\n",
       "      <td>0.00000</td>\n",
       "      <td>0.00000</td>\n",
       "      <td>0.0</td>\n",
       "      <td>0.0</td>\n",
       "      <td>0.000</td>\n",
       "      <td>0.00000</td>\n",
       "      <td>0.0</td>\n",
       "      <td>0.0</td>\n",
       "    </tr>\n",
       "    <tr>\n",
       "      <th>2</th>\n",
       "      <td>159.0</td>\n",
       "      <td>2.0</td>\n",
       "      <td>2.0</td>\n",
       "      <td>102.0</td>\n",
       "      <td>224.0</td>\n",
       "      <td>51.0</td>\n",
       "      <td>51.0</td>\n",
       "      <td>51.000000</td>\n",
       "      <td>0.000000</td>\n",
       "      <td>112.0</td>\n",
       "      <td>...</td>\n",
       "      <td>1.0</td>\n",
       "      <td>20.0</td>\n",
       "      <td>0.00000</td>\n",
       "      <td>0.00000</td>\n",
       "      <td>0.0</td>\n",
       "      <td>0.0</td>\n",
       "      <td>0.000</td>\n",
       "      <td>0.00000</td>\n",
       "      <td>0.0</td>\n",
       "      <td>0.0</td>\n",
       "    </tr>\n",
       "    <tr>\n",
       "      <th>3</th>\n",
       "      <td>179.0</td>\n",
       "      <td>2.0</td>\n",
       "      <td>2.0</td>\n",
       "      <td>80.0</td>\n",
       "      <td>180.0</td>\n",
       "      <td>40.0</td>\n",
       "      <td>40.0</td>\n",
       "      <td>40.000000</td>\n",
       "      <td>0.000000</td>\n",
       "      <td>90.0</td>\n",
       "      <td>...</td>\n",
       "      <td>1.0</td>\n",
       "      <td>32.0</td>\n",
       "      <td>0.00000</td>\n",
       "      <td>0.00000</td>\n",
       "      <td>0.0</td>\n",
       "      <td>0.0</td>\n",
       "      <td>0.000</td>\n",
       "      <td>0.00000</td>\n",
       "      <td>0.0</td>\n",
       "      <td>0.0</td>\n",
       "    </tr>\n",
       "    <tr>\n",
       "      <th>4</th>\n",
       "      <td>199.0</td>\n",
       "      <td>2.0</td>\n",
       "      <td>2.0</td>\n",
       "      <td>88.0</td>\n",
       "      <td>188.0</td>\n",
       "      <td>44.0</td>\n",
       "      <td>44.0</td>\n",
       "      <td>44.000000</td>\n",
       "      <td>0.000000</td>\n",
       "      <td>94.0</td>\n",
       "      <td>...</td>\n",
       "      <td>1.0</td>\n",
       "      <td>32.0</td>\n",
       "      <td>0.00000</td>\n",
       "      <td>0.00000</td>\n",
       "      <td>0.0</td>\n",
       "      <td>0.0</td>\n",
       "      <td>0.000</td>\n",
       "      <td>0.00000</td>\n",
       "      <td>0.0</td>\n",
       "      <td>0.0</td>\n",
       "    </tr>\n",
       "    <tr>\n",
       "      <th>...</th>\n",
       "      <td>...</td>\n",
       "      <td>...</td>\n",
       "      <td>...</td>\n",
       "      <td>...</td>\n",
       "      <td>...</td>\n",
       "      <td>...</td>\n",
       "      <td>...</td>\n",
       "      <td>...</td>\n",
       "      <td>...</td>\n",
       "      <td>...</td>\n",
       "      <td>...</td>\n",
       "      <td>...</td>\n",
       "      <td>...</td>\n",
       "      <td>...</td>\n",
       "      <td>...</td>\n",
       "      <td>...</td>\n",
       "      <td>...</td>\n",
       "      <td>...</td>\n",
       "      <td>...</td>\n",
       "      <td>...</td>\n",
       "      <td>...</td>\n",
       "    </tr>\n",
       "    <tr>\n",
       "      <th>7262</th>\n",
       "      <td>23405.0</td>\n",
       "      <td>1.0</td>\n",
       "      <td>1.0</td>\n",
       "      <td>45.0</td>\n",
       "      <td>103.0</td>\n",
       "      <td>45.0</td>\n",
       "      <td>45.0</td>\n",
       "      <td>45.000000</td>\n",
       "      <td>0.000000</td>\n",
       "      <td>103.0</td>\n",
       "      <td>...</td>\n",
       "      <td>0.0</td>\n",
       "      <td>32.0</td>\n",
       "      <td>0.00000</td>\n",
       "      <td>0.00000</td>\n",
       "      <td>0.0</td>\n",
       "      <td>0.0</td>\n",
       "      <td>0.000</td>\n",
       "      <td>0.00000</td>\n",
       "      <td>0.0</td>\n",
       "      <td>0.0</td>\n",
       "    </tr>\n",
       "    <tr>\n",
       "      <th>7263</th>\n",
       "      <td>23885.0</td>\n",
       "      <td>2.0</td>\n",
       "      <td>2.0</td>\n",
       "      <td>76.0</td>\n",
       "      <td>184.0</td>\n",
       "      <td>38.0</td>\n",
       "      <td>38.0</td>\n",
       "      <td>38.000000</td>\n",
       "      <td>0.000000</td>\n",
       "      <td>92.0</td>\n",
       "      <td>...</td>\n",
       "      <td>1.0</td>\n",
       "      <td>20.0</td>\n",
       "      <td>0.00000</td>\n",
       "      <td>0.00000</td>\n",
       "      <td>0.0</td>\n",
       "      <td>0.0</td>\n",
       "      <td>0.000</td>\n",
       "      <td>0.00000</td>\n",
       "      <td>0.0</td>\n",
       "      <td>0.0</td>\n",
       "    </tr>\n",
       "    <tr>\n",
       "      <th>7264</th>\n",
       "      <td>8269.0</td>\n",
       "      <td>2.0</td>\n",
       "      <td>0.0</td>\n",
       "      <td>12.0</td>\n",
       "      <td>0.0</td>\n",
       "      <td>6.0</td>\n",
       "      <td>6.0</td>\n",
       "      <td>6.000000</td>\n",
       "      <td>0.000000</td>\n",
       "      <td>0.0</td>\n",
       "      <td>...</td>\n",
       "      <td>1.0</td>\n",
       "      <td>20.0</td>\n",
       "      <td>0.00000</td>\n",
       "      <td>0.00000</td>\n",
       "      <td>0.0</td>\n",
       "      <td>0.0</td>\n",
       "      <td>0.000</td>\n",
       "      <td>0.00000</td>\n",
       "      <td>0.0</td>\n",
       "      <td>0.0</td>\n",
       "    </tr>\n",
       "    <tr>\n",
       "      <th>7265</th>\n",
       "      <td>91853480.0</td>\n",
       "      <td>13.0</td>\n",
       "      <td>13.0</td>\n",
       "      <td>496.0</td>\n",
       "      <td>2064.0</td>\n",
       "      <td>430.0</td>\n",
       "      <td>0.0</td>\n",
       "      <td>38.153846</td>\n",
       "      <td>117.746795</td>\n",
       "      <td>2052.0</td>\n",
       "      <td>...</td>\n",
       "      <td>12.0</td>\n",
       "      <td>20.0</td>\n",
       "      <td>41165.77778</td>\n",
       "      <td>12795.61076</td>\n",
       "      <td>75286.0</td>\n",
       "      <td>36806.0</td>\n",
       "      <td>9994317.222</td>\n",
       "      <td>3713.02605</td>\n",
       "      <td>10000000.0</td>\n",
       "      <td>9989268.0</td>\n",
       "    </tr>\n",
       "    <tr>\n",
       "      <th>7266</th>\n",
       "      <td>23656.0</td>\n",
       "      <td>1.0</td>\n",
       "      <td>1.0</td>\n",
       "      <td>51.0</td>\n",
       "      <td>112.0</td>\n",
       "      <td>51.0</td>\n",
       "      <td>51.0</td>\n",
       "      <td>51.000000</td>\n",
       "      <td>0.000000</td>\n",
       "      <td>112.0</td>\n",
       "      <td>...</td>\n",
       "      <td>0.0</td>\n",
       "      <td>20.0</td>\n",
       "      <td>0.00000</td>\n",
       "      <td>0.00000</td>\n",
       "      <td>0.0</td>\n",
       "      <td>0.0</td>\n",
       "      <td>0.000</td>\n",
       "      <td>0.00000</td>\n",
       "      <td>0.0</td>\n",
       "      <td>0.0</td>\n",
       "    </tr>\n",
       "  </tbody>\n",
       "</table>\n",
       "<p>7267 rows × 76 columns</p>\n",
       "</div>"
      ],
      "text/plain": [
       "      Flow Duration  Total Fwd Packets  Total Backward Packets  \\\n",
       "0             350.0                4.0                     4.0   \n",
       "1             203.0                2.0                     2.0   \n",
       "2             159.0                2.0                     2.0   \n",
       "3             179.0                2.0                     2.0   \n",
       "4             199.0                2.0                     2.0   \n",
       "...             ...                ...                     ...   \n",
       "7262        23405.0                1.0                     1.0   \n",
       "7263        23885.0                2.0                     2.0   \n",
       "7264         8269.0                2.0                     0.0   \n",
       "7265     91853480.0               13.0                    13.0   \n",
       "7266        23656.0                1.0                     1.0   \n",
       "\n",
       "      Total Length of Fwd Packets  Total Length of Bwd Packets  \\\n",
       "0                           116.0                        116.0   \n",
       "1                            88.0                        188.0   \n",
       "2                           102.0                        224.0   \n",
       "3                            80.0                        180.0   \n",
       "4                            88.0                        188.0   \n",
       "...                           ...                          ...   \n",
       "7262                         45.0                        103.0   \n",
       "7263                         76.0                        184.0   \n",
       "7264                         12.0                          0.0   \n",
       "7265                        496.0                       2064.0   \n",
       "7266                         51.0                        112.0   \n",
       "\n",
       "      Fwd Packet Length Max  Fwd Packet Length Min  Fwd Packet Length Mean  \\\n",
       "0                      29.0                   29.0               29.000000   \n",
       "1                      44.0                   44.0               44.000000   \n",
       "2                      51.0                   51.0               51.000000   \n",
       "3                      40.0                   40.0               40.000000   \n",
       "4                      44.0                   44.0               44.000000   \n",
       "...                     ...                    ...                     ...   \n",
       "7262                   45.0                   45.0               45.000000   \n",
       "7263                   38.0                   38.0               38.000000   \n",
       "7264                    6.0                    6.0                6.000000   \n",
       "7265                  430.0                    0.0               38.153846   \n",
       "7266                   51.0                   51.0               51.000000   \n",
       "\n",
       "      Fwd Packet Length Std  Bwd Packet Length Max  ...  act_data_pkt_fwd  \\\n",
       "0                  0.000000                   29.0  ...               3.0   \n",
       "1                  0.000000                   94.0  ...               1.0   \n",
       "2                  0.000000                  112.0  ...               1.0   \n",
       "3                  0.000000                   90.0  ...               1.0   \n",
       "4                  0.000000                   94.0  ...               1.0   \n",
       "...                     ...                    ...  ...               ...   \n",
       "7262               0.000000                  103.0  ...               0.0   \n",
       "7263               0.000000                   92.0  ...               1.0   \n",
       "7264               0.000000                    0.0  ...               1.0   \n",
       "7265             117.746795                 2052.0  ...              12.0   \n",
       "7266               0.000000                  112.0  ...               0.0   \n",
       "\n",
       "      min_seg_size_forward  Active Mean   Active Std  Active Max  Active Min  \\\n",
       "0                     32.0      0.00000      0.00000         0.0         0.0   \n",
       "1                     32.0      0.00000      0.00000         0.0         0.0   \n",
       "2                     20.0      0.00000      0.00000         0.0         0.0   \n",
       "3                     32.0      0.00000      0.00000         0.0         0.0   \n",
       "4                     32.0      0.00000      0.00000         0.0         0.0   \n",
       "...                    ...          ...          ...         ...         ...   \n",
       "7262                  32.0      0.00000      0.00000         0.0         0.0   \n",
       "7263                  20.0      0.00000      0.00000         0.0         0.0   \n",
       "7264                  20.0      0.00000      0.00000         0.0         0.0   \n",
       "7265                  20.0  41165.77778  12795.61076     75286.0     36806.0   \n",
       "7266                  20.0      0.00000      0.00000         0.0         0.0   \n",
       "\n",
       "        Idle Mean    Idle Std    Idle Max   Idle Min  \n",
       "0           0.000     0.00000         0.0        0.0  \n",
       "1           0.000     0.00000         0.0        0.0  \n",
       "2           0.000     0.00000         0.0        0.0  \n",
       "3           0.000     0.00000         0.0        0.0  \n",
       "4           0.000     0.00000         0.0        0.0  \n",
       "...           ...         ...         ...        ...  \n",
       "7262        0.000     0.00000         0.0        0.0  \n",
       "7263        0.000     0.00000         0.0        0.0  \n",
       "7264        0.000     0.00000         0.0        0.0  \n",
       "7265  9994317.222  3713.02605  10000000.0  9989268.0  \n",
       "7266        0.000     0.00000         0.0        0.0  \n",
       "\n",
       "[7267 rows x 76 columns]"
      ]
     },
     "execution_count": 4,
     "metadata": {},
     "output_type": "execute_result"
    }
   ],
   "source": [
    "X"
   ]
  },
  {
   "cell_type": "markdown",
   "id": "09ac809a",
   "metadata": {},
   "source": [
    "Check the absence of missing values in feature vectors."
   ]
  },
  {
   "cell_type": "code",
   "execution_count": 5,
   "id": "5c4b0c21",
   "metadata": {},
   "outputs": [
    {
     "data": {
      "text/plain": [
       "False"
      ]
     },
     "execution_count": 5,
     "metadata": {},
     "output_type": "execute_result"
    }
   ],
   "source": [
    "X.isnull().values.any()"
   ]
  },
  {
   "cell_type": "markdown",
   "id": "72d157f6",
   "metadata": {},
   "source": [
    "As we can see, the range of features is not normalized. We need to perform feature scaling for the correct functioning of selected deep learning algorithms (CNN and BiLSTM).\n",
    "\n",
    "In our case, the min-max normalization is used: all selected features are transformed into the range [0, 1]."
   ]
  },
  {
   "cell_type": "code",
   "execution_count": 6,
   "id": "14f1ab5d",
   "metadata": {},
   "outputs": [],
   "source": [
    "scaler = sklearn.preprocessing.MinMaxScaler()"
   ]
  },
  {
   "cell_type": "markdown",
   "id": "4aea3fc7",
   "metadata": {},
   "source": [
    "To prevent data leakage, feature scaling would be performed on cross-validation folds at the training step."
   ]
  },
  {
   "cell_type": "markdown",
   "id": "037f33bb",
   "metadata": {},
   "source": [
    "### Preparing labels for training"
   ]
  },
  {
   "cell_type": "markdown",
   "id": "3898547e",
   "metadata": {},
   "source": [
    "First, we need to inspect labels."
   ]
  },
  {
   "cell_type": "code",
   "execution_count": 7,
   "id": "8fe9b30f",
   "metadata": {},
   "outputs": [
    {
     "data": {
      "text/plain": [
       "0       BENIGN\n",
       "1       BENIGN\n",
       "2       BENIGN\n",
       "3       BENIGN\n",
       "4       BENIGN\n",
       "         ...  \n",
       "7262    BENIGN\n",
       "7263    BENIGN\n",
       "7264    BENIGN\n",
       "7265    BENIGN\n",
       "7266    BENIGN\n",
       "Name: Label, Length: 7267, dtype: object"
      ]
     },
     "execution_count": 7,
     "metadata": {},
     "output_type": "execute_result"
    }
   ],
   "source": [
    "y"
   ]
  },
  {
   "cell_type": "markdown",
   "id": "b01323a8",
   "metadata": {},
   "source": [
    "Check the absence of missing values in labels."
   ]
  },
  {
   "cell_type": "code",
   "execution_count": 8,
   "id": "dc64a24c",
   "metadata": {},
   "outputs": [
    {
     "data": {
      "text/plain": [
       "False"
      ]
     },
     "execution_count": 8,
     "metadata": {},
     "output_type": "execute_result"
    }
   ],
   "source": [
    "y.isnull().values.any()"
   ]
  },
  {
   "cell_type": "markdown",
   "id": "70943ed5",
   "metadata": {},
   "source": [
    "As we can see, labels are categorical. We would need to transform them into the numeric form before the neural network training. In order to achieve that, we would apply one-hot encoding to labels.\n",
    "\n",
    "To prevent data leakage, one-hot encoding would be performed within cross-validation folds at the training step."
   ]
  },
  {
   "cell_type": "markdown",
   "id": "a8bbdbac",
   "metadata": {},
   "source": [
    "## The neural network preparation"
   ]
  },
  {
   "cell_type": "markdown",
   "id": "19f9a457",
   "metadata": {},
   "source": [
    "Define and compile the neural network.\n",
    "<p> We use a sequential model with CNN and BiLSTM layers, and batch normalization is applied before BiLSTM layers. A dropout layer is put before the final layer to prevent overfitting.\n",
    "<p> Categorical cross-entropy is chosen as a loss function because of the multiclass classification. To get the classification result, the softmax activation function is applied to the output of the last, fully connected layer. "
   ]
  },
  {
   "cell_type": "code",
   "execution_count": 9,
   "id": "1b9b10ea",
   "metadata": {},
   "outputs": [],
   "source": [
    "batch_size = 32\n",
    "model = Sequential()\n",
    "model.add(Convolution1D(64, kernel_size=32, padding=\"same\",\n",
    "          activation=\"relu\", input_shape=(76, 1)))\n",
    "model.add(MaxPooling1D(pool_size=(5)))\n",
    "model.add(BatchNormalization())\n",
    "model.add(Bidirectional(LSTM(64, return_sequences=False)))\n",
    "model.add(Reshape((128, 1), input_shape=(128, )))\n",
    "\n",
    "model.add(MaxPooling1D(pool_size=(5)))\n",
    "model.add(BatchNormalization())\n",
    "model.add(Bidirectional(LSTM(128, return_sequences=False)))\n",
    "\n",
    "model.add(Dropout(0.5))\n",
    "model.add(Dense(4))\n",
    "model.add(Activation('softmax'))\n",
    "model.compile(loss='categorical_crossentropy',\n",
    "              optimizer='adam', metrics=['accuracy'])"
   ]
  },
  {
   "cell_type": "code",
   "execution_count": 10,
   "id": "2b1eb037",
   "metadata": {},
   "outputs": [
    {
     "name": "stdout",
     "output_type": "stream",
     "text": [
      "Model: \"sequential\"\n",
      "____________________________________________________________________________________________________\n",
      " Layer (type)                                Output Shape                            Param #        \n",
      "====================================================================================================\n",
      " conv1d (Conv1D)                             (None, 76, 64)                          2112           \n",
      "                                                                                                    \n",
      " max_pooling1d (MaxPooling1D)                (None, 15, 64)                          0              \n",
      "                                                                                                    \n",
      " batch_normalization (BatchNormalization)    (None, 15, 64)                          256            \n",
      "                                                                                                    \n",
      " bidirectional (Bidirectional)               (None, 128)                             66048          \n",
      "                                                                                                    \n",
      " reshape (Reshape)                           (None, 128, 1)                          0              \n",
      "                                                                                                    \n",
      " max_pooling1d_1 (MaxPooling1D)              (None, 25, 1)                           0              \n",
      "                                                                                                    \n",
      " batch_normalization_1 (BatchNormalization)  (None, 25, 1)                           4              \n",
      "                                                                                                    \n",
      " bidirectional_1 (Bidirectional)             (None, 256)                             133120         \n",
      "                                                                                                    \n",
      " dropout (Dropout)                           (None, 256)                             0              \n",
      "                                                                                                    \n",
      " dense (Dense)                               (None, 4)                               1028           \n",
      "                                                                                                    \n",
      " activation (Activation)                     (None, 4)                               0              \n",
      "                                                                                                    \n",
      "====================================================================================================\n",
      "Total params: 202,568\n",
      "Trainable params: 202,438\n",
      "Non-trainable params: 130\n",
      "____________________________________________________________________________________________________\n"
     ]
    }
   ],
   "source": [
    "model.summary(line_length=100)"
   ]
  },
  {
   "cell_type": "markdown",
   "id": "1e5ab17e",
   "metadata": {},
   "source": [
    "## The neural network training"
   ]
  },
  {
   "cell_type": "markdown",
   "id": "bee05d2f",
   "metadata": {},
   "source": [
    "We use Stratified K-Folds cross-validation in our experiment."
   ]
  },
  {
   "cell_type": "code",
   "execution_count": 11,
   "id": "0cc721f8",
   "metadata": {},
   "outputs": [],
   "source": [
    "cv = StratifiedKFold(n_splits=5, shuffle=True, random_state=42)"
   ]
  },
  {
   "cell_type": "markdown",
   "id": "c191abe7",
   "metadata": {},
   "source": [
    "Evaluation metrics are stored for each fold."
   ]
  },
  {
   "cell_type": "code",
   "execution_count": 12,
   "id": "8afbc06c",
   "metadata": {},
   "outputs": [],
   "source": [
    "scores = pd.DataFrame(columns=[1, 2, 3, 4, 5, 'Mean'],\n",
    "                      index=['Accuracy', 'Precision', 'Recall', 'F1'])"
   ]
  },
  {
   "cell_type": "markdown",
   "id": "56725714",
   "metadata": {},
   "source": [
    "We use the following function to get evaluation metrics."
   ]
  },
  {
   "cell_type": "code",
   "execution_count": 13,
   "id": "0df92a75",
   "metadata": {},
   "outputs": [],
   "source": [
    "def print_metrics(y_eval: np.ndarray, y_pred: np.ndarray, average: str = 'binary') -> List[float]:\n",
    "    accuracy = metrics.accuracy_score(y_eval, y_pred)\n",
    "    precision = metrics.precision_score(y_eval, y_pred, average=average)\n",
    "    recall = metrics.recall_score(y_eval, y_pred, average=average)\n",
    "    f1 = metrics.f1_score(y_eval, y_pred, average=average)\n",
    "\n",
    "    print('Accuracy =', accuracy)\n",
    "    print('Precision =', precision)\n",
    "    print('Recall =', recall)\n",
    "    print('F1 =', f1)\n",
    "\n",
    "    return [accuracy, precision, recall, f1]"
   ]
  },
  {
   "cell_type": "markdown",
   "id": "a1c0bfd2",
   "metadata": {},
   "source": [
    "All test and predicted labels are also stored at each step of cross-validation. They will be used to calculate a confusion matrix."
   ]
  },
  {
   "cell_type": "code",
   "execution_count": 14,
   "id": "e059017d",
   "metadata": {},
   "outputs": [],
   "source": [
    "actual_targets = np.empty([0], dtype=float)\n",
    "predicted_targets = np.empty([0], dtype=float)"
   ]
  },
  {
   "cell_type": "markdown",
   "id": "0bb28309",
   "metadata": {},
   "source": [
    "On each fold, we use the following function to transform the data, to fit and to validate the neural network. Note that data preprocessing is largely performed at the cross-validation step to prevent data leakage."
   ]
  },
  {
   "cell_type": "code",
   "execution_count": 15,
   "id": "e438b829",
   "metadata": {},
   "outputs": [],
   "source": [
    "def train_and_validate(model: Sequential,\n",
    "                       X: pd.DataFrame,\n",
    "                       y: pd.Series,\n",
    "                       train_index: np.ndarray,\n",
    "                       test_index: np.ndarray,\n",
    "                       scaler: sklearn.preprocessing.MinMaxScaler) -> Tuple[np.ndarray, np.ndarray]:\n",
    "    # Get the test data and the validation data for a current fold.\n",
    "    X_train, X_test = X.iloc[train_index], X.iloc[test_index]\n",
    "    y_train, y_test = y[train_index], y[test_index]\n",
    "\n",
    "    print(\"Train index:\", train_index)\n",
    "    print(\"Test index:\", test_index)\n",
    "\n",
    "    # Feature scaling of data.\n",
    "    X_train = scaler.fit_transform(X_train)\n",
    "    X_test = scaler.fit_transform(X_test)\n",
    "\n",
    "    # We need to reshape feature vectors to use them as the neural network input.\n",
    "    X_train = np.reshape(\n",
    "        X_train, (X_train.shape[0], X_train.shape[1], 1))\n",
    "    X_test = np.reshape(\n",
    "        X_test, (X_test.shape[0], X_test.shape[1], 1))\n",
    "\n",
    "    # One-Hot encoding for labels.\n",
    "    y_train_encoded = pd.get_dummies(y_train).values\n",
    "    y_test_encoded = pd.get_dummies(y_test).values\n",
    "\n",
    "    # Fit the neural network model.\n",
    "    model.fit(X_train, y_train_encoded, validation_data=(\n",
    "        X_test, y_test_encoded), epochs=10)\n",
    "\n",
    "    # Apply the neural network model to the validation data and get the accuracy of this prediction.\n",
    "    y_pred = model.predict(X_test)\n",
    "    y_pred = np.argmax(y_pred, axis=1)\n",
    "    y_eval = np.argmax(y_test_encoded, axis=1)\n",
    "\n",
    "    return y_eval, y_pred"
   ]
  },
  {
   "cell_type": "markdown",
   "id": "7204550c",
   "metadata": {},
   "source": [
    "The training step is designed for the use with different versions of Tensorflow, if necessary. It is also possible to choose whether the training should be performed by CPU or GPU.\n",
    "\n",
    "This step may take some time, 13 minutes or more depending on the CPU performance (it will be faster with GPU)."
   ]
  },
  {
   "cell_type": "code",
   "execution_count": 16,
   "id": "dc596749",
   "metadata": {},
   "outputs": [
    {
     "name": "stdout",
     "output_type": "stream",
     "text": [
      "Train index: [   1    3    4 ... 7262 7264 7265]\n",
      "Test index: [   0    2   17 ... 7258 7263 7266]\n",
      "Epoch 1/10\n",
      "182/182 [==============================] - 17s 31ms/step - loss: 0.3901 - accuracy: 0.8476 - val_loss: 0.8217 - val_accuracy: 0.7001\n",
      "Epoch 2/10\n",
      "182/182 [==============================] - 5s 25ms/step - loss: 0.2985 - accuracy: 0.8696 - val_loss: 1.2330 - val_accuracy: 0.5062\n",
      "Epoch 3/10\n",
      "182/182 [==============================] - 5s 25ms/step - loss: 0.2842 - accuracy: 0.8746 - val_loss: 0.3811 - val_accuracy: 0.8549\n",
      "Epoch 4/10\n",
      "182/182 [==============================] - 5s 26ms/step - loss: 0.2919 - accuracy: 0.8713 - val_loss: 0.2890 - val_accuracy: 0.8721\n",
      "Epoch 5/10\n",
      "182/182 [==============================] - 4s 24ms/step - loss: 0.2822 - accuracy: 0.8749 - val_loss: 0.3202 - val_accuracy: 0.8611\n",
      "Epoch 6/10\n",
      "182/182 [==============================] - 5s 26ms/step - loss: 0.2669 - accuracy: 0.8760 - val_loss: 0.3540 - val_accuracy: 0.8707\n",
      "Epoch 7/10\n",
      "182/182 [==============================] - 5s 26ms/step - loss: 0.2644 - accuracy: 0.8794 - val_loss: 0.2913 - val_accuracy: 0.8838\n",
      "Epoch 8/10\n",
      "182/182 [==============================] - 5s 26ms/step - loss: 0.2562 - accuracy: 0.8822 - val_loss: 0.3068 - val_accuracy: 0.8803\n",
      "Epoch 9/10\n",
      "182/182 [==============================] - 5s 25ms/step - loss: 0.2586 - accuracy: 0.8801 - val_loss: 0.3122 - val_accuracy: 0.8707\n",
      "Epoch 10/10\n",
      "182/182 [==============================] - 4s 25ms/step - loss: 0.2652 - accuracy: 0.8820 - val_loss: 0.3445 - val_accuracy: 0.8631\n",
      "46/46 [==============================] - 1s 8ms/step\n",
      "Validation scores:\n",
      "Accuracy = 0.8631361760660248\n",
      "Precision = 0.7895925361907993\n",
      "Recall = 0.8631361760660248\n",
      "F1 = 0.8240966097339769\n",
      "Train index: [   0    2    3 ... 7264 7265 7266]\n",
      "Test index: [   1   19   26 ... 7245 7252 7257]\n",
      "Epoch 1/10\n",
      "  3/182 [..............................] - ETA: 4s - loss: 0.2309 - accuracy: 0.8854"
     ]
    },
    {
     "name": "stderr",
     "output_type": "stream",
     "text": [
      "/usr/local/lib/python3.8/dist-packages/sklearn/metrics/_classification.py:1344: UndefinedMetricWarning: Precision is ill-defined and being set to 0.0 in labels with no predicted samples. Use `zero_division` parameter to control this behavior.\n",
      "  _warn_prf(average, modifier, msg_start, len(result))\n"
     ]
    },
    {
     "name": "stdout",
     "output_type": "stream",
     "text": [
      "182/182 [==============================] - 5s 26ms/step - loss: 0.2547 - accuracy: 0.8853 - val_loss: 0.2489 - val_accuracy: 0.8865\n",
      "Epoch 2/10\n",
      "182/182 [==============================] - 5s 25ms/step - loss: 0.2615 - accuracy: 0.8798 - val_loss: 0.2408 - val_accuracy: 0.8838\n",
      "Epoch 3/10\n",
      "182/182 [==============================] - 4s 24ms/step - loss: 0.2593 - accuracy: 0.8810 - val_loss: 0.2711 - val_accuracy: 0.8659\n",
      "Epoch 4/10\n",
      "182/182 [==============================] - 4s 24ms/step - loss: 0.2504 - accuracy: 0.8846 - val_loss: 0.2644 - val_accuracy: 0.8851\n",
      "Epoch 5/10\n",
      "182/182 [==============================] - 4s 25ms/step - loss: 0.2503 - accuracy: 0.8816 - val_loss: 0.2534 - val_accuracy: 0.8831\n",
      "Epoch 6/10\n",
      "182/182 [==============================] - 5s 25ms/step - loss: 0.2483 - accuracy: 0.8854 - val_loss: 0.2871 - val_accuracy: 0.8817\n",
      "Epoch 7/10\n",
      "182/182 [==============================] - 5s 25ms/step - loss: 0.2588 - accuracy: 0.8842 - val_loss: 0.2640 - val_accuracy: 0.8824\n",
      "Epoch 8/10\n",
      "182/182 [==============================] - 5s 26ms/step - loss: 0.2832 - accuracy: 0.8763 - val_loss: 0.2777 - val_accuracy: 0.8810\n",
      "Epoch 9/10\n",
      "182/182 [==============================] - 5s 26ms/step - loss: 0.2564 - accuracy: 0.8849 - val_loss: 0.2459 - val_accuracy: 0.8851\n",
      "Epoch 10/10\n",
      "182/182 [==============================] - 5s 28ms/step - loss: 0.2523 - accuracy: 0.8837 - val_loss: 0.2525 - val_accuracy: 0.8865\n",
      "46/46 [==============================] - 0s 8ms/step\n",
      "Validation scores:\n",
      "Accuracy = 0.8865199449793673\n",
      "Precision = 0.8770026030693502\n",
      "Recall = 0.8865199449793673\n",
      "F1 = 0.8510958171976399\n",
      "Train index: [   0    1    2 ... 7264 7265 7266]\n",
      "Test index: [   3    4    9 ... 7254 7255 7259]\n",
      "Epoch 1/10\n",
      "182/182 [==============================] - 5s 26ms/step - loss: 0.2510 - accuracy: 0.8842 - val_loss: 0.2593 - val_accuracy: 0.8885\n",
      "Epoch 2/10\n",
      "182/182 [==============================] - 5s 26ms/step - loss: 0.2484 - accuracy: 0.8846 - val_loss: 0.2603 - val_accuracy: 0.8796\n",
      "Epoch 3/10\n",
      "182/182 [==============================] - 5s 25ms/step - loss: 0.2488 - accuracy: 0.8844 - val_loss: 0.2623 - val_accuracy: 0.8919\n",
      "Epoch 4/10\n",
      "182/182 [==============================] - 4s 24ms/step - loss: 0.2440 - accuracy: 0.8851 - val_loss: 0.2676 - val_accuracy: 0.8919\n",
      "Epoch 5/10\n",
      "182/182 [==============================] - 5s 25ms/step - loss: 0.2419 - accuracy: 0.8863 - val_loss: 0.2560 - val_accuracy: 0.8913\n",
      "Epoch 6/10\n",
      "182/182 [==============================] - 5s 25ms/step - loss: 0.2419 - accuracy: 0.8877 - val_loss: 0.3264 - val_accuracy: 0.8816\n",
      "Epoch 7/10\n",
      "182/182 [==============================] - 5s 25ms/step - loss: 0.2457 - accuracy: 0.8836 - val_loss: 0.2752 - val_accuracy: 0.8809\n",
      "Epoch 8/10\n",
      "182/182 [==============================] - 5s 25ms/step - loss: 0.2409 - accuracy: 0.8875 - val_loss: 0.2716 - val_accuracy: 0.8816\n",
      "Epoch 9/10\n",
      "182/182 [==============================] - 4s 25ms/step - loss: 0.2439 - accuracy: 0.8839 - val_loss: 0.6558 - val_accuracy: 0.7103\n",
      "Epoch 10/10\n",
      "182/182 [==============================] - 4s 25ms/step - loss: 0.2702 - accuracy: 0.8817 - val_loss: 0.3999 - val_accuracy: 0.7123\n",
      "46/46 [==============================] - 0s 8ms/step\n",
      "Validation scores:\n",
      "Accuracy = 0.7123193392980042\n",
      "Precision = 0.7991198411650271\n",
      "Recall = 0.7123193392980042\n",
      "F1 = 0.6071404393977221\n",
      "Train index: [   0    1    2 ... 7262 7263 7266]\n",
      "Test index: [   6   13   14 ... 7261 7264 7265]\n",
      "Epoch 1/10\n",
      "182/182 [==============================] - 4s 24ms/step - loss: 0.2582 - accuracy: 0.8808 - val_loss: 0.2489 - val_accuracy: 0.8871\n",
      "Epoch 2/10\n",
      "182/182 [==============================] - 4s 24ms/step - loss: 0.2467 - accuracy: 0.8851 - val_loss: 0.2367 - val_accuracy: 0.8878\n",
      "Epoch 3/10\n",
      "182/182 [==============================] - 4s 24ms/step - loss: 0.2420 - accuracy: 0.8849 - val_loss: 0.2399 - val_accuracy: 0.8878\n",
      "Epoch 4/10\n",
      "182/182 [==============================] - 4s 24ms/step - loss: 0.2434 - accuracy: 0.8867 - val_loss: 0.2372 - val_accuracy: 0.8885\n",
      "Epoch 5/10\n",
      "182/182 [==============================] - 5s 25ms/step - loss: 0.2427 - accuracy: 0.8865 - val_loss: 0.2371 - val_accuracy: 0.8878\n",
      "Epoch 6/10\n",
      "182/182 [==============================] - 4s 25ms/step - loss: 0.2380 - accuracy: 0.8892 - val_loss: 0.2310 - val_accuracy: 0.8892\n",
      "Epoch 7/10\n",
      "182/182 [==============================] - 4s 24ms/step - loss: 0.2429 - accuracy: 0.8858 - val_loss: 0.2345 - val_accuracy: 0.8892\n",
      "Epoch 8/10\n",
      "182/182 [==============================] - 4s 25ms/step - loss: 0.2734 - accuracy: 0.8777 - val_loss: 0.3101 - val_accuracy: 0.8727\n",
      "Epoch 9/10\n",
      "182/182 [==============================] - 5s 25ms/step - loss: 0.2648 - accuracy: 0.8822 - val_loss: 0.2462 - val_accuracy: 0.8851\n",
      "Epoch 10/10\n",
      "182/182 [==============================] - 5s 25ms/step - loss: 0.2457 - accuracy: 0.8832 - val_loss: 0.2427 - val_accuracy: 0.8864\n",
      "46/46 [==============================] - 0s 8ms/step\n",
      "Validation scores:\n",
      "Accuracy = 0.8864418444597385\n",
      "Precision = 0.9057838899794894\n",
      "Recall = 0.8864418444597385\n",
      "F1 = 0.8510476684727947\n",
      "Train index: [   0    1    2 ... 7264 7265 7266]\n",
      "Test index: [   5    7    8 ... 7251 7253 7262]\n",
      "Epoch 1/10\n",
      "  4/182 [..............................] - ETA: 3s - loss: 0.2203 - accuracy: 0.9297"
     ]
    },
    {
     "name": "stderr",
     "output_type": "stream",
     "text": [
      "/usr/local/lib/python3.8/dist-packages/sklearn/metrics/_classification.py:1344: UndefinedMetricWarning: Precision is ill-defined and being set to 0.0 in labels with no predicted samples. Use `zero_division` parameter to control this behavior.\n",
      "  _warn_prf(average, modifier, msg_start, len(result))\n"
     ]
    },
    {
     "name": "stdout",
     "output_type": "stream",
     "text": [
      "182/182 [==============================] - 5s 27ms/step - loss: 0.2437 - accuracy: 0.8875 - val_loss: 0.3339 - val_accuracy: 0.8217\n",
      "Epoch 2/10\n",
      "182/182 [==============================] - 5s 25ms/step - loss: 0.2396 - accuracy: 0.8880 - val_loss: 0.2826 - val_accuracy: 0.8789\n",
      "Epoch 3/10\n",
      "182/182 [==============================] - 5s 25ms/step - loss: 0.2374 - accuracy: 0.8889 - val_loss: 0.2685 - val_accuracy: 0.8768\n",
      "Epoch 4/10\n",
      "182/182 [==============================] - 5s 25ms/step - loss: 0.2370 - accuracy: 0.8906 - val_loss: 0.2827 - val_accuracy: 0.8796\n",
      "Epoch 5/10\n",
      "182/182 [==============================] - 5s 25ms/step - loss: 0.2332 - accuracy: 0.8913 - val_loss: 0.2583 - val_accuracy: 0.8789\n",
      "Epoch 6/10\n",
      "182/182 [==============================] - 4s 24ms/step - loss: 0.2327 - accuracy: 0.8927 - val_loss: 0.2706 - val_accuracy: 0.8809\n",
      "Epoch 7/10\n",
      "182/182 [==============================] - 5s 25ms/step - loss: 0.2374 - accuracy: 0.8872 - val_loss: 0.2716 - val_accuracy: 0.8796\n",
      "Epoch 8/10\n",
      "182/182 [==============================] - 4s 24ms/step - loss: 0.2324 - accuracy: 0.8922 - val_loss: 0.2810 - val_accuracy: 0.8789\n",
      "Epoch 9/10\n",
      "182/182 [==============================] - 5s 25ms/step - loss: 0.2675 - accuracy: 0.8834 - val_loss: 0.2685 - val_accuracy: 0.8775\n",
      "Epoch 10/10\n",
      "182/182 [==============================] - 6s 31ms/step - loss: 0.2435 - accuracy: 0.8901 - val_loss: 0.2665 - val_accuracy: 0.8789\n",
      "46/46 [==============================] - 1s 12ms/step\n",
      "Validation scores:\n",
      "Accuracy = 0.8788713007570543\n",
      "Precision = 0.8110649366204242\n",
      "Recall = 0.8788713007570543\n",
      "F1 = 0.8411530939621441\n",
      "Total operation time:  245.61531496047974 seconds\n"
     ]
    },
    {
     "name": "stderr",
     "output_type": "stream",
     "text": [
      "/usr/local/lib/python3.8/dist-packages/sklearn/metrics/_classification.py:1344: UndefinedMetricWarning: Precision is ill-defined and being set to 0.0 in labels with no predicted samples. Use `zero_division` parameter to control this behavior.\n",
      "  _warn_prf(average, modifier, msg_start, len(result))\n"
     ]
    }
   ],
   "source": [
    "# Tensorflow 1.14.\n",
    "\n",
    "# This option may be used to speed up the CPU computation in some cases.\n",
    "# import os\n",
    "# os.environ['TF_XLA_FLAGS'] = '--tf_xla_cpu_global_jit'\n",
    "\n",
    "# Configure session parameters for the optimal parallelization and choose the computational device (CPU, GPU or both).\n",
    "# config = tf.compat.v1.ConfigProto(intra_op_parallelism_threads=48,\n",
    "#                                   inter_op_parallelism_threads=48, allow_soft_placement=True, device_count={'CPU': 24})\n",
    "# with tf.compat.v1.Session(config=config) as sess:\n",
    "\n",
    "# Tensorflow 2.X, the computation is performed on CPU.\n",
    "# with tf.device('/CPU:0'):\n",
    "\n",
    "# Tensorflow 2.X, the computation is performed on GPU.\n",
    "with tf.device('/GPU:0'):\n",
    "\n",
    "    # Set a timer for the learning time evaluation.\n",
    "    start_time = time.time()\n",
    "    \n",
    "    i = 1\n",
    "    # Stratified K-Folds cross-validation.\n",
    "    for train_index, test_index in cv.split(X, y):\n",
    "        y_eval, y_pred = train_and_validate(\n",
    "            model, X, y, train_index, test_index, scaler)\n",
    "        # Store test and predicted labels.\n",
    "        actual_targets = np.append(actual_targets, y_eval)\n",
    "        predicted_targets = np.append(predicted_targets, y_pred)\n",
    "        # Get and print validation scores.\n",
    "        print(\"Validation scores:\")\n",
    "        scores[i] = print_metrics(y_eval, y_pred, average='weighted')\n",
    "        i += 1\n",
    "\n",
    "    # Get the learning time.\n",
    "    print('Total operation time: ', time.time() - start_time, 'seconds')"
   ]
  },
  {
   "cell_type": "markdown",
   "id": "90c18a25",
   "metadata": {},
   "source": [
    "## Model evaluation"
   ]
  },
  {
   "cell_type": "markdown",
   "id": "0f9abd82",
   "metadata": {},
   "source": [
    "Here we can see evaluation metrics for each fold and their mean values."
   ]
  },
  {
   "cell_type": "code",
   "execution_count": 17,
   "id": "be84bd58",
   "metadata": {},
   "outputs": [
    {
     "data": {
      "text/html": [
       "<div>\n",
       "<style scoped>\n",
       "    .dataframe tbody tr th:only-of-type {\n",
       "        vertical-align: middle;\n",
       "    }\n",
       "\n",
       "    .dataframe tbody tr th {\n",
       "        vertical-align: top;\n",
       "    }\n",
       "\n",
       "    .dataframe thead th {\n",
       "        text-align: right;\n",
       "    }\n",
       "</style>\n",
       "<table border=\"1\" class=\"dataframe\">\n",
       "  <thead>\n",
       "    <tr style=\"text-align: right;\">\n",
       "      <th></th>\n",
       "      <th>1</th>\n",
       "      <th>2</th>\n",
       "      <th>3</th>\n",
       "      <th>4</th>\n",
       "      <th>5</th>\n",
       "      <th>Mean</th>\n",
       "    </tr>\n",
       "  </thead>\n",
       "  <tbody>\n",
       "    <tr>\n",
       "      <th>Accuracy</th>\n",
       "      <td>0.863136</td>\n",
       "      <td>0.886520</td>\n",
       "      <td>0.712319</td>\n",
       "      <td>0.886442</td>\n",
       "      <td>0.878871</td>\n",
       "      <td>0.845458</td>\n",
       "    </tr>\n",
       "    <tr>\n",
       "      <th>Precision</th>\n",
       "      <td>0.789593</td>\n",
       "      <td>0.877003</td>\n",
       "      <td>0.799120</td>\n",
       "      <td>0.905784</td>\n",
       "      <td>0.811065</td>\n",
       "      <td>0.836513</td>\n",
       "    </tr>\n",
       "    <tr>\n",
       "      <th>Recall</th>\n",
       "      <td>0.863136</td>\n",
       "      <td>0.886520</td>\n",
       "      <td>0.712319</td>\n",
       "      <td>0.886442</td>\n",
       "      <td>0.878871</td>\n",
       "      <td>0.845458</td>\n",
       "    </tr>\n",
       "    <tr>\n",
       "      <th>F1</th>\n",
       "      <td>0.824097</td>\n",
       "      <td>0.851096</td>\n",
       "      <td>0.607140</td>\n",
       "      <td>0.851048</td>\n",
       "      <td>0.841153</td>\n",
       "      <td>0.794907</td>\n",
       "    </tr>\n",
       "  </tbody>\n",
       "</table>\n",
       "</div>"
      ],
      "text/plain": [
       "                  1         2         3         4         5      Mean\n",
       "Accuracy   0.863136  0.886520  0.712319  0.886442  0.878871  0.845458\n",
       "Precision  0.789593  0.877003  0.799120  0.905784  0.811065  0.836513\n",
       "Recall     0.863136  0.886520  0.712319  0.886442  0.878871  0.845458\n",
       "F1         0.824097  0.851096  0.607140  0.851048  0.841153  0.794907"
      ]
     },
     "execution_count": 17,
     "metadata": {},
     "output_type": "execute_result"
    }
   ],
   "source": [
    "scores['Mean'] = scores.mean(axis=1)\n",
    "scores"
   ]
  },
  {
   "cell_type": "markdown",
   "id": "733435af",
   "metadata": {},
   "source": [
    "Visualize a confusion matrix for all folds of data to evaluate the classifier's performance. Here and further we use the following function."
   ]
  },
  {
   "cell_type": "code",
   "execution_count": 18,
   "id": "395b25b8",
   "metadata": {},
   "outputs": [],
   "source": [
    "def plot_confusion_matrix(y_eval: np.ndarray, y_pred: np.ndarray, labels: List[str]) -> None:\n",
    "    # Get the confusion matrix for the last fold of data.\n",
    "    confusion_matrix = metrics.confusion_matrix(y_eval, y_pred)\n",
    "\n",
    "    # Evaluate accuracy and misclassification scores.\n",
    "    accuracy = np.trace(confusion_matrix) / float(np.sum(confusion_matrix))\n",
    "    misclass = 1 - accuracy\n",
    "\n",
    "    # Plot the confusion matrix.\n",
    "    metrics.ConfusionMatrixDisplay.from_predictions(\n",
    "        y_eval, y_pred, display_labels=labels,\n",
    "        xticks_rotation='vertical', cmap='Blues')\n",
    "    plt.xlabel('Predicted label\\n\\naccuracy={:0.4f}; misclass={:0.4f}'.format(\n",
    "        accuracy, misclass))\n",
    "    plt.title('Confusion Matrix')\n",
    "    plt.show()"
   ]
  },
  {
   "cell_type": "code",
   "execution_count": 19,
   "id": "afce1194",
   "metadata": {},
   "outputs": [
    {
     "data": {
      "image/png": "[encoded data removed]",
      "text/plain": [
       "<Figure size 640x480 with 2 Axes>"
      ]
     },
     "metadata": {},
     "output_type": "display_data"
    }
   ],
   "source": [
    "plot_confusion_matrix(actual_targets, predicted_targets, [\n",
    "                      'BENIGN', 'Web Attack - Brute Force', 'Web Attack - Sql Injection', 'Web Attack - XSS'])"
   ]
  },
  {
   "cell_type": "markdown",
   "id": "78a9eb56",
   "metadata": {},
   "source": [
    "From the above confusion matrix, we can conclude that the model is mostly adequate in identifying benign traffic and brute force attacks."
   ]
  },
  {
   "cell_type": "markdown",
   "metadata": {},
   "source": [
    "## model save"
   ]
  },
  {
   "cell_type": "code",
   "execution_count": 20,
   "metadata": {},
   "outputs": [
    {
     "name": "stderr",
     "output_type": "stream",
     "text": [
      "WARNING:absl:Found untraced functions such as _jit_compiled_convolution_op, lstm_cell_1_layer_call_fn, lstm_cell_1_layer_call_and_return_conditional_losses, lstm_cell_2_layer_call_fn, lstm_cell_2_layer_call_and_return_conditional_losses while saving (showing 5 of 9). These functions will not be directly callable after loading.\n"
     ]
    },
    {
     "name": "stdout",
     "output_type": "stream",
     "text": [
      "INFO:tensorflow:Assets written to: ./model/webattack_detection_rf_model/assets\n"
     ]
    },
    {
     "name": "stderr",
     "output_type": "stream",
     "text": [
      "INFO:tensorflow:Assets written to: ./model/webattack_detection_rf_model/assets\n"
     ]
    }
   ],
   "source": [
    "model.save('./model/webattack_detection_rf_model')"
   ]
  },
  {
   "cell_type": "code",
   "execution_count": 29,
   "metadata": {},
   "outputs": [
    {
     "name": "stdout",
     "output_type": "stream",
     "text": [
      "228/228 [==============================] - 2s 8ms/step\n"
     ]
    }
   ],
   "source": [
    "pre = model.predict(X)"
   ]
  },
  {
   "cell_type": "code",
   "execution_count": 33,
   "metadata": {},
   "outputs": [
    {
     "data": {
      "text/plain": [
       "array([[9.35673952e-01, 9.28300340e-03, 2.78573111e-03, 5.22573255e-02],\n",
       "       [9.91657376e-01, 1.36062631e-03, 6.49646681e-05, 6.91705011e-03],\n",
       "       [9.86032665e-01, 1.06245931e-03, 6.16583158e-04, 1.22882500e-02],\n",
       "       ...,\n",
       "       [9.99660015e-01, 1.33794529e-04, 1.09597377e-05, 1.95152257e-04],\n",
       "       [9.88495588e-01, 7.49930087e-03, 5.92261029e-04, 3.41280969e-03],\n",
       "       [9.88648593e-01, 1.18403614e-03, 1.33840425e-04, 1.00335535e-02]],\n",
       "      dtype=float32)"
      ]
     },
     "execution_count": 33,
     "metadata": {},
     "output_type": "execute_result"
    }
   ],
   "source": [
    "pre"
   ]
  },
  {
   "cell_type": "code",
   "execution_count": 32,
   "metadata": {},
   "outputs": [
    {
     "data": {
      "text/plain": [
       "array([0.93567395, 0.009283  , 0.00278573, 0.05225733], dtype=float32)"
      ]
     },
     "execution_count": 32,
     "metadata": {},
     "output_type": "execute_result"
    }
   ],
   "source": [
    "pre[0]"
   ]
  },
  {
   "cell_type": "markdown",
   "id": "9498ea3b",
   "metadata": {},
   "source": [
    "## Comparison to Random Forest model"
   ]
  },
  {
   "cell_type": "markdown",
   "id": "7fe9ad46",
   "metadata": {},
   "source": [
    "Download and open our previously developed model for this dataset: Random Forest (see https://colab.research.google.com/github/fisher85/ml-cybersecurity/blob/master/python-web-attack-detection/web-attack-detection.ipynb)."
   ]
  },
  {
   "cell_type": "code",
   "execution_count": 21,
   "id": "35ebc9d6",
   "metadata": {},
   "outputs": [
    {
     "data": {
      "text/html": [
       "<style>#sk-container-id-1 {color: black;background-color: white;}#sk-container-id-1 pre{padding: 0;}#sk-container-id-1 div.sk-toggleable {background-color: white;}#sk-container-id-1 label.sk-toggleable__label {cursor: pointer;display: block;width: 100%;margin-bottom: 0;padding: 0.3em;box-sizing: border-box;text-align: center;}#sk-container-id-1 label.sk-toggleable__label-arrow:before {content: \"▸\";float: left;margin-right: 0.25em;color: #696969;}#sk-container-id-1 label.sk-toggleable__label-arrow:hover:before {color: black;}#sk-container-id-1 div.sk-estimator:hover label.sk-toggleable__label-arrow:before {color: black;}#sk-container-id-1 div.sk-toggleable__content {max-height: 0;max-width: 0;overflow: hidden;text-align: left;background-color: #f0f8ff;}#sk-container-id-1 div.sk-toggleable__content pre {margin: 0.2em;color: black;border-radius: 0.25em;background-color: #f0f8ff;}#sk-container-id-1 input.sk-toggleable__control:checked~div.sk-toggleable__content {max-height: 200px;max-width: 100%;overflow: auto;}#sk-container-id-1 input.sk-toggleable__control:checked~label.sk-toggleable__label-arrow:before {content: \"▾\";}#sk-container-id-1 div.sk-estimator input.sk-toggleable__control:checked~label.sk-toggleable__label {background-color: #d4ebff;}#sk-container-id-1 div.sk-label input.sk-toggleable__control:checked~label.sk-toggleable__label {background-color: #d4ebff;}#sk-container-id-1 input.sk-hidden--visually {border: 0;clip: rect(1px 1px 1px 1px);clip: rect(1px, 1px, 1px, 1px);height: 1px;margin: -1px;overflow: hidden;padding: 0;position: absolute;width: 1px;}#sk-container-id-1 div.sk-estimator {font-family: monospace;background-color: #f0f8ff;border: 1px dotted black;border-radius: 0.25em;box-sizing: border-box;margin-bottom: 0.5em;}#sk-container-id-1 div.sk-estimator:hover {background-color: #d4ebff;}#sk-container-id-1 div.sk-parallel-item::after {content: \"\";width: 100%;border-bottom: 1px solid gray;flex-grow: 1;}#sk-container-id-1 div.sk-label:hover label.sk-toggleable__label {background-color: #d4ebff;}#sk-container-id-1 div.sk-serial::before {content: \"\";position: absolute;border-left: 1px solid gray;box-sizing: border-box;top: 0;bottom: 0;left: 50%;z-index: 0;}#sk-container-id-1 div.sk-serial {display: flex;flex-direction: column;align-items: center;background-color: white;padding-right: 0.2em;padding-left: 0.2em;position: relative;}#sk-container-id-1 div.sk-item {position: relative;z-index: 1;}#sk-container-id-1 div.sk-parallel {display: flex;align-items: stretch;justify-content: center;background-color: white;position: relative;}#sk-container-id-1 div.sk-item::before, #sk-container-id-1 div.sk-parallel-item::before {content: \"\";position: absolute;border-left: 1px solid gray;box-sizing: border-box;top: 0;bottom: 0;left: 50%;z-index: -1;}#sk-container-id-1 div.sk-parallel-item {display: flex;flex-direction: column;z-index: 1;position: relative;background-color: white;}#sk-container-id-1 div.sk-parallel-item:first-child::after {align-self: flex-end;width: 50%;}#sk-container-id-1 div.sk-parallel-item:last-child::after {align-self: flex-start;width: 50%;}#sk-container-id-1 div.sk-parallel-item:only-child::after {width: 0;}#sk-container-id-1 div.sk-dashed-wrapped {border: 1px dashed gray;margin: 0 0.4em 0.5em 0.4em;box-sizing: border-box;padding-bottom: 0.4em;background-color: white;}#sk-container-id-1 div.sk-label label {font-family: monospace;font-weight: bold;display: inline-block;line-height: 1.2em;}#sk-container-id-1 div.sk-label-container {text-align: center;}#sk-container-id-1 div.sk-container {/* jupyter's `normalize.less` sets `[hidden] { display: none; }` but bootstrap.min.css set `[hidden] { display: none !important; }` so we also need the `!important` here to be able to override the default hidden behavior on the sphinx rendered scikit-learn.org. See: https://github.com/scikit-learn/scikit-learn/issues/21755 */display: inline-block !important;position: relative;}#sk-container-id-1 div.sk-text-repr-fallback {display: none;}</style><div id=\"sk-container-id-1\" class=\"sk-top-container\"><div class=\"sk-text-repr-fallback\"><pre>RandomForestClassifier(max_depth=17, max_features=10, min_samples_leaf=3,\n",
       "                       n_estimators=50, oob_score=True, random_state=42)</pre><b>In a Jupyter environment, please rerun this cell to show the HTML representation or trust the notebook. <br />On GitHub, the HTML representation is unable to render, please try loading this page with nbviewer.org.</b></div><div class=\"sk-container\" hidden><div class=\"sk-item\"><div class=\"sk-estimator sk-toggleable\"><input class=\"sk-toggleable__control sk-hidden--visually\" id=\"sk-estimator-id-1\" type=\"checkbox\" checked><label for=\"sk-estimator-id-1\" class=\"sk-toggleable__label sk-toggleable__label-arrow\">RandomForestClassifier</label><div class=\"sk-toggleable__content\"><pre>RandomForestClassifier(max_depth=17, max_features=10, min_samples_leaf=3,\n",
       "                       n_estimators=50, oob_score=True, random_state=42)</pre></div></div></div></div></div>"
      ],
      "text/plain": [
       "RandomForestClassifier(max_depth=17, max_features=10, min_samples_leaf=3,\n",
       "                       n_estimators=50, oob_score=True, random_state=42)"
      ]
     },
     "execution_count": 21,
     "metadata": {},
     "output_type": "execute_result"
    }
   ],
   "source": [
    "with open('../Random Forest/model/webattack_detection_rf_model.pkl', 'rb') as f:\n",
    "    rfc = pickle.load(f)\n",
    "rfc"
   ]
  },
  {
   "cell_type": "markdown",
   "id": "3327a0cb",
   "metadata": {},
   "source": [
    "We use the indices of the final fold of Stratified K-Folds cross-validation to split the dataset into a training set with 80% of all the samples and test set with 20% of all the samples, preserving the percentage of samples for each class.\n",
    "\n",
    "Our Random Forest model does not need feature scaling and uses only selected features, so we need to get correct feature vectors."
   ]
  },
  {
   "cell_type": "code",
   "execution_count": 22,
   "id": "f8e4d339",
   "metadata": {},
   "outputs": [
    {
     "data": {
      "text/html": [
       "<div>\n",
       "<style scoped>\n",
       "    .dataframe tbody tr th:only-of-type {\n",
       "        vertical-align: middle;\n",
       "    }\n",
       "\n",
       "    .dataframe tbody tr th {\n",
       "        vertical-align: top;\n",
       "    }\n",
       "\n",
       "    .dataframe thead th {\n",
       "        text-align: right;\n",
       "    }\n",
       "</style>\n",
       "<table border=\"1\" class=\"dataframe\">\n",
       "  <thead>\n",
       "    <tr style=\"text-align: right;\">\n",
       "      <th></th>\n",
       "      <th>Average Packet Size</th>\n",
       "      <th>Flow Bytes/s</th>\n",
       "      <th>Max Packet Length</th>\n",
       "      <th>Fwd Packet Length Mean</th>\n",
       "      <th>Fwd IAT Min</th>\n",
       "      <th>Total Length of Fwd Packets</th>\n",
       "      <th>Flow IAT Mean</th>\n",
       "      <th>Fwd Packet Length Max</th>\n",
       "      <th>Fwd IAT Std</th>\n",
       "      <th>Fwd Header Length</th>\n",
       "    </tr>\n",
       "  </thead>\n",
       "  <tbody>\n",
       "    <tr>\n",
       "      <th>5</th>\n",
       "      <td>7.000000</td>\n",
       "      <td>7.000000e+06</td>\n",
       "      <td>7.0</td>\n",
       "      <td>3.500</td>\n",
       "      <td>1.0</td>\n",
       "      <td>7.0</td>\n",
       "      <td>1.000000e+00</td>\n",
       "      <td>7.0</td>\n",
       "      <td>0.000000e+00</td>\n",
       "      <td>64.0</td>\n",
       "    </tr>\n",
       "    <tr>\n",
       "      <th>7</th>\n",
       "      <td>51.000000</td>\n",
       "      <td>1.037378e+01</td>\n",
       "      <td>48.0</td>\n",
       "      <td>48.000</td>\n",
       "      <td>1996301.0</td>\n",
       "      <td>384.0</td>\n",
       "      <td>4.935522e+06</td>\n",
       "      <td>48.0</td>\n",
       "      <td>2.140000e+07</td>\n",
       "      <td>140.0</td>\n",
       "    </tr>\n",
       "    <tr>\n",
       "      <th>8</th>\n",
       "      <td>48.000000</td>\n",
       "      <td>1.045752e+06</td>\n",
       "      <td>48.0</td>\n",
       "      <td>32.000</td>\n",
       "      <td>4.0</td>\n",
       "      <td>64.0</td>\n",
       "      <td>5.100000e+01</td>\n",
       "      <td>32.0</td>\n",
       "      <td>0.000000e+00</td>\n",
       "      <td>64.0</td>\n",
       "    </tr>\n",
       "    <tr>\n",
       "      <th>10</th>\n",
       "      <td>82.181818</td>\n",
       "      <td>4.116763e+04</td>\n",
       "      <td>236.0</td>\n",
       "      <td>70.000</td>\n",
       "      <td>4.0</td>\n",
       "      <td>490.0</td>\n",
       "      <td>2.195900e+03</td>\n",
       "      <td>236.0</td>\n",
       "      <td>7.165981e+03</td>\n",
       "      <td>164.0</td>\n",
       "    </tr>\n",
       "    <tr>\n",
       "      <th>11</th>\n",
       "      <td>7.200000</td>\n",
       "      <td>1.071429e+06</td>\n",
       "      <td>6.0</td>\n",
       "      <td>6.000</td>\n",
       "      <td>0.0</td>\n",
       "      <td>6.0</td>\n",
       "      <td>7.000000e+00</td>\n",
       "      <td>6.0</td>\n",
       "      <td>0.000000e+00</td>\n",
       "      <td>20.0</td>\n",
       "    </tr>\n",
       "    <tr>\n",
       "      <th>...</th>\n",
       "      <td>...</td>\n",
       "      <td>...</td>\n",
       "      <td>...</td>\n",
       "      <td>...</td>\n",
       "      <td>...</td>\n",
       "      <td>...</td>\n",
       "      <td>...</td>\n",
       "      <td>...</td>\n",
       "      <td>...</td>\n",
       "      <td>...</td>\n",
       "    </tr>\n",
       "    <tr>\n",
       "      <th>7248</th>\n",
       "      <td>291.166667</td>\n",
       "      <td>1.211840e+04</td>\n",
       "      <td>1485.0</td>\n",
       "      <td>67.875</td>\n",
       "      <td>3.0</td>\n",
       "      <td>543.0</td>\n",
       "      <td>2.621109e+04</td>\n",
       "      <td>190.0</td>\n",
       "      <td>6.239530e+04</td>\n",
       "      <td>172.0</td>\n",
       "    </tr>\n",
       "    <tr>\n",
       "      <th>7249</th>\n",
       "      <td>320.500000</td>\n",
       "      <td>9.934265e+02</td>\n",
       "      <td>1460.0</td>\n",
       "      <td>46.125</td>\n",
       "      <td>2.0</td>\n",
       "      <td>369.0</td>\n",
       "      <td>3.441288e+05</td>\n",
       "      <td>194.0</td>\n",
       "      <td>1.786676e+06</td>\n",
       "      <td>184.0</td>\n",
       "    </tr>\n",
       "    <tr>\n",
       "      <th>7251</th>\n",
       "      <td>145.500000</td>\n",
       "      <td>5.200956e+03</td>\n",
       "      <td>201.0</td>\n",
       "      <td>45.000</td>\n",
       "      <td>0.0</td>\n",
       "      <td>45.0</td>\n",
       "      <td>4.729900e+04</td>\n",
       "      <td>45.0</td>\n",
       "      <td>0.000000e+00</td>\n",
       "      <td>32.0</td>\n",
       "    </tr>\n",
       "    <tr>\n",
       "      <th>7253</th>\n",
       "      <td>88.000000</td>\n",
       "      <td>2.854464e+03</td>\n",
       "      <td>98.0</td>\n",
       "      <td>39.000</td>\n",
       "      <td>0.0</td>\n",
       "      <td>39.0</td>\n",
       "      <td>4.799500e+04</td>\n",
       "      <td>39.0</td>\n",
       "      <td>0.000000e+00</td>\n",
       "      <td>20.0</td>\n",
       "    </tr>\n",
       "    <tr>\n",
       "      <th>7262</th>\n",
       "      <td>96.500000</td>\n",
       "      <td>6.323435e+03</td>\n",
       "      <td>103.0</td>\n",
       "      <td>45.000</td>\n",
       "      <td>0.0</td>\n",
       "      <td>45.0</td>\n",
       "      <td>2.340500e+04</td>\n",
       "      <td>45.0</td>\n",
       "      <td>0.000000e+00</td>\n",
       "      <td>32.0</td>\n",
       "    </tr>\n",
       "  </tbody>\n",
       "</table>\n",
       "<p>1453 rows × 10 columns</p>\n",
       "</div>"
      ],
      "text/plain": [
       "      Average Packet Size  Flow Bytes/s  Max Packet Length  \\\n",
       "5                7.000000  7.000000e+06                7.0   \n",
       "7               51.000000  1.037378e+01               48.0   \n",
       "8               48.000000  1.045752e+06               48.0   \n",
       "10              82.181818  4.116763e+04              236.0   \n",
       "11               7.200000  1.071429e+06                6.0   \n",
       "...                   ...           ...                ...   \n",
       "7248           291.166667  1.211840e+04             1485.0   \n",
       "7249           320.500000  9.934265e+02             1460.0   \n",
       "7251           145.500000  5.200956e+03              201.0   \n",
       "7253            88.000000  2.854464e+03               98.0   \n",
       "7262            96.500000  6.323435e+03              103.0   \n",
       "\n",
       "      Fwd Packet Length Mean  Fwd IAT Min  Total Length of Fwd Packets  \\\n",
       "5                      3.500          1.0                          7.0   \n",
       "7                     48.000    1996301.0                        384.0   \n",
       "8                     32.000          4.0                         64.0   \n",
       "10                    70.000          4.0                        490.0   \n",
       "11                     6.000          0.0                          6.0   \n",
       "...                      ...          ...                          ...   \n",
       "7248                  67.875          3.0                        543.0   \n",
       "7249                  46.125          2.0                        369.0   \n",
       "7251                  45.000          0.0                         45.0   \n",
       "7253                  39.000          0.0                         39.0   \n",
       "7262                  45.000          0.0                         45.0   \n",
       "\n",
       "      Flow IAT Mean  Fwd Packet Length Max   Fwd IAT Std  Fwd Header Length  \n",
       "5      1.000000e+00                    7.0  0.000000e+00               64.0  \n",
       "7      4.935522e+06                   48.0  2.140000e+07              140.0  \n",
       "8      5.100000e+01                   32.0  0.000000e+00               64.0  \n",
       "10     2.195900e+03                  236.0  7.165981e+03              164.0  \n",
       "11     7.000000e+00                    6.0  0.000000e+00               20.0  \n",
       "...             ...                    ...           ...                ...  \n",
       "7248   2.621109e+04                  190.0  6.239530e+04              172.0  \n",
       "7249   3.441288e+05                  194.0  1.786676e+06              184.0  \n",
       "7251   4.729900e+04                   45.0  0.000000e+00               32.0  \n",
       "7253   4.799500e+04                   39.0  0.000000e+00               20.0  \n",
       "7262   2.340500e+04                   45.0  0.000000e+00               32.0  \n",
       "\n",
       "[1453 rows x 10 columns]"
      ]
     },
     "execution_count": 22,
     "metadata": {},
     "output_type": "execute_result"
    }
   ],
   "source": [
    "columns = ['Average Packet Size',\n",
    "           'Flow Bytes/s',\n",
    "           'Max Packet Length',\n",
    "           'Fwd Packet Length Mean',\n",
    "           'Fwd IAT Min',\n",
    "           'Total Length of Fwd Packets',\n",
    "           'Flow IAT Mean',\n",
    "           'Fwd Packet Length Max',\n",
    "           'Fwd IAT Std',\n",
    "           'Fwd Header Length']\n",
    "X_test = X.iloc[test_index]\n",
    "X_test = X_test[columns]\n",
    "X_test"
   ]
  },
  {
   "cell_type": "markdown",
   "id": "db740a1e",
   "metadata": {},
   "source": [
    "Transform categorical labels into numeric form with simple label encoding. Note that our Random Forest model was developed for a binary classification task, so we transform labels accordingly: \"0\" indicates a benign instance and \"1\" an attack."
   ]
  },
  {
   "cell_type": "code",
   "execution_count": 23,
   "id": "b34827da",
   "metadata": {},
   "outputs": [],
   "source": [
    "y_test = y[test_index]\n",
    "y_test = y_test.apply(lambda x: 0 if x == 'BENIGN' else 1).values"
   ]
  },
  {
   "cell_type": "markdown",
   "id": "0749258d",
   "metadata": {},
   "source": [
    "Get the Random Forest model's evaluation metrics for the final fold of data."
   ]
  },
  {
   "cell_type": "code",
   "execution_count": 24,
   "id": "00e65c3b",
   "metadata": {},
   "outputs": [
    {
     "name": "stdout",
     "output_type": "stream",
     "text": [
      "Accuracy = 0.9435650378527185\n",
      "Precision = 0.9214285714285714\n",
      "Recall = 0.8876146788990825\n",
      "F1 = 0.9042056074766354\n"
     ]
    },
    {
     "name": "stderr",
     "output_type": "stream",
     "text": [
      "/usr/local/lib/python3.8/dist-packages/sklearn/base.py:439: UserWarning: X does not have valid feature names, but RandomForestClassifier was fitted with feature names\n",
      "  warnings.warn(\n"
     ]
    },
    {
     "data": {
      "image/png": "[encoded data removed]",
      "text/plain": [
       "<Figure size 640x480 with 2 Axes>"
      ]
     },
     "metadata": {},
     "output_type": "display_data"
    }
   ],
   "source": [
    "y_pred_rfc = rfc.predict(X_test.values)\n",
    "\n",
    "metrics_rfc = print_metrics(y_test, y_pred_rfc)\n",
    "plot_confusion_matrix(y_test, y_pred_rfc, ['BENIGN', 'Web Attack'])"
   ]
  },
  {
   "cell_type": "markdown",
   "id": "aab1c0b9",
   "metadata": {},
   "source": [
    "The Random Forest model is designed for binary classification, whereas the CNN-BiLSTM model is designed for multiclass classification. To compare two models correctly, we change the output shape of the neural network model's dense layer so that the neural network predicts only two classes."
   ]
  },
  {
   "cell_type": "code",
   "execution_count": 23,
   "id": "e31b7320",
   "metadata": {},
   "outputs": [],
   "source": [
    "batch_size = 32\n",
    "model = Sequential()\n",
    "model.add(Convolution1D(64, kernel_size=32, padding=\"same\",\n",
    "          activation=\"relu\", input_shape=(76, 1)))\n",
    "model.add(MaxPooling1D(pool_size=(5)))\n",
    "model.add(BatchNormalization())\n",
    "model.add(Bidirectional(LSTM(64, return_sequences=False)))\n",
    "model.add(Reshape((128, 1), input_shape=(128, )))\n",
    "\n",
    "model.add(MaxPooling1D(pool_size=(5)))\n",
    "model.add(BatchNormalization())\n",
    "model.add(Bidirectional(LSTM(128, return_sequences=False)))\n",
    "\n",
    "model.add(Dropout(0.5))\n",
    "model.add(Dense(2))\n",
    "model.add(Activation('softmax'))\n",
    "model.compile(loss='categorical_crossentropy',\n",
    "              optimizer='adam', metrics=['accuracy'])"
   ]
  },
  {
   "cell_type": "code",
   "execution_count": 24,
   "id": "f43e3a0a",
   "metadata": {},
   "outputs": [
    {
     "name": "stdout",
     "output_type": "stream",
     "text": [
      "Model: \"sequential_1\"\n",
      "____________________________________________________________________________________________________\n",
      "Layer (type)                                 Output Shape                            Param #        \n",
      "====================================================================================================\n",
      "conv1d_1 (Conv1D)                            (None, 76, 64)                          2112           \n",
      "____________________________________________________________________________________________________\n",
      "max_pooling1d_2 (MaxPooling1D)               (None, 15, 64)                          0              \n",
      "____________________________________________________________________________________________________\n",
      "batch_normalization_2 (BatchNormalization)   (None, 15, 64)                          256            \n",
      "____________________________________________________________________________________________________\n",
      "bidirectional_2 (Bidirectional)              (None, 128)                             66048          \n",
      "____________________________________________________________________________________________________\n",
      "reshape_1 (Reshape)                          (None, 128, 1)                          0              \n",
      "____________________________________________________________________________________________________\n",
      "max_pooling1d_3 (MaxPooling1D)               (None, 25, 1)                           0              \n",
      "____________________________________________________________________________________________________\n",
      "batch_normalization_3 (BatchNormalization)   (None, 25, 1)                           4              \n",
      "____________________________________________________________________________________________________\n",
      "bidirectional_3 (Bidirectional)              (None, 256)                             133120         \n",
      "____________________________________________________________________________________________________\n",
      "dropout_1 (Dropout)                          (None, 256)                             0              \n",
      "____________________________________________________________________________________________________\n",
      "dense_1 (Dense)                              (None, 2)                               514            \n",
      "____________________________________________________________________________________________________\n",
      "activation_1 (Activation)                    (None, 2)                               0              \n",
      "====================================================================================================\n",
      "Total params: 202,054\n",
      "Trainable params: 201,924\n",
      "Non-trainable params: 130\n",
      "____________________________________________________________________________________________________\n"
     ]
    }
   ],
   "source": [
    "model.summary(line_length=100)"
   ]
  },
  {
   "cell_type": "markdown",
   "id": "1d114888",
   "metadata": {},
   "source": [
    "Train the modified neural network on the final fold of data."
   ]
  },
  {
   "cell_type": "code",
   "execution_count": 25,
   "id": "0c6b0bb0",
   "metadata": {},
   "outputs": [
    {
     "name": "stdout",
     "output_type": "stream",
     "text": [
      "Train index: [   0    1    2 ... 7264 7265 7266]\n",
      "Test index: [   5    7    8 ... 7251 7253 7262]\n",
      "Epoch 1/10\n",
      "182/182 [==============================] - 31s 99ms/step - loss: 0.1601 - accuracy: 0.9384 - val_loss: 0.5653 - val_accuracy: 0.8513\n",
      "Epoch 2/10\n",
      "182/182 [==============================] - 16s 86ms/step - loss: 0.1034 - accuracy: 0.9589 - val_loss: 0.6786 - val_accuracy: 0.6676\n",
      "Epoch 3/10\n",
      "182/182 [==============================] - 15s 84ms/step - loss: 0.1307 - accuracy: 0.9501 - val_loss: 0.1301 - val_accuracy: 0.9436\n",
      "Epoch 4/10\n",
      "182/182 [==============================] - 15s 84ms/step - loss: 0.0923 - accuracy: 0.9628 - val_loss: 0.1336 - val_accuracy: 0.9443\n",
      "Epoch 5/10\n",
      "182/182 [==============================] - 15s 85ms/step - loss: 0.0929 - accuracy: 0.9628 - val_loss: 0.1074 - val_accuracy: 0.9484\n",
      "Epoch 6/10\n",
      "182/182 [==============================] - 16s 88ms/step - loss: 0.0843 - accuracy: 0.9635 - val_loss: 0.0876 - val_accuracy: 0.9429\n",
      "Epoch 7/10\n",
      "182/182 [==============================] - 16s 89ms/step - loss: 0.0790 - accuracy: 0.9690 - val_loss: 0.1161 - val_accuracy: 0.9553\n",
      "Epoch 8/10\n",
      "182/182 [==============================] - 22s 119ms/step - loss: 0.0752 - accuracy: 0.9697 - val_loss: 0.1694 - val_accuracy: 0.9463\n",
      "Epoch 9/10\n",
      "182/182 [==============================] - 18s 96ms/step - loss: 0.0772 - accuracy: 0.9673 - val_loss: 0.1816 - val_accuracy: 0.9504\n",
      "Epoch 10/10\n",
      "182/182 [==============================] - 19s 104ms/step - loss: 0.0711 - accuracy: 0.9701 - val_loss: 0.1458 - val_accuracy: 0.9477\n"
     ]
    }
   ],
   "source": [
    "# Transform categorical labels into numeric form.\n",
    "y = data['Label'].apply(lambda x: 0 if x == 'BENIGN' else 1).values\n",
    "\n",
    "y_eval, y_pred = train_and_validate(\n",
    "    model, X, y, train_index, test_index, scaler)"
   ]
  },
  {
   "cell_type": "markdown",
   "id": "1c47ccd2",
   "metadata": {},
   "source": [
    "Get the CNN-BiLSTM model's evaluation metrics for binary classification."
   ]
  },
  {
   "cell_type": "code",
   "execution_count": 26,
   "id": "2b26f48d",
   "metadata": {},
   "outputs": [
    {
     "name": "stdout",
     "output_type": "stream",
     "text": [
      "Accuracy = 0.9476944253269098\n",
      "Precision = 0.9591836734693877\n",
      "Recall = 0.8623853211009175\n",
      "F1 = 0.9082125603864735\n"
     ]
    },
    {
     "data": {
      "image/png": "[encoded data removed]",
      "text/plain": [
       "<Figure size 432x288 with 2 Axes>"
      ]
     },
     "metadata": {
      "needs_background": "light"
     },
     "output_type": "display_data"
    }
   ],
   "source": [
    "metrics_nn = print_metrics(y_eval, y_pred)\n",
    "plot_confusion_matrix(y_eval, y_pred, ['BENIGN', 'Web Attack'])"
   ]
  },
  {
   "cell_type": "markdown",
   "id": "47838c2f",
   "metadata": {},
   "source": [
    "Finally, compare evaluation metrics for Random Forest and CNN-BiLSTM models. Here we can see that the Random Forest model shows better results than the CNN-BiLSTM model, but the latter shows good results none the less. Further research is needed to achieve the desired performance."
   ]
  },
  {
   "cell_type": "code",
   "execution_count": 27,
   "id": "d383cab4",
   "metadata": {},
   "outputs": [
    {
     "data": {
      "image/png": "[encoded data removed]",
      "text/plain": [
       "<Figure size 1080x648 with 1 Axes>"
      ]
     },
     "metadata": {
      "needs_background": "light"
     },
     "output_type": "display_data"
    }
   ],
   "source": [
    "# Visualizing the data with a multiple bar chart.\n",
    "\n",
    "# Scale the plot.\n",
    "plt.figure(figsize=[15, 9])\n",
    "plt.gca().set_ylim(0.8, 1)\n",
    "\n",
    "# Get the data for the plot.\n",
    "comparison_frame = pd.DataFrame(\n",
    "    {'CNN-BiLSTM': metrics_nn, 'Random Forest': metrics_rfc},\n",
    "    index=['Accuracy', 'Precision', 'Recall', 'F1'])\n",
    "\n",
    "# Set the width of the bars.\n",
    "wd = 0.3\n",
    "x_pos = np.arange(1, 2*len(comparison_frame), 2)\n",
    "\n",
    "# Plotting the multiple bar graphs on the same figure.\n",
    "plt.bar(x_pos, comparison_frame['CNN-BiLSTM'], color='r', width=wd, edgecolor='k',\n",
    "        label='CNN-BiLSTM')\n",
    "plt.bar(x_pos+wd, comparison_frame['Random Forest'], color='y', width=wd, edgecolor='k',\n",
    "        label='Random Forest')\n",
    "\n",
    "# Add ticks, a title, and a legend.\n",
    "plt.xticks(x_pos+wd, comparison_frame.index.values, fontsize=15)\n",
    "plt.yticks(fontsize=15)\n",
    "plt.xlabel('Metric', fontsize=17)\n",
    "plt.ylabel('Value', fontsize=17)\n",
    "plt.title(\n",
    "    \"Performance comparison of CNN-BiLSTM and Random Forest models.\", fontsize=20)\n",
    "plt.legend(loc='best', fontsize=12)\n",
    "\n",
    "plt.show()"
   ]
  }
 ],
 "metadata": {
  "kernelspec": {
   "display_name": "Python 3",
   "language": "python",
   "name": "python3"
  },
  "language_info": {
   "codemirror_mode": {
    "name": "ipython",
    "version": 3
   },
   "file_extension": ".py",
   "mimetype": "text/x-python",
   "name": "python",
   "nbconvert_exporter": "python",
   "pygments_lexer": "ipython3",
   "version": "3.8.10"
  }
 },
 "nbformat": 4,
 "nbformat_minor": 5
}
