{
 "cells": [
  {
   "cell_type": "code",
   "execution_count": 1,
   "metadata": {
    "scrolled": true
   },
   "outputs": [
    {
     "name": "stdout",
     "output_type": "stream",
     "text": [
      "Requirement already satisfied: tqdm in /usr/local/lib/python3.8/dist-packages (4.65.0)\n",
      "Requirement already satisfied: pandas in /usr/local/lib/python3.8/dist-packages (2.0.1)\n",
      "Requirement already satisfied: python-dateutil>=2.8.2 in /usr/local/lib/python3.8/dist-packages (from pandas) (2.8.2)\n",
      "Requirement already satisfied: numpy>=1.20.3; python_version < \"3.10\" in /usr/local/lib/python3.8/dist-packages (from pandas) (1.23.4)\n",
      "Requirement already satisfied: tzdata>=2022.1 in /usr/local/lib/python3.8/dist-packages (from pandas) (2023.3)\n",
      "Requirement already satisfied: pytz>=2020.1 in /usr/local/lib/python3.8/dist-packages (from pandas) (2023.3)\n",
      "Requirement already satisfied: six>=1.5 in /usr/lib/python3/dist-packages (from python-dateutil>=2.8.2->pandas) (1.14.0)\n",
      "\u001b[33mWARNING: You are using pip version 20.2.4; however, version 23.1.2 is available.\n",
      "You should consider upgrading via the '/usr/bin/python3 -m pip install --upgrade pip' command.\u001b[0m\n"
     ]
    }
   ],
   "source": [
    "!pip3 install tqdm pandas"
   ]
  },
  {
   "cell_type": "markdown",
   "metadata": {},
   "source": [
    "# import"
   ]
  },
  {
   "cell_type": "code",
   "execution_count": 2,
   "metadata": {},
   "outputs": [],
   "source": [
    "import os\n",
    "import math\n",
    "import time\n",
    "import numpy as np\n",
    "import pandas as pd\n",
    "import matplotlib.pyplot as plt\n",
    "\n",
    "from glob import glob\n",
    "from tqdm import tqdm\n",
    "from PIL import Image\n",
    "\n",
    "%matplotlib inline"
   ]
  },
  {
   "cell_type": "markdown",
   "metadata": {},
   "source": [
    "# Load"
   ]
  },
  {
   "cell_type": "code",
   "execution_count": 3,
   "metadata": {},
   "outputs": [],
   "source": [
    "vir_path = \"./dataset/vir\"\n",
    "img_path = \"./dataset/img256\""
   ]
  },
  {
   "cell_type": "code",
   "execution_count": 4,
   "metadata": {},
   "outputs": [
    {
     "data": {
      "text/plain": [
       "(15000,\n",
       " ['./dataset/img256/a528c84ec2d75843e1592611b0040b0e.png',\n",
       "  './dataset/img256/023c9a1bbdbf09e1171e69e016fcc95a.png',\n",
       "  './dataset/img256/4c6c02165b1c45bcdc616186403a0bce.png',\n",
       "  './dataset/img256/1e618bc6343d38c6e98ea3eed6102b68.png',\n",
       "  './dataset/img256/f8842a9aa261ab9f0e017955c2b96f15.png'])"
      ]
     },
     "execution_count": 4,
     "metadata": {},
     "output_type": "execute_result"
    }
   ],
   "source": [
    "img_paths = glob(\"./dataset/img256/*.png\")\n",
    "len(img_paths), img_paths[:5]"
   ]
  },
  {
   "cell_type": "code",
   "execution_count": 5,
   "metadata": {},
   "outputs": [
    {
     "data": {
      "text/html": [
       "<div>\n",
       "<style scoped>\n",
       "    .dataframe tbody tr th:only-of-type {\n",
       "        vertical-align: middle;\n",
       "    }\n",
       "\n",
       "    .dataframe tbody tr th {\n",
       "        vertical-align: top;\n",
       "    }\n",
       "\n",
       "    .dataframe thead th {\n",
       "        text-align: right;\n",
       "    }\n",
       "</style>\n",
       "<table border=\"1\" class=\"dataframe\">\n",
       "  <thead>\n",
       "    <tr style=\"text-align: right;\">\n",
       "      <th></th>\n",
       "      <th>vir</th>\n",
       "      <th>malware</th>\n",
       "    </tr>\n",
       "  </thead>\n",
       "  <tbody>\n",
       "    <tr>\n",
       "      <th>0</th>\n",
       "      <td>0003c3dd20cd99cf4555ab7c9232ec9c.vir</td>\n",
       "      <td>1</td>\n",
       "    </tr>\n",
       "    <tr>\n",
       "      <th>1</th>\n",
       "      <td>000590557e79980e147c3ff6521ec5cc.vir</td>\n",
       "      <td>1</td>\n",
       "    </tr>\n",
       "    <tr>\n",
       "      <th>2</th>\n",
       "      <td>0006c099239df9bcaab4c3cbc85e6ff8.vir</td>\n",
       "      <td>0</td>\n",
       "    </tr>\n",
       "    <tr>\n",
       "      <th>3</th>\n",
       "      <td>000fbf210ae21ff7604c025e1763a149.vir</td>\n",
       "      <td>1</td>\n",
       "    </tr>\n",
       "    <tr>\n",
       "      <th>4</th>\n",
       "      <td>00123e9b2a49b6750df39ad0e86508e2.vir</td>\n",
       "      <td>0</td>\n",
       "    </tr>\n",
       "  </tbody>\n",
       "</table>\n",
       "</div>"
      ],
      "text/plain": [
       "                                    vir  malware\n",
       "0  0003c3dd20cd99cf4555ab7c9232ec9c.vir        1\n",
       "1  000590557e79980e147c3ff6521ec5cc.vir        1\n",
       "2  0006c099239df9bcaab4c3cbc85e6ff8.vir        0\n",
       "3  000fbf210ae21ff7604c025e1763a149.vir        1\n",
       "4  00123e9b2a49b6750df39ad0e86508e2.vir        0"
      ]
     },
     "execution_count": 5,
     "metadata": {},
     "output_type": "execute_result"
    }
   ],
   "source": [
    "csv1_df = pd.read_csv(\"./dataset/1st_answer.csv\", names=[\"vir\",\"malware\"])\n",
    "csv2_df = pd.read_csv(\"./dataset/2nd_answer.csv\", names=[\"vir\",\"malware\"])\n",
    "csv_df = pd.concat([csv1_df,csv2_df])\n",
    "csv_df.head()"
   ]
  },
  {
   "cell_type": "code",
   "execution_count": 6,
   "metadata": {},
   "outputs": [
    {
     "name": "stdout",
     "output_type": "stream",
     "text": [
      "<class 'pandas.core.frame.DataFrame'>\n",
      "Index: 15000 entries, 0 to 7499\n",
      "Data columns (total 2 columns):\n",
      " #   Column   Non-Null Count  Dtype \n",
      "---  ------   --------------  ----- \n",
      " 0   vir      15000 non-null  object\n",
      " 1   malware  15000 non-null  int64 \n",
      "dtypes: int64(1), object(1)\n",
      "memory usage: 351.6+ KB\n"
     ]
    }
   ],
   "source": [
    "csv_df.info()"
   ]
  },
  {
   "cell_type": "markdown",
   "metadata": {},
   "source": [
    "# Save"
   ]
  },
  {
   "cell_type": "code",
   "execution_count": 7,
   "metadata": {},
   "outputs": [
    {
     "data": {
      "text/html": [
       "<div>\n",
       "<style scoped>\n",
       "    .dataframe tbody tr th:only-of-type {\n",
       "        vertical-align: middle;\n",
       "    }\n",
       "\n",
       "    .dataframe tbody tr th {\n",
       "        vertical-align: top;\n",
       "    }\n",
       "\n",
       "    .dataframe thead th {\n",
       "        text-align: right;\n",
       "    }\n",
       "</style>\n",
       "<table border=\"1\" class=\"dataframe\">\n",
       "  <thead>\n",
       "    <tr style=\"text-align: right;\">\n",
       "      <th></th>\n",
       "      <th>vir</th>\n",
       "      <th>png</th>\n",
       "      <th>malware</th>\n",
       "    </tr>\n",
       "  </thead>\n",
       "  <tbody>\n",
       "    <tr>\n",
       "      <th>0</th>\n",
       "      <td>0003c3dd20cd99cf4555ab7c9232ec9c.vir</td>\n",
       "      <td>0003c3dd20cd99cf4555ab7c9232ec9c.png</td>\n",
       "      <td>1</td>\n",
       "    </tr>\n",
       "    <tr>\n",
       "      <th>1</th>\n",
       "      <td>000590557e79980e147c3ff6521ec5cc.vir</td>\n",
       "      <td>000590557e79980e147c3ff6521ec5cc.png</td>\n",
       "      <td>1</td>\n",
       "    </tr>\n",
       "    <tr>\n",
       "      <th>2</th>\n",
       "      <td>0006c099239df9bcaab4c3cbc85e6ff8.vir</td>\n",
       "      <td>0006c099239df9bcaab4c3cbc85e6ff8.png</td>\n",
       "      <td>0</td>\n",
       "    </tr>\n",
       "    <tr>\n",
       "      <th>3</th>\n",
       "      <td>000fbf210ae21ff7604c025e1763a149.vir</td>\n",
       "      <td>000fbf210ae21ff7604c025e1763a149.png</td>\n",
       "      <td>1</td>\n",
       "    </tr>\n",
       "    <tr>\n",
       "      <th>4</th>\n",
       "      <td>00123e9b2a49b6750df39ad0e86508e2.vir</td>\n",
       "      <td>00123e9b2a49b6750df39ad0e86508e2.png</td>\n",
       "      <td>0</td>\n",
       "    </tr>\n",
       "  </tbody>\n",
       "</table>\n",
       "</div>"
      ],
      "text/plain": [
       "                                    vir                                   png   \n",
       "0  0003c3dd20cd99cf4555ab7c9232ec9c.vir  0003c3dd20cd99cf4555ab7c9232ec9c.png  \\\n",
       "1  000590557e79980e147c3ff6521ec5cc.vir  000590557e79980e147c3ff6521ec5cc.png   \n",
       "2  0006c099239df9bcaab4c3cbc85e6ff8.vir  0006c099239df9bcaab4c3cbc85e6ff8.png   \n",
       "3  000fbf210ae21ff7604c025e1763a149.vir  000fbf210ae21ff7604c025e1763a149.png   \n",
       "4  00123e9b2a49b6750df39ad0e86508e2.vir  00123e9b2a49b6750df39ad0e86508e2.png   \n",
       "\n",
       "   malware  \n",
       "0        1  \n",
       "1        1  \n",
       "2        0  \n",
       "3        1  \n",
       "4        0  "
      ]
     },
     "execution_count": 7,
     "metadata": {},
     "output_type": "execute_result"
    }
   ],
   "source": [
    "csv_df[\"png\"] = csv_df[\"vir\"].str.replace(\"vir\", \"png\")\n",
    "csv_df = csv_df[['vir', 'png', 'malware']]\n",
    "csv_df.head()"
   ]
  },
  {
   "cell_type": "code",
   "execution_count": 8,
   "metadata": {},
   "outputs": [
    {
     "name": "stderr",
     "output_type": "stream",
     "text": [
      "15000it [00:02, 6789.29it/s]\n"
     ]
    },
    {
     "data": {
      "text/plain": [
       "[192902, 199684, 42340, 440988, 614478]"
      ]
     },
     "execution_count": 8,
     "metadata": {},
     "output_type": "execute_result"
    }
   ],
   "source": [
    "malware_len = []\n",
    "\n",
    "for index, row in tqdm(csv_df.iterrows()):\n",
    "    with open(f\"{vir_path}/{row['vir']}\", \"rb\") as hex_file:\n",
    "        hex_array = hex_file.read()\n",
    "        malware_len.append(len(hex_array))\n",
    "        \n",
    "malware_len[:5]"
   ]
  },
  {
   "cell_type": "code",
   "execution_count": 9,
   "metadata": {},
   "outputs": [
    {
     "data": {
      "text/html": [
       "<div>\n",
       "<style scoped>\n",
       "    .dataframe tbody tr th:only-of-type {\n",
       "        vertical-align: middle;\n",
       "    }\n",
       "\n",
       "    .dataframe tbody tr th {\n",
       "        vertical-align: top;\n",
       "    }\n",
       "\n",
       "    .dataframe thead th {\n",
       "        text-align: right;\n",
       "    }\n",
       "</style>\n",
       "<table border=\"1\" class=\"dataframe\">\n",
       "  <thead>\n",
       "    <tr style=\"text-align: right;\">\n",
       "      <th></th>\n",
       "      <th>vir</th>\n",
       "      <th>png</th>\n",
       "      <th>len</th>\n",
       "      <th>malware</th>\n",
       "    </tr>\n",
       "  </thead>\n",
       "  <tbody>\n",
       "    <tr>\n",
       "      <th>0</th>\n",
       "      <td>0003c3dd20cd99cf4555ab7c9232ec9c.vir</td>\n",
       "      <td>0003c3dd20cd99cf4555ab7c9232ec9c.png</td>\n",
       "      <td>192902</td>\n",
       "      <td>1</td>\n",
       "    </tr>\n",
       "    <tr>\n",
       "      <th>1</th>\n",
       "      <td>000590557e79980e147c3ff6521ec5cc.vir</td>\n",
       "      <td>000590557e79980e147c3ff6521ec5cc.png</td>\n",
       "      <td>199684</td>\n",
       "      <td>1</td>\n",
       "    </tr>\n",
       "    <tr>\n",
       "      <th>2</th>\n",
       "      <td>0006c099239df9bcaab4c3cbc85e6ff8.vir</td>\n",
       "      <td>0006c099239df9bcaab4c3cbc85e6ff8.png</td>\n",
       "      <td>42340</td>\n",
       "      <td>0</td>\n",
       "    </tr>\n",
       "    <tr>\n",
       "      <th>3</th>\n",
       "      <td>000fbf210ae21ff7604c025e1763a149.vir</td>\n",
       "      <td>000fbf210ae21ff7604c025e1763a149.png</td>\n",
       "      <td>440988</td>\n",
       "      <td>1</td>\n",
       "    </tr>\n",
       "    <tr>\n",
       "      <th>4</th>\n",
       "      <td>00123e9b2a49b6750df39ad0e86508e2.vir</td>\n",
       "      <td>00123e9b2a49b6750df39ad0e86508e2.png</td>\n",
       "      <td>614478</td>\n",
       "      <td>0</td>\n",
       "    </tr>\n",
       "  </tbody>\n",
       "</table>\n",
       "</div>"
      ],
      "text/plain": [
       "                                    vir                                   png   \n",
       "0  0003c3dd20cd99cf4555ab7c9232ec9c.vir  0003c3dd20cd99cf4555ab7c9232ec9c.png  \\\n",
       "1  000590557e79980e147c3ff6521ec5cc.vir  000590557e79980e147c3ff6521ec5cc.png   \n",
       "2  0006c099239df9bcaab4c3cbc85e6ff8.vir  0006c099239df9bcaab4c3cbc85e6ff8.png   \n",
       "3  000fbf210ae21ff7604c025e1763a149.vir  000fbf210ae21ff7604c025e1763a149.png   \n",
       "4  00123e9b2a49b6750df39ad0e86508e2.vir  00123e9b2a49b6750df39ad0e86508e2.png   \n",
       "\n",
       "      len  malware  \n",
       "0  192902        1  \n",
       "1  199684        1  \n",
       "2   42340        0  \n",
       "3  440988        1  \n",
       "4  614478        0  "
      ]
     },
     "execution_count": 9,
     "metadata": {},
     "output_type": "execute_result"
    }
   ],
   "source": [
    "csv_df[\"len\"] = malware_len\n",
    "csv_df = csv_df[['vir', 'png', 'len', 'malware']]\n",
    "csv_df.head()"
   ]
  },
  {
   "cell_type": "code",
   "execution_count": 10,
   "metadata": {},
   "outputs": [],
   "source": [
    "csv_df.to_csv(\"./dataset/malware1.csv\")"
   ]
  },
  {
   "cell_type": "markdown",
   "metadata": {},
   "source": [
    "# Preprocessing"
   ]
  },
  {
   "cell_type": "code",
   "execution_count": 11,
   "metadata": {},
   "outputs": [
    {
     "data": {
      "text/html": [
       "<div>\n",
       "<style scoped>\n",
       "    .dataframe tbody tr th:only-of-type {\n",
       "        vertical-align: middle;\n",
       "    }\n",
       "\n",
       "    .dataframe tbody tr th {\n",
       "        vertical-align: top;\n",
       "    }\n",
       "\n",
       "    .dataframe thead th {\n",
       "        text-align: right;\n",
       "    }\n",
       "</style>\n",
       "<table border=\"1\" class=\"dataframe\">\n",
       "  <thead>\n",
       "    <tr style=\"text-align: right;\">\n",
       "      <th></th>\n",
       "      <th>len</th>\n",
       "      <th>malware</th>\n",
       "    </tr>\n",
       "  </thead>\n",
       "  <tbody>\n",
       "    <tr>\n",
       "      <th>count</th>\n",
       "      <td>1.500000e+04</td>\n",
       "      <td>15000.000000</td>\n",
       "    </tr>\n",
       "    <tr>\n",
       "      <th>mean</th>\n",
       "      <td>7.314490e+05</td>\n",
       "      <td>0.700000</td>\n",
       "    </tr>\n",
       "    <tr>\n",
       "      <th>std</th>\n",
       "      <td>1.273530e+06</td>\n",
       "      <td>0.458273</td>\n",
       "    </tr>\n",
       "    <tr>\n",
       "      <th>min</th>\n",
       "      <td>1.208000e+03</td>\n",
       "      <td>0.000000</td>\n",
       "    </tr>\n",
       "    <tr>\n",
       "      <th>25%</th>\n",
       "      <td>1.054760e+05</td>\n",
       "      <td>0.000000</td>\n",
       "    </tr>\n",
       "    <tr>\n",
       "      <th>50%</th>\n",
       "      <td>3.679000e+05</td>\n",
       "      <td>1.000000</td>\n",
       "    </tr>\n",
       "    <tr>\n",
       "      <th>75%</th>\n",
       "      <td>7.989920e+05</td>\n",
       "      <td>1.000000</td>\n",
       "    </tr>\n",
       "    <tr>\n",
       "      <th>max</th>\n",
       "      <td>3.502490e+07</td>\n",
       "      <td>1.000000</td>\n",
       "    </tr>\n",
       "  </tbody>\n",
       "</table>\n",
       "</div>"
      ],
      "text/plain": [
       "                len       malware\n",
       "count  1.500000e+04  15000.000000\n",
       "mean   7.314490e+05      0.700000\n",
       "std    1.273530e+06      0.458273\n",
       "min    1.208000e+03      0.000000\n",
       "25%    1.054760e+05      0.000000\n",
       "50%    3.679000e+05      1.000000\n",
       "75%    7.989920e+05      1.000000\n",
       "max    3.502490e+07      1.000000"
      ]
     },
     "execution_count": 11,
     "metadata": {},
     "output_type": "execute_result"
    }
   ],
   "source": [
    "csv_df.describe()"
   ]
  },
  {
   "cell_type": "code",
   "execution_count": 12,
   "metadata": {},
   "outputs": [
    {
     "data": {
      "text/html": [
       "<div>\n",
       "<style scoped>\n",
       "    .dataframe tbody tr th:only-of-type {\n",
       "        vertical-align: middle;\n",
       "    }\n",
       "\n",
       "    .dataframe tbody tr th {\n",
       "        vertical-align: top;\n",
       "    }\n",
       "\n",
       "    .dataframe thead th {\n",
       "        text-align: right;\n",
       "    }\n",
       "</style>\n",
       "<table border=\"1\" class=\"dataframe\">\n",
       "  <thead>\n",
       "    <tr style=\"text-align: right;\">\n",
       "      <th></th>\n",
       "      <th>vir</th>\n",
       "      <th>png</th>\n",
       "      <th>len</th>\n",
       "      <th>malware</th>\n",
       "    </tr>\n",
       "  </thead>\n",
       "  <tbody>\n",
       "    <tr>\n",
       "      <th>0</th>\n",
       "      <td>0003c3dd20cd99cf4555ab7c9232ec9c.vir</td>\n",
       "      <td>0003c3dd20cd99cf4555ab7c9232ec9c.png</td>\n",
       "      <td>192902</td>\n",
       "      <td>1</td>\n",
       "    </tr>\n",
       "    <tr>\n",
       "      <th>1</th>\n",
       "      <td>000590557e79980e147c3ff6521ec5cc.vir</td>\n",
       "      <td>000590557e79980e147c3ff6521ec5cc.png</td>\n",
       "      <td>199684</td>\n",
       "      <td>1</td>\n",
       "    </tr>\n",
       "    <tr>\n",
       "      <th>3</th>\n",
       "      <td>000fbf210ae21ff7604c025e1763a149.vir</td>\n",
       "      <td>000fbf210ae21ff7604c025e1763a149.png</td>\n",
       "      <td>440988</td>\n",
       "      <td>1</td>\n",
       "    </tr>\n",
       "    <tr>\n",
       "      <th>5</th>\n",
       "      <td>00193e19e0d474a6dceadc57a55171df.vir</td>\n",
       "      <td>00193e19e0d474a6dceadc57a55171df.png</td>\n",
       "      <td>589958</td>\n",
       "      <td>1</td>\n",
       "    </tr>\n",
       "    <tr>\n",
       "      <th>7</th>\n",
       "      <td>002b7e714ab8769215c2ef684e0ccb5c.vir</td>\n",
       "      <td>002b7e714ab8769215c2ef684e0ccb5c.png</td>\n",
       "      <td>986116</td>\n",
       "      <td>1</td>\n",
       "    </tr>\n",
       "  </tbody>\n",
       "</table>\n",
       "</div>"
      ],
      "text/plain": [
       "                                    vir                                   png   \n",
       "0  0003c3dd20cd99cf4555ab7c9232ec9c.vir  0003c3dd20cd99cf4555ab7c9232ec9c.png  \\\n",
       "1  000590557e79980e147c3ff6521ec5cc.vir  000590557e79980e147c3ff6521ec5cc.png   \n",
       "3  000fbf210ae21ff7604c025e1763a149.vir  000fbf210ae21ff7604c025e1763a149.png   \n",
       "5  00193e19e0d474a6dceadc57a55171df.vir  00193e19e0d474a6dceadc57a55171df.png   \n",
       "7  002b7e714ab8769215c2ef684e0ccb5c.vir  002b7e714ab8769215c2ef684e0ccb5c.png   \n",
       "\n",
       "      len  malware  \n",
       "0  192902        1  \n",
       "1  199684        1  \n",
       "3  440988        1  \n",
       "5  589958        1  \n",
       "7  986116        1  "
      ]
     },
     "execution_count": 12,
     "metadata": {},
     "output_type": "execute_result"
    }
   ],
   "source": [
    "malware_df = csv_df[csv_df[\"malware\"] == 1]\n",
    "no_malware_df = csv_df[csv_df[\"malware\"] == 0]\n",
    "malware_df.head()"
   ]
  },
  {
   "cell_type": "code",
   "execution_count": 13,
   "metadata": {},
   "outputs": [
    {
     "data": {
      "image/png": "[encoded data removed]",
      "text/plain": [
       "<Figure size 640x480 with 64 Axes>"
      ]
     },
     "metadata": {},
     "output_type": "display_data"
    }
   ],
   "source": [
    "malware_list = malware_df[\"png\"].values.tolist()[:64]\n",
    "\n",
    "for i in range(64):\n",
    "    img = Image.open(f\"{img_path}/{malware_list[i]}\").convert('L')\n",
    "    \n",
    "    plt.subplot(8, 8, i + 1)\n",
    "    plt.imshow(img, cmap='gray')\n",
    "    plt.axis('off')\n",
    "    \n",
    "plt.suptitle('Malware', fontsize=25)\n",
    "plt.show()"
   ]
  },
  {
   "cell_type": "code",
   "execution_count": 15,
   "metadata": {},
   "outputs": [
    {
     "data": {
      "image/png": "[encoded data removed]",
      "text/plain": [
       "<Figure size 640x480 with 64 Axes>"
      ]
     },
     "metadata": {},
     "output_type": "display_data"
    }
   ],
   "source": [
    "no_malware_list = no_malware_df[\"png\"].values.tolist()[:64]\n",
    "\n",
    "for i in range(64):\n",
    "    img = Image.open(f\"{img_path}/{no_malware_list[i]}\").convert('L')\n",
    "    \n",
    "    plt.subplot(8, 8, i + 1)\n",
    "    plt.imshow(img, cmap='gray')\n",
    "    plt.axis('off')\n",
    "    \n",
    "plt.suptitle('Normal', fontsize=25)\n",
    "plt.show()"
   ]
  },
  {
   "cell_type": "code",
   "execution_count": null,
   "metadata": {},
   "outputs": [],
   "source": []
  }
 ],
 "metadata": {
  "kernelspec": {
   "display_name": "Python 3",
   "language": "python",
   "name": "python3"
  },
  "language_info": {
   "codemirror_mode": {
    "name": "ipython",
    "version": 3
   },
   "file_extension": ".py",
   "mimetype": "text/x-python",
   "name": "python",
   "nbconvert_exporter": "python",
   "pygments_lexer": "ipython3",
   "version": "3.8.10"
  }
 },
 "nbformat": 4,
 "nbformat_minor": 2
}
