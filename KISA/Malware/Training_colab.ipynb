{
  "cells": [
    {
      "cell_type": "markdown",
      "metadata": {
        "id": "view-in-github",
        "colab_type": "text"
      },
      "source": [
        "<a href=\"https://colab.research.google.com/github/Server-security-visualization/AI/blob/main/KISA/Malware/Training_colab.ipynb\" target=\"_parent\"><img src=\"https://colab.research.google.com/assets/colab-badge.svg\" alt=\"Open In Colab\"/></a>"
      ]
    },
    {
      "cell_type": "markdown",
      "source": [
        "# Mount Drive"
      ],
      "metadata": {
        "id": "n8uRyI3B5oVu"
      }
    },
    {
      "cell_type": "code",
      "source": [
        "from google.colab import drive\n",
        "drive.mount('/content/drive')"
      ],
      "metadata": {
        "id": "bLpdKmj-3Gi3"
      },
      "execution_count": null,
      "outputs": []
    },
    {
      "cell_type": "markdown",
      "source": [
        "# Setting dataset and github"
      ],
      "metadata": {
        "id": "7MR_BZs_5quS"
      }
    },
    {
      "cell_type": "code",
      "source": [
        "!mkdir -p ./dataset/KISA\n",
        "!unzip /content/drive/MyDrive/server_security/colab/KISA/Malware/dataset/img256.zip -d ./dataset/KISA\n",
        "!unzip /content/drive/MyDrive/server_security/colab/MS\\ Malware/img256.zip -d ./dataset/MS/img256\n",
        "!cp /content/drive/MyDrive/server_security/colab/KISA/Malware/dataset/malware1.csv ./dataset/KISA\n",
        "!git clone https://github.com/Server-security-visualization/AI.git"
      ],
      "metadata": {
        "id": "XxvkyWrN3mL5"
      },
      "execution_count": null,
      "outputs": []
    },
    {
      "cell_type": "markdown",
      "metadata": {
        "id": "05px_D1h3AS4"
      },
      "source": [
        "# import"
      ]
    },
    {
      "cell_type": "code",
      "execution_count": null,
      "metadata": {
        "id": "lbYN5oEo3AS5"
      },
      "outputs": [],
      "source": [
        "import tensorflow as tf\n",
        "import numpy as np\n",
        "import pandas as pd\n",
        "import cv2\n",
        "import os\n",
        "import datetime\n",
        "import shutil\n",
        "from matplotlib import pyplot as plt\n",
        "from glob import glob\n",
        "from tqdm import tqdm\n",
        "from sklearn.model_selection import train_test_split\n",
        "%matplotlib inline"
      ]
    },
    {
      "cell_type": "code",
      "source": [
        "gpus = tf.config.experimental.list_physical_devices('GPU')\n",
        "if gpus:\n",
        "  try:\n",
        "    # Currently, memory growth needs to be the same across GPUs\n",
        "    for gpu in gpus:\n",
        "      tf.config.experimental.set_memory_growth(gpu, True)\n",
        "    logical_gpus = tf.config.experimental.list_logical_devices('GPU')\n",
        "    print(len(gpus), \"Physical GPUs,\", len(logical_gpus), \"Logical GPUs\")\n",
        "  except RuntimeError as e:\n",
        "    # Memory growth must be set before GPUs have been initialized\n",
        "    print(e)"
      ],
      "metadata": {
        "id": "HwUs-NsJisaA"
      },
      "execution_count": null,
      "outputs": []
    },
    {
      "cell_type": "markdown",
      "metadata": {
        "id": "enBAoM1h3AS6"
      },
      "source": [
        "# Hyper Parameter"
      ]
    },
    {
      "cell_type": "code",
      "execution_count": null,
      "metadata": {
        "id": "KK7P32Fv3AS6"
      },
      "outputs": [],
      "source": [
        "image_w = 256\n",
        "image_h = 256\n",
        "input_shape = (image_w, image_h, 1)"
      ]
    },
    {
      "cell_type": "markdown",
      "source": [
        "# Load"
      ],
      "metadata": {
        "id": "WZ2UnCs3cGXk"
      }
    },
    {
      "cell_type": "markdown",
      "metadata": {
        "id": "x4dFA9UQ3AS7"
      },
      "source": [
        "# KISA All Load\n",
        "train, val 데이터셋"
      ]
    },
    {
      "cell_type": "code",
      "source": [
        "kisa_img_path = \"./dataset/KISA/img256\""
      ],
      "metadata": {
        "id": "xCZ9nj2PdzVl"
      },
      "execution_count": null,
      "outputs": []
    },
    {
      "cell_type": "code",
      "source": [
        "malware_df =pd.read_csv(\"./dataset/KISA/malware1.csv\")\n",
        "malware_df.head()"
      ],
      "metadata": {
        "id": "ETJkzo-gdw9S"
      },
      "execution_count": null,
      "outputs": []
    },
    {
      "cell_type": "code",
      "execution_count": null,
      "metadata": {
        "id": "WTeRAyuD3AS7"
      },
      "outputs": [],
      "source": [
        "x = []\n",
        "y = []\n",
        "\n",
        "for idx, row in tqdm(malware_df.iterrows()):\n",
        "    path = f\"{kisa_img_path}/{row['png']}\"\n",
        "    malware_class = row['malware']\n",
        "    \n",
        "    img = cv2.imread(path, cv2.IMREAD_GRAYSCALE)\n",
        "    img = img.reshape(image_w,image_h,1)\n",
        "    \n",
        "    x.append(img/255.)\n",
        "    y.append(malware_class)\n",
        "    \n",
        "x = np.array(x)\n",
        "y = np.array(y)\n",
        "    \n",
        "train_x, val_x, train_y, val_y = train_test_split(x, \n",
        "                                                  y, \n",
        "                                                  stratify=y, \n",
        "                                                  test_size=0.1)\n",
        "\n",
        "del x\n",
        "del y"
      ]
    },
    {
      "cell_type": "code",
      "execution_count": null,
      "metadata": {
        "id": "d1p6C0dL3AS8"
      },
      "outputs": [],
      "source": [
        "train_x.shape, val_x.shape, train_y.shape, val_y.shape"
      ]
    },
    {
      "cell_type": "markdown",
      "source": [
        "## KISA Load\n",
        "train용 데이터셋"
      ],
      "metadata": {
        "id": "Q8BeHrQUcNB5"
      }
    },
    {
      "cell_type": "code",
      "source": [
        "kisa_img_path = \"./dataset/KISA/img256\""
      ],
      "metadata": {
        "id": "8RZW-qQkcJdU"
      },
      "execution_count": null,
      "outputs": []
    },
    {
      "cell_type": "code",
      "execution_count": null,
      "metadata": {
        "id": "4T-Re3153AS6"
      },
      "outputs": [],
      "source": [
        "malware_df =pd.read_csv(\"./dataset/KISA/malware1.csv\")\n",
        "malware_df.head()"
      ]
    },
    {
      "cell_type": "code",
      "source": [
        "train_x = []\n",
        "train_y = []\n",
        "\n",
        "for idx, row in tqdm(malware_df.iterrows()):\n",
        "    path = f\"{kisa_img_path}/{row['png']}\"\n",
        "    malware_class = row['malware']\n",
        "    \n",
        "    img = cv2.imread(path, cv2.IMREAD_GRAYSCALE)\n",
        "    img = img.reshape(image_w,image_h,1)\n",
        "    \n",
        "    train_x.append(img/255.)\n",
        "    train_y.append(malware_class)\n",
        "    \n",
        "train_x = np.array(train_x)\n",
        "train_y = np.array(train_y)"
      ],
      "metadata": {
        "id": "aW8hQfrNcaeE"
      },
      "execution_count": null,
      "outputs": []
    },
    {
      "cell_type": "markdown",
      "source": [
        "## MS Load\n",
        "validation 데이터셋"
      ],
      "metadata": {
        "id": "cUui5hIscnSI"
      }
    },
    {
      "cell_type": "code",
      "source": [
        "ms_img_path = \"./dataset/MS/img256\""
      ],
      "metadata": {
        "id": "FNGKISQKdL-y"
      },
      "execution_count": null,
      "outputs": []
    },
    {
      "cell_type": "code",
      "source": [
        "val_x = []\n",
        "val_y = []\n",
        "\n",
        "for path in tqdm(glob(f\"{ms_img_path}/*.png\")):\n",
        "    img = cv2.imread(path, cv2.IMREAD_GRAYSCALE)\n",
        "    img = img.reshape(image_w,image_h,1)\n",
        "    \n",
        "    val_x.append(img/255.)\n",
        "    val_y.append(1)\n",
        "\n",
        "val_x = np.array(val_x)\n",
        "val_y = np.array(val_y)"
      ],
      "metadata": {
        "id": "0Ommg-2-cnBH"
      },
      "execution_count": null,
      "outputs": []
    },
    {
      "cell_type": "markdown",
      "source": [
        "# Conver TF dataset"
      ],
      "metadata": {
        "id": "xmu_tQDZdEri"
      }
    },
    {
      "cell_type": "code",
      "source": [
        "train_x.shape, val_x.shape, train_y.shape, val_y.shape"
      ],
      "metadata": {
        "id": "TEJ0QfBTd1uM"
      },
      "execution_count": null,
      "outputs": []
    },
    {
      "cell_type": "code",
      "source": [
        "train_dataset = tf.data.Dataset.from_tensor_slices((train_x, train_y)).shuffle(buffer_size=100000).batch(64)\n",
        "val_dataset = tf.data.Dataset.from_tensor_slices((val_x, val_y)).batch(64)"
      ],
      "metadata": {
        "id": "ZiJ6EZF57HP7"
      },
      "execution_count": null,
      "outputs": []
    },
    {
      "cell_type": "markdown",
      "metadata": {
        "id": "drpOf6iz3AS8"
      },
      "source": [
        "# Def Model"
      ]
    },
    {
      "cell_type": "code",
      "execution_count": null,
      "metadata": {
        "id": "UeFVDtxW3AS8"
      },
      "outputs": [],
      "source": [
        "def VGG16():\n",
        "    vgg16 = tf.keras.applications.vgg16.VGG16(include_top=False, weights=None, input_shape=input_shape)\n",
        "    \n",
        "    model = tf.keras.models.Sequential([\n",
        "        vgg16,\n",
        "        tf.keras.layers.Dense(512,activation='relu'),\n",
        "        tf.keras.layers.BatchNormalization(),\n",
        "        tf.keras.layers.GlobalAveragePooling2D(),\n",
        "        tf.keras.layers.Dense(1,activation='sigmoid')\n",
        "    ])\n",
        "    \n",
        "    model.compile(optimizer=tf.keras.optimizers.Adam(learning_rate=0.001), \n",
        "                  loss=tf.keras.losses.BinaryCrossentropy(), \n",
        "                  metrics=['accuracy'])\n",
        "    return model"
      ]
    },
    {
      "cell_type": "code",
      "execution_count": null,
      "metadata": {
        "id": "JvVCWQEN3AS9"
      },
      "outputs": [],
      "source": [
        "def ResNet50(lr=0.001):\n",
        "    resnet50 = tf.keras.applications.resnet50.ResNet50(include_top=False, weights=None, input_shape=input_shape)\n",
        "    \n",
        "    model = tf.keras.models.Sequential([\n",
        "        resnet50,\n",
        "        tf.keras.layers.Dense(512,activation='relu'),\n",
        "        tf.keras.layers.BatchNormalization(),\n",
        "        tf.keras.layers.GlobalAveragePooling2D(),\n",
        "        tf.keras.layers.Dense(1,activation='sigmoid')\n",
        "    ])\n",
        "    \n",
        "    model.compile(optimizer=tf.keras.optimizers.Adam(learning_rate=lr), \n",
        "                  loss=tf.keras.losses.BinaryCrossentropy(), \n",
        "                  metrics=['accuracy'])\n",
        "    return model"
      ]
    },
    {
      "cell_type": "code",
      "source": [
        "def ResNet50V2(lr=0.001):\n",
        "    resnet50v2 = tf.keras.applications.resnet_v2.ResNet50V2(include_top=False, weights=None, input_shape=input_shape)\n",
        "    \n",
        "    model = tf.keras.models.Sequential([\n",
        "        resnet50v2,\n",
        "        tf.keras.layers.Dense(512,activation='relu'),\n",
        "        tf.keras.layers.BatchNormalization(),\n",
        "        tf.keras.layers.GlobalAveragePooling2D(),\n",
        "        tf.keras.layers.Dense(1,activation='sigmoid')\n",
        "    ])\n",
        "    \n",
        "    model.compile(optimizer=tf.keras.optimizers.Adam(learning_rate=0.001), \n",
        "                  loss=tf.keras.losses.BinaryCrossentropy(), \n",
        "                  metrics=['accuracy'])\n",
        "    return model"
      ],
      "metadata": {
        "id": "pGLpYybjnI_H"
      },
      "execution_count": null,
      "outputs": []
    },
    {
      "cell_type": "code",
      "source": [
        "def ResNet101():\n",
        "    resnet101 = tf.keras.applications.resnet.ResNet101(include_top=False, weights=None, input_shape=input_shape)\n",
        "    \n",
        "    model = tf.keras.models.Sequential([\n",
        "        resnet101,\n",
        "        tf.keras.layers.Dense(512,activation='relu'),\n",
        "        tf.keras.layers.BatchNormalization(),\n",
        "        tf.keras.layers.GlobalAveragePooling2D(),\n",
        "        tf.keras.layers.Dense(1,activation='sigmoid')\n",
        "    ])\n",
        "    \n",
        "    model.compile(optimizer=tf.keras.optimizers.Adam(learning_rate=0.001), \n",
        "                  loss=tf.keras.losses.BinaryCrossentropy(), \n",
        "                  metrics=['accuracy'])\n",
        "    return model"
      ],
      "metadata": {
        "id": "AiT2bYO3bcKf"
      },
      "execution_count": null,
      "outputs": []
    },
    {
      "cell_type": "code",
      "source": [
        "def InceptionV3():\n",
        "    inceptionv3 = tf.keras.applications.inception_v3.InceptionV3(include_top=False, weights=None, input_shape=input_shape)\n",
        "    \n",
        "    model = tf.keras.models.Sequential([\n",
        "        inceptionv3,\n",
        "        tf.keras.layers.Dense(512,activation='relu'),\n",
        "        tf.keras.layers.BatchNormalization(),\n",
        "        tf.keras.layers.GlobalAveragePooling2D(),\n",
        "        tf.keras.layers.Dense(1,activation='sigmoid')\n",
        "    ])\n",
        "    \n",
        "    model.compile(optimizer=tf.keras.optimizers.Adam(learning_rate=0.001), \n",
        "                  loss=tf.keras.losses.BinaryCrossentropy(), \n",
        "                  metrics=['accuracy'])\n",
        "    return model"
      ],
      "metadata": {
        "id": "8xXlM8LDh3tS"
      },
      "execution_count": null,
      "outputs": []
    },
    {
      "cell_type": "code",
      "source": [
        "def EfficientNetB0():\n",
        "    efficientnetb0 = tf.keras.applications.efficientnet.EfficientNetB0(include_top=False, weights=None, input_shape=input_shape)\n",
        "    \n",
        "    model = tf.keras.models.Sequential([\n",
        "        efficientnetb0,\n",
        "        tf.keras.layers.Dense(512,activation='relu'),\n",
        "        tf.keras.layers.BatchNormalization(),\n",
        "        tf.keras.layers.GlobalAveragePooling2D(),\n",
        "        tf.keras.layers.Dense(1,activation='sigmoid')\n",
        "    ])\n",
        "    \n",
        "    model.compile(optimizer=tf.keras.optimizers.Adam(learning_rate=0.001), \n",
        "                  loss=tf.keras.losses.BinaryCrossentropy(), \n",
        "                  metrics=['accuracy'])\n",
        "    return model"
      ],
      "metadata": {
        "id": "m-SPr7w5PeKl"
      },
      "execution_count": null,
      "outputs": []
    },
    {
      "cell_type": "code",
      "source": [
        "def EfficientNetV2B0(lr=0.001):\n",
        "    efficientnetv2b0 = tf.keras.applications.efficientnet_v2.EfficientNetV2B0(include_top=False, weights=None, input_shape=input_shape)\n",
        "    \n",
        "    model = tf.keras.models.Sequential([\n",
        "        efficientnetv2b0,\n",
        "        tf.keras.layers.Dense(512,activation='relu'),\n",
        "        tf.keras.layers.BatchNormalization(),\n",
        "        tf.keras.layers.GlobalAveragePooling2D(),\n",
        "        tf.keras.layers.Dense(1,activation='sigmoid')\n",
        "    ])\n",
        "    \n",
        "    model.compile(optimizer=tf.keras.optimizers.Adam(learning_rate=0.001), \n",
        "                  loss=tf.keras.losses.BinaryCrossentropy(), \n",
        "                  metrics=['accuracy'])\n",
        "    return model"
      ],
      "metadata": {
        "id": "hxCjRsTYrcfk"
      },
      "execution_count": null,
      "outputs": []
    },
    {
      "cell_type": "code",
      "source": [
        "def EfficientNetV2B1(lr=0.001):\n",
        "    efficientnetv2b1 = tf.keras.applications.efficientnet_v2.EfficientNetV2B1(include_top=False, weights=None, input_shape=input_shape)\n",
        "    \n",
        "    model = tf.keras.models.Sequential([\n",
        "        efficientnetv2b1,\n",
        "        tf.keras.layers.Dense(512,activation='relu'),\n",
        "        tf.keras.layers.BatchNormalization(),\n",
        "        tf.keras.layers.GlobalAveragePooling2D(),\n",
        "        tf.keras.layers.Dense(1,activation='sigmoid')\n",
        "    ])\n",
        "    \n",
        "    model.compile(optimizer=tf.keras.optimizers.Adam(learning_rate=0.001), \n",
        "                  loss=tf.keras.losses.BinaryCrossentropy(), \n",
        "                  metrics=['accuracy'])\n",
        "    return model"
      ],
      "metadata": {
        "id": "fWkx0tzrX3_-"
      },
      "execution_count": null,
      "outputs": []
    },
    {
      "cell_type": "code",
      "source": [
        "def DenseNet121():\n",
        "    densenet121 = tf.keras.applications.densenet.DenseNet121(include_top=False, weights=None, input_shape=input_shape)\n",
        "    \n",
        "    model = tf.keras.models.Sequential([\n",
        "        densenet121,\n",
        "        tf.keras.layers.Dense(512,activation='relu'),\n",
        "        tf.keras.layers.BatchNormalization(),\n",
        "        tf.keras.layers.GlobalAveragePooling2D(),\n",
        "        tf.keras.layers.Dense(1,activation='sigmoid')\n",
        "    ])\n",
        "    \n",
        "    model.compile(optimizer=tf.keras.optimizers.Adam(learning_rate=0.001), \n",
        "                  loss=tf.keras.losses.BinaryCrossentropy(), \n",
        "                  metrics=['accuracy'])\n",
        "    return model"
      ],
      "metadata": {
        "id": "pgyQNLJhVBg1"
      },
      "execution_count": null,
      "outputs": []
    },
    {
      "cell_type": "code",
      "source": [
        "def DCAv1(lr=0.001):\n",
        "    model = tf.keras.Sequential()\n",
        "    model.add(tf.keras.layers.Conv2D(50, (5,5), \n",
        "                             activation='relu', padding='same',\n",
        "                             input_shape=(256, 256, 1)))\n",
        "    model.add(tf.keras.layers.MaxPooling2D((2,2)))\n",
        "\n",
        "    model.add(tf.keras.layers.Conv2D(70, (3,3), \n",
        "                             activation='relu', padding='same',\n",
        "                             input_shape=(64, 64, 50)))\n",
        "    model.add(tf.keras.layers.MaxPooling2D((2,2)))\n",
        "\n",
        "    model.add(tf.keras.layers.Conv2D(70, (3,3), \n",
        "                             activation='relu', padding='same',\n",
        "                             input_shape=(32, 32, 70)))\n",
        "    model.add(tf.keras.layers.MaxPooling2D((2,2)))\n",
        "\n",
        "    model.add(tf.keras.layers.Flatten())\n",
        "    model.add(tf.keras.layers.Dense(256, activation='relu'))\n",
        "    model.add(tf.keras.layers.Dense(1, activation='sigmoid'))\n",
        "    \n",
        "    model.compile(optimizer=tf.keras.optimizers.Adam(learning_rate=lr), \n",
        "                  loss=tf.keras.losses.BinaryCrossentropy(), \n",
        "                  metrics=['accuracy'])\n",
        "    return model"
      ],
      "metadata": {
        "id": "xsrKbPXuvk6c"
      },
      "execution_count": null,
      "outputs": []
    },
    {
      "cell_type": "code",
      "source": [
        "def DCAv2():\n",
        "    model = tf.keras.Sequential()\n",
        "    model.add(tf.keras.layers.Conv2D(70, (5,5), \n",
        "                             activation='relu', padding='same',\n",
        "                             input_shape=(256, 256, 1)))\n",
        "    model.add(tf.keras.layers.MaxPooling2D((2,2)))\n",
        "\n",
        "    model.add(tf.keras.layers.Conv2D(70, (3,3), \n",
        "                             activation='relu', padding='same',\n",
        "                             input_shape=(64, 64, 50)))\n",
        "    model.add(tf.keras.layers.MaxPooling2D((2,2)))\n",
        "\n",
        "    model.add(tf.keras.layers.Conv2D(70, (3,3), \n",
        "                             activation='relu', padding='same',\n",
        "                             input_shape=(32, 32, 70)))\n",
        "    model.add(tf.keras.layers.MaxPooling2D((2,2)))\n",
        "\n",
        "    model.add(tf.keras.layers.Flatten())\n",
        "    model.add(tf.keras.layers.Dense(256, activation='relu'))\n",
        "    model.add(tf.keras.layers.BatchNormalization())\n",
        "    model.add(tf.keras.layers.Dense(1, activation='sigmoid'))\n",
        "    \n",
        "    model.compile(optimizer=tf.keras.optimizers.Adam(learning_rate=0.001), \n",
        "                  loss=tf.keras.losses.BinaryCrossentropy(), \n",
        "                  metrics=['accuracy'])\n",
        "    return model"
      ],
      "metadata": {
        "id": "Qk5rzZmU20ME"
      },
      "execution_count": null,
      "outputs": []
    },
    {
      "cell_type": "markdown",
      "metadata": {
        "id": "nRUOxS2V3AS9"
      },
      "source": [
        "# Train"
      ]
    },
    {
      "cell_type": "markdown",
      "source": [
        "## set folder"
      ],
      "metadata": {
        "id": "cuW4dq_Bgc3C"
      }
    },
    {
      "cell_type": "code",
      "execution_count": null,
      "metadata": {
        "id": "hGUO8tdH3AS9"
      },
      "outputs": [],
      "source": [
        "folder_name = \"ResNet50\"\n",
        "if not os.path.exists(f\"./model\"):\n",
        "    os.mkdir(f\"./model\")\n",
        "    print(\"./model\")\n",
        "if not os.path.exists(f\"./img\"):\n",
        "    os.mkdir(f\"./img\")\n",
        "    print(\"./img\")\n",
        "if not os.path.exists(f\"./model/{folder_name}\"):\n",
        "    os.mkdir(f\"./model/{folder_name}\")\n",
        "    print(f\"create ./model/{folder_name}\")\n",
        "else:\n",
        "    shutil.rmtree(f\"./model/{folder_name}\")\n",
        "    os.mkdir(f\"./model/{folder_name}\")\n",
        "    print(f\"reset ./model/{folder_name}\")\n",
        "if not os.path.exists(f\"./img/{folder_name}\"):\n",
        "    os.mkdir(f\"./img/{folder_name}\")\n",
        "    print(f\"create ./img/{folder_name}\")"
      ]
    },
    {
      "cell_type": "markdown",
      "source": [
        "## lr schedules create"
      ],
      "metadata": {
        "id": "LKpAhvA5gfED"
      }
    },
    {
      "cell_type": "code",
      "source": [
        "lr_decayed_fn = tf.keras.optimizers.schedules.CosineDecay(initial_learning_rate=0.001, decay_steps=30, alpha=0.001)"
      ],
      "metadata": {
        "id": "a2M7Q09Egg3E"
      },
      "execution_count": null,
      "outputs": []
    },
    {
      "cell_type": "markdown",
      "source": [
        "## model create"
      ],
      "metadata": {
        "id": "_0Nbx4d5g03Z"
      }
    },
    {
      "cell_type": "code",
      "source": [
        "model = ResNet50()\n",
        "model.summary()"
      ],
      "metadata": {
        "id": "HrTSRP763wJo"
      },
      "execution_count": null,
      "outputs": []
    },
    {
      "cell_type": "markdown",
      "source": [
        "## callback create"
      ],
      "metadata": {
        "id": "3cqh1Ez0izf3"
      }
    },
    {
      "cell_type": "code",
      "execution_count": null,
      "metadata": {
        "id": "mNZqmd_j3AS-"
      },
      "outputs": [],
      "source": [
        "save_path = f\"./model/{folder_name}/\"\n",
        "\n",
        "checkpoint_path = save_path+\"/model_{epoch}.ckpt\"\n",
        "cp_callback = tf.keras.callbacks.ModelCheckpoint(filepath=checkpoint_path, save_weights_only=True, verbose=0)"
      ]
    },
    {
      "cell_type": "markdown",
      "source": [
        "## model fit"
      ],
      "metadata": {
        "id": "1jHBscb8hnXT"
      }
    },
    {
      "cell_type": "code",
      "source": [
        "# history = model.fit(train_dataset, \n",
        "#                     epochs=30, \n",
        "#                     validation_data=val_dataset, \n",
        "#                     callbacks=[cp_callback])\n",
        "history = model.fit(train_x, train_y,\n",
        "                    epochs=30, \n",
        "                    validation_data=(val_x, val_y),\n",
        "                    batch_size=64,\n",
        "                    callbacks=[cp_callback])"
      ],
      "metadata": {
        "id": "B9V5wfchgHvo"
      },
      "execution_count": null,
      "outputs": []
    },
    {
      "cell_type": "markdown",
      "source": [
        "## result"
      ],
      "metadata": {
        "id": "wqzZuxi8iY_8"
      }
    },
    {
      "cell_type": "code",
      "source": [
        "idx = 14\n",
        "\n",
        "plt.text(idx, 0.97, f'epoch = {idx+1}', ha='center', va='bottom', size = 10)\n",
        "\n",
        "plt.plot(history.history['loss'])\n",
        "plt.plot(history.history['val_loss'])\n",
        "\n",
        "plt.text(idx, history.history['loss'][idx], '%.2f' %  history.history['loss'][idx], ha='center', va='bottom', size = 10)\n",
        "plt.text(idx, history.history['val_loss'][idx], '%.2f' %  history.history['val_loss'][idx], ha='center', va='bottom', size = 10)\n",
        "\n",
        "plt.axvline(idx, 0, 1, color='lightgray', linestyle='--', linewidth=2)\n",
        "\n",
        "plt.ylabel('loss')\n",
        "plt.xlabel('epoch')\n",
        "plt.legend(['train_loss','val_loss'])\n",
        "plt.savefig(f\"./img/{folder_name}/loss.png\")\n",
        "plt.show()\n",
        "\n",
        "plt.text(idx, 0.97, f'epoch = {idx+1}', ha='center', va='bottom', size = 10)\n",
        "\n",
        "plt.plot(history.history['accuracy'])\n",
        "plt.plot(history.history['val_accuracy'])\n",
        "\n",
        "plt.text(idx, history.history['accuracy'][idx], '%.2f' %  history.history['accuracy'][idx], ha='center', va='bottom', size = 10)\n",
        "plt.text(idx, history.history['val_accuracy'][idx], '%.2f' %  history.history['val_accuracy'][idx], ha='center', va='bottom', size = 10)\n",
        "\n",
        "plt.axvline(idx, 0, 1, color='lightgray', linestyle='--', linewidth=2)\n",
        "\n",
        "plt.ylabel('accuracy')\n",
        "plt.xlabel('epoch')\n",
        "plt.legend(['train_accuracy','val_accuracy'])\n",
        "plt.savefig(f\"./img/{folder_name}/acc.png\")\n",
        "plt.show()"
      ],
      "metadata": {
        "id": "4al9vUU7FXh3"
      },
      "execution_count": null,
      "outputs": []
    },
    {
      "cell_type": "markdown",
      "source": [
        "# Model Load"
      ],
      "metadata": {
        "id": "oeFuA223UR2Y"
      }
    },
    {
      "cell_type": "code",
      "source": [
        "!unzip /content/drive/MyDrive/server_security/malware_model.zip -d ./malware_model"
      ],
      "metadata": {
        "id": "N4QIUAQhUWsm"
      },
      "execution_count": null,
      "outputs": []
    },
    {
      "cell_type": "code",
      "source": [
        "epoch = 16\n",
        "checkpoint_path = f\"./malware_model/model_{epoch}.ckpt\""
      ],
      "metadata": {
        "id": "PvQ-TWeSUrxY"
      },
      "execution_count": null,
      "outputs": []
    },
    {
      "cell_type": "code",
      "source": [
        "malware_model = ResNet50()\n",
        "malware_model.load_weights(checkpoint_path)"
      ],
      "metadata": {
        "id": "4clBpjQyUT5M"
      },
      "execution_count": null,
      "outputs": []
    },
    {
      "cell_type": "markdown",
      "source": [
        "## Evaluate"
      ],
      "metadata": {
        "id": "knKjsbnGlwOP"
      }
    },
    {
      "cell_type": "code",
      "source": [
        "results = malware_model.evaluate(val_x, val_y)\n",
        "print(\"test loss, test acc:\", results)"
      ],
      "metadata": {
        "id": "aJq2zNgMly0a"
      },
      "execution_count": null,
      "outputs": []
    },
    {
      "cell_type": "markdown",
      "source": [
        "## Predict"
      ],
      "metadata": {
        "id": "5m9xd6oYlxk4"
      }
    },
    {
      "cell_type": "code",
      "source": [
        "prediction = malware_model.predict(val_x)\n",
        "prediction"
      ],
      "metadata": {
        "id": "JoBz94HGUu1T"
      },
      "execution_count": null,
      "outputs": []
    },
    {
      "cell_type": "markdown",
      "source": [
        "# Save Goole Drive"
      ],
      "metadata": {
        "id": "8VttHovY_jjw"
      }
    },
    {
      "cell_type": "code",
      "execution_count": null,
      "metadata": {
        "id": "0uxY-drI3AS-"
      },
      "outputs": [],
      "source": [
        "!zip -r ResNet50.zip ./model/ResNet50/model_14.*"
      ]
    },
    {
      "cell_type": "code",
      "source": [
        "!mkdir /content/drive/MyDrive/server_security/colab/KISA/Malware/img/ResNet50\n",
        "!mv ./ResNet50.zip /content/drive/MyDrive/server_security/colab/KISA/Malware/model\n",
        "!mv ./img/ResNet50/* /content/drive/MyDrive/server_security/colab/KISA/Malware/img/ResNet50"
      ],
      "metadata": {
        "id": "lu86UzsR_7a0"
      },
      "execution_count": null,
      "outputs": []
    },
    {
      "cell_type": "code",
      "source": [],
      "metadata": {
        "id": "KbeEv1Od2VNT"
      },
      "execution_count": null,
      "outputs": []
    }
  ],
  "metadata": {
    "kernelspec": {
      "display_name": "Python 3",
      "language": "python",
      "name": "python3"
    },
    "language_info": {
      "codemirror_mode": {
        "name": "ipython",
        "version": 3
      },
      "file_extension": ".py",
      "mimetype": "text/x-python",
      "name": "python",
      "nbconvert_exporter": "python",
      "pygments_lexer": "ipython3",
      "version": "3.8.10"
    },
    "colab": {
      "provenance": [],
      "gpuType": "T4",
      "machine_shape": "hm",
      "private_outputs": true,
      "collapsed_sections": [
        "Q8BeHrQUcNB5",
        "cUui5hIscnSI"
      ],
      "include_colab_link": true
    },
    "accelerator": "GPU",
    "gpuClass": "standard"
  },
  "nbformat": 4,
  "nbformat_minor": 0
}