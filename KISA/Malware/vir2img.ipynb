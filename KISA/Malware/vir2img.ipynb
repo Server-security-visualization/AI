{
 "cells": [
  {
   "cell_type": "code",
   "execution_count": 1,
   "metadata": {},
   "outputs": [
    {
     "name": "stdout",
     "output_type": "stream",
     "text": [
      "Collecting tqdm\n",
      "  Downloading tqdm-4.65.0-py3-none-any.whl (77 kB)\n",
      "\u001b[K     |████████████████████████████████| 77 kB 5.9 MB/s eta 0:00:011\n",
      "\u001b[?25hInstalling collected packages: tqdm\n",
      "Successfully installed tqdm-4.65.0\n",
      "\u001b[33mWARNING: You are using pip version 20.2.4; however, version 23.1.2 is available.\n",
      "You should consider upgrading via the '/usr/bin/python3 -m pip install --upgrade pip' command.\u001b[0m\n"
     ]
    }
   ],
   "source": [
    "!pip3 install tqdm"
   ]
  },
  {
   "cell_type": "markdown",
   "metadata": {},
   "source": [
    "# import"
   ]
  },
  {
   "cell_type": "code",
   "execution_count": 2,
   "metadata": {},
   "outputs": [],
   "source": [
    "import os\n",
    "import math\n",
    "import time\n",
    "import numpy as np\n",
    "from glob import glob\n",
    "from tqdm import tqdm\n",
    "from PIL import Image\n",
    "from multiprocessing import Process, Queue"
   ]
  },
  {
   "cell_type": "markdown",
   "metadata": {},
   "source": [
    "# Load"
   ]
  },
  {
   "cell_type": "code",
   "execution_count": 3,
   "metadata": {},
   "outputs": [
    {
     "data": {
      "text/plain": [
       "(15000,\n",
       " ['./dataset/vir/dda86ab09e178e4c4b8bab3866e75df5.vir',\n",
       "  './dataset/vir/24d24ae4e5895094d9a0f0f2b6b905b7.vir',\n",
       "  './dataset/vir/4e0c56ed9548d3fc5c66a9830cf7aa96.vir',\n",
       "  './dataset/vir/01b051f885fe6494e25992c39af3ab46.vir',\n",
       "  './dataset/vir/5a4bd18b4fbc294ea9fac71a2ea0a120.vir'])"
      ]
     },
     "execution_count": 3,
     "metadata": {},
     "output_type": "execute_result"
    }
   ],
   "source": [
    "vir_path = glob(\"./dataset/vir/*.vir\")\n",
    "len(vir_path), vir_path[:5]"
   ]
  },
  {
   "cell_type": "markdown",
   "metadata": {},
   "source": [
    "# define func"
   ]
  },
  {
   "cell_type": "code",
   "execution_count": 4,
   "metadata": {},
   "outputs": [],
   "source": [
    "def vir2img(bytes_filepath, filename, width=256, height=256):\n",
    "    if os.path.isfile(filename):\n",
    "        return\n",
    "\n",
    "    hex_array = []\n",
    "    with open(bytes_filepath, \"rb\") as hex_file:\n",
    "        hex_array = hex_file.read()\n",
    "        hex_array = np.frombuffer(hex_array, dtype=np.uint8)\n",
    "        \n",
    "    img = Image.fromarray(np.uint8(hex_array))\n",
    "    img = img.resize((width, height), resample=Image.Resampling.BICUBIC)\n",
    "    img.save(filename)"
   ]
  },
  {
   "cell_type": "markdown",
   "metadata": {},
   "source": [
    "# Convert Mutli Processing"
   ]
  },
  {
   "cell_type": "code",
   "execution_count": null,
   "metadata": {},
   "outputs": [],
   "source": [
    "img_path = \"./dataset/img256\"\n",
    "\n",
    "start = time.time()\n",
    "\n",
    "processes = []\n",
    "for path in tqdm(vir_path):\n",
    "    basename = os.path.basename(path).split(\".\")[0]\n",
    "    p = Process(target=vir2img, args=(path, f\"{img_path}/{basename}.png\", 256, 256, ))\n",
    "    p.start()\n",
    "    processes.append(p)\n",
    "    \n",
    "for p in processes:\n",
    "    p.join()\n",
    "    \n",
    "end = time.time()\n",
    "\n",
    "print(\"수행시간: %f 초\" % (end - start))"
   ]
  },
  {
   "cell_type": "markdown",
   "metadata": {},
   "source": [
    "# Convert"
   ]
  },
  {
   "cell_type": "code",
   "execution_count": 5,
   "metadata": {},
   "outputs": [
    {
     "name": "stderr",
     "output_type": "stream",
     "text": [
      "100%|██████████| 15000/15000 [6:30:40<00:00,  1.56s/it]  \n"
     ]
    }
   ],
   "source": [
    "img_path = \"./dataset/img256\"\n",
    "\n",
    "for path in tqdm(vir_path):\n",
    "    basename = os.path.basename(path).split(\".\")[0]\n",
    "    vir2img(path, f\"{img_path}/{basename}.png\", 256, 256)"
   ]
  },
  {
   "cell_type": "code",
   "execution_count": null,
   "metadata": {},
   "outputs": [],
   "source": []
  }
 ],
 "metadata": {
  "kernelspec": {
   "display_name": "Python 3",
   "language": "python",
   "name": "python3"
  },
  "language_info": {
   "codemirror_mode": {
    "name": "ipython",
    "version": 3
   },
   "file_extension": ".py",
   "mimetype": "text/x-python",
   "name": "python",
   "nbconvert_exporter": "python",
   "pygments_lexer": "ipython3",
   "version": "3.8.10"
  }
 },
 "nbformat": 4,
 "nbformat_minor": 2
}
