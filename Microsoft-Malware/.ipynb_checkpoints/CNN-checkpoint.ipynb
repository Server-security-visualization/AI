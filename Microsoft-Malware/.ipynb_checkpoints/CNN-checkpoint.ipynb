{
 "cells": [
  {
   "cell_type": "code",
   "execution_count": 1,
   "metadata": {},
   "outputs": [
    {
     "name": "stdout",
     "output_type": "stream",
     "text": [
      "Sun Mar 19 12:30:42 2023       \r\n",
      "+-----------------------------------------------------------------------------+\r\n",
      "| NVIDIA-SMI 525.89.02    Driver Version: 528.49       CUDA Version: 12.0     |\r\n",
      "|-------------------------------+----------------------+----------------------+\r\n",
      "| GPU  Name        Persistence-M| Bus-Id        Disp.A | Volatile Uncorr. ECC |\r\n",
      "| Fan  Temp  Perf  Pwr:Usage/Cap|         Memory-Usage | GPU-Util  Compute M. |\r\n",
      "|                               |                      |               MIG M. |\r\n",
      "|===============================+======================+======================|\r\n",
      "|   0  NVIDIA GeForce ...  On   | 00000000:01:00.0  On |                  N/A |\r\n",
      "| 44%   49C    P8    29W / 220W |   1066MiB /  8192MiB |      5%      Default |\r\n",
      "|                               |                      |                  N/A |\r\n",
      "+-------------------------------+----------------------+----------------------+\r\n",
      "                                                                               \r\n",
      "+-----------------------------------------------------------------------------+\r\n",
      "| Processes:                                                                  |\r\n",
      "|  GPU   GI   CI        PID   Type   Process name                  GPU Memory |\r\n",
      "|        ID   ID                                                   Usage      |\r\n",
      "|=============================================================================|\r\n",
      "|  No running processes found                                                 |\r\n",
      "+-----------------------------------------------------------------------------+\r\n"
     ]
    }
   ],
   "source": [
    "!nvidia-smi"
   ]
  },
  {
   "cell_type": "markdown",
   "metadata": {},
   "source": [
    "# import"
   ]
  },
  {
   "cell_type": "code",
   "execution_count": 21,
   "metadata": {},
   "outputs": [],
   "source": [
    "import tensorflow as tf\n",
    "import matplotlib.pyplot as plt\n",
    "from tensorflow.keras.layers import Conv2D, MaxPooling2D, Flatten, Dense, Dropout\n",
    "from keras import regularizers\n",
    "from keras import optimizers\n",
    "from glob import glob"
   ]
  },
  {
   "cell_type": "markdown",
   "metadata": {},
   "source": [
    "# TFRecord read"
   ]
  },
  {
   "cell_type": "code",
   "execution_count": 3,
   "metadata": {},
   "outputs": [
    {
     "data": {
      "text/plain": [
       "<TFRecordDatasetV2 element_spec=TensorSpec(shape=(), dtype=tf.string, name=None)>"
      ]
     },
     "execution_count": 3,
     "metadata": {},
     "output_type": "execute_result"
    }
   ],
   "source": [
    "tf_dataset = tf.data.TFRecordDataset('./dataset/train.tfrecord')\n",
    "tf_dataset"
   ]
  },
  {
   "cell_type": "code",
   "execution_count": 4,
   "metadata": {},
   "outputs": [],
   "source": [
    "def decode_image(image):\n",
    "    image = tf.image.decode_jpeg(image, channels=1)\n",
    "    image = tf.cast(image, tf.float32)\n",
    "    image = tf.reshape(image, [256, 256, 1])\n",
    "    return image"
   ]
  },
  {
   "cell_type": "code",
   "execution_count": 5,
   "metadata": {},
   "outputs": [],
   "source": [
    "def parse_function(example_proto):\n",
    "    image_feature_description = {\n",
    "        'label': tf.io.FixedLenFeature([], tf.int64),\n",
    "        'image_raw': tf.io.FixedLenFeature([], tf.string),\n",
    "    }\n",
    "    \n",
    "    example = tf.io.parse_single_example(example_proto, image_feature_description)\n",
    "    image = decode_image(example[\"image_raw\"])\n",
    "    \n",
    "    return image, example[\"label\"]"
   ]
  },
  {
   "cell_type": "code",
   "execution_count": 6,
   "metadata": {},
   "outputs": [
    {
     "data": {
      "text/plain": [
       "<MapDataset element_spec=(TensorSpec(shape=(256, 256, 1), dtype=tf.float32, name=None), TensorSpec(shape=(), dtype=tf.int64, name=None))>"
      ]
     },
     "execution_count": 6,
     "metadata": {},
     "output_type": "execute_result"
    }
   ],
   "source": [
    "dataset = tf_dataset.map(parse_function)\n",
    "dataset"
   ]
  },
  {
   "cell_type": "markdown",
   "metadata": {},
   "source": [
    "# Dataset"
   ]
  },
  {
   "cell_type": "code",
   "execution_count": 7,
   "metadata": {},
   "outputs": [
    {
     "name": "stdout",
     "output_type": "stream",
     "text": [
      "train : 8694\n",
      "val : 2173\n"
     ]
    }
   ],
   "source": [
    "#DATASET_SIZE = len(list(dataset))\n",
    "DATASET_SIZE = 10868\n",
    "\n",
    "train_size = int(0.8 * DATASET_SIZE)\n",
    "val_size = int(0.2 * DATASET_SIZE)\n",
    "\n",
    "print(\"train :\", train_size)\n",
    "print(\"val :\", val_size)"
   ]
  },
  {
   "cell_type": "code",
   "execution_count": 8,
   "metadata": {},
   "outputs": [],
   "source": [
    "AUTOTUNE = tf.data.experimental.AUTOTUNE\n",
    "\n",
    "dataset.shuffle(DATASET_SIZE)\n",
    "\n",
    "train_dataset = dataset.take(train_size)\n",
    "val_dataset = dataset.skip(train_size)\n",
    "\n",
    "train_dataset = train_dataset.batch(64).prefetch(buffer_size=AUTOTUNE)\n",
    "val_dataset = val_dataset.batch(64).prefetch(buffer_size=AUTOTUNE)"
   ]
  },
  {
   "cell_type": "markdown",
   "metadata": {},
   "source": [
    "# Simple CNN"
   ]
  },
  {
   "cell_type": "code",
   "execution_count": 9,
   "metadata": {},
   "outputs": [
    {
     "name": "stdout",
     "output_type": "stream",
     "text": [
      "Model: \"sequential\"\n",
      "_________________________________________________________________\n",
      " Layer (type)                Output Shape              Param #   \n",
      "=================================================================\n",
      " conv2d (Conv2D)             (None, 256, 256, 32)      320       \n",
      "                                                                 \n",
      " max_pooling2d (MaxPooling2D  (None, 128, 128, 32)     0         \n",
      " )                                                               \n",
      "                                                                 \n",
      " conv2d_1 (Conv2D)           (None, 128, 128, 32)      9248      \n",
      "                                                                 \n",
      " max_pooling2d_1 (MaxPooling  (None, 64, 64, 32)       0         \n",
      " 2D)                                                             \n",
      "                                                                 \n",
      " conv2d_2 (Conv2D)           (None, 64, 64, 32)        9248      \n",
      "                                                                 \n",
      " max_pooling2d_2 (MaxPooling  (None, 32, 32, 32)       0         \n",
      " 2D)                                                             \n",
      "                                                                 \n",
      " flatten (Flatten)           (None, 32768)             0         \n",
      "                                                                 \n",
      " dropout (Dropout)           (None, 32768)             0         \n",
      "                                                                 \n",
      " dense (Dense)               (None, 100)               3276900   \n",
      "                                                                 \n",
      " dense_1 (Dense)             (None, 10)                1010      \n",
      "                                                                 \n",
      "=================================================================\n",
      "Total params: 3,296,726\n",
      "Trainable params: 3,296,726\n",
      "Non-trainable params: 0\n",
      "_________________________________________________________________\n"
     ]
    }
   ],
   "source": [
    "malware_class = tf.keras.Sequential()\n",
    "malware_class.add(Conv2D(32, (3,3), \n",
    "                         activation='relu', padding='same',\n",
    "                         input_shape=(256, 256, 1)))\n",
    "malware_class.add(MaxPooling2D((2,2)))\n",
    "\n",
    "malware_class.add(Conv2D(32, (3,3), \n",
    "                         activation='relu', padding='same',\n",
    "                         input_shape=(128, 128, 1)))\n",
    "malware_class.add(MaxPooling2D((2,2)))\n",
    "\n",
    "malware_class.add(Conv2D(32, (3,3), \n",
    "                         activation='relu', padding='same',\n",
    "                         input_shape=(64, 64, 1)))\n",
    "malware_class.add(MaxPooling2D((2,2)))\n",
    "\n",
    "malware_class.add(Flatten())\n",
    "malware_class.add(Dropout(0.25))\n",
    "malware_class.add(Dense(100, activation='relu'))\n",
    "malware_class.add(Dense(10, activation='softmax'))\n",
    "malware_class.summary()"
   ]
  },
  {
   "cell_type": "code",
   "execution_count": 10,
   "metadata": {},
   "outputs": [
    {
     "name": "stdout",
     "output_type": "stream",
     "text": [
      "Epoch 1/10\n"
     ]
    },
    {
     "name": "stderr",
     "output_type": "stream",
     "text": [
      "/usr/local/lib/python3.8/dist-packages/keras/optimizers/optimizer_v2/adam.py:110: UserWarning: The `lr` argument is deprecated, use `learning_rate` instead.\n",
      "  super(Adam, self).__init__(name, **kwargs)\n"
     ]
    },
    {
     "name": "stdout",
     "output_type": "stream",
     "text": [
      "136/136 [==============================] - 12s 63ms/step - loss: 8.1833 - accuracy: 0.6552 - val_loss: 10.5801 - val_accuracy: 0.0000e+00\n",
      "Epoch 2/10\n",
      "136/136 [==============================] - 8s 56ms/step - loss: 1.1660 - accuracy: 0.7107 - val_loss: 3.8665 - val_accuracy: 0.0000e+00\n",
      "Epoch 3/10\n",
      "136/136 [==============================] - 8s 56ms/step - loss: 1.1632 - accuracy: 0.6488 - val_loss: 8.3570 - val_accuracy: 0.0000e+00\n",
      "Epoch 4/10\n",
      "136/136 [==============================] - 8s 56ms/step - loss: 0.7835 - accuracy: 0.7973 - val_loss: 3.0326 - val_accuracy: 0.3413\n",
      "Epoch 5/10\n",
      "136/136 [==============================] - 8s 58ms/step - loss: 1.3587 - accuracy: 0.8282 - val_loss: 3.5568 - val_accuracy: 0.1504\n",
      "Epoch 6/10\n",
      "136/136 [==============================] - 8s 56ms/step - loss: 0.5814 - accuracy: 0.8168 - val_loss: 4.0506 - val_accuracy: 0.3381\n",
      "Epoch 7/10\n",
      "136/136 [==============================] - 8s 59ms/step - loss: 0.5213 - accuracy: 0.8637 - val_loss: 4.8394 - val_accuracy: 0.3385\n",
      "Epoch 8/10\n",
      "136/136 [==============================] - 8s 59ms/step - loss: 0.3173 - accuracy: 0.9124 - val_loss: 5.4006 - val_accuracy: 0.3408\n",
      "Epoch 9/10\n",
      "136/136 [==============================] - 8s 57ms/step - loss: 0.2253 - accuracy: 0.9412 - val_loss: 6.2881 - val_accuracy: 0.3473\n",
      "Epoch 10/10\n",
      "136/136 [==============================] - 8s 57ms/step - loss: 0.1804 - accuracy: 0.9548 - val_loss: 6.7713 - val_accuracy: 0.3560\n"
     ]
    }
   ],
   "source": [
    "adam = optimizers.Adam(lr=0.0001)\n",
    "malware_class.compile(optimizer=adam, loss='sparse_categorical_crossentropy', metrics=['accuracy'])\n",
    "history = malware_class.fit(train_dataset, epochs=10, validation_data=val_dataset)"
   ]
  },
  {
   "cell_type": "code",
   "execution_count": 13,
   "metadata": {
    "scrolled": false
   },
   "outputs": [
    {
     "data": {
      "image/png": "[encoded data removed]",
      "text/plain": [
       "<Figure size 640x480 with 1 Axes>"
      ]
     },
     "metadata": {},
     "output_type": "display_data"
    },
    {
     "data": {
      "image/png": "[encoded data removed]",
      "text/plain": [
       "<Figure size 640x480 with 1 Axes>"
      ]
     },
     "metadata": {},
     "output_type": "display_data"
    }
   ],
   "source": [
    "plt.plot(history.history['loss'])\n",
    "plt.plot(history.history['val_loss'])\n",
    "plt.ylabel('loss')\n",
    "plt.xlabel('epoch')\n",
    "plt.legend(['train_loss','val_loss'])\n",
    "plt.show()\n",
    "\n",
    "plt.plot(history.history['accuracy'])\n",
    "plt.plot(history.history['val_accuracy'])\n",
    "plt.ylabel('loss')\n",
    "plt.xlabel('epoch')\n",
    "plt.legend(['train_accuracy','val_accuracy'])\n",
    "plt.show()"
   ]
  },
  {
   "cell_type": "markdown",
   "metadata": {},
   "source": [
    "# Model Save"
   ]
  },
  {
   "cell_type": "code",
   "execution_count": 14,
   "metadata": {},
   "outputs": [
    {
     "name": "stderr",
     "output_type": "stream",
     "text": [
      "WARNING:absl:Found untraced functions such as _jit_compiled_convolution_op, _jit_compiled_convolution_op, _jit_compiled_convolution_op while saving (showing 3 of 3). These functions will not be directly callable after loading.\n"
     ]
    },
    {
     "name": "stdout",
     "output_type": "stream",
     "text": [
      "INFO:tensorflow:Assets written to: ./model/malware_cnn/assets\n"
     ]
    },
    {
     "name": "stderr",
     "output_type": "stream",
     "text": [
      "INFO:tensorflow:Assets written to: ./model/malware_cnn/assets\n"
     ]
    }
   ],
   "source": [
    "malware_class.save('./model/malware_cnn')"
   ]
  },
  {
   "cell_type": "markdown",
   "metadata": {},
   "source": [
    "# Model Load and predict"
   ]
  },
  {
   "cell_type": "code",
   "execution_count": 26,
   "metadata": {},
   "outputs": [],
   "source": [
    "malware_class = tf.keras.models.load_model('./model/malware_cnn')"
   ]
  },
  {
   "cell_type": "code",
   "execution_count": 34,
   "metadata": {},
   "outputs": [
    {
     "data": {
      "text/plain": [
       "TensorShape([1, 256, 256, 1])"
      ]
     },
     "execution_count": 34,
     "metadata": {},
     "output_type": "execute_result"
    }
   ],
   "source": [
    "imgs = glob(\"./dataset/img/img256/*.png\")\n",
    "img = tf.io.read_file(imgs[0])\n",
    "img = tf.io.decode_image(img)\n",
    "img = tf.expand_dims(img,axis=0)\n",
    "img.shape"
   ]
  },
  {
   "cell_type": "code",
   "execution_count": 35,
   "metadata": {},
   "outputs": [
    {
     "name": "stdout",
     "output_type": "stream",
     "text": [
      "1/1 [==============================] - 0s 332ms/step\n"
     ]
    },
    {
     "data": {
      "text/plain": [
       "array([[2.8826982e-05, 5.8818678e-04, 9.9835157e-01, 2.9540458e-04,\n",
       "        2.0013269e-06, 7.7035673e-07, 6.6650577e-04, 6.5210384e-05,\n",
       "        1.1574233e-06, 3.4739924e-07]], dtype=float32)"
      ]
     },
     "execution_count": 35,
     "metadata": {},
     "output_type": "execute_result"
    }
   ],
   "source": [
    "prediction= malware_class.predict(img)\n",
    "prediction"
   ]
  }
 ],
 "metadata": {
  "kernelspec": {
   "display_name": "Python 3",
   "language": "python",
   "name": "python3"
  },
  "language_info": {
   "codemirror_mode": {
    "name": "ipython",
    "version": 3
   },
   "file_extension": ".py",
   "mimetype": "text/x-python",
   "name": "python",
   "nbconvert_exporter": "python",
   "pygments_lexer": "ipython3",
   "version": "3.8.10"
  }
 },
 "nbformat": 4,
 "nbformat_minor": 2
}
