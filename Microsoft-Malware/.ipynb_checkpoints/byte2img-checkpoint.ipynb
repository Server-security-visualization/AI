{
 "cells": [
  {
   "cell_type": "code",
   "execution_count": 1,
   "metadata": {},
   "outputs": [
    {
     "name": "stdout",
     "output_type": "stream",
     "text": [
      "Requirement already satisfied: tqdm in /usr/local/lib/python3.8/dist-packages (4.65.0)\n",
      "\u001b[33mWARNING: You are using pip version 20.2.4; however, version 23.0.1 is available.\n",
      "You should consider upgrading via the '/usr/bin/python3 -m pip install --upgrade pip' command.\u001b[0m\n"
     ]
    }
   ],
   "source": [
    "!pip3 install tqdm"
   ]
  },
  {
   "cell_type": "markdown",
   "metadata": {},
   "source": [
    "# import"
   ]
  },
  {
   "cell_type": "code",
   "execution_count": 2,
   "metadata": {},
   "outputs": [],
   "source": [
    "import os\n",
    "from glob import glob\n",
    "from tqdm import tqdm\n",
    "from PIL import Image"
   ]
  },
  {
   "cell_type": "markdown",
   "metadata": {},
   "source": [
    "# Load"
   ]
  },
  {
   "cell_type": "code",
   "execution_count": 3,
   "metadata": {},
   "outputs": [
    {
     "data": {
      "text/plain": [
       "(['./dataset/original/train/HDembPkLujCsic0oYQAp.bytes',\n",
       "  './dataset/original/train/exC0jIpaqfdWOPwgrKoV.bytes',\n",
       "  './dataset/original/train/idTa1lDvrZk38BJOLV96.bytes',\n",
       "  './dataset/original/train/8j2uhZyFl6XGkCoixABY.bytes',\n",
       "  './dataset/original/train/BoYuGUEWrgiReVDLPAbq.bytes'],\n",
       " ['./dataset/original/test/VlnP9seAEMy7Yit8SWv3.bytes',\n",
       "  './dataset/original/test/Ks4xrBOT1nJPdXjMRqg2.bytes',\n",
       "  './dataset/original/test/mYgoCUSKcfLRwMrOlz3a.bytes',\n",
       "  './dataset/original/test/Ou1A5Cs6hSjYJEravXUf.bytes',\n",
       "  './dataset/original/test/wxmsY5uEOS6vVXLk4tza.bytes'])"
      ]
     },
     "execution_count": 3,
     "metadata": {},
     "output_type": "execute_result"
    }
   ],
   "source": [
    "train_path = glob(\"./dataset/original/train/*.bytes\")\n",
    "test_path = glob(\"./dataset/original/test/*.bytes\")\n",
    "train_path[:5], test_path[:5]"
   ]
  },
  {
   "cell_type": "markdown",
   "metadata": {},
   "source": [
    "# def func"
   ]
  },
  {
   "cell_type": "code",
   "execution_count": 4,
   "metadata": {},
   "outputs": [],
   "source": [
    "def getBinaryData(filename):\n",
    "    binaryValues = []\n",
    "    file = open(filename, \"rb\")\n",
    "    data = file.readline()\n",
    "\n",
    "    pattern = 0;\n",
    "    while data:\n",
    "        try:\n",
    "            data = data.split(b' ')\n",
    "            for num_data in data:\n",
    "                if num_data[0:2] == b'??':\n",
    "                    binaryValues.append(0)\n",
    "                else:\n",
    "                    num = int(num_data,16)\n",
    "                    if num < 256:\n",
    "                        binaryValues.append(num)\n",
    "        except TypeError:\n",
    "            pass\n",
    "        data = file.readline()\n",
    "    return binaryValues\n"
   ]
  },
  {
   "cell_type": "code",
   "execution_count": 5,
   "metadata": {},
   "outputs": [],
   "source": [
    "def createGreyScaleImageSpecificWith(binaryData,filename,width=0,resize=0):\n",
    "    if(width == 0):\n",
    "        size = len(binaryData)\n",
    "        if(size < 10240):\n",
    "            width = 32\n",
    "        elif(10240 <= size <=10240*3):\n",
    "            width = 64\n",
    "        elif(10240*3 <= size <=10240*6):\n",
    "            width = 128\n",
    "        elif(10240*6 <= size <=10240*10):\n",
    "            width = 256\n",
    "        elif(10240*10 <= size <=10240*20):\n",
    "            width = 384\n",
    "        elif(10240*20 <= size <=10240*50):\n",
    "            width = 512\n",
    "        elif(10240*50 <= size <=10240*100):\n",
    "            width = 768\n",
    "        else:\n",
    "            width = 1024\n",
    "\n",
    "    height = int(size/width)+1\n",
    "    image = Image.new('L',(width,height))\n",
    "    image.putdata(binaryData)\n",
    "    if(resize):\n",
    "        image = image.resize((resize,resize))\n",
    "    image.save(filename)\n"
   ]
  },
  {
   "cell_type": "markdown",
   "metadata": {},
   "source": [
    "# convert"
   ]
  },
  {
   "cell_type": "code",
   "execution_count": 6,
   "metadata": {},
   "outputs": [
    {
     "name": "stderr",
     "output_type": "stream",
     "text": [
      "100%|██████████| 10868/10868 [51:24<00:00,  3.52it/s] \n"
     ]
    }
   ],
   "source": [
    "train_png_path = \"./dataset/img/img256\"\n",
    "\n",
    "for path in tqdm(train_path):\n",
    "    basename = os.path.basename(path).split(\".\")[0]\n",
    "\n",
    "    binaryData = getBinaryData(path)\n",
    "    createGreyScaleImageSpecificWith(binaryData,f\"{train_png_path}/{basename}.png\",resize=256)"
   ]
  },
  {
   "cell_type": "code",
   "execution_count": null,
   "metadata": {},
   "outputs": [],
   "source": []
  }
 ],
 "metadata": {
  "kernelspec": {
   "display_name": "Python 3",
   "language": "python",
   "name": "python3"
  },
  "language_info": {
   "codemirror_mode": {
    "name": "ipython",
    "version": 3
   },
   "file_extension": ".py",
   "mimetype": "text/x-python",
   "name": "python",
   "nbconvert_exporter": "python",
   "pygments_lexer": "ipython3",
   "version": "3.8.10"
  }
 },
 "nbformat": 4,
 "nbformat_minor": 2
}
