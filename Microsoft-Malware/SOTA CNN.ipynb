{
 "cells": [
  {
   "cell_type": "code",
   "execution_count": 3,
   "metadata": {},
   "outputs": [
    {
     "name": "stdout",
     "output_type": "stream",
     "text": [
      "Wed Apr 12 13:31:49 2023       \r\n",
      "+---------------------------------------------------------------------------------------+\r\n",
      "| NVIDIA-SMI 530.41.03              Driver Version: 531.41       CUDA Version: 12.1     |\r\n",
      "|-----------------------------------------+----------------------+----------------------+\r\n",
      "| GPU  Name                  Persistence-M| Bus-Id        Disp.A | Volatile Uncorr. ECC |\r\n",
      "| Fan  Temp  Perf            Pwr:Usage/Cap|         Memory-Usage | GPU-Util  Compute M. |\r\n",
      "|                                         |                      |               MIG M. |\r\n",
      "|=========================================+======================+======================|\r\n",
      "|   0  NVIDIA GeForce RTX 3070         On | 00000000:01:00.0  On |                  N/A |\r\n",
      "| 45%   50C    P8               29W / 220W|   2116MiB /  8192MiB |      7%      Default |\r\n",
      "|                                         |                      |                  N/A |\r\n",
      "+-----------------------------------------+----------------------+----------------------+\r\n",
      "                                                                                         \r\n",
      "+---------------------------------------------------------------------------------------+\r\n",
      "| Processes:                                                                            |\r\n",
      "|  GPU   GI   CI        PID   Type   Process name                            GPU Memory |\r\n",
      "|        ID   ID                                                             Usage      |\r\n",
      "|=======================================================================================|\r\n",
      "|    0   N/A  N/A        11      C   /python3.8                                N/A      |\r\n",
      "|    0   N/A  N/A        20      G   /Xwayland                                 N/A      |\r\n",
      "|    0   N/A  N/A        22      G   /Xwayland                                 N/A      |\r\n",
      "|    0   N/A  N/A        31      G   /Xwayland                                 N/A      |\r\n",
      "+---------------------------------------------------------------------------------------+\r\n"
     ]
    }
   ],
   "source": [
    "!nvidia-smi"
   ]
  },
  {
   "cell_type": "code",
   "execution_count": 2,
   "metadata": {},
   "outputs": [
    {
     "name": "stdout",
     "output_type": "stream",
     "text": [
      "Requirement already satisfied: opencv-python in /usr/local/lib/python3.8/dist-packages (4.7.0.72)\n",
      "Requirement already satisfied: scikit-learn in /usr/local/lib/python3.8/dist-packages (1.2.2)\n",
      "Requirement already satisfied: numpy>=1.17.0; python_version >= \"3.7\" in /usr/local/lib/python3.8/dist-packages (from opencv-python) (1.23.4)\n",
      "Requirement already satisfied: joblib>=1.1.1 in /usr/local/lib/python3.8/dist-packages (from scikit-learn) (1.2.0)\n",
      "Requirement already satisfied: threadpoolctl>=2.0.0 in /usr/local/lib/python3.8/dist-packages (from scikit-learn) (3.1.0)\n",
      "Requirement already satisfied: scipy>=1.3.2 in /usr/local/lib/python3.8/dist-packages (from scikit-learn) (1.10.1)\n",
      "\u001b[33mWARNING: You are using pip version 20.2.4; however, version 23.0.1 is available.\n",
      "You should consider upgrading via the '/usr/bin/python3 -m pip install --upgrade pip' command.\u001b[0m\n",
      "Reading package lists... Done\n",
      "Building dependency tree       \n",
      "Reading state information... Done\n",
      "libgl1-mesa-glx is already the newest version (21.2.6-0ubuntu0.1~20.04.2).\n",
      "0 upgraded, 0 newly installed, 0 to remove and 4 not upgraded.\n"
     ]
    }
   ],
   "source": [
    "!pip3 install opencv-python scikit-learn\n",
    "!apt-get -y install libgl1-mesa-glx"
   ]
  },
  {
   "cell_type": "markdown",
   "metadata": {},
   "source": [
    "# import"
   ]
  },
  {
   "cell_type": "code",
   "execution_count": 4,
   "metadata": {},
   "outputs": [],
   "source": [
    "import tensorflow as tf\n",
    "import matplotlib.pyplot as plt\n",
    "import pandas as pd\n",
    "import numpy as np\n",
    "import cv2\n",
    "from matplotlib import pyplot as plt\n",
    "from sklearn.model_selection import train_test_split\n",
    "from tensorflow.keras.layers import Conv2D, MaxPooling2D, Flatten, Dense, Dropout\n",
    "from keras import regularizers\n",
    "from keras import optimizers\n",
    "from glob import glob\n",
    "from tqdm import tqdm"
   ]
  },
  {
   "cell_type": "markdown",
   "metadata": {},
   "source": [
    "# Preprocessing"
   ]
  },
  {
   "cell_type": "code",
   "execution_count": 5,
   "metadata": {},
   "outputs": [],
   "source": [
    "dataset_path = \"./dataset/img/img128/\""
   ]
  },
  {
   "cell_type": "code",
   "execution_count": 6,
   "metadata": {},
   "outputs": [
    {
     "data": {
      "text/html": [
       "<div>\n",
       "<style scoped>\n",
       "    .dataframe tbody tr th:only-of-type {\n",
       "        vertical-align: middle;\n",
       "    }\n",
       "\n",
       "    .dataframe tbody tr th {\n",
       "        vertical-align: top;\n",
       "    }\n",
       "\n",
       "    .dataframe thead th {\n",
       "        text-align: right;\n",
       "    }\n",
       "</style>\n",
       "<table border=\"1\" class=\"dataframe\">\n",
       "  <thead>\n",
       "    <tr style=\"text-align: right;\">\n",
       "      <th></th>\n",
       "      <th>Id</th>\n",
       "      <th>Class</th>\n",
       "    </tr>\n",
       "  </thead>\n",
       "  <tbody>\n",
       "    <tr>\n",
       "      <th>0</th>\n",
       "      <td>01kcPWA9K2BOxQeS5Rju</td>\n",
       "      <td>1</td>\n",
       "    </tr>\n",
       "    <tr>\n",
       "      <th>1</th>\n",
       "      <td>04EjIdbPV5e1XroFOpiN</td>\n",
       "      <td>1</td>\n",
       "    </tr>\n",
       "    <tr>\n",
       "      <th>2</th>\n",
       "      <td>05EeG39MTRrI6VY21DPd</td>\n",
       "      <td>1</td>\n",
       "    </tr>\n",
       "    <tr>\n",
       "      <th>3</th>\n",
       "      <td>05rJTUWYAKNegBk2wE8X</td>\n",
       "      <td>1</td>\n",
       "    </tr>\n",
       "    <tr>\n",
       "      <th>4</th>\n",
       "      <td>0AnoOZDNbPXIr2MRBSCJ</td>\n",
       "      <td>1</td>\n",
       "    </tr>\n",
       "    <tr>\n",
       "      <th>...</th>\n",
       "      <td>...</td>\n",
       "      <td>...</td>\n",
       "    </tr>\n",
       "    <tr>\n",
       "      <th>10863</th>\n",
       "      <td>KFrZ0Lop1WDGwUtkusCi</td>\n",
       "      <td>9</td>\n",
       "    </tr>\n",
       "    <tr>\n",
       "      <th>10864</th>\n",
       "      <td>kg24YRJTB8DNdKMXpwOH</td>\n",
       "      <td>9</td>\n",
       "    </tr>\n",
       "    <tr>\n",
       "      <th>10865</th>\n",
       "      <td>kG29BLiFYPgWtpb350sO</td>\n",
       "      <td>9</td>\n",
       "    </tr>\n",
       "    <tr>\n",
       "      <th>10866</th>\n",
       "      <td>kGITL4OJxYMWEQ1bKBiP</td>\n",
       "      <td>9</td>\n",
       "    </tr>\n",
       "    <tr>\n",
       "      <th>10867</th>\n",
       "      <td>KGorN9J6XAC4bOEkmyup</td>\n",
       "      <td>9</td>\n",
       "    </tr>\n",
       "  </tbody>\n",
       "</table>\n",
       "<p>10868 rows × 2 columns</p>\n",
       "</div>"
      ],
      "text/plain": [
       "                         Id  Class\n",
       "0      01kcPWA9K2BOxQeS5Rju      1\n",
       "1      04EjIdbPV5e1XroFOpiN      1\n",
       "2      05EeG39MTRrI6VY21DPd      1\n",
       "3      05rJTUWYAKNegBk2wE8X      1\n",
       "4      0AnoOZDNbPXIr2MRBSCJ      1\n",
       "...                     ...    ...\n",
       "10863  KFrZ0Lop1WDGwUtkusCi      9\n",
       "10864  kg24YRJTB8DNdKMXpwOH      9\n",
       "10865  kG29BLiFYPgWtpb350sO      9\n",
       "10866  kGITL4OJxYMWEQ1bKBiP      9\n",
       "10867  KGorN9J6XAC4bOEkmyup      9\n",
       "\n",
       "[10868 rows x 2 columns]"
      ]
     },
     "execution_count": 6,
     "metadata": {},
     "output_type": "execute_result"
    }
   ],
   "source": [
    "label_df = pd.read_csv('./dataset/original/trainLabels.csv')\n",
    "label_df"
   ]
  },
  {
   "cell_type": "code",
   "execution_count": 7,
   "metadata": {},
   "outputs": [
    {
     "name": "stderr",
     "output_type": "stream",
     "text": [
      "10868it [00:04, 2461.58it/s]\n"
     ]
    }
   ],
   "source": [
    "x = []\n",
    "y = []\n",
    "\n",
    "image_w = 128\n",
    "image_h = 128\n",
    "\n",
    "for idx, row in tqdm(label_df.iterrows()):\n",
    "    img_path = f\"./dataset/img/img128/{row['Id']}.png\"\n",
    "    malware_class = row['Class']\n",
    "    \n",
    "    img = cv2.imread(img_path)\n",
    "    img = cv2.resize(img, None, \n",
    "                     fx=image_w/img.shape[1], \n",
    "                     fy=image_h/img.shape[0])\n",
    "    img = img[:,:,0].reshape(image_w,image_h,1)\n",
    "    \n",
    "    x.append(img/255.)\n",
    "    y.append(tf.keras.utils.to_categorical(malware_class-1,9))\n",
    "    \n",
    "x = np.array(x)\n",
    "y = np.array(y)\n",
    "    \n",
    "train_img, val_img, train_label, val_label = train_test_split(x, \n",
    "                                                  y, \n",
    "                                                  stratify=y, \n",
    "                                                  test_size=0.2)"
   ]
  },
  {
   "cell_type": "code",
   "execution_count": 8,
   "metadata": {},
   "outputs": [
    {
     "data": {
      "text/plain": [
       "((8694, 128, 128, 1), (2174, 128, 128, 1), (8694, 9), (2174, 9))"
      ]
     },
     "execution_count": 8,
     "metadata": {},
     "output_type": "execute_result"
    }
   ],
   "source": [
    "train_img.shape, val_img.shape, train_label.shape, val_label.shape"
   ]
  },
  {
   "cell_type": "markdown",
   "metadata": {},
   "source": [
    "# Dataset"
   ]
  },
  {
   "cell_type": "code",
   "execution_count": 9,
   "metadata": {},
   "outputs": [],
   "source": [
    "train_dataset = tf.data.Dataset.from_tensor_slices((train_img, train_label)).shuffle(buffer_size=100000).batch(256)\n",
    "val_dataset = tf.data.Dataset.from_tensor_slices((val_img, val_label)).batch(256)"
   ]
  },
  {
   "cell_type": "code",
   "execution_count": 10,
   "metadata": {},
   "outputs": [
    {
     "data": {
      "image/png": "[encoded data removed]",
      "text/plain": [
       "<Figure size 640x480 with 1 Axes>"
      ]
     },
     "metadata": {},
     "output_type": "display_data"
    },
    {
     "name": "stdout",
     "output_type": "stream",
     "text": [
      "Label : [0. 0. 1. 0. 0. 0. 0. 0. 0.]\n"
     ]
    }
   ],
   "source": [
    "img, label = next(iter(train_dataset))\n",
    "\n",
    "plt.imshow(img[0], cmap='gray')\n",
    "plt.show()\n",
    "\n",
    "print(f\"Label : {label[0]}\")"
   ]
  },
  {
   "cell_type": "markdown",
   "metadata": {},
   "source": [
    "# Simple CNN"
   ]
  },
  {
   "cell_type": "code",
   "execution_count": 18,
   "metadata": {},
   "outputs": [],
   "source": [
    "def Simple_CNN():\n",
    "    model = tf.keras.Sequential()\n",
    "    model.add(Conv2D(50, (5,5), \n",
    "                             activation='relu', padding='same',\n",
    "                             input_shape=(128, 128, 1)))\n",
    "    model.add(MaxPooling2D((2,2)))\n",
    "\n",
    "    model.add(Conv2D(70, (3,3), \n",
    "                             activation='relu', padding='same',\n",
    "                             input_shape=(64, 64, 50)))\n",
    "    model.add(MaxPooling2D((2,2)))\n",
    "\n",
    "    model.add(Conv2D(70, (3,3), \n",
    "                             activation='relu', padding='same',\n",
    "                             input_shape=(32, 32, 70)))\n",
    "    model.add(MaxPooling2D((2,2)))\n",
    "\n",
    "    model.add(Flatten())\n",
    "    model.add(Dense(256, activation='relu'))\n",
    "    model.add(Dense(9, activation='softmax'))\n",
    "    \n",
    "    adam = optimizers.Adam(lr=0.0001)\n",
    "    model.compile(optimizer=adam, loss='categorical_crossentropy', metrics=['accuracy'])\n",
    "    \n",
    "    return model"
   ]
  },
  {
   "cell_type": "code",
   "execution_count": 19,
   "metadata": {},
   "outputs": [
    {
     "name": "stdout",
     "output_type": "stream",
     "text": [
      "Model: \"sequential_1\"\n",
      "_________________________________________________________________\n",
      " Layer (type)                Output Shape              Param #   \n",
      "=================================================================\n",
      " conv2d_3 (Conv2D)           (None, 128, 128, 50)      1300      \n",
      "                                                                 \n",
      " max_pooling2d_3 (MaxPooling  (None, 64, 64, 50)       0         \n",
      " 2D)                                                             \n",
      "                                                                 \n",
      " conv2d_4 (Conv2D)           (None, 64, 64, 70)        31570     \n",
      "                                                                 \n",
      " max_pooling2d_4 (MaxPooling  (None, 32, 32, 70)       0         \n",
      " 2D)                                                             \n",
      "                                                                 \n",
      " conv2d_5 (Conv2D)           (None, 32, 32, 70)        44170     \n",
      "                                                                 \n",
      " max_pooling2d_5 (MaxPooling  (None, 16, 16, 70)       0         \n",
      " 2D)                                                             \n",
      "                                                                 \n",
      " flatten_1 (Flatten)         (None, 17920)             0         \n",
      "                                                                 \n",
      " dense_2 (Dense)             (None, 256)               4587776   \n",
      "                                                                 \n",
      " dense_3 (Dense)             (None, 9)                 2313      \n",
      "                                                                 \n",
      "=================================================================\n",
      "Total params: 4,667,129\n",
      "Trainable params: 4,667,129\n",
      "Non-trainable params: 0\n",
      "_________________________________________________________________\n"
     ]
    }
   ],
   "source": [
    "malware_class = Simple_CNN()\n",
    "malware_class.summary()"
   ]
  },
  {
   "cell_type": "code",
   "execution_count": 12,
   "metadata": {
    "scrolled": true
   },
   "outputs": [
    {
     "name": "stdout",
     "output_type": "stream",
     "text": [
      "WARNING:tensorflow:`period` argument is deprecated. Please use `save_freq` to specify the frequency in number of batches seen.\n"
     ]
    },
    {
     "name": "stderr",
     "output_type": "stream",
     "text": [
      "/usr/local/lib/python3.8/dist-packages/keras/optimizers/optimizer_v2/adam.py:110: UserWarning: The `lr` argument is deprecated, use `learning_rate` instead.\n",
      "  super(Adam, self).__init__(name, **kwargs)\n"
     ]
    }
   ],
   "source": [
    "save_path = './model/malware_cnn32/'\n",
    "checkpoint_path = save_path+\"/model_{epoch}.ckpt\"\n",
    "\n",
    "# cp_callback = tf.keras.callbacks.ModelCheckpoint(filepath=checkpoint_path, save_weights_only=True, verbose=1, period=1)\n",
    "cp_callback = tf.keras.callbacks.ModelCheckpoint(filepath=checkpoint_path, save_weights_only=True, verbose=0)"
   ]
  },
  {
   "cell_type": "code",
   "execution_count": 13,
   "metadata": {},
   "outputs": [
    {
     "name": "stdout",
     "output_type": "stream",
     "text": [
      "Epoch 1/75\n",
      "34/34 [==============================] - ETA: 0s - loss: 1.4974 - accuracy: 0.5429\n",
      "Epoch 1: saving model to ./model/malware_cnn32/model_1.ckpt\n",
      "34/34 [==============================] - 10s 147ms/step - loss: 1.4974 - accuracy: 0.5429 - val_loss: 0.9069 - val_accuracy: 0.6891\n",
      "Epoch 2/75\n",
      "34/34 [==============================] - ETA: 0s - loss: 0.7726 - accuracy: 0.7365\n",
      "Epoch 2: saving model to ./model/malware_cnn32/model_2.ckpt\n",
      "34/34 [==============================] - 4s 106ms/step - loss: 0.7726 - accuracy: 0.7365 - val_loss: 0.6213 - val_accuracy: 0.8073\n",
      "Epoch 3/75\n",
      "34/34 [==============================] - ETA: 0s - loss: 0.5506 - accuracy: 0.8286\n",
      "Epoch 3: saving model to ./model/malware_cnn32/model_3.ckpt\n",
      "34/34 [==============================] - 4s 108ms/step - loss: 0.5506 - accuracy: 0.8286 - val_loss: 0.4767 - val_accuracy: 0.8533\n",
      "Epoch 4/75\n",
      "34/34 [==============================] - ETA: 0s - loss: 0.4263 - accuracy: 0.8734\n",
      "Epoch 4: saving model to ./model/malware_cnn32/model_4.ckpt\n",
      "34/34 [==============================] - 4s 107ms/step - loss: 0.4263 - accuracy: 0.8734 - val_loss: 0.4261 - val_accuracy: 0.8795\n",
      "Epoch 5/75\n",
      "34/34 [==============================] - ETA: 0s - loss: 0.3701 - accuracy: 0.8960\n",
      "Epoch 5: saving model to ./model/malware_cnn32/model_5.ckpt\n",
      "34/34 [==============================] - 4s 106ms/step - loss: 0.3701 - accuracy: 0.8960 - val_loss: 0.3472 - val_accuracy: 0.9246\n",
      "Epoch 6/75\n",
      "34/34 [==============================] - ETA: 0s - loss: 0.3075 - accuracy: 0.9209\n",
      "Epoch 6: saving model to ./model/malware_cnn32/model_6.ckpt\n",
      "34/34 [==============================] - 4s 106ms/step - loss: 0.3075 - accuracy: 0.9209 - val_loss: 0.3063 - val_accuracy: 0.9269\n",
      "Epoch 7/75\n",
      "34/34 [==============================] - ETA: 0s - loss: 0.2708 - accuracy: 0.9337\n",
      "Epoch 7: saving model to ./model/malware_cnn32/model_7.ckpt\n",
      "34/34 [==============================] - 4s 108ms/step - loss: 0.2708 - accuracy: 0.9337 - val_loss: 0.2875 - val_accuracy: 0.9301\n",
      "Epoch 8/75\n",
      "34/34 [==============================] - ETA: 0s - loss: 0.2421 - accuracy: 0.9385\n",
      "Epoch 8: saving model to ./model/malware_cnn32/model_8.ckpt\n",
      "34/34 [==============================] - 4s 106ms/step - loss: 0.2421 - accuracy: 0.9385 - val_loss: 0.2553 - val_accuracy: 0.9365\n",
      "Epoch 9/75\n",
      "34/34 [==============================] - ETA: 0s - loss: 0.2133 - accuracy: 0.9441\n",
      "Epoch 9: saving model to ./model/malware_cnn32/model_9.ckpt\n",
      "34/34 [==============================] - 4s 107ms/step - loss: 0.2133 - accuracy: 0.9441 - val_loss: 0.2365 - val_accuracy: 0.9434\n",
      "Epoch 10/75\n",
      "34/34 [==============================] - ETA: 0s - loss: 0.1964 - accuracy: 0.9487\n",
      "Epoch 10: saving model to ./model/malware_cnn32/model_10.ckpt\n",
      "34/34 [==============================] - 4s 106ms/step - loss: 0.1964 - accuracy: 0.9487 - val_loss: 0.2142 - val_accuracy: 0.9430\n",
      "Epoch 11/75\n",
      "34/34 [==============================] - ETA: 0s - loss: 0.1847 - accuracy: 0.9507\n",
      "Epoch 11: saving model to ./model/malware_cnn32/model_11.ckpt\n",
      "34/34 [==============================] - 4s 107ms/step - loss: 0.1847 - accuracy: 0.9507 - val_loss: 0.2021 - val_accuracy: 0.9476\n",
      "Epoch 12/75\n",
      "34/34 [==============================] - ETA: 0s - loss: 0.1689 - accuracy: 0.9546\n",
      "Epoch 12: saving model to ./model/malware_cnn32/model_12.ckpt\n",
      "34/34 [==============================] - 4s 108ms/step - loss: 0.1689 - accuracy: 0.9546 - val_loss: 0.1943 - val_accuracy: 0.9485\n",
      "Epoch 13/75\n",
      "34/34 [==============================] - ETA: 0s - loss: 0.1524 - accuracy: 0.9579\n",
      "Epoch 13: saving model to ./model/malware_cnn32/model_13.ckpt\n",
      "34/34 [==============================] - 4s 110ms/step - loss: 0.1524 - accuracy: 0.9579 - val_loss: 0.1897 - val_accuracy: 0.9471\n",
      "Epoch 14/75\n",
      "34/34 [==============================] - ETA: 0s - loss: 0.1373 - accuracy: 0.9632\n",
      "Epoch 14: saving model to ./model/malware_cnn32/model_14.ckpt\n",
      "34/34 [==============================] - 4s 109ms/step - loss: 0.1373 - accuracy: 0.9632 - val_loss: 0.1732 - val_accuracy: 0.9517\n",
      "Epoch 15/75\n",
      "34/34 [==============================] - ETA: 0s - loss: 0.1353 - accuracy: 0.9620\n",
      "Epoch 15: saving model to ./model/malware_cnn32/model_15.ckpt\n",
      "34/34 [==============================] - 4s 106ms/step - loss: 0.1353 - accuracy: 0.9620 - val_loss: 0.1847 - val_accuracy: 0.9462\n",
      "Epoch 16/75\n",
      "34/34 [==============================] - ETA: 0s - loss: 0.1204 - accuracy: 0.9669\n",
      "Epoch 16: saving model to ./model/malware_cnn32/model_16.ckpt\n",
      "34/34 [==============================] - 4s 106ms/step - loss: 0.1204 - accuracy: 0.9669 - val_loss: 0.1605 - val_accuracy: 0.9535\n",
      "Epoch 17/75\n",
      "34/34 [==============================] - ETA: 0s - loss: 0.1139 - accuracy: 0.9689\n",
      "Epoch 17: saving model to ./model/malware_cnn32/model_17.ckpt\n",
      "34/34 [==============================] - 4s 113ms/step - loss: 0.1139 - accuracy: 0.9689 - val_loss: 0.1516 - val_accuracy: 0.9586\n",
      "Epoch 18/75\n",
      "34/34 [==============================] - ETA: 0s - loss: 0.1058 - accuracy: 0.9716\n",
      "Epoch 18: saving model to ./model/malware_cnn32/model_18.ckpt\n",
      "34/34 [==============================] - 4s 107ms/step - loss: 0.1058 - accuracy: 0.9716 - val_loss: 0.1637 - val_accuracy: 0.9512\n",
      "Epoch 19/75\n",
      "34/34 [==============================] - ETA: 0s - loss: 0.1013 - accuracy: 0.9722\n",
      "Epoch 19: saving model to ./model/malware_cnn32/model_19.ckpt\n",
      "34/34 [==============================] - 4s 107ms/step - loss: 0.1013 - accuracy: 0.9722 - val_loss: 0.1497 - val_accuracy: 0.9568\n",
      "Epoch 20/75\n",
      "34/34 [==============================] - ETA: 0s - loss: 0.0900 - accuracy: 0.9735\n",
      "Epoch 20: saving model to ./model/malware_cnn32/model_20.ckpt\n",
      "34/34 [==============================] - 4s 107ms/step - loss: 0.0900 - accuracy: 0.9735 - val_loss: 0.1445 - val_accuracy: 0.9563\n",
      "Epoch 21/75\n",
      "34/34 [==============================] - ETA: 0s - loss: 0.0831 - accuracy: 0.9769\n",
      "Epoch 21: saving model to ./model/malware_cnn32/model_21.ckpt\n",
      "34/34 [==============================] - 4s 107ms/step - loss: 0.0831 - accuracy: 0.9769 - val_loss: 0.1416 - val_accuracy: 0.9568\n",
      "Epoch 22/75\n",
      "34/34 [==============================] - ETA: 0s - loss: 0.0814 - accuracy: 0.9779\n",
      "Epoch 22: saving model to ./model/malware_cnn32/model_22.ckpt\n",
      "34/34 [==============================] - 4s 106ms/step - loss: 0.0814 - accuracy: 0.9779 - val_loss: 0.1309 - val_accuracy: 0.9627\n",
      "Epoch 23/75\n",
      "34/34 [==============================] - ETA: 0s - loss: 0.0782 - accuracy: 0.9788\n",
      "Epoch 23: saving model to ./model/malware_cnn32/model_23.ckpt\n",
      "34/34 [==============================] - 4s 106ms/step - loss: 0.0782 - accuracy: 0.9788 - val_loss: 0.1459 - val_accuracy: 0.9549\n",
      "Epoch 24/75\n",
      "34/34 [==============================] - ETA: 0s - loss: 0.0781 - accuracy: 0.9781\n",
      "Epoch 24: saving model to ./model/malware_cnn32/model_24.ckpt\n",
      "34/34 [==============================] - 4s 105ms/step - loss: 0.0781 - accuracy: 0.9781 - val_loss: 0.1274 - val_accuracy: 0.9627\n",
      "Epoch 25/75\n",
      "34/34 [==============================] - ETA: 0s - loss: 0.0624 - accuracy: 0.9824\n",
      "Epoch 25: saving model to ./model/malware_cnn32/model_25.ckpt\n",
      "34/34 [==============================] - 4s 105ms/step - loss: 0.0624 - accuracy: 0.9824 - val_loss: 0.1251 - val_accuracy: 0.9618\n",
      "Epoch 26/75\n",
      "34/34 [==============================] - ETA: 0s - loss: 0.0633 - accuracy: 0.9823\n",
      "Epoch 26: saving model to ./model/malware_cnn32/model_26.ckpt\n",
      "34/34 [==============================] - 4s 106ms/step - loss: 0.0633 - accuracy: 0.9823 - val_loss: 0.1262 - val_accuracy: 0.9637\n",
      "Epoch 27/75\n",
      "34/34 [==============================] - ETA: 0s - loss: 0.0575 - accuracy: 0.9846\n",
      "Epoch 27: saving model to ./model/malware_cnn32/model_27.ckpt\n",
      "34/34 [==============================] - 4s 106ms/step - loss: 0.0575 - accuracy: 0.9846 - val_loss: 0.1255 - val_accuracy: 0.9632\n",
      "Epoch 28/75\n",
      "34/34 [==============================] - ETA: 0s - loss: 0.0567 - accuracy: 0.9850\n",
      "Epoch 28: saving model to ./model/malware_cnn32/model_28.ckpt\n",
      "34/34 [==============================] - 4s 105ms/step - loss: 0.0567 - accuracy: 0.9850 - val_loss: 0.1312 - val_accuracy: 0.9646\n",
      "Epoch 29/75\n",
      "34/34 [==============================] - ETA: 0s - loss: 0.0514 - accuracy: 0.9859\n",
      "Epoch 29: saving model to ./model/malware_cnn32/model_29.ckpt\n"
     ]
    },
    {
     "name": "stdout",
     "output_type": "stream",
     "text": [
      "34/34 [==============================] - 4s 105ms/step - loss: 0.0514 - accuracy: 0.9859 - val_loss: 0.1211 - val_accuracy: 0.9660\n",
      "Epoch 30/75\n",
      "34/34 [==============================] - ETA: 0s - loss: 0.0480 - accuracy: 0.9872\n",
      "Epoch 30: saving model to ./model/malware_cnn32/model_30.ckpt\n",
      "34/34 [==============================] - 4s 105ms/step - loss: 0.0480 - accuracy: 0.9872 - val_loss: 0.1206 - val_accuracy: 0.9637\n",
      "Epoch 31/75\n",
      "34/34 [==============================] - ETA: 0s - loss: 0.0418 - accuracy: 0.9899\n",
      "Epoch 31: saving model to ./model/malware_cnn32/model_31.ckpt\n",
      "34/34 [==============================] - 4s 106ms/step - loss: 0.0418 - accuracy: 0.9899 - val_loss: 0.1243 - val_accuracy: 0.9664\n",
      "Epoch 32/75\n",
      "34/34 [==============================] - ETA: 0s - loss: 0.0397 - accuracy: 0.9907\n",
      "Epoch 32: saving model to ./model/malware_cnn32/model_32.ckpt\n",
      "34/34 [==============================] - 4s 104ms/step - loss: 0.0397 - accuracy: 0.9907 - val_loss: 0.1251 - val_accuracy: 0.9673\n",
      "Epoch 33/75\n",
      "34/34 [==============================] - ETA: 0s - loss: 0.0382 - accuracy: 0.9902\n",
      "Epoch 33: saving model to ./model/malware_cnn32/model_33.ckpt\n",
      "34/34 [==============================] - 4s 104ms/step - loss: 0.0382 - accuracy: 0.9902 - val_loss: 0.1247 - val_accuracy: 0.9646\n",
      "Epoch 34/75\n",
      "34/34 [==============================] - ETA: 0s - loss: 0.0366 - accuracy: 0.9911\n",
      "Epoch 34: saving model to ./model/malware_cnn32/model_34.ckpt\n",
      "34/34 [==============================] - 4s 110ms/step - loss: 0.0366 - accuracy: 0.9911 - val_loss: 0.1221 - val_accuracy: 0.9664\n",
      "Epoch 35/75\n",
      "34/34 [==============================] - ETA: 0s - loss: 0.0337 - accuracy: 0.9913\n",
      "Epoch 35: saving model to ./model/malware_cnn32/model_35.ckpt\n",
      "34/34 [==============================] - 4s 110ms/step - loss: 0.0337 - accuracy: 0.9913 - val_loss: 0.1206 - val_accuracy: 0.9673\n",
      "Epoch 36/75\n",
      "34/34 [==============================] - ETA: 0s - loss: 0.0315 - accuracy: 0.9931\n",
      "Epoch 36: saving model to ./model/malware_cnn32/model_36.ckpt\n",
      "34/34 [==============================] - 4s 108ms/step - loss: 0.0315 - accuracy: 0.9931 - val_loss: 0.1326 - val_accuracy: 0.9623\n",
      "Epoch 37/75\n",
      "34/34 [==============================] - ETA: 0s - loss: 0.0299 - accuracy: 0.9922\n",
      "Epoch 37: saving model to ./model/malware_cnn32/model_37.ckpt\n",
      "34/34 [==============================] - 4s 108ms/step - loss: 0.0299 - accuracy: 0.9922 - val_loss: 0.1237 - val_accuracy: 0.9678\n",
      "Epoch 38/75\n",
      "34/34 [==============================] - ETA: 0s - loss: 0.0281 - accuracy: 0.9933\n",
      "Epoch 38: saving model to ./model/malware_cnn32/model_38.ckpt\n",
      "34/34 [==============================] - 4s 108ms/step - loss: 0.0281 - accuracy: 0.9933 - val_loss: 0.1272 - val_accuracy: 0.9678\n",
      "Epoch 39/75\n",
      "34/34 [==============================] - ETA: 0s - loss: 0.0264 - accuracy: 0.9936\n",
      "Epoch 39: saving model to ./model/malware_cnn32/model_39.ckpt\n",
      "34/34 [==============================] - 4s 109ms/step - loss: 0.0264 - accuracy: 0.9936 - val_loss: 0.1180 - val_accuracy: 0.9706\n",
      "Epoch 40/75\n",
      "34/34 [==============================] - ETA: 0s - loss: 0.0260 - accuracy: 0.9930\n",
      "Epoch 40: saving model to ./model/malware_cnn32/model_40.ckpt\n",
      "34/34 [==============================] - 4s 108ms/step - loss: 0.0260 - accuracy: 0.9930 - val_loss: 0.1213 - val_accuracy: 0.9706\n",
      "Epoch 41/75\n",
      "34/34 [==============================] - ETA: 0s - loss: 0.0286 - accuracy: 0.9918\n",
      "Epoch 41: saving model to ./model/malware_cnn32/model_41.ckpt\n",
      "34/34 [==============================] - 4s 108ms/step - loss: 0.0286 - accuracy: 0.9918 - val_loss: 0.1279 - val_accuracy: 0.9706\n",
      "Epoch 42/75\n",
      "34/34 [==============================] - ETA: 0s - loss: 0.0231 - accuracy: 0.9941\n",
      "Epoch 42: saving model to ./model/malware_cnn32/model_42.ckpt\n",
      "34/34 [==============================] - 4s 109ms/step - loss: 0.0231 - accuracy: 0.9941 - val_loss: 0.1269 - val_accuracy: 0.9678\n",
      "Epoch 43/75\n",
      "34/34 [==============================] - ETA: 0s - loss: 0.0240 - accuracy: 0.9939\n",
      "Epoch 43: saving model to ./model/malware_cnn32/model_43.ckpt\n",
      "34/34 [==============================] - 4s 108ms/step - loss: 0.0240 - accuracy: 0.9939 - val_loss: 0.1246 - val_accuracy: 0.9692\n",
      "Epoch 44/75\n",
      "34/34 [==============================] - ETA: 0s - loss: 0.0234 - accuracy: 0.9933\n",
      "Epoch 44: saving model to ./model/malware_cnn32/model_44.ckpt\n",
      "34/34 [==============================] - 4s 108ms/step - loss: 0.0234 - accuracy: 0.9933 - val_loss: 0.1378 - val_accuracy: 0.9683\n",
      "Epoch 45/75\n",
      "34/34 [==============================] - ETA: 0s - loss: 0.0219 - accuracy: 0.9947\n",
      "Epoch 45: saving model to ./model/malware_cnn32/model_45.ckpt\n",
      "34/34 [==============================] - 4s 109ms/step - loss: 0.0219 - accuracy: 0.9947 - val_loss: 0.1301 - val_accuracy: 0.9696\n",
      "Epoch 46/75\n",
      "34/34 [==============================] - ETA: 0s - loss: 0.0178 - accuracy: 0.9956\n",
      "Epoch 46: saving model to ./model/malware_cnn32/model_46.ckpt\n",
      "34/34 [==============================] - 4s 108ms/step - loss: 0.0178 - accuracy: 0.9956 - val_loss: 0.1255 - val_accuracy: 0.9683\n",
      "Epoch 47/75\n",
      "34/34 [==============================] - ETA: 0s - loss: 0.0169 - accuracy: 0.9959\n",
      "Epoch 47: saving model to ./model/malware_cnn32/model_47.ckpt\n",
      "34/34 [==============================] - 4s 109ms/step - loss: 0.0169 - accuracy: 0.9959 - val_loss: 0.1380 - val_accuracy: 0.9696\n",
      "Epoch 48/75\n",
      "34/34 [==============================] - ETA: 0s - loss: 0.0202 - accuracy: 0.9942\n",
      "Epoch 48: saving model to ./model/malware_cnn32/model_48.ckpt\n",
      "34/34 [==============================] - 4s 110ms/step - loss: 0.0202 - accuracy: 0.9942 - val_loss: 0.1367 - val_accuracy: 0.9715\n",
      "Epoch 49/75\n",
      "34/34 [==============================] - ETA: 0s - loss: 0.0163 - accuracy: 0.9953\n",
      "Epoch 49: saving model to ./model/malware_cnn32/model_49.ckpt\n",
      "34/34 [==============================] - 4s 109ms/step - loss: 0.0163 - accuracy: 0.9953 - val_loss: 0.1290 - val_accuracy: 0.9715\n",
      "Epoch 50/75\n",
      "34/34 [==============================] - ETA: 0s - loss: 0.0157 - accuracy: 0.9956\n",
      "Epoch 50: saving model to ./model/malware_cnn32/model_50.ckpt\n",
      "34/34 [==============================] - 4s 115ms/step - loss: 0.0157 - accuracy: 0.9956 - val_loss: 0.1284 - val_accuracy: 0.9696\n",
      "Epoch 51/75\n",
      "34/34 [==============================] - ETA: 0s - loss: 0.0127 - accuracy: 0.9965\n",
      "Epoch 51: saving model to ./model/malware_cnn32/model_51.ckpt\n",
      "34/34 [==============================] - 4s 117ms/step - loss: 0.0127 - accuracy: 0.9965 - val_loss: 0.1352 - val_accuracy: 0.9719\n",
      "Epoch 52/75\n",
      "34/34 [==============================] - ETA: 0s - loss: 0.0137 - accuracy: 0.9965\n",
      "Epoch 52: saving model to ./model/malware_cnn32/model_52.ckpt\n",
      "34/34 [==============================] - 4s 114ms/step - loss: 0.0137 - accuracy: 0.9965 - val_loss: 0.1495 - val_accuracy: 0.9673\n",
      "Epoch 53/75\n",
      "34/34 [==============================] - ETA: 0s - loss: 0.0156 - accuracy: 0.9961\n",
      "Epoch 53: saving model to ./model/malware_cnn32/model_53.ckpt\n",
      "34/34 [==============================] - 4s 115ms/step - loss: 0.0156 - accuracy: 0.9961 - val_loss: 0.1305 - val_accuracy: 0.9710\n",
      "Epoch 54/75\n",
      "34/34 [==============================] - ETA: 0s - loss: 0.0113 - accuracy: 0.9977\n",
      "Epoch 54: saving model to ./model/malware_cnn32/model_54.ckpt\n",
      "34/34 [==============================] - 4s 114ms/step - loss: 0.0113 - accuracy: 0.9977 - val_loss: 0.1349 - val_accuracy: 0.9701\n",
      "Epoch 55/75\n",
      "34/34 [==============================] - ETA: 0s - loss: 0.0117 - accuracy: 0.9971\n",
      "Epoch 55: saving model to ./model/malware_cnn32/model_55.ckpt\n",
      "34/34 [==============================] - 4s 111ms/step - loss: 0.0117 - accuracy: 0.9971 - val_loss: 0.1500 - val_accuracy: 0.9673\n",
      "Epoch 56/75\n",
      "34/34 [==============================] - ETA: 0s - loss: 0.0116 - accuracy: 0.9974\n",
      "Epoch 56: saving model to ./model/malware_cnn32/model_56.ckpt\n",
      "34/34 [==============================] - 4s 110ms/step - loss: 0.0116 - accuracy: 0.9974 - val_loss: 0.1339 - val_accuracy: 0.9738\n",
      "Epoch 57/75\n",
      "34/34 [==============================] - ETA: 0s - loss: 0.0098 - accuracy: 0.9979\n",
      "Epoch 57: saving model to ./model/malware_cnn32/model_57.ckpt\n",
      "34/34 [==============================] - 4s 110ms/step - loss: 0.0098 - accuracy: 0.9979 - val_loss: 0.1436 - val_accuracy: 0.9719\n"
     ]
    },
    {
     "name": "stdout",
     "output_type": "stream",
     "text": [
      "Epoch 58/75\n",
      "34/34 [==============================] - ETA: 0s - loss: 0.0104 - accuracy: 0.9980\n",
      "Epoch 58: saving model to ./model/malware_cnn32/model_58.ckpt\n",
      "34/34 [==============================] - 4s 110ms/step - loss: 0.0104 - accuracy: 0.9980 - val_loss: 0.1433 - val_accuracy: 0.9715\n",
      "Epoch 59/75\n",
      "34/34 [==============================] - ETA: 0s - loss: 0.0100 - accuracy: 0.9980\n",
      "Epoch 59: saving model to ./model/malware_cnn32/model_59.ckpt\n",
      "34/34 [==============================] - 4s 112ms/step - loss: 0.0100 - accuracy: 0.9980 - val_loss: 0.1456 - val_accuracy: 0.9710\n",
      "Epoch 60/75\n",
      "34/34 [==============================] - ETA: 0s - loss: 0.0127 - accuracy: 0.9970\n",
      "Epoch 60: saving model to ./model/malware_cnn32/model_60.ckpt\n",
      "34/34 [==============================] - 4s 112ms/step - loss: 0.0127 - accuracy: 0.9970 - val_loss: 0.1500 - val_accuracy: 0.9669\n",
      "Epoch 61/75\n",
      "34/34 [==============================] - ETA: 0s - loss: 0.0158 - accuracy: 0.9963\n",
      "Epoch 61: saving model to ./model/malware_cnn32/model_61.ckpt\n",
      "34/34 [==============================] - 4s 114ms/step - loss: 0.0158 - accuracy: 0.9963 - val_loss: 0.1504 - val_accuracy: 0.9696\n",
      "Epoch 62/75\n",
      "34/34 [==============================] - ETA: 0s - loss: 0.0157 - accuracy: 0.9957\n",
      "Epoch 62: saving model to ./model/malware_cnn32/model_62.ckpt\n",
      "34/34 [==============================] - 4s 117ms/step - loss: 0.0157 - accuracy: 0.9957 - val_loss: 0.1699 - val_accuracy: 0.9692\n",
      "Epoch 63/75\n",
      "34/34 [==============================] - ETA: 0s - loss: 0.0135 - accuracy: 0.9970\n",
      "Epoch 63: saving model to ./model/malware_cnn32/model_63.ckpt\n",
      "34/34 [==============================] - 4s 114ms/step - loss: 0.0135 - accuracy: 0.9970 - val_loss: 0.1497 - val_accuracy: 0.9733\n",
      "Epoch 64/75\n",
      "34/34 [==============================] - ETA: 0s - loss: 0.0099 - accuracy: 0.9977\n",
      "Epoch 64: saving model to ./model/malware_cnn32/model_64.ckpt\n",
      "34/34 [==============================] - 4s 114ms/step - loss: 0.0099 - accuracy: 0.9977 - val_loss: 0.1437 - val_accuracy: 0.9719\n",
      "Epoch 65/75\n",
      "34/34 [==============================] - ETA: 0s - loss: 0.0078 - accuracy: 0.9984\n",
      "Epoch 65: saving model to ./model/malware_cnn32/model_65.ckpt\n",
      "34/34 [==============================] - 4s 113ms/step - loss: 0.0078 - accuracy: 0.9984 - val_loss: 0.1440 - val_accuracy: 0.9719\n",
      "Epoch 66/75\n",
      "34/34 [==============================] - ETA: 0s - loss: 0.0083 - accuracy: 0.9986\n",
      "Epoch 66: saving model to ./model/malware_cnn32/model_66.ckpt\n",
      "34/34 [==============================] - 4s 114ms/step - loss: 0.0083 - accuracy: 0.9986 - val_loss: 0.1450 - val_accuracy: 0.9715\n",
      "Epoch 67/75\n",
      "34/34 [==============================] - ETA: 0s - loss: 0.0087 - accuracy: 0.9978\n",
      "Epoch 67: saving model to ./model/malware_cnn32/model_67.ckpt\n",
      "34/34 [==============================] - 4s 114ms/step - loss: 0.0087 - accuracy: 0.9978 - val_loss: 0.1502 - val_accuracy: 0.9724\n",
      "Epoch 68/75\n",
      "34/34 [==============================] - ETA: 0s - loss: 0.0066 - accuracy: 0.9987\n",
      "Epoch 68: saving model to ./model/malware_cnn32/model_68.ckpt\n",
      "34/34 [==============================] - 4s 112ms/step - loss: 0.0066 - accuracy: 0.9987 - val_loss: 0.1489 - val_accuracy: 0.9719\n",
      "Epoch 69/75\n",
      "34/34 [==============================] - ETA: 0s - loss: 0.0070 - accuracy: 0.9988\n",
      "Epoch 69: saving model to ./model/malware_cnn32/model_69.ckpt\n",
      "34/34 [==============================] - 4s 115ms/step - loss: 0.0070 - accuracy: 0.9988 - val_loss: 0.1528 - val_accuracy: 0.9738\n",
      "Epoch 70/75\n",
      "34/34 [==============================] - ETA: 0s - loss: 0.0061 - accuracy: 0.9988\n",
      "Epoch 70: saving model to ./model/malware_cnn32/model_70.ckpt\n",
      "34/34 [==============================] - 4s 115ms/step - loss: 0.0061 - accuracy: 0.9988 - val_loss: 0.1442 - val_accuracy: 0.9724\n",
      "Epoch 71/75\n",
      "34/34 [==============================] - ETA: 0s - loss: 0.0064 - accuracy: 0.9985\n",
      "Epoch 71: saving model to ./model/malware_cnn32/model_71.ckpt\n",
      "34/34 [==============================] - 4s 118ms/step - loss: 0.0064 - accuracy: 0.9985 - val_loss: 0.1467 - val_accuracy: 0.9724\n",
      "Epoch 72/75\n",
      "34/34 [==============================] - ETA: 0s - loss: 0.0059 - accuracy: 0.9990\n",
      "Epoch 72: saving model to ./model/malware_cnn32/model_72.ckpt\n",
      "34/34 [==============================] - 4s 114ms/step - loss: 0.0059 - accuracy: 0.9990 - val_loss: 0.1482 - val_accuracy: 0.9729\n",
      "Epoch 73/75\n",
      "34/34 [==============================] - ETA: 0s - loss: 0.0060 - accuracy: 0.9986\n",
      "Epoch 73: saving model to ./model/malware_cnn32/model_73.ckpt\n",
      "34/34 [==============================] - 4s 114ms/step - loss: 0.0060 - accuracy: 0.9986 - val_loss: 0.1471 - val_accuracy: 0.9738\n",
      "Epoch 74/75\n",
      "34/34 [==============================] - ETA: 0s - loss: 0.0058 - accuracy: 0.9987\n",
      "Epoch 74: saving model to ./model/malware_cnn32/model_74.ckpt\n",
      "34/34 [==============================] - 4s 115ms/step - loss: 0.0058 - accuracy: 0.9987 - val_loss: 0.1520 - val_accuracy: 0.9729\n",
      "Epoch 75/75\n",
      "34/34 [==============================] - ETA: 0s - loss: 0.0074 - accuracy: 0.9982\n",
      "Epoch 75: saving model to ./model/malware_cnn32/model_75.ckpt\n",
      "34/34 [==============================] - 4s 111ms/step - loss: 0.0074 - accuracy: 0.9982 - val_loss: 0.1642 - val_accuracy: 0.9710\n"
     ]
    }
   ],
   "source": [
    "history = malware_class.fit(train_dataset, epochs=75, validation_data=val_dataset, callbacks=[cp_callback])"
   ]
  },
  {
   "cell_type": "code",
   "execution_count": 15,
   "metadata": {
    "scrolled": false
   },
   "outputs": [
    {
     "data": {
      "image/png": "[encoded data removed]",
      "text/plain": [
       "<Figure size 640x480 with 1 Axes>"
      ]
     },
     "metadata": {},
     "output_type": "display_data"
    },
    {
     "data": {
      "image/png": "[encoded data removed]",
      "text/plain": [
       "<Figure size 640x480 with 1 Axes>"
      ]
     },
     "metadata": {},
     "output_type": "display_data"
    }
   ],
   "source": [
    "plt.plot(history.history['loss'])\n",
    "plt.plot(history.history['val_loss'])\n",
    "plt.ylabel('loss')\n",
    "plt.xlabel('epoch')\n",
    "plt.legend(['train_loss','val_loss'])\n",
    "plt.show()\n",
    "\n",
    "plt.plot(history.history['accuracy'])\n",
    "plt.plot(history.history['val_accuracy'])\n",
    "plt.ylabel('accuracy')\n",
    "plt.xlabel('epoch')\n",
    "plt.legend(['train_accuracy','val_accuracy'])\n",
    "plt.show()"
   ]
  },
  {
   "cell_type": "markdown",
   "metadata": {},
   "source": [
    "# Model Load and predict"
   ]
  },
  {
   "cell_type": "code",
   "execution_count": 22,
   "metadata": {},
   "outputs": [
    {
     "name": "stdout",
     "output_type": "stream",
     "text": [
      "Model: \"sequential_3\"\n",
      "_________________________________________________________________\n",
      " Layer (type)                Output Shape              Param #   \n",
      "=================================================================\n",
      " conv2d_9 (Conv2D)           (None, 128, 128, 50)      1300      \n",
      "                                                                 \n",
      " max_pooling2d_9 (MaxPooling  (None, 64, 64, 50)       0         \n",
      " 2D)                                                             \n",
      "                                                                 \n",
      " conv2d_10 (Conv2D)          (None, 64, 64, 70)        31570     \n",
      "                                                                 \n",
      " max_pooling2d_10 (MaxPoolin  (None, 32, 32, 70)       0         \n",
      " g2D)                                                            \n",
      "                                                                 \n",
      " conv2d_11 (Conv2D)          (None, 32, 32, 70)        44170     \n",
      "                                                                 \n",
      " max_pooling2d_11 (MaxPoolin  (None, 16, 16, 70)       0         \n",
      " g2D)                                                            \n",
      "                                                                 \n",
      " flatten_3 (Flatten)         (None, 17920)             0         \n",
      "                                                                 \n",
      " dense_6 (Dense)             (None, 256)               4587776   \n",
      "                                                                 \n",
      " dense_7 (Dense)             (None, 9)                 2313      \n",
      "                                                                 \n",
      "=================================================================\n",
      "Total params: 4,667,129\n",
      "Trainable params: 4,667,129\n",
      "Non-trainable params: 0\n",
      "_________________________________________________________________\n"
     ]
    }
   ],
   "source": [
    "epoch = 30\n",
    "checkpoint_path = f\"./model/malware_cnn32/model_{epoch}.ckpt\"\n",
    "\n",
    "malware_class = Simple_CNN()\n",
    "malware_class.load_weights(checkpoint_path)\n",
    "malware_class.summary()"
   ]
  },
  {
   "cell_type": "code",
   "execution_count": 25,
   "metadata": {},
   "outputs": [
    {
     "name": "stdout",
     "output_type": "stream",
     "text": [
      "9/9 [==============================] - 1s 42ms/step - loss: 0.1206 - accuracy: 0.9637\n",
      "Restored model, accuracy: 96.37%\n"
     ]
    }
   ],
   "source": [
    "loss, acc = malware_class.evaluate(val_dataset, verbose=1)\n",
    "print(\"Restored model, accuracy: {:5.2f}%\".format(100 * acc))"
   ]
  },
  {
   "cell_type": "code",
   "execution_count": 42,
   "metadata": {},
   "outputs": [
    {
     "data": {
      "text/plain": [
       "TensorShape([1, 128, 128, 1])"
      ]
     },
     "execution_count": 42,
     "metadata": {},
     "output_type": "execute_result"
    }
   ],
   "source": [
    "imgs = glob(\"./dataset/img/img128/*.png\")\n",
    "img = tf.io.read_file(imgs[0])\n",
    "img = tf.io.decode_image(img)\n",
    "img = tf.expand_dims(img,axis=0)\n",
    "img.shape"
   ]
  },
  {
   "cell_type": "code",
   "execution_count": 43,
   "metadata": {},
   "outputs": [
    {
     "name": "stdout",
     "output_type": "stream",
     "text": [
      "1/1 [==============================] - 0s 14ms/step\n"
     ]
    },
    {
     "data": {
      "text/plain": [
       "array([[0., 1., 0., 0., 0., 0., 0., 0., 0.]], dtype=float32)"
      ]
     },
     "execution_count": 43,
     "metadata": {},
     "output_type": "execute_result"
    }
   ],
   "source": [
    "prediction= malware_class.predict(img)\n",
    "prediction"
   ]
  },
  {
   "cell_type": "code",
   "execution_count": null,
   "metadata": {},
   "outputs": [],
   "source": []
  }
 ],
 "metadata": {
  "kernelspec": {
   "display_name": "Python 3",
   "language": "python",
   "name": "python3"
  },
  "language_info": {
   "codemirror_mode": {
    "name": "ipython",
    "version": 3
   },
   "file_extension": ".py",
   "mimetype": "text/x-python",
   "name": "python",
   "nbconvert_exporter": "python",
   "pygments_lexer": "ipython3",
   "version": "3.8.10"
  }
 },
 "nbformat": 4,
 "nbformat_minor": 2
}
