{
 "cells": [
  {
   "cell_type": "code",
   "execution_count": 1,
   "metadata": {},
   "outputs": [
    {
     "name": "stdout",
     "output_type": "stream",
     "text": [
      "Sun Apr 30 12:06:08 2023       \r\n",
      "+---------------------------------------------------------------------------------------+\r\n",
      "| NVIDIA-SMI 530.41.03              Driver Version: 531.41       CUDA Version: 12.1     |\r\n",
      "|-----------------------------------------+----------------------+----------------------+\r\n",
      "| GPU  Name                  Persistence-M| Bus-Id        Disp.A | Volatile Uncorr. ECC |\r\n",
      "| Fan  Temp  Perf            Pwr:Usage/Cap|         Memory-Usage | GPU-Util  Compute M. |\r\n",
      "|                                         |                      |               MIG M. |\r\n",
      "|=========================================+======================+======================|\r\n",
      "|   0  NVIDIA GeForce RTX 3070         On | 00000000:01:00.0  On |                  N/A |\r\n",
      "|  0%   43C    P8               27W / 220W|   1853MiB /  8192MiB |      5%      Default |\r\n",
      "|                                         |                      |                  N/A |\r\n",
      "+-----------------------------------------+----------------------+----------------------+\r\n",
      "                                                                                         \r\n",
      "+---------------------------------------------------------------------------------------+\r\n",
      "| Processes:                                                                            |\r\n",
      "|  GPU   GI   CI        PID   Type   Process name                            GPU Memory |\r\n",
      "|        ID   ID                                                             Usage      |\r\n",
      "|=======================================================================================|\r\n",
      "|    0   N/A  N/A        20      G   /Xwayland                                 N/A      |\r\n",
      "|    0   N/A  N/A        31      G   /Xwayland                                 N/A      |\r\n",
      "|    0   N/A  N/A        33      G   /Xwayland                                 N/A      |\r\n",
      "|    0   N/A  N/A      4800      C   /python3.8                                N/A      |\r\n",
      "+---------------------------------------------------------------------------------------+\r\n"
     ]
    }
   ],
   "source": [
    "!nvidia-smi"
   ]
  },
  {
   "cell_type": "code",
   "execution_count": 2,
   "metadata": {},
   "outputs": [
    {
     "name": "stdout",
     "output_type": "stream",
     "text": [
      "Requirement already satisfied: opencv-python in /usr/local/lib/python3.8/dist-packages (4.7.0.72)\n",
      "Requirement already satisfied: scikit-learn in /usr/local/lib/python3.8/dist-packages (1.2.2)\n",
      "Collecting tqdm\n",
      "  Downloading tqdm-4.65.0-py3-none-any.whl (77 kB)\n",
      "\u001b[K     |████████████████████████████████| 77 kB 5.3 MB/s eta 0:00:011\n",
      "\u001b[?25hRequirement already satisfied: numpy>=1.17.0; python_version >= \"3.7\" in /usr/local/lib/python3.8/dist-packages (from opencv-python) (1.23.4)\n",
      "Requirement already satisfied: joblib>=1.1.1 in /usr/local/lib/python3.8/dist-packages (from scikit-learn) (1.2.0)\n",
      "Requirement already satisfied: scipy>=1.3.2 in /usr/local/lib/python3.8/dist-packages (from scikit-learn) (1.10.1)\n",
      "Requirement already satisfied: threadpoolctl>=2.0.0 in /usr/local/lib/python3.8/dist-packages (from scikit-learn) (3.1.0)\n",
      "Installing collected packages: tqdm\n",
      "Successfully installed tqdm-4.65.0\n",
      "\u001b[33mWARNING: You are using pip version 20.2.4; however, version 23.1.2 is available.\n",
      "You should consider upgrading via the '/usr/bin/python3 -m pip install --upgrade pip' command.\u001b[0m\n",
      "Reading package lists... Done\n",
      "Building dependency tree       \n",
      "Reading state information... Done\n",
      "libgl1-mesa-glx is already the newest version (21.2.6-0ubuntu0.1~20.04.2).\n",
      "0 upgraded, 0 newly installed, 0 to remove and 4 not upgraded.\n"
     ]
    }
   ],
   "source": [
    "!pip3 install opencv-python scikit-learn tqdm\n",
    "!apt-get -y install libgl1-mesa-glx"
   ]
  },
  {
   "cell_type": "markdown",
   "metadata": {},
   "source": [
    "# import"
   ]
  },
  {
   "cell_type": "code",
   "execution_count": 3,
   "metadata": {},
   "outputs": [],
   "source": [
    "import tensorflow as tf\n",
    "import matplotlib.pyplot as plt\n",
    "import pandas as pd\n",
    "import numpy as np\n",
    "import cv2\n",
    "from matplotlib import pyplot as plt\n",
    "from sklearn.model_selection import train_test_split\n",
    "from tensorflow.keras.layers import Conv2D, MaxPooling2D, Flatten, Dense, Dropout\n",
    "from keras import regularizers\n",
    "from keras import optimizers\n",
    "from glob import glob\n",
    "from tqdm import tqdm"
   ]
  },
  {
   "cell_type": "markdown",
   "metadata": {},
   "source": [
    "# Preprocessing"
   ]
  },
  {
   "cell_type": "code",
   "execution_count": 4,
   "metadata": {},
   "outputs": [],
   "source": [
    "dataset_path = \"./dataset/img/img128/\""
   ]
  },
  {
   "cell_type": "code",
   "execution_count": 5,
   "metadata": {},
   "outputs": [
    {
     "data": {
      "text/html": [
       "<div>\n",
       "<style scoped>\n",
       "    .dataframe tbody tr th:only-of-type {\n",
       "        vertical-align: middle;\n",
       "    }\n",
       "\n",
       "    .dataframe tbody tr th {\n",
       "        vertical-align: top;\n",
       "    }\n",
       "\n",
       "    .dataframe thead th {\n",
       "        text-align: right;\n",
       "    }\n",
       "</style>\n",
       "<table border=\"1\" class=\"dataframe\">\n",
       "  <thead>\n",
       "    <tr style=\"text-align: right;\">\n",
       "      <th></th>\n",
       "      <th>Id</th>\n",
       "      <th>Class</th>\n",
       "    </tr>\n",
       "  </thead>\n",
       "  <tbody>\n",
       "    <tr>\n",
       "      <th>0</th>\n",
       "      <td>01kcPWA9K2BOxQeS5Rju</td>\n",
       "      <td>1</td>\n",
       "    </tr>\n",
       "    <tr>\n",
       "      <th>1</th>\n",
       "      <td>04EjIdbPV5e1XroFOpiN</td>\n",
       "      <td>1</td>\n",
       "    </tr>\n",
       "    <tr>\n",
       "      <th>2</th>\n",
       "      <td>05EeG39MTRrI6VY21DPd</td>\n",
       "      <td>1</td>\n",
       "    </tr>\n",
       "    <tr>\n",
       "      <th>3</th>\n",
       "      <td>05rJTUWYAKNegBk2wE8X</td>\n",
       "      <td>1</td>\n",
       "    </tr>\n",
       "    <tr>\n",
       "      <th>4</th>\n",
       "      <td>0AnoOZDNbPXIr2MRBSCJ</td>\n",
       "      <td>1</td>\n",
       "    </tr>\n",
       "    <tr>\n",
       "      <th>...</th>\n",
       "      <td>...</td>\n",
       "      <td>...</td>\n",
       "    </tr>\n",
       "    <tr>\n",
       "      <th>10863</th>\n",
       "      <td>KFrZ0Lop1WDGwUtkusCi</td>\n",
       "      <td>9</td>\n",
       "    </tr>\n",
       "    <tr>\n",
       "      <th>10864</th>\n",
       "      <td>kg24YRJTB8DNdKMXpwOH</td>\n",
       "      <td>9</td>\n",
       "    </tr>\n",
       "    <tr>\n",
       "      <th>10865</th>\n",
       "      <td>kG29BLiFYPgWtpb350sO</td>\n",
       "      <td>9</td>\n",
       "    </tr>\n",
       "    <tr>\n",
       "      <th>10866</th>\n",
       "      <td>kGITL4OJxYMWEQ1bKBiP</td>\n",
       "      <td>9</td>\n",
       "    </tr>\n",
       "    <tr>\n",
       "      <th>10867</th>\n",
       "      <td>KGorN9J6XAC4bOEkmyup</td>\n",
       "      <td>9</td>\n",
       "    </tr>\n",
       "  </tbody>\n",
       "</table>\n",
       "<p>10868 rows × 2 columns</p>\n",
       "</div>"
      ],
      "text/plain": [
       "                         Id  Class\n",
       "0      01kcPWA9K2BOxQeS5Rju      1\n",
       "1      04EjIdbPV5e1XroFOpiN      1\n",
       "2      05EeG39MTRrI6VY21DPd      1\n",
       "3      05rJTUWYAKNegBk2wE8X      1\n",
       "4      0AnoOZDNbPXIr2MRBSCJ      1\n",
       "...                     ...    ...\n",
       "10863  KFrZ0Lop1WDGwUtkusCi      9\n",
       "10864  kg24YRJTB8DNdKMXpwOH      9\n",
       "10865  kG29BLiFYPgWtpb350sO      9\n",
       "10866  kGITL4OJxYMWEQ1bKBiP      9\n",
       "10867  KGorN9J6XAC4bOEkmyup      9\n",
       "\n",
       "[10868 rows x 2 columns]"
      ]
     },
     "execution_count": 5,
     "metadata": {},
     "output_type": "execute_result"
    }
   ],
   "source": [
    "label_df = pd.read_csv('./dataset/original/trainLabels.csv')\n",
    "label_df"
   ]
  },
  {
   "cell_type": "code",
   "execution_count": 6,
   "metadata": {},
   "outputs": [
    {
     "name": "stderr",
     "output_type": "stream",
     "text": [
      "10868it [00:05, 1918.40it/s]\n"
     ]
    }
   ],
   "source": [
    "x = []\n",
    "y = []\n",
    "\n",
    "image_w = 128\n",
    "image_h = 128\n",
    "\n",
    "for idx, row in tqdm(label_df.iterrows()):\n",
    "    img_path = f\"./dataset/img/img128/{row['Id']}.png\"\n",
    "    malware_class = row['Class']\n",
    "    \n",
    "    img = cv2.imread(img_path)\n",
    "    img = cv2.resize(img, None, \n",
    "                     fx=image_w/img.shape[1], \n",
    "                     fy=image_h/img.shape[0])\n",
    "    img = img[:,:,0].reshape(image_w,image_h,1)\n",
    "    \n",
    "    x.append(img/255.)\n",
    "    y.append(tf.keras.utils.to_categorical(malware_class-1,9))\n",
    "    \n",
    "x = np.array(x)\n",
    "y = np.array(y)\n",
    "    \n",
    "train_img, val_img, train_label, val_label = train_test_split(x, \n",
    "                                                  y, \n",
    "                                                  stratify=y, \n",
    "                                                  test_size=0.2)"
   ]
  },
  {
   "cell_type": "code",
   "execution_count": 7,
   "metadata": {},
   "outputs": [
    {
     "data": {
      "text/plain": [
       "((8694, 128, 128, 1), (2174, 128, 128, 1), (8694, 9), (2174, 9))"
      ]
     },
     "execution_count": 7,
     "metadata": {},
     "output_type": "execute_result"
    }
   ],
   "source": [
    "train_img.shape, val_img.shape, train_label.shape, val_label.shape"
   ]
  },
  {
   "cell_type": "markdown",
   "metadata": {},
   "source": [
    "# Dataset"
   ]
  },
  {
   "cell_type": "code",
   "execution_count": 8,
   "metadata": {},
   "outputs": [],
   "source": [
    "train_dataset = tf.data.Dataset.from_tensor_slices((train_img, train_label)).shuffle(buffer_size=100000).batch(256)\n",
    "val_dataset = tf.data.Dataset.from_tensor_slices((val_img, val_label)).batch(256)"
   ]
  },
  {
   "cell_type": "code",
   "execution_count": 9,
   "metadata": {},
   "outputs": [
    {
     "data": {
      "image/png": "[encoded data removed]",
      "text/plain": [
       "<Figure size 640x480 with 1 Axes>"
      ]
     },
     "metadata": {},
     "output_type": "display_data"
    },
    {
     "name": "stdout",
     "output_type": "stream",
     "text": [
      "Label : [0. 0. 1. 0. 0. 0. 0. 0. 0.]\n"
     ]
    }
   ],
   "source": [
    "img, label = next(iter(train_dataset))\n",
    "\n",
    "plt.imshow(img[0], cmap='gray')\n",
    "plt.show()\n",
    "\n",
    "print(f\"Label : {label[0]}\")"
   ]
  },
  {
   "cell_type": "markdown",
   "metadata": {},
   "source": [
    "# Simple CNN"
   ]
  },
  {
   "cell_type": "code",
   "execution_count": 10,
   "metadata": {},
   "outputs": [],
   "source": [
    "def Simple_CNN():\n",
    "    model = tf.keras.Sequential()\n",
    "    model.add(Conv2D(50, (5,5), \n",
    "                             activation='relu', padding='same',\n",
    "                             input_shape=(128, 128, 1)))\n",
    "    model.add(MaxPooling2D((2,2)))\n",
    "\n",
    "    model.add(Conv2D(70, (3,3), \n",
    "                             activation='relu', padding='same',\n",
    "                             input_shape=(64, 64, 50)))\n",
    "    model.add(MaxPooling2D((2,2)))\n",
    "\n",
    "    model.add(Conv2D(70, (3,3), \n",
    "                             activation='relu', padding='same',\n",
    "                             input_shape=(32, 32, 70)))\n",
    "    model.add(MaxPooling2D((2,2)))\n",
    "\n",
    "    model.add(Flatten())\n",
    "    model.add(Dense(256, activation='relu'))\n",
    "    model.add(Dense(9, activation='softmax'))\n",
    "    \n",
    "    adam = optimizers.Adam(lr=0.0001)\n",
    "    model.compile(optimizer=adam, loss='categorical_crossentropy', metrics=['accuracy'])\n",
    "    \n",
    "    return model"
   ]
  },
  {
   "cell_type": "code",
   "execution_count": 11,
   "metadata": {},
   "outputs": [
    {
     "name": "stdout",
     "output_type": "stream",
     "text": [
      "Model: \"sequential\"\n",
      "_________________________________________________________________\n",
      " Layer (type)                Output Shape              Param #   \n",
      "=================================================================\n",
      " conv2d (Conv2D)             (None, 128, 128, 50)      1300      \n",
      "                                                                 \n",
      " max_pooling2d (MaxPooling2D  (None, 64, 64, 50)       0         \n",
      " )                                                               \n",
      "                                                                 \n",
      " conv2d_1 (Conv2D)           (None, 64, 64, 70)        31570     \n",
      "                                                                 \n",
      " max_pooling2d_1 (MaxPooling  (None, 32, 32, 70)       0         \n",
      " 2D)                                                             \n",
      "                                                                 \n",
      " conv2d_2 (Conv2D)           (None, 32, 32, 70)        44170     \n",
      "                                                                 \n",
      " max_pooling2d_2 (MaxPooling  (None, 16, 16, 70)       0         \n",
      " 2D)                                                             \n",
      "                                                                 \n",
      " flatten (Flatten)           (None, 17920)             0         \n",
      "                                                                 \n",
      " dense (Dense)               (None, 256)               4587776   \n",
      "                                                                 \n",
      " dense_1 (Dense)             (None, 9)                 2313      \n",
      "                                                                 \n",
      "=================================================================\n",
      "Total params: 4,667,129\n",
      "Trainable params: 4,667,129\n",
      "Non-trainable params: 0\n",
      "_________________________________________________________________\n"
     ]
    },
    {
     "name": "stderr",
     "output_type": "stream",
     "text": [
      "/usr/local/lib/python3.8/dist-packages/keras/optimizers/optimizer_v2/adam.py:110: UserWarning: The `lr` argument is deprecated, use `learning_rate` instead.\n",
      "  super(Adam, self).__init__(name, **kwargs)\n"
     ]
    }
   ],
   "source": [
    "malware_class = Simple_CNN()\n",
    "malware_class.summary()"
   ]
  },
  {
   "cell_type": "code",
   "execution_count": 12,
   "metadata": {
    "scrolled": true
   },
   "outputs": [],
   "source": [
    "save_path = './model/malware_cnn32/'\n",
    "checkpoint_path = save_path+\"/model_{epoch}.ckpt\"\n",
    "\n",
    "# cp_callback = tf.keras.callbacks.ModelCheckpoint(filepath=checkpoint_path, save_weights_only=True, verbose=1, period=1)\n",
    "cp_callback = tf.keras.callbacks.ModelCheckpoint(filepath=checkpoint_path, save_weights_only=True, verbose=0)"
   ]
  },
  {
   "cell_type": "code",
   "execution_count": null,
   "metadata": {},
   "outputs": [
    {
     "name": "stdout",
     "output_type": "stream",
     "text": [
      "Epoch 1/75\n",
      "34/34 [==============================] - 8s 145ms/step - loss: 1.4347 - accuracy: 0.5381 - val_loss: 0.9464 - val_accuracy: 0.6863\n",
      "Epoch 2/75\n",
      "34/34 [==============================] - 4s 105ms/step - loss: 0.7817 - accuracy: 0.7490 - val_loss: 0.6326 - val_accuracy: 0.7994\n",
      "Epoch 3/75\n",
      "34/34 [==============================] - 4s 104ms/step - loss: 0.5657 - accuracy: 0.8193 - val_loss: 0.4839 - val_accuracy: 0.8408\n",
      "Epoch 4/75\n",
      "34/34 [==============================] - 4s 104ms/step - loss: 0.4677 - accuracy: 0.8597 - val_loss: 0.4045 - val_accuracy: 0.9048\n",
      "Epoch 5/75\n",
      "34/34 [==============================] - 4s 105ms/step - loss: 0.3915 - accuracy: 0.8884 - val_loss: 0.3520 - val_accuracy: 0.9172\n",
      "Epoch 6/75\n",
      "34/34 [==============================] - 4s 105ms/step - loss: 0.3348 - accuracy: 0.9106 - val_loss: 0.3191 - val_accuracy: 0.9089\n",
      "Epoch 7/75\n",
      "34/34 [==============================] - 3s 103ms/step - loss: 0.2896 - accuracy: 0.9220 - val_loss: 0.2759 - val_accuracy: 0.9361\n",
      "Epoch 8/75\n",
      "34/34 [==============================] - 3s 102ms/step - loss: 0.2555 - accuracy: 0.9324 - val_loss: 0.2675 - val_accuracy: 0.9319\n",
      "Epoch 9/75\n",
      "34/34 [==============================] - 4s 104ms/step - loss: 0.2303 - accuracy: 0.9381 - val_loss: 0.2421 - val_accuracy: 0.9310\n",
      "Epoch 10/75\n",
      "34/34 [==============================] - 4s 105ms/step - loss: 0.2082 - accuracy: 0.9435 - val_loss: 0.2403 - val_accuracy: 0.9374\n",
      "Epoch 11/75\n",
      "34/34 [==============================] - 4s 103ms/step - loss: 0.1893 - accuracy: 0.9486 - val_loss: 0.2204 - val_accuracy: 0.9485\n",
      "Epoch 12/75\n",
      "34/34 [==============================] - 3s 103ms/step - loss: 0.1780 - accuracy: 0.9504 - val_loss: 0.2038 - val_accuracy: 0.9480\n",
      "Epoch 13/75\n",
      "34/34 [==============================] - 3s 103ms/step - loss: 0.1581 - accuracy: 0.9562 - val_loss: 0.1867 - val_accuracy: 0.9512\n",
      "Epoch 14/75\n",
      "34/34 [==============================] - 4s 103ms/step - loss: 0.1434 - accuracy: 0.9597 - val_loss: 0.1734 - val_accuracy: 0.9549\n",
      "Epoch 15/75\n",
      "34/34 [==============================] - 3s 103ms/step - loss: 0.1362 - accuracy: 0.9622 - val_loss: 0.1872 - val_accuracy: 0.9522\n",
      "Epoch 16/75\n",
      "34/34 [==============================] - 3s 102ms/step - loss: 0.1288 - accuracy: 0.9645 - val_loss: 0.1659 - val_accuracy: 0.9558\n",
      "Epoch 17/75\n",
      "34/34 [==============================] - 3s 102ms/step - loss: 0.1185 - accuracy: 0.9657 - val_loss: 0.1588 - val_accuracy: 0.9591\n",
      "Epoch 18/75\n",
      "34/34 [==============================] - 3s 102ms/step - loss: 0.1121 - accuracy: 0.9673 - val_loss: 0.1562 - val_accuracy: 0.9600\n",
      "Epoch 19/75\n",
      "34/34 [==============================] - 3s 103ms/step - loss: 0.1081 - accuracy: 0.9691 - val_loss: 0.1660 - val_accuracy: 0.9545\n",
      "Epoch 20/75\n",
      "34/34 [==============================] - 4s 103ms/step - loss: 0.1100 - accuracy: 0.9687 - val_loss: 0.1599 - val_accuracy: 0.9591\n",
      "Epoch 21/75\n",
      "34/34 [==============================] - 3s 102ms/step - loss: 0.0920 - accuracy: 0.9739 - val_loss: 0.1518 - val_accuracy: 0.9577\n",
      "Epoch 22/75\n",
      "34/34 [==============================] - 3s 102ms/step - loss: 0.0913 - accuracy: 0.9737 - val_loss: 0.1589 - val_accuracy: 0.9558\n",
      "Epoch 23/75\n",
      "34/34 [==============================] - 4s 105ms/step - loss: 0.0838 - accuracy: 0.9752 - val_loss: 0.1468 - val_accuracy: 0.9609\n",
      "Epoch 24/75\n",
      "34/34 [==============================] - 4s 103ms/step - loss: 0.0859 - accuracy: 0.9747 - val_loss: 0.1483 - val_accuracy: 0.9627\n",
      "Epoch 25/75\n",
      "34/34 [==============================] - 3s 102ms/step - loss: 0.0786 - accuracy: 0.9780 - val_loss: 0.1496 - val_accuracy: 0.9623\n",
      "Epoch 26/75\n",
      "34/34 [==============================] - 3s 103ms/step - loss: 0.0663 - accuracy: 0.9806 - val_loss: 0.1497 - val_accuracy: 0.9637\n",
      "Epoch 27/75\n",
      "34/34 [==============================] - 4s 104ms/step - loss: 0.0617 - accuracy: 0.9819 - val_loss: 0.1407 - val_accuracy: 0.9664\n",
      "Epoch 28/75\n",
      "34/34 [==============================] - 3s 102ms/step - loss: 0.0597 - accuracy: 0.9821 - val_loss: 0.1346 - val_accuracy: 0.9664\n",
      "Epoch 29/75\n",
      "34/34 [==============================] - 4s 104ms/step - loss: 0.0594 - accuracy: 0.9838 - val_loss: 0.1353 - val_accuracy: 0.9678\n",
      "Epoch 30/75\n",
      "34/34 [==============================] - 4s 103ms/step - loss: 0.0508 - accuracy: 0.9854 - val_loss: 0.1322 - val_accuracy: 0.9683\n",
      "Epoch 31/75\n",
      "34/34 [==============================] - 3s 103ms/step - loss: 0.0475 - accuracy: 0.9880 - val_loss: 0.1304 - val_accuracy: 0.9669\n",
      "Epoch 32/75\n",
      "34/34 [==============================] - 4s 104ms/step - loss: 0.0433 - accuracy: 0.9894 - val_loss: 0.1484 - val_accuracy: 0.9673\n",
      "Epoch 33/75\n",
      "34/34 [==============================] - 4s 104ms/step - loss: 0.0430 - accuracy: 0.9879 - val_loss: 0.1383 - val_accuracy: 0.9678\n",
      "Epoch 34/75\n",
      "34/34 [==============================] - 3s 103ms/step - loss: 0.0408 - accuracy: 0.9896 - val_loss: 0.1314 - val_accuracy: 0.9701\n",
      "Epoch 35/75\n",
      "34/34 [==============================] - 4s 105ms/step - loss: 0.0358 - accuracy: 0.9907 - val_loss: 0.1279 - val_accuracy: 0.9696\n",
      "Epoch 36/75\n",
      "34/34 [==============================] - 3s 102ms/step - loss: 0.0339 - accuracy: 0.9908 - val_loss: 0.1280 - val_accuracy: 0.9687\n",
      "Epoch 37/75\n",
      "34/34 [==============================] - 3s 103ms/step - loss: 0.0341 - accuracy: 0.9913 - val_loss: 0.1349 - val_accuracy: 0.9687\n",
      "Epoch 38/75\n",
      "34/34 [==============================] - 4s 104ms/step - loss: 0.0327 - accuracy: 0.9916 - val_loss: 0.1386 - val_accuracy: 0.9719\n",
      "Epoch 39/75\n",
      "34/34 [==============================] - 3s 103ms/step - loss: 0.0318 - accuracy: 0.9919 - val_loss: 0.1351 - val_accuracy: 0.9733\n",
      "Epoch 40/75\n",
      "34/34 [==============================] - 3s 103ms/step - loss: 0.0306 - accuracy: 0.9928 - val_loss: 0.1338 - val_accuracy: 0.9724\n",
      "Epoch 41/75\n",
      "34/34 [==============================] - 4s 103ms/step - loss: 0.0302 - accuracy: 0.9924 - val_loss: 0.1321 - val_accuracy: 0.9719\n",
      "Epoch 42/75\n",
      "34/34 [==============================] - 4s 104ms/step - loss: 0.0269 - accuracy: 0.9934 - val_loss: 0.1371 - val_accuracy: 0.9738\n",
      "Epoch 43/75\n",
      "34/34 [==============================] - 4s 104ms/step - loss: 0.0246 - accuracy: 0.9942 - val_loss: 0.1422 - val_accuracy: 0.9738\n",
      "Epoch 44/75\n",
      "34/34 [==============================] - 3s 102ms/step - loss: 0.0211 - accuracy: 0.9953 - val_loss: 0.1314 - val_accuracy: 0.9742\n",
      "Epoch 45/75\n",
      "34/34 [==============================] - 3s 102ms/step - loss: 0.0204 - accuracy: 0.9952 - val_loss: 0.1350 - val_accuracy: 0.9738\n",
      "Epoch 46/75\n",
      "34/34 [==============================] - 3s 101ms/step - loss: 0.0245 - accuracy: 0.9934 - val_loss: 0.1446 - val_accuracy: 0.9729\n",
      "Epoch 47/75\n",
      "34/34 [==============================] - 4s 103ms/step - loss: 0.0223 - accuracy: 0.9939 - val_loss: 0.1470 - val_accuracy: 0.9733\n",
      "Epoch 48/75\n",
      "34/34 [==============================] - 4s 107ms/step - loss: 0.0192 - accuracy: 0.9957 - val_loss: 0.1409 - val_accuracy: 0.9733\n",
      "Epoch 49/75\n",
      "34/34 [==============================] - 4s 110ms/step - loss: 0.0216 - accuracy: 0.9947 - val_loss: 0.1371 - val_accuracy: 0.9770\n",
      "Epoch 50/75\n",
      "34/34 [==============================] - 4s 108ms/step - loss: 0.0207 - accuracy: 0.9951 - val_loss: 0.1626 - val_accuracy: 0.9724\n",
      "Epoch 51/75\n",
      "34/34 [==============================] - 4s 107ms/step - loss: 0.0173 - accuracy: 0.9963 - val_loss: 0.1430 - val_accuracy: 0.9765\n",
      "Epoch 52/75\n",
      "34/34 [==============================] - 4s 111ms/step - loss: 0.0152 - accuracy: 0.9970 - val_loss: 0.1472 - val_accuracy: 0.9742\n",
      "Epoch 53/75\n",
      "34/34 [==============================] - 4s 111ms/step - loss: 0.0185 - accuracy: 0.9963 - val_loss: 0.1503 - val_accuracy: 0.9756\n",
      "Epoch 54/75\n",
      "34/34 [==============================] - 4s 110ms/step - loss: 0.0185 - accuracy: 0.9955 - val_loss: 0.1541 - val_accuracy: 0.9715\n",
      "Epoch 55/75\n",
      "34/34 [==============================] - 4s 109ms/step - loss: 0.0162 - accuracy: 0.9965 - val_loss: 0.1382 - val_accuracy: 0.9752\n",
      "Epoch 56/75\n",
      "34/34 [==============================] - 4s 106ms/step - loss: 0.0133 - accuracy: 0.9974 - val_loss: 0.1447 - val_accuracy: 0.9761\n",
      "Epoch 57/75\n",
      "34/34 [==============================] - 4s 107ms/step - loss: 0.0154 - accuracy: 0.9970 - val_loss: 0.1414 - val_accuracy: 0.9752\n",
      "Epoch 58/75\n"
     ]
    },
    {
     "name": "stdout",
     "output_type": "stream",
     "text": [
      "34/34 [==============================] - 4s 106ms/step - loss: 0.0132 - accuracy: 0.9975 - val_loss: 0.1440 - val_accuracy: 0.9770\n",
      "Epoch 59/75\n",
      "34/34 [==============================] - 4s 106ms/step - loss: 0.0113 - accuracy: 0.9974 - val_loss: 0.1543 - val_accuracy: 0.9775\n",
      "Epoch 60/75\n",
      "34/34 [==============================] - 4s 108ms/step - loss: 0.0123 - accuracy: 0.9974 - val_loss: 0.1496 - val_accuracy: 0.9784\n",
      "Epoch 61/75\n",
      "34/34 [==============================] - 4s 106ms/step - loss: 0.0114 - accuracy: 0.9977 - val_loss: 0.1450 - val_accuracy: 0.9765\n",
      "Epoch 62/75\n",
      "34/34 [==============================] - 4s 106ms/step - loss: 0.0116 - accuracy: 0.9976 - val_loss: 0.1516 - val_accuracy: 0.9775\n",
      "Epoch 63/75\n",
      "34/34 [==============================] - 4s 106ms/step - loss: 0.0135 - accuracy: 0.9967 - val_loss: 0.1622 - val_accuracy: 0.9761\n",
      "Epoch 64/75\n",
      "34/34 [==============================] - 4s 106ms/step - loss: 0.0131 - accuracy: 0.9972 - val_loss: 0.1483 - val_accuracy: 0.9742\n",
      "Epoch 65/75\n",
      "34/34 [==============================] - 4s 106ms/step - loss: 0.0098 - accuracy: 0.9982 - val_loss: 0.1467 - val_accuracy: 0.9765\n",
      "Epoch 66/75\n",
      "34/34 [==============================] - 4s 106ms/step - loss: 0.0106 - accuracy: 0.9970 - val_loss: 0.1499 - val_accuracy: 0.9765\n",
      "Epoch 67/75\n",
      "34/34 [==============================] - 4s 106ms/step - loss: 0.0099 - accuracy: 0.9978 - val_loss: 0.1423 - val_accuracy: 0.9765\n",
      "Epoch 68/75\n",
      "34/34 [==============================] - 4s 107ms/step - loss: 0.0101 - accuracy: 0.9977 - val_loss: 0.1531 - val_accuracy: 0.9761\n",
      "Epoch 69/75\n",
      "34/34 [==============================] - 4s 107ms/step - loss: 0.0087 - accuracy: 0.9982 - val_loss: 0.1532 - val_accuracy: 0.9770\n",
      "Epoch 70/75\n",
      "34/34 [==============================] - 4s 107ms/step - loss: 0.0111 - accuracy: 0.9972 - val_loss: 0.1584 - val_accuracy: 0.9765\n",
      "Epoch 71/75\n",
      "11/34 [========>.....................] - ETA: 2s - loss: 0.0131 - accuracy: 0.9968"
     ]
    }
   ],
   "source": [
    "history = malware_class.fit(train_dataset, epochs=75, validation_data=val_dataset, callbacks=[cp_callback])"
   ]
  },
  {
   "cell_type": "code",
   "execution_count": null,
   "metadata": {
    "scrolled": false
   },
   "outputs": [],
   "source": [
    "plt.plot(history.history['loss'])\n",
    "plt.plot(history.history['val_loss'])\n",
    "plt.ylabel('loss')\n",
    "plt.xlabel('epoch')\n",
    "plt.legend(['train_loss','val_loss'])\n",
    "plt.show()\n",
    "\n",
    "plt.plot(history.history['accuracy'])\n",
    "plt.plot(history.history['val_accuracy'])\n",
    "plt.ylabel('accuracy')\n",
    "plt.xlabel('epoch')\n",
    "plt.legend(['train_accuracy','val_accuracy'])\n",
    "plt.show()"
   ]
  },
  {
   "cell_type": "markdown",
   "metadata": {},
   "source": [
    "# Model Load and predict"
   ]
  },
  {
   "cell_type": "code",
   "execution_count": null,
   "metadata": {},
   "outputs": [],
   "source": [
    "epoch = 30\n",
    "checkpoint_path = f\"./model/malware_cnn32/model_{epoch}.ckpt\"\n",
    "\n",
    "malware_class = Simple_CNN()\n",
    "malware_class.load_weights(checkpoint_path)\n",
    "malware_class.summary()"
   ]
  },
  {
   "cell_type": "code",
   "execution_count": null,
   "metadata": {},
   "outputs": [],
   "source": [
    "loss, acc = malware_class.evaluate(val_dataset, verbose=1)\n",
    "print(\"Restored model, accuracy: {:5.2f}%\".format(100 * acc))"
   ]
  },
  {
   "cell_type": "code",
   "execution_count": null,
   "metadata": {},
   "outputs": [],
   "source": [
    "imgs = glob(\"./dataset/img/img128/*.png\")\n",
    "img = tf.io.read_file(imgs[0])\n",
    "img = tf.io.decode_image(img)\n",
    "img = tf.expand_dims(img,axis=0)\n",
    "img.shape"
   ]
  },
  {
   "cell_type": "code",
   "execution_count": null,
   "metadata": {},
   "outputs": [],
   "source": [
    "prediction= malware_class.predict(img)\n",
    "prediction"
   ]
  }
 ],
 "metadata": {
  "kernelspec": {
   "display_name": "Python 3",
   "language": "python",
   "name": "python3"
  },
  "language_info": {
   "codemirror_mode": {
    "name": "ipython",
    "version": 3
   },
   "file_extension": ".py",
   "mimetype": "text/x-python",
   "name": "python",
   "nbconvert_exporter": "python",
   "pygments_lexer": "ipython3",
   "version": "3.8.10"
  }
 },
 "nbformat": 4,
 "nbformat_minor": 2
}
