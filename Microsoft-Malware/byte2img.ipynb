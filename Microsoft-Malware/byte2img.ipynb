{
 "cells": [
  {
   "cell_type": "code",
   "execution_count": 1,
   "metadata": {},
   "outputs": [
    {
     "name": "stdout",
     "output_type": "stream",
     "text": [
      "Collecting tqdm\n",
      "  Downloading tqdm-4.65.0-py3-none-any.whl (77 kB)\n",
      "\u001b[K     |████████████████████████████████| 77 kB 5.4 MB/s eta 0:00:011\n",
      "\u001b[?25hInstalling collected packages: tqdm\n",
      "Successfully installed tqdm-4.65.0\n",
      "\u001b[33mWARNING: You are using pip version 20.2.4; however, version 23.1 is available.\n",
      "You should consider upgrading via the '/usr/bin/python3 -m pip install --upgrade pip' command.\u001b[0m\n"
     ]
    }
   ],
   "source": [
    "!pip3 install tqdm"
   ]
  },
  {
   "cell_type": "markdown",
   "metadata": {},
   "source": [
    "# import"
   ]
  },
  {
   "cell_type": "code",
   "execution_count": 11,
   "metadata": {},
   "outputs": [],
   "source": [
    "import os\n",
    "import math\n",
    "import numpy as np\n",
    "from glob import glob\n",
    "from tqdm import tqdm\n",
    "from PIL import Image"
   ]
  },
  {
   "cell_type": "markdown",
   "metadata": {},
   "source": [
    "# Load"
   ]
  },
  {
   "cell_type": "code",
   "execution_count": 3,
   "metadata": {},
   "outputs": [
    {
     "data": {
      "text/plain": [
       "(['./dataset/original/train/HDembPkLujCsic0oYQAp.bytes',\n",
       "  './dataset/original/train/exC0jIpaqfdWOPwgrKoV.bytes',\n",
       "  './dataset/original/train/idTa1lDvrZk38BJOLV96.bytes',\n",
       "  './dataset/original/train/8j2uhZyFl6XGkCoixABY.bytes',\n",
       "  './dataset/original/train/BoYuGUEWrgiReVDLPAbq.bytes'],\n",
       " ['./dataset/original/test/VlnP9seAEMy7Yit8SWv3.bytes',\n",
       "  './dataset/original/test/Ks4xrBOT1nJPdXjMRqg2.bytes',\n",
       "  './dataset/original/test/mYgoCUSKcfLRwMrOlz3a.bytes',\n",
       "  './dataset/original/test/Ou1A5Cs6hSjYJEravXUf.bytes',\n",
       "  './dataset/original/test/wxmsY5uEOS6vVXLk4tza.bytes'])"
      ]
     },
     "execution_count": 3,
     "metadata": {},
     "output_type": "execute_result"
    }
   ],
   "source": [
    "train_path = glob(\"./dataset/original/train/*.bytes\")\n",
    "test_path = glob(\"./dataset/original/test/*.bytes\")\n",
    "train_path[:5], test_path[:5]"
   ]
  },
  {
   "cell_type": "markdown",
   "metadata": {},
   "source": [
    "# def func"
   ]
  },
  {
   "cell_type": "code",
   "execution_count": 13,
   "metadata": {},
   "outputs": [],
   "source": [
    "def convert_mlw_to_img(bytes_filepath, filename, width=28, height=28):\n",
    "    with open(bytes_filepath) as hex_file:\n",
    "        #Extract hex values\n",
    "        hex_array = []\n",
    "        for line in hex_file.readlines():\n",
    "            hex_values = line.split()\n",
    "            if len(hex_values) != 17:\n",
    "                continue\n",
    "            hex_array.append([int(i, 16) if i != '??' else 0 for i in hex_values[1:]])\n",
    "        hex_array = np.array(hex_array)\n",
    "\n",
    "    #Convert to an image of a specific size\n",
    "    if hex_array.shape[1] != 16:\n",
    "        assert (False)\n",
    "    b = int((hex_array.shape[0] * 16) ** (0.5))\n",
    "    b = 2 ** (int(math.log(b) / math.log(2)) + 1)\n",
    "    a = int(hex_array.shape[0] * 16 / b)\n",
    "    hex_array = hex_array[:a * b // 16, :]\n",
    "    im = np.reshape(hex_array, (a, b))\n",
    "\n",
    "    if width is not None and height is not None:\n",
    "        #Downsample\n",
    "        img = Image.fromarray(np.uint8(im))\n",
    "        img = img.resize((width, height), resample=Image.ANTIALIAS)\n",
    "        img.save(filename)"
   ]
  },
  {
   "cell_type": "markdown",
   "metadata": {},
   "source": [
    "# convert"
   ]
  },
  {
   "cell_type": "code",
   "execution_count": 14,
   "metadata": {},
   "outputs": [
    {
     "name": "stderr",
     "output_type": "stream",
     "text": [
      "  0%|          | 0/10868 [00:00<?, ?it/s]<ipython-input-13-4e20a8e0175b>:24: DeprecationWarning: ANTIALIAS is deprecated and will be removed in Pillow 10 (2023-07-01). Use Resampling.LANCZOS instead.\n",
      "  img = img.resize((width, height), resample=Image.ANTIALIAS)\n",
      "  1%|          | 115/10868 [00:34<54:22,  3.30it/s]  \n"
     ]
    },
    {
     "ename": "KeyboardInterrupt",
     "evalue": "",
     "output_type": "error",
     "traceback": [
      "\u001b[0;31m---------------------------------------------------------------------------\u001b[0m",
      "\u001b[0;31mKeyboardInterrupt\u001b[0m                         Traceback (most recent call last)",
      "Cell \u001b[0;32mIn [14], line 6\u001b[0m\n\u001b[1;32m      3\u001b[0m \u001b[38;5;28;01mfor\u001b[39;00m path \u001b[38;5;129;01min\u001b[39;00m tqdm(train_path):\n\u001b[1;32m      4\u001b[0m     basename \u001b[38;5;241m=\u001b[39m os\u001b[38;5;241m.\u001b[39mpath\u001b[38;5;241m.\u001b[39mbasename(path)\u001b[38;5;241m.\u001b[39msplit(\u001b[38;5;124m\"\u001b[39m\u001b[38;5;124m.\u001b[39m\u001b[38;5;124m\"\u001b[39m)[\u001b[38;5;241m0\u001b[39m]\n\u001b[0;32m----> 6\u001b[0m     \u001b[43mconvert_mlw_to_img\u001b[49m\u001b[43m(\u001b[49m\u001b[43mpath\u001b[49m\u001b[43m,\u001b[49m\u001b[43m \u001b[49m\u001b[38;5;124;43mf\u001b[39;49m\u001b[38;5;124;43m\"\u001b[39;49m\u001b[38;5;132;43;01m{\u001b[39;49;00m\u001b[43mtrain_png_path\u001b[49m\u001b[38;5;132;43;01m}\u001b[39;49;00m\u001b[38;5;124;43m/\u001b[39;49m\u001b[38;5;132;43;01m{\u001b[39;49;00m\u001b[43mbasename\u001b[49m\u001b[38;5;132;43;01m}\u001b[39;49;00m\u001b[38;5;124;43m.png\u001b[39;49m\u001b[38;5;124;43m\"\u001b[39;49m\u001b[43m,\u001b[49m\u001b[43m \u001b[49m\u001b[43mwidth\u001b[49m\u001b[38;5;241;43m=\u001b[39;49m\u001b[38;5;241;43m128\u001b[39;49m\u001b[43m,\u001b[49m\u001b[43m \u001b[49m\u001b[43mheight\u001b[49m\u001b[38;5;241;43m=\u001b[39;49m\u001b[38;5;241;43m128\u001b[39;49m\u001b[43m)\u001b[49m\n",
      "Cell \u001b[0;32mIn [13], line 9\u001b[0m, in \u001b[0;36mconvert_mlw_to_img\u001b[0;34m(bytes_filepath, filename, width, height)\u001b[0m\n\u001b[1;32m      7\u001b[0m         \u001b[38;5;28;01mif\u001b[39;00m \u001b[38;5;28mlen\u001b[39m(hex_values) \u001b[38;5;241m!=\u001b[39m \u001b[38;5;241m17\u001b[39m:\n\u001b[1;32m      8\u001b[0m             \u001b[38;5;28;01mcontinue\u001b[39;00m\n\u001b[0;32m----> 9\u001b[0m         hex_array\u001b[38;5;241m.\u001b[39mappend([\u001b[38;5;28mint\u001b[39m(i, \u001b[38;5;241m16\u001b[39m) \u001b[38;5;28;01mif\u001b[39;00m i \u001b[38;5;241m!=\u001b[39m \u001b[38;5;124m'\u001b[39m\u001b[38;5;124m??\u001b[39m\u001b[38;5;124m'\u001b[39m \u001b[38;5;28;01melse\u001b[39;00m \u001b[38;5;241m0\u001b[39m \u001b[38;5;28;01mfor\u001b[39;00m i \u001b[38;5;129;01min\u001b[39;00m hex_values[\u001b[38;5;241m1\u001b[39m:]])\n\u001b[1;32m     10\u001b[0m     hex_array \u001b[38;5;241m=\u001b[39m np\u001b[38;5;241m.\u001b[39marray(hex_array)\n\u001b[1;32m     12\u001b[0m \u001b[38;5;66;03m#Convert to an image of a specific size\u001b[39;00m\n",
      "Cell \u001b[0;32mIn [13], line 9\u001b[0m, in \u001b[0;36m<listcomp>\u001b[0;34m(.0)\u001b[0m\n\u001b[1;32m      7\u001b[0m         \u001b[38;5;28;01mif\u001b[39;00m \u001b[38;5;28mlen\u001b[39m(hex_values) \u001b[38;5;241m!=\u001b[39m \u001b[38;5;241m17\u001b[39m:\n\u001b[1;32m      8\u001b[0m             \u001b[38;5;28;01mcontinue\u001b[39;00m\n\u001b[0;32m----> 9\u001b[0m         hex_array\u001b[38;5;241m.\u001b[39mappend([\u001b[38;5;28;43mint\u001b[39;49m\u001b[43m(\u001b[49m\u001b[43mi\u001b[49m\u001b[43m,\u001b[49m\u001b[43m \u001b[49m\u001b[38;5;241;43m16\u001b[39;49m\u001b[43m)\u001b[49m \u001b[38;5;28;01mif\u001b[39;00m i \u001b[38;5;241m!=\u001b[39m \u001b[38;5;124m'\u001b[39m\u001b[38;5;124m??\u001b[39m\u001b[38;5;124m'\u001b[39m \u001b[38;5;28;01melse\u001b[39;00m \u001b[38;5;241m0\u001b[39m \u001b[38;5;28;01mfor\u001b[39;00m i \u001b[38;5;129;01min\u001b[39;00m hex_values[\u001b[38;5;241m1\u001b[39m:]])\n\u001b[1;32m     10\u001b[0m     hex_array \u001b[38;5;241m=\u001b[39m np\u001b[38;5;241m.\u001b[39marray(hex_array)\n\u001b[1;32m     12\u001b[0m \u001b[38;5;66;03m#Convert to an image of a specific size\u001b[39;00m\n",
      "\u001b[0;31mKeyboardInterrupt\u001b[0m: "
     ]
    }
   ],
   "source": [
    "train_png_path = \"./dataset/img/img128\"\n",
    "\n",
    "for path in tqdm(train_path):\n",
    "    basename = os.path.basename(path).split(\".\")[0]\n",
    "\n",
    "    convert_mlw_to_img(path, f\"{train_png_path}/{basename}.png\", width=128, height=128)"
   ]
  },
  {
   "cell_type": "code",
   "execution_count": null,
   "metadata": {},
   "outputs": [],
   "source": []
  }
 ],
 "metadata": {
  "kernelspec": {
   "display_name": "Python 3",
   "language": "python",
   "name": "python3"
  },
  "language_info": {
   "codemirror_mode": {
    "name": "ipython",
    "version": 3
   },
   "file_extension": ".py",
   "mimetype": "text/x-python",
   "name": "python",
   "nbconvert_exporter": "python",
   "pygments_lexer": "ipython3",
   "version": "3.8.10"
  }
 },
 "nbformat": 4,
 "nbformat_minor": 2
}
