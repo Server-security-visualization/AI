{
 "cells": [
  {
   "cell_type": "code",
   "execution_count": 1,
   "metadata": {},
   "outputs": [
    {
     "name": "stdout",
     "output_type": "stream",
     "text": [
      "Requirement already satisfied: tqdm in /usr/local/lib/python3.8/dist-packages (4.65.0)\n",
      "\u001b[33mWARNING: You are using pip version 20.2.4; however, version 23.1.2 is available.\n",
      "You should consider upgrading via the '/usr/bin/python3 -m pip install --upgrade pip' command.\u001b[0m\n"
     ]
    }
   ],
   "source": [
    "!pip3 install tqdm"
   ]
  },
  {
   "cell_type": "markdown",
   "metadata": {},
   "source": [
    "# import"
   ]
  },
  {
   "cell_type": "code",
   "execution_count": 2,
   "metadata": {},
   "outputs": [],
   "source": [
    "import os\n",
    "import math\n",
    "import time\n",
    "import numpy as np\n",
    "from glob import glob\n",
    "from tqdm import tqdm\n",
    "from PIL import Image\n",
    "from multiprocessing import Process, Queue"
   ]
  },
  {
   "cell_type": "markdown",
   "metadata": {},
   "source": [
    "# Load"
   ]
  },
  {
   "cell_type": "code",
   "execution_count": 3,
   "metadata": {},
   "outputs": [
    {
     "data": {
      "text/plain": [
       "(['./dataset/original/train/HDembPkLujCsic0oYQAp.bytes',\n",
       "  './dataset/original/train/exC0jIpaqfdWOPwgrKoV.bytes',\n",
       "  './dataset/original/train/idTa1lDvrZk38BJOLV96.bytes',\n",
       "  './dataset/original/train/8j2uhZyFl6XGkCoixABY.bytes',\n",
       "  './dataset/original/train/BoYuGUEWrgiReVDLPAbq.bytes'],\n",
       " ['./dataset/original/test/VlnP9seAEMy7Yit8SWv3.bytes',\n",
       "  './dataset/original/test/Ks4xrBOT1nJPdXjMRqg2.bytes',\n",
       "  './dataset/original/test/mYgoCUSKcfLRwMrOlz3a.bytes',\n",
       "  './dataset/original/test/Ou1A5Cs6hSjYJEravXUf.bytes',\n",
       "  './dataset/original/test/wxmsY5uEOS6vVXLk4tza.bytes'])"
      ]
     },
     "execution_count": 3,
     "metadata": {},
     "output_type": "execute_result"
    }
   ],
   "source": [
    "train_path = glob(\"./dataset/original/train/*.bytes\")\n",
    "test_path = glob(\"./dataset/original/test/*.bytes\")\n",
    "train_path[:5], test_path[:5]"
   ]
  },
  {
   "cell_type": "markdown",
   "metadata": {},
   "source": [
    "# def func"
   ]
  },
  {
   "cell_type": "code",
   "execution_count": 4,
   "metadata": {},
   "outputs": [],
   "source": [
    "def convert_mlw_to_img(bytes_filepath, filename, width=28, height=28):\n",
    "    with open(bytes_filepath) as hex_file:\n",
    "        #Extract hex values\n",
    "        hex_array = []\n",
    "        for line in hex_file.readlines():\n",
    "            hex_values = line.split()\n",
    "            if len(hex_values) != 17:\n",
    "                continue\n",
    "            hex_array.append([int(i, 16) if i != '??' else 0 for i in hex_values[1:]])\n",
    "        hex_array = np.array(hex_array)\n",
    "\n",
    "    #Convert to an image of a specific size\n",
    "    if hex_array.shape[1] != 16:\n",
    "        assert (False)\n",
    "    b = int((hex_array.shape[0] * 16) ** (0.5))\n",
    "    b = 2 ** (int(math.log(b) / math.log(2)) + 1)\n",
    "    a = int(hex_array.shape[0] * 16 / b)\n",
    "    hex_array = hex_array[:a * b // 16, :]\n",
    "    im = np.reshape(hex_array, (a, b))\n",
    "\n",
    "    if width is not None and height is not None:\n",
    "        #Downsample\n",
    "        img = Image.fromarray(np.uint8(im))\n",
    "        img = img.resize((width, height), resample=Image.Resampling.BICUBIC)\n",
    "        img.save(filename)"
   ]
  },
  {
   "cell_type": "markdown",
   "metadata": {},
   "source": [
    "# convert"
   ]
  },
  {
   "cell_type": "code",
   "execution_count": null,
   "metadata": {},
   "outputs": [
    {
     "name": "stderr",
     "output_type": "stream",
     "text": [
      " 97%|█████████▋| 10489/10868 [06:22<00:23, 16.17it/s]"
     ]
    }
   ],
   "source": [
    "train_png_path = \"./dataset/img/img128\"\n",
    "\n",
    "start = time.time()\n",
    "\n",
    "processes = []\n",
    "for path in tqdm(train_path):\n",
    "    basename = os.path.basename(path).split(\".\")[0]\n",
    "    p = Process(target=convert_mlw_to_img, args=(path, f\"{train_png_path}/{basename}.png\", 128, 128, ))\n",
    "    p.start()\n",
    "    processes.append(p)\n",
    "    \n",
    "for p in processes:\n",
    "    p.join()\n",
    "    \n",
    "end = time.time()\n",
    "\n",
    "print(\"수행시간: %f 초\" % (end - start))"
   ]
  },
  {
   "cell_type": "code",
   "execution_count": null,
   "metadata": {},
   "outputs": [],
   "source": []
  }
 ],
 "metadata": {
  "kernelspec": {
   "display_name": "Python 3",
   "language": "python",
   "name": "python3"
  },
  "language_info": {
   "codemirror_mode": {
    "name": "ipython",
    "version": 3
   },
   "file_extension": ".py",
   "mimetype": "text/x-python",
   "name": "python",
   "nbconvert_exporter": "python",
   "pygments_lexer": "ipython3",
   "version": "3.8.10"
  }
 },
 "nbformat": 4,
 "nbformat_minor": 2
}
